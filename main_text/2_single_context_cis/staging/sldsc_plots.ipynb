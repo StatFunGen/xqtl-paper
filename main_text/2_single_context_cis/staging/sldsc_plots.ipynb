{
 "cells": [
  {
   "cell_type": "markdown",
   "id": "b5755cfe-58cd-4f5e-92bb-192c1d368002",
   "metadata": {
    "kernel": "SoS"
   },
   "source": [
    "# SLDSC"
   ]
  },
  {
   "cell_type": "markdown",
   "id": "e67794ab-1882-4fdc-9d6d-09150808ec27",
   "metadata": {
    "kernel": "SoS"
   },
   "source": [
    "## Plot"
   ]
  },
  {
   "cell_type": "markdown",
   "id": "ce9a7a93-0c9c-4064-b189-caa0702b4a49",
   "metadata": {
    "kernel": "SoS"
   },
   "source": [
    "### Meta traits"
   ]
  },
  {
   "cell_type": "code",
   "execution_count": 3,
   "id": "53e6411e-efd7-451b-9862-178fedc58d57",
   "metadata": {
    "kernel": "R"
   },
   "outputs": [],
   "source": [
    "## Library\n",
    "library(data.table)\n",
    "library(ggplot2)\n",
    "library(RColorBrewer)\n",
    "library(colorspace)\n",
    "library(ggpubr)\n",
    "library(tidyverse)"
   ]
  },
  {
   "cell_type": "code",
   "execution_count": 4,
   "id": "d349f830-3259-411c-8f63-4d49c7690bff",
   "metadata": {
    "kernel": "R"
   },
   "outputs": [],
   "source": [
    "studies <- c('ROSMAP_gpQTL_glycosylation_unadjusted') ## change context\n",
    "# studies <- list.dirs(\"/ftp_fgc_xqtl/analysis_result_2025/ldscore_regression_files/SLDSC_ADSP_1000G_output/\",full.names = F,recursive = F) # All QTL studies"
   ]
  },
  {
   "cell_type": "code",
   "execution_count": 5,
   "id": "d44099ce-3d2b-481d-aee1-fc613374a0af",
   "metadata": {
    "kernel": "R"
   },
   "outputs": [],
   "source": [
    "# res.dir <- \"./\" ## change path\n",
    "res.dir <- \"/ftp_fgc_xqtl/analysis_result_2025/ldscore_regression_files/SLDSC_ADSP_1000G_output/\" # Please untar the tar.gz filer.gz\n",
    "\n",
    "tau.list <- list()\n",
    "enrich.list <- list()\n",
    "for (study in studies) {\n",
    "  # meta.dir <- paste0(res.dir, study, \"/sumstats/all_m/processed_stats_2/single_tau.\",study, \".meta_processed_stats.rds\")\n",
    "  meta.dir <- paste0(res.dir, study, \"/sumstats/processed_stats_2/single_tau.\",study, \".meta_processed_stats.rds\")\n",
    "  metas <- readRDS(meta.dir)\n",
    "  tau.list[[study]] <- data.frame(metas$tau)\n",
    "  tau.list[[study]]$study <- study\n",
    "  tau.list[[study]]$trait <- rownames(tau.list[[study]])\n",
    "  enrich.list[[study]] <- data.frame(metas$enrichment)\n",
    "  enrich.list[[study]]$study <- study\n",
    "  enrich.list[[study]]$trait <- rownames(enrich.list[[study]])\n",
    "  \n",
    "}"
   ]
  },
  {
   "cell_type": "code",
   "execution_count": 7,
   "id": "bf27acd3-b4cd-4631-88df-5e66d1c5f0f2",
   "metadata": {
    "kernel": "R"
   },
   "outputs": [],
   "source": [
    "\n",
    "tau.df <- do.call(rbind, tau.list)\n",
    "enrich.df <- do.call(rbind, enrich.list)\n",
    "\n",
    "# 95% confidence interval\n",
    "tau.df$Lower <- tau.df$Mean - 1.96*tau.df$SD\n",
    "tau.df$Upper <- tau.df$Mean + 1.96*tau.df$SD\n",
    "tau.df$signif <- tau.df$P < 0.05\n",
    "enrich.df$Lower <- enrich.df$Mean - 1.96*enrich.df$SD\n",
    "enrich.df$Upper <- enrich.df$Mean + 1.96*enrich.df$SD\n",
    "enrich.df$signif <- enrich.df$P < 0.05\n",
    "\n"
   ]
  },
  {
   "cell_type": "code",
   "execution_count": 8,
   "id": "830066c8-812a-4775-839e-d857c24b6698",
   "metadata": {
    "kernel": "R"
   },
   "outputs": [],
   "source": [
    "reorder_levels <- tau.df %>%\n",
    "  filter(trait == \"Brain\") %>%          # choose reference trait\n",
    "  arrange(desc(Mean)) %>%               # descending by Mean\n",
    "  pull(study) %>%                       # get vector\n",
    "  unique()\n",
    "\n",
    "tau.df$study <- factor(tau.df$study, levels = reorder_levels)"
   ]
  },
  {
   "cell_type": "code",
   "execution_count": null,
   "id": "a19746df-20ed-42b0-8acc-c7499bc01538",
   "metadata": {
    "kernel": "R"
   },
   "outputs": [],
   "source": [
    "## 5. Mark significance (95 % CI does NOT include zero) ---------\n",
    "tau.df <- tau.df %>%\n",
    "  mutate(signif = Lower * Upper > 0)\n",
    "\n",
    "## 6. Prepare a colour palette ---------------------------------\n",
    "all_colors <- qualitative_hcl(\n",
    "  n = length(levels(tau.df$study)),\n",
    "  palette = \"Dark 3\"\n",
    ")\n",
    "\n",
    "## 7. Plot marginal_tau -------------------------------------------------------\n",
    "p <- ggplot(\n",
    "  tau.df,\n",
    "  aes(x = study, y = Mean,\n",
    "      colour = study, group = trait)         \n",
    ") +\n",
    "  # point estimates\n",
    "  geom_point(\n",
    "    position = position_dodge(width = 0.6),\n",
    "    size = 2\n",
    "  ) +\n",
    "  # error bars (95 % CI)\n",
    "  geom_errorbar(\n",
    "    aes(ymin = Lower, ymax = Upper,\n",
    "        linewidth = signif),               # thick if significant\n",
    "    position = position_dodge(width = 0.6),\n",
    "    width = 0.25\n",
    "  ) +\n",
    "  # asterisks on significant estimates\n",
    "  geom_text(\n",
    "    data = subset(tau.df, signif),\n",
    "    aes(label = \"*\", y = Upper + 0.05),\n",
    "    position = position_dodge(width = 0.6),\n",
    "    colour = \"red\", size = 4\n",
    "  ) +\n",
    "  # colour & linewidth scales\n",
    "  scale_color_manual(values = all_colors) +\n",
    "  scale_linewidth_manual(values = c(`TRUE` = 1.2, `FALSE` = 0.5)) +\n",
    "  # horizontal zero line\n",
    "  geom_hline(yintercept = 0, linetype = 2, colour = \"darkblue\") +\n",
    "  # theme tweaks\n",
    "  theme_bw() +\n",
    "  theme(\n",
    "    axis.text.x  = element_text(angle = 45, hjust = 1, vjust = 1),\n",
    "    axis.text.y  = element_text(size = 9,  colour = \"black\"),\n",
    "    axis.title.x = element_blank(),\n",
    "    legend.position = \"none\"\n",
    "  ) +\n",
    "  # axis title\n",
    "  ylab(\"Tau (Mean ± 1.96 × SD)\") + facet_wrap(~trait)\n",
    "\n",
    "## 8. Display plot ----------------------------------------------\n",
    "print(p)\n"
   ]
  },
  {
   "cell_type": "code",
   "execution_count": null,
   "id": "2e857e63-ee60-4eb0-8a00-19182dece8f6",
   "metadata": {
    "kernel": "R"
   },
   "outputs": [],
   "source": [
    "## Enrichment\n",
    "\n",
    "reorder_levels <- enrich.df %>%\n",
    "  filter(trait == \"Brain\") %>%          # choose reference trait\n",
    "  arrange(desc(Mean)) %>%               # descending by Mean\n",
    "  pull(study) %>%                       # get vector\n",
    "  unique()\n",
    "\n",
    "enrich.df$study <- factor(enrich.df$study, levels = reorder_levels)\n",
    "\n",
    "## 5. Mark significance (95 % CI does NOT include zero) ---------\n",
    "enrich.df <- enrich.df %>%\n",
    "  mutate(signif = Lower * Upper > 0)\n",
    "\n",
    "## 6. Prepare a colour palette ---------------------------------\n",
    "all_colors <- qualitative_hcl(\n",
    "  n = length(levels(enrich.df$study)),\n",
    "  palette = \"Dark 3\"\n",
    ")\n",
    "\n",
    "## 7. Plot Enrichment-------------------------------------------------------\n",
    "p <- ggplot(\n",
    "  enrich.df,\n",
    "  aes(x = study, y = Mean,\n",
    "      colour = study)      \n",
    ") +\n",
    "  # point estimates\n",
    "  geom_point(\n",
    "    position = position_dodge(width = 0.6),\n",
    "    size = 2\n",
    "  ) +\n",
    "  # error bars (95 % CI)\n",
    "  geom_errorbar(\n",
    "    aes(ymin = Lower, ymax = Upper,\n",
    "        linewidth = signif),               # thick if significant\n",
    "    position = position_dodge(width = 0.6),\n",
    "    width = 0.25\n",
    "  ) +\n",
    "  # asterisks on significant estimates\n",
    "  geom_text(\n",
    "    data = subset(enrich.df, signif),\n",
    "    aes(label = \"*\", y = Upper + 2),\n",
    "    position = position_dodge(width = 0.6),\n",
    "    colour = \"red\", size = 4\n",
    "  ) +\n",
    "  # colour & linewidth scales\n",
    "  scale_color_manual(values = all_colors) +\n",
    "  scale_linewidth_manual(values = c(`TRUE` = 1.2, `FALSE` = 0.5)) +\n",
    "  # horizontal zero line\n",
    "  geom_hline(yintercept = 1, linetype = 2, colour = \"darkblue\") +\n",
    "  # theme tweaks\n",
    "  theme_bw() +\n",
    "  theme(\n",
    "    axis.text.x  = element_text(angle = 45, hjust = 1, vjust = 1),\n",
    "    axis.text.y  = element_text(size = 9,  colour = \"black\"),\n",
    "    axis.title.x = element_blank(),\n",
    "    legend.position = \"none\"\n",
    "  ) +\n",
    "  # axis title\n",
    "  ylab(\"Enrichment (Mean ± 1.96 × SD)\") + facet_wrap(~trait)\n",
    "\n",
    "\n",
    "\n",
    "## 8. Display plot ----------------------------------------------\n",
    "print(p)"
   ]
  },
  {
   "cell_type": "code",
   "execution_count": null,
   "id": "a23ab2a5-55c7-4675-be56-c297f99d2988",
   "metadata": {
    "kernel": "R"
   },
   "outputs": [],
   "source": []
  },
  {
   "cell_type": "markdown",
   "id": "370a8eaf-6717-4ace-864d-4641f93fad73",
   "metadata": {
    "kernel": "R"
   },
   "source": [
    "### Seprate traits"
   ]
  },
  {
   "cell_type": "code",
   "execution_count": 12,
   "id": "c5a13643-4f16-474c-8280-a0e8d8959595",
   "metadata": {
    "kernel": "R"
   },
   "outputs": [],
   "source": [
    "library(tidyverse)"
   ]
  },
  {
   "cell_type": "code",
   "execution_count": 14,
   "id": "107f9c6f-c1b3-42d5-9deb-524514b82b66",
   "metadata": {
    "kernel": "R"
   },
   "outputs": [],
   "source": [
    "## Library\n",
    "library(data.table)\n",
    "library(ggplot2)\n",
    "library(RColorBrewer)\n",
    "library(colorspace)\n",
    "library(ggpubr)"
   ]
  },
  {
   "cell_type": "code",
   "execution_count": 25,
   "id": "4ac0329a-4392-44e0-b7e9-41cba6c77ad7",
   "metadata": {
    "kernel": "R"
   },
   "outputs": [],
   "source": [
    "# ttmp <- readRDS('./ROSMAP_gpQTL_glycosylation_unadjusted.single_tau.initial_processed_stats.rds')\n",
    "ttmp <- readRDS(paste0(res.dir, study, \"/sumstats/\", study, \".single_tau.initial_processed_stats.rds\"))"
   ]
  },
  {
   "cell_type": "code",
   "execution_count": 26,
   "id": "9b1f12f2-5cf2-4eeb-bb60-1546b66cc25d",
   "metadata": {
    "kernel": "R"
   },
   "outputs": [],
   "source": [
    "blood_traits <- c('UKB.Lym.BOLT.sumstats.parquet','UKB.Mono.BOLT.sumstats.parquet','UKB.Plt.BOLT.sumstats.parquet','UKB.RBC.BOLT.sumstats.parquet','UKB_460K.blood_RBC_DISTRIB_WIDTH.sumstats.parquet','UKB.Eosino.BOLT.sumstats.parquet','UKB.Baso.BOLT.sumstats.parquet','UKB.Neutro.BOLT.sumstats.parquet','UKB.MCV.BOLT.sumstats.parquet','PASS_IBD_deLange2017.sumstats.parquet','PASS_CD_deLange2017.sumstats.parquet','PASS_UC_deLange2017.sumstats.parquet','UKB_460K.disease_ALLERGY_ECZEMA_DIAGNOSED.sumstats.parquet','UKB.Hypothyroidism.SAIGE.sumstats.parquet','PASS_Rheumatoid_Arthritis.sumstats.parquet','PASS_Primary_biliary_cirrhosis.sumstats.parquet','PASS_Lupus.sumstats.parquet','PASS_Type_1_Diabetes.sumstats.parquet','UKB.AID_Combined.SAIGE.sumstats.parquet','PASS_Celiac.sumstats.parquet')\n",
    "brain_traits <- c('AD_Bellenguez_buildGRCh38_munged.parquet', 'AD_Wightman_Excluding23andMe_hg38_sorted_munged.parquet', 'AD_Bellenguez_EADB_hg38_sorted_munged.parquet', 'AD_Wightman_ExcludingUKB23andMe_hg38_sorted_munged.parquet','AD_Kunkle_etal_Stage1_results_hg38.sorted.munged.parquet', 'AD_Wightman_full_2021_munged.parquet', 'PASS_Alzheimers_Jansen2019.sumstats.parquet','EXF.sumstats.parquet','LAN.sumstats.parquet','MEM.sumstats.parquet','MS.sumstats.parquet','accumbens.sumstats.parquet','ALS-Rheenen-2021.GCST90027163_buildGRCh37.sumstats.parquet','ALS-Rheenen-2021.GCST90027164_buildGRCh37.sumstats.parquet','amygdala.sumstats.parquet','brainstem.sumstats.parquet','caudate.sumstats.parquet','nallsEtAl2019_excluding23andMe.sumstats.parquet','neuroticism_ctg.sumstats.parquet','pallidum.sumstats.parquet','PGC3_SCZ_wave3_public.v2.sumstats.parquet','PGC_UKB_23andMe_depression_10000.sumstats.parquet','PGC_UKB_depression_genome-wide.sumstats.parquet','putamen.sumstats.parquet','rmf.surf.sumstats.parquet','rmf.thick.sumstats.parquet','sf.surf.sumstats.parquet','sf.thick.sumstats.parquet','image_AD1.sumstats.parquet','image_Aging2.sumstats.parquet','image_Aging5.sumstats.parquet','image_AD2.sumstats.parquet','image_Aging3.sumstats.parquet','image_Aging1.sumstats.parquet','image_Aging4.sumstats.parquet','UKB_460K.repro_NumberChildrenEverBorn_Pooled.sumstats.parquet','PASS_Anorexia.sumstats.parquet','PASS_ADHD_Demontis2018.sumstats.parquet','PASS_Autism.sumstats.parquet','PASS_SleepDuration_Dashti2019.sumstats.parquet','UKB.BMI.BOLT.sumstats.parquet','PASS_MDD_Wray2018.sumstats.parquet','PASS_Neuroticism.sumstats.parquet','UKB.Smoking_Ever_Never.SAIGE.sumstats.parquet','UKB_460K.cov_EDU_YEARS.sumstats.parquet','PASS_Intelligence_SavageJansen2018.sumstats.parquet','UKB.Morning_Person.BOLT.sumstats.parquet','UKB.Insomnia.BOLT.sumstats.parquet','PASS_Schizophrenia.sumstats.parquet','PASS_SCZvsBD_Ruderfer2018.sumstats.parquet','PASS_BipolarDisorder_Ruderfer2018.sumstats.parquet','PASS_ReactionTime_Davies2018.sumstats.parquet','PASS_AgeFirstBirth.sumstats.parquet','PASS_Multiple_sclerosis.sumstats.parquet')\n",
    "all_traits <- c('AD_Bellenguez_buildGRCh38_munged.parquet', 'AD_Wightman_Excluding23andMe_hg38_sorted_munged.parquet', 'AD_Bellenguez_EADB_hg38_sorted_munged.parquet', 'AD_Wightman_ExcludingUKB23andMe_hg38_sorted_munged.parquet','AD_Kunkle_etal_Stage1_results_hg38.sorted.munged.parquet', 'AD_Wightman_full_2021_munged.parquet', 'PASS_Alzheimers_Jansen2019.sumstats.parquet','EXF.sumstats.parquet','LAN.sumstats.parquet','MEM.sumstats.parquet','MS.sumstats.parquet','accumbens.sumstats.parquet','ALS-Rheenen-2021.GCST90027163_buildGRCh37.sumstats.parquet','ALS-Rheenen-2021.GCST90027164_buildGRCh37.sumstats.parquet','amygdala.sumstats.parquet','brainstem.sumstats.parquet','caudate.sumstats.parquet','GWAS_CP_all.sumstats.parquet','GWAS_EA_excl23andMe.sumstats.parquet','MegaGWAS_summary_European.sumstats.parquet','nallsEtAl2019_excluding23andMe.sumstats.parquet','neuroticism_ctg.sumstats.parquet','pallidum.sumstats.parquet','PGC3_SCZ_wave3_public.v2.sumstats.parquet','PGC_UKB_23andMe_depression_10000.sumstats.parquet','PGC_UKB_depression_genome-wide.sumstats.parquet','putamen.sumstats.parquet','rmf.surf.sumstats.parquet','rmf.thick.sumstats.parquet','sf.surf.sumstats.parquet','sf.thick.sumstats.parquet','image_AD1.sumstats.parquet','image_Aging2.sumstats.parquet','image_Aging5.sumstats.parquet','image_AD2.sumstats.parquet','image_Aging3.sumstats.parquet','image_Aging1.sumstats.parquet','image_Aging4.sumstats.parquet','UKB.Lym.BOLT.sumstats.parquet','UKB.Mono.BOLT.sumstats.parquet','UKB.Plt.BOLT.sumstats.parquet','UKB.RBC.BOLT.sumstats.parquet','UKB_460K.blood_RBC_DISTRIB_WIDTH.sumstats.parquet','UKB.Eosino.BOLT.sumstats.parquet','UKB.Baso.BOLT.sumstats.parquet','UKB.Neutro.BOLT.sumstats.parquet','UKB.MCV.BOLT.sumstats.parquet','UKB_460K.biochemistry_Creatinine.sumstats.parquet','UKB.VitD.BOLT.sumstats.parquet','UKB.TBil.BOLT.sumstats.parquet','UKB_460K.biochemistry_AlkalinePhosphatase.sumstats.parquet','UKB_460K.biochemistry_AspartateAminotransferase.sumstats.parquet','UKB.TP.BOLT.sumstats.parquet','PASS_IBD_deLange2017.sumstats.parquet','PASS_CD_deLange2017.sumstats.parquet','PASS_UC_deLange2017.sumstats.parquet','UKB_460K.disease_ALLERGY_ECZEMA_DIAGNOSED.sumstats.parquet','UKB.Hypothyroidism.SAIGE.sumstats.parquet','PASS_Rheumatoid_Arthritis.sumstats.parquet','PASS_Primary_biliary_cirrhosis.sumstats.parquet','PASS_Lupus.sumstats.parquet','PASS_Type_1_Diabetes.sumstats.parquet','UKB.AID_Combined.SAIGE.sumstats.parquet','PASS_Celiac.sumstats.parquet','PASS_Alzheimers_Jansen2019.sumstats.parquet','PASS_Multiple_sclerosis.sumstats.parquet','UKB_460K.repro_NumberChildrenEverBorn_Pooled.sumstats.parquet','PASS_Anorexia.sumstats.parquet','PASS_ADHD_Demontis2018.sumstats.parquet','PASS_Autism.sumstats.parquet','PASS_SleepDuration_Dashti2019.sumstats.parquet','UKB.BMI.BOLT.sumstats.parquet','PASS_MDD_Wray2018.sumstats.parquet','PASS_Neuroticism.sumstats.parquet','UKB.Smoking_Ever_Never.SAIGE.sumstats.parquet','UKB_460K.cov_EDU_YEARS.sumstats.parquet','PASS_Intelligence_SavageJansen2018.sumstats.parquet','UKB.Morning_Person.BOLT.sumstats.parquet','UKB.Insomnia.BOLT.sumstats.parquet','PASS_Schizophrenia.sumstats.parquet','PASS_SCZvsBD_Ruderfer2018.sumstats.parquet','PASS_BipolarDisorder_Ruderfer2018.sumstats.parquet','PASS_ReactionTime_Davies2018.sumstats.parquet','PASS_AgeFirstBirth.sumstats.parquet','CAD_META.filtered.sumstats.parquet','UKB_460K.bp_SYSTOLICadjMEDz.sumstats.parquet','UKB_460K.bp_DIASTOLICadjMEDz.sumstats.parquet','PASS_ChildOnsetAsthma_Ferreira2019.sumstats.parquet','UKB.FEV1FVC.BOLT.sumstats.parquet','PASS_Height1.sumstats.parquet','UKB.BrC.SAIGE.sumstats.parquet','UKB.WHRadjBMI.BOLT.sumstats.parquet','Mahajan.NatGenet2018b.T2D.European.sumstats.parquet','UKB_460K.impedance_BASAL_METABOLIC_RATEz.sumstats.parquet','PASS_GeneralRiskTolerance_KarlssonLinner2019.sumstats.parquet')"
   ]
  },
  {
   "cell_type": "code",
   "execution_count": 27,
   "id": "c2ccb595-31d4-4ff1-ae85-b415e3f200f9",
   "metadata": {
    "kernel": "R"
   },
   "outputs": [],
   "source": [
    "library(data.table)\n",
    "\n",
    "traits_dt <- rbindlist(lapply(seq_along(ttmp), function(i) {\n",
    "  res <- ttmp[[i]]\n",
    "   enr <- res$enrichment$enrichment_summary\n",
    "  data.table(\n",
    "    trait = names(ttmp)[i],\n",
    "    enrichment = enr$Enrichment.Enrichment,\n",
    "    se = enr$Enrichment_std_error.Enrichment_std_error,\n",
    "    prop_h2 = enr$`Prop._h2.Prop._h2`,\n",
    "    prop_snps = enr$`Prop._SNPs.Prop._SNPs`,\n",
    "    p = enr$Enrichment_p,\n",
    "    enrich_z = res$meta_enrstat$enrich_z,\n",
    "    h2g = res$single_tau$h2g,\n",
    "    sd_annot =as.numeric(res$single_tau$sd_annot)\n",
    "  )\n",
    "}))"
   ]
  },
  {
   "cell_type": "code",
   "execution_count": 28,
   "id": "9a770b3e-a5e8-40ac-a042-84955b496930",
   "metadata": {
    "kernel": "R"
   },
   "outputs": [],
   "source": [
    "traits_dt <- traits_dt %>% mutate(category = ifelse(trait %in% blood_traits, 'Blood', \n",
    "                                      ifelse(trait %in% brain_traits, 'Brain', \n",
    "                                      ifelse(trait %in% all_traits, 'Others', NA))))"
   ]
  },
  {
   "cell_type": "code",
   "execution_count": 29,
   "id": "f89d84e6-12b6-4c08-b90e-768c5eaba5e4",
   "metadata": {
    "kernel": "R",
    "scrolled": true
   },
   "outputs": [],
   "source": [
    "traits_dt$trait <- gsub('.sumstats.parquet', '', traits_dt$trait)\n",
    "traits_dt$trait <- gsub('.munged.parquet', '', traits_dt$trait)\n",
    "traits_dt$trait <- gsub('_munged.parquet', '', traits_dt$trait)"
   ]
  },
  {
   "cell_type": "code",
   "execution_count": 31,
   "id": "d81aa7dc-2c61-4592-b9ff-3893df61b296",
   "metadata": {
    "kernel": "R"
   },
   "outputs": [],
   "source": [
    "trait_names <- c(\n",
    "\n",
    "  # Alzheimer’s/ Dementia / FTD & neurological disorders\n",
    "  \"PASS_Alzheimers_Jansen2019\" = \"Alzheimer's Disease (Jansen 2019)\",\n",
    "  \"PASS_Multiple_sclerosis\"    = \"Multiple Sclerosis\",\n",
    "  \"AD_Bellenguez_buildGRCh38\"                    = \"Alzheimer's Disease (Bellenguez)\",\n",
    "  \"AD_Wightman_Excluding23andMe_hg38_sorted\"     = \"Alzheimer's Disease (Wightman excl. 23andMe)\",\n",
    "  \"AD_Bellenguez_EADB_hg38_sorted\"               = \"Alzheimer's Disease (Bellenguez EADB)\",\n",
    "  \"AD_Wightman_ExcludingUKB23andMe_hg38_sorted\"  = \"Alzheimer's Disease (Wightman excl. UKB & 23andMe)\",\n",
    "  \"AD_Kunkle_etal_Stage1_results_hg38.sorted\"    = \"Alzheimer's Disease (Kunkle Stage 1)\",\n",
    "  \"AD_Wightman_full_2021\"                        = \"Alzheimer's Disease (Wightman Full)\",\n",
    "\n",
    "  # Brain structures / imaging / neuro\n",
    "  \"EXF\"                        = \"Executive Function\",\n",
    "  \"LAN\"                        = \"Language\",\n",
    "  \"MEM\"                        = \"Memory\",\n",
    "  \"MS\"                         = \"Multiple Sclerosis (from Lu)\",\n",
    "  \"accumbens\"                  = \"Nucleus Accumbens Volume\",\n",
    "  \"ALS-Rheenen-2021.GCST90027163_buildGRCh37\" = \"ALS (Rheenen 2021, GWAS1)\",\n",
    "  \"ALS-Rheenen-2021.GCST90027164_buildGRCh37\" = \"ALS (Rheenen 2021, GWAS2)\",\n",
    "  \"amygdala\"                   = \"Amygdala Volume\",\n",
    "  \"brainstem\"                  = \"Brainstem Volume\",\n",
    "  \"caudate\"                    = \"Caudate Volume\",\n",
    "  \"GWAS_CP_all\"                = \"Cognitive Performance\",\n",
    "  \"GWAS_EA_excl23andMe\"        = \"Educational Attainment (Excl. 23andMe)\",\n",
    "  \"MegaGWAS_summary_European\"  = \"Cognitive Ability (European MegaGWAS)\",\n",
    "  \"nallsEtAl2019_excluding23andMe\" = \"Parkinson's Disease (Nalls 2019 excl. 23andMe)\",\n",
    "  \"neuroticism_ctg\"            = \"Neuroticism (CTG)\",\n",
    "  \"pallidum\"                   = \"Pallidum Volume\",\n",
    "  \"PGC3_SCZ_wave3_public.v2\"   = \"Schizophrenia (PGC3 Wave3)\",\n",
    "  \"PGC_UKB_23andMe_depression_10000\" = \"Depression (PGC+UKB+23andMe)\",\n",
    "  \"PGC_UKB_depression_genome-wide\"   = \"Depression (PGC+UKB GWAS)\",\n",
    "  \"putamen\"                    = \"Putamen Volume\",\n",
    "  \"rmf.surf\"                   = \"Rostral Middle Frontal Surface Area\",\n",
    "  \"rmf.thick\"                  = \"Rostral Middle Frontal Thickness\",\n",
    "  \"sf.surf\"                    = \"Superior Frontal Surface Area\",\n",
    "  \"sf.thick\"                   = \"Superior Frontal Thickness\",\n",
    "  \"image_AD1\"                  = \"Imaging Alzheimer's Set1\",\n",
    "  \"image_AD2\"                  = \"Imaging Alzheimer's Set2\",\n",
    "  \"image_Aging1\"               = \"Imaging Aging Set1\",\n",
    "  \"image_Aging2\"               = \"Imaging Aging Set2\",\n",
    "  \"image_Aging3\"               = \"Imaging Aging Set3\",\n",
    "  \"image_Aging4\"               = \"Imaging Aging Set4\",\n",
    "  \"image_Aging5\"               = \"Imaging Aging Set5\",\n",
    "\n",
    "  # Blood-related traits\n",
    "  \"UKB.Lym.BOLT\"               = \"UKB Lymphocyte Count\",\n",
    "  \"UKB.Mono.BOLT\"              = \"UKB Monocyte Count\",\n",
    "  \"UKB.Plt.BOLT\"               = \"UKB Platelet Count\",\n",
    "  \"UKB.RBC.BOLT\"               = \"UKB RBC Count\",\n",
    "  \"UKB_460K.blood_RBC_DISTRIB_WIDTH\" = \"UKB RBC Distribution Width\",\n",
    "  \"UKB.Eosino.BOLT\"            = \"UKB Eosinophil Count\",\n",
    "  \"UKB.Baso.BOLT\"              = \"UKB Basophil Count\",\n",
    "  \"UKB.Neutro.BOLT\"            = \"UKB Neutrophil Count\",\n",
    "  \"UKB.MCV.BOLT\"               = \"UKB Mean Corpuscular Volume\",\n",
    "  \"UKB_460K.biochemistry_Creatinine\" = \"UKB Serum Creatinine\",\n",
    "  \"UKB.VitD.BOLT\"              = \"UKB Vitamin D\",\n",
    "  \"UKB.TBil.BOLT\"              = \"UKB Total Bilirubin\",\n",
    "  \"UKB_460K.biochemistry_AlkalinePhosphatase\" = \"UKB Alkaline Phosphatase\",\n",
    "  \"UKB_460K.biochemistry_AspartateAminotransferase\" = \"UKB AST\",\n",
    "  \"UKB.TP.BOLT\"                = \"UKB Total Protein\",\n",
    "\n",
    "  # Autoimmune & Inflammatory\n",
    "  \"PASS_IBD_deLange2017\"       = \"Inflammatory Bowel Disease (de Lange 2017)\",\n",
    "  \"PASS_CD_deLange2017\"        = \"Crohn's Disease (de Lange 2017)\",\n",
    "  \"PASS_UC_deLange2017\"        = \"Ulcerative Colitis (de Lange 2017)\",\n",
    "  \"UKB_460K.disease_ALLERGY_ECZEMA_DIAGNOSED\" = \"Allergy/Eczema (UKB)\",\n",
    "  \"UKB.Hypothyroidism.SAIGE\"   = \"Hypothyroidism (UKB)\",\n",
    "  \"PASS_Rheumatoid_Arthritis\"  = \"Rheumatoid Arthritis\",\n",
    "  \"PASS_Primary_biliary_cirrhosis\" = \"Primary Biliary Cirrhosis\",\n",
    "  \"PASS_Lupus\"                 = \"Systemic Lupus Erythematosus\",\n",
    "  \"PASS_Type_1_Diabetes\"       = \"Type 1 Diabetes\",\n",
    "  \"UKB.AID_Combined.SAIGE\"     = \"Combined Autoimmune Diseases (UKB)\",\n",
    "  \"PASS_Celiac\"                = \"Celiac Disease\",\n",
    "\n",
    "\n",
    "  # Reproductive & psychiatric\n",
    "  \"UKB_460K.repro_NumberChildrenEverBorn_Pooled\" = \"Number of Children Ever Born\",\n",
    "  \"PASS_Anorexia\"              = \"Anorexia Nervosa\",\n",
    "  \"PASS_ADHD_Demontis2018\"     = \"ADHD (Demontis 2018)\",\n",
    "  \"PASS_Autism\"                = \"Autism Spectrum Disorder\",\n",
    "  \"PASS_SleepDuration_Dashti2019\" = \"Sleep Duration (Dashti 2019)\",\n",
    "  \"UKB.BMI.BOLT\"               = \"UKB BMI\",\n",
    "  \"PASS_MDD_Wray2018\"          = \"Major Depression (Wray 2018)\",\n",
    "  \"PASS_Neuroticism\"           = \"Neuroticism (PASS)\",\n",
    "  \"UKB.Smoking_Ever_Never.SAIGE\" = \"Smoking Ever/Never (UKB)\",\n",
    "  \"UKB_460K.cov_EDU_YEARS\"     = \"Educational Years (UKB)\",\n",
    "  \"PASS_Intelligence_SavageJansen2018\" = \"Intelligence (Savage & Jansen 2018)\",\n",
    "  \"UKB.Morning_Person.BOLT\"    = \"Chronotype (Morning Person)\",\n",
    "  \"UKB.Insomnia.BOLT\"          = \"Insomnia (UKB)\",\n",
    "  \"PASS_Schizophrenia\"         = \"Schizophrenia\",\n",
    "  \"PASS_SCZvsBD_Ruderfer2018\"  = \"Schizophrenia vs Bipolar (Ruderfer 2018)\",\n",
    "  \"PASS_BipolarDisorder_Ruderfer2018\" = \"Bipolar Disorder (Ruderfer 2018)\",\n",
    "  \"PASS_ReactionTime_Davies2018\" = \"Reaction Time (Davies 2018)\",\n",
    "  \"PASS_AgeFirstBirth\"         = \"Age at First Birth\",\n",
    "\n",
    "  # Cardiometabolic & general health\n",
    "  \"CAD_META.filtered\"          = \"Coronary Artery Disease (Meta)\",\n",
    "  \"UKB_460K.bp_SYSTOLICadjMEDz\" = \"Systolic BP (adj. meds)\",\n",
    "  \"UKB_460K.bp_DIASTOLICadjMEDz\" = \"Diastolic BP (adj. meds)\",\n",
    "  \"PASS_ChildOnsetAsthma_Ferreira2019\" = \"Childhood Onset Asthma (Ferreira 2019)\",\n",
    "  \"UKB.FEV1FVC.BOLT\"           = \"FEV1/FVC Ratio (Lung Function)\",\n",
    "  \"PASS_Height1\"               = \"Height\",\n",
    "  \"UKB.BrC.SAIGE\"              = \"Breast Cancer (UKB)\",\n",
    "  \"UKB.WHRadjBMI.BOLT\"         = \"Waist-Hip Ratio adj. BMI\",\n",
    "  \"Mahajan.NatGenet2018b.T2D.European\" = \"Type 2 Diabetes (Mahajan 2018, European)\",\n",
    "  \"UKB_460K.impedance_BASAL_METABOLIC_RATEz\" = \"Basal Metabolic Rate (UKB)\",\n",
    "  \"PASS_GeneralRiskTolerance_KarlssonLinner2019\" = \"General Risk Tolerance (Karlsson Linner 2019)\"\n",
    ")"
   ]
  },
  {
   "cell_type": "code",
   "execution_count": 32,
   "id": "67e10907-9db9-4810-8c22-8cdcd5e82107",
   "metadata": {
    "kernel": "R"
   },
   "outputs": [],
   "source": [
    "library(dplyr)\n",
    "\n",
    "# replace codes with human-readable names\n",
    "traits_dt <- traits_dt %>%\n",
    "  mutate(trait = recode(trait, !!!trait_names))"
   ]
  },
  {
   "cell_type": "code",
   "execution_count": 34,
   "id": "21e501da-4941-41b8-a44a-ccc5d6942ae6",
   "metadata": {
    "kernel": "R"
   },
   "outputs": [],
   "source": [
    "traits_dt$category <- factor(traits_dt$category, levels = c('Brain', 'Blood', 'Others'))"
   ]
  },
  {
   "cell_type": "code",
   "execution_count": null,
   "id": "45312efb-5ea9-4542-91d1-1d8960e3107c",
   "metadata": {
    "kernel": "R"
   },
   "outputs": [],
   "source": [
    "options(repr.plot.width = 25, repr.plot.height = 10)\n",
    "\n",
    "library(ggplot2)\n",
    "library(RColorBrewer)\n",
    "\n",
    "category_colors <- c(\n",
    "  \"Blood\" = \"#4575B4\",     # \n",
    "  \"Brain\" = \"#D73027\",     # \n",
    "  \"All\" = \"#1A9850\",    # \n",
    "  \"Others\" = \"#984EA3\"      # others\n",
    ")\n",
    "\n",
    "# Assign colors by category (soft variations within each)\n",
    "traits_dt <- traits_dt %>%\n",
    "  group_by(category) %>%\n",
    "  mutate(\n",
    "    trait_order = as.integer(factor(trait, levels = unique(trait[order(enrichment)]))),\n",
    "    n_traits = n(),\n",
    "    color = lighten(category_colors[category], \n",
    "                    amount = scales::rescale(trait_order, to = c(0.6, 0.1)))\n",
    "  ) %>%\n",
    "  ungroup()\n",
    "ggplot(traits_dt, aes(x = reorder(trait, enrichment), y = enrichment, color = trait)) +\n",
    "  geom_point(size = 3) +\n",
    "  geom_errorbar(aes(ymin = enrichment - se, ymax = enrichment + se), width = 0.3) +\n",
    "  coord_flip() +\n",
    "  facet_wrap(~category, scales = 'free_y') +\n",
    "  labs(\n",
    "    title = \"LDSC Enrichment Across Traits\",\n",
    "    x = \"Trait\",\n",
    "    y = \"Enrichment ± SE\"\n",
    "  ) +\n",
    "  scale_color_manual(values = setNames(traits_dt$color, traits_dt$trait)) +\n",
    "  theme_minimal(base_size = 16) +\n",
    "  theme(\n",
    "    strip.text = element_text(face = \"bold\", size = 18),\n",
    "    axis.text.y = element_text(size = 12),\n",
    "    axis.text.x = element_text(size = 12),\n",
    "    axis.title = element_text(size = 14),\n",
    "    legend.position = \"none\",\n",
    "    panel.grid.minor = element_blank(),\n",
    "    panel.grid.major.y = element_blank()\n",
    "  )"
   ]
  },
  {
   "cell_type": "code",
   "execution_count": null,
   "id": "e40a8fdc-f152-4ff8-b315-66e21f78386b",
   "metadata": {
    "kernel": "SoS"
   },
   "outputs": [],
   "source": []
  },
  {
   "cell_type": "code",
   "execution_count": null,
   "id": "edaa535d-0a6e-440b-8c37-07a84ee887ed",
   "metadata": {
    "kernel": "SoS"
   },
   "outputs": [],
   "source": []
  },
  {
   "cell_type": "code",
   "execution_count": null,
   "id": "7cd7b46d-0f35-4d22-b8f3-87a5a50ac544",
   "metadata": {
    "kernel": "SoS"
   },
   "outputs": [],
   "source": []
  }
 ],
 "metadata": {
  "kernelspec": {
   "display_name": "SoS",
   "language": "sos",
   "name": "sos"
  },
  "language_info": {
   "codemirror_mode": "sos",
   "file_extension": ".sos",
   "mimetype": "text/x-sos",
   "name": "sos",
   "nbconvert_exporter": "sos_notebook.converter.SoS_Exporter",
   "pygments_lexer": "sos"
  },
  "sos": {
   "kernels": [
    [
     "Bash",
     "calysto_bash",
     "Bash",
     "#E6EEFF",
     "shell"
    ],
    [
     "R",
     "ir",
     "R",
     "#DCDCDA",
     "r"
    ],
    [
     "SoS",
     "sos",
     "",
     "",
     "sos"
    ]
   ],
   "version": ""
  }
 },
 "nbformat": 4,
 "nbformat_minor": 5
}
