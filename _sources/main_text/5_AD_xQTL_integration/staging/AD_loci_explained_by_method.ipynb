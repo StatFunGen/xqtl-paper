{
 "cells": [
  {
   "cell_type": "markdown",
   "id": "a11aaa1f-b2fe-43bb-bfaa-3bd3761f7f7d",
   "metadata": {},
   "source": [
    "# 95% CS xQTL overlap with 95%AD loci"
   ]
  },
  {
   "cell_type": "markdown",
   "id": "c2d7aeab-470d-4a56-a9ce-fdd517551153",
   "metadata": {},
   "source": [
    "## summarize single context results"
   ]
  },
  {
   "cell_type": "code",
   "execution_count": 95,
   "id": "49d331b6-9c3e-48ea-a12e-5ca118893c26",
   "metadata": {},
   "outputs": [],
   "source": [
    "library(data.table)\n",
    "library(dplyr)"
   ]
  },
  {
   "cell_type": "code",
   "execution_count": 96,
   "id": "118a6666-63c5-4ad5-9e43-772ecb68c10c",
   "metadata": {},
   "outputs": [],
   "source": [
    "#gwas <- fread('/data/interactive_analysis/rl3328/image_QTL/AD_GWAS_finemapping/export/output/extracted_info/109_blocks_top_loci.csv.gz') ## From Ruixi on Mar19, 2025\n",
    "gwas <- fread('/data/interactive_analysis/adpelle1/export/AD_GWAS_finemapping_109_blocks_top_loci_unified_any0.8ANDmin0.5.csv.gz')\n",
    "coverage <- \"cs_coverage_0.95_min_corr\"\n",
    "gwas_95 <- gwas %>%\n",
    "  mutate(!!coverage := abs(.data[[coverage]])) %>%\n",
    "  filter(.data[[coverage]] > 0)\n",
    "AD_gwas_df = gwas_95 %>%mutate(gwas_cs = paste(study,region,.data[[coverage]],sep=\":\")) %>% mutate(variant_ID = paste0('chr', variant_id))\n",
    "AD_gwas_df <- AD_gwas_df%>% filter(!(gwas_cs == \"AD_Bellenguez_2022:chr15_47690138_49901356:1\" & pip==0.998973148941477))\n",
    "single_context_meta_df <- readRDS(\"/data/interactive_analysis/aw3600/Figure_2b/single_context_top_loci_integrated.rds\")\n",
    "coverage <- \"cs_coverage_0.95\"\n",
    "single_context_AD_GWAS_meta_df <- merge(single_context_meta_df%>%select(-c(pip_sum, event_ID_n_detectable, event_ID_detectable_variant_count, event_ID_n_mappable))%>%\n",
    "                                    filter(.data[[coverage]]>0), AD_gwas_df,  by = 'variant_ID', suffixes = c('QTL', 'GWAS'))%>%\n",
    "                                    select(-event_ID)%>%\n",
    "                                    rename(event_ID = resource)\n"
   ]
  },
  {
   "cell_type": "code",
   "execution_count": 97,
   "id": "1d3b1497-0b9e-483e-85dd-f29e2b0850b1",
   "metadata": {},
   "outputs": [],
   "source": [
    "single_95_info <- single_context_meta_df %>% filter(.data[[coverage]]>0) %>% mutate(cs_id = paste(gene_ID, event_ID, cs_coverage_0.95, sep = \"_\"))"
   ]
  },
  {
   "cell_type": "code",
   "execution_count": 98,
   "id": "417bdf50-e918-4846-a266-42353ab11d87",
   "metadata": {},
   "outputs": [
    {
     "data": {
      "text/html": [
       "270965"
      ],
      "text/latex": [
       "270965"
      ],
      "text/markdown": [
       "270965"
      ],
      "text/plain": [
       "[1] 270965"
      ]
     },
     "metadata": {},
     "output_type": "display_data"
    }
   ],
   "source": [
    "single_95_info %>% pull(cs_id) %>% unique %>% length"
   ]
  },
  {
   "cell_type": "code",
   "execution_count": 99,
   "id": "04913770-6cd1-4847-ba25-2a76abd7b456",
   "metadata": {},
   "outputs": [],
   "source": [
    "single_context_AD_GWAS_meta_df %>% saveRDS(\"single_context_AD_GWAS_meta_df.rds\")"
   ]
  },
  {
   "cell_type": "code",
   "execution_count": 100,
   "id": "59864af7-6c29-4e51-a9b3-8ae3fc57bd95",
   "metadata": {},
   "outputs": [
    {
     "data": {
      "text/html": [
       "<table class=\"dataframe\">\n",
       "<caption>A data.frame: 6 × 22</caption>\n",
       "<thead>\n",
       "\t<tr><th></th><th scope=col>variant_ID</th><th scope=col>#chr</th><th scope=col>start</th><th scope=col>end</th><th scope=col>a1</th><th scope=col>a2</th><th scope=col>gene_ID</th><th scope=col>cs_coverage_0.95</th><th scope=col>cs_coverage_0.7</th><th scope=col>cs_coverage_0.5</th><th scope=col>⋯</th><th scope=col>event_ID</th><th scope=col>study</th><th scope=col>variant_id</th><th scope=col>region</th><th scope=col>cs_coverage_0.95_min_corr</th><th scope=col>cs_coverage_0.7_min_corr</th><th scope=col>cs_coverage_0.5_min_corr</th><th scope=col>pip</th><th scope=col>z</th><th scope=col>gwas_cs</th></tr>\n",
       "\t<tr><th></th><th scope=col>&lt;chr&gt;</th><th scope=col>&lt;int&gt;</th><th scope=col>&lt;dbl&gt;</th><th scope=col>&lt;int&gt;</th><th scope=col>&lt;chr&gt;</th><th scope=col>&lt;chr&gt;</th><th scope=col>&lt;chr&gt;</th><th scope=col>&lt;int&gt;</th><th scope=col>&lt;int&gt;</th><th scope=col>&lt;int&gt;</th><th scope=col>⋯</th><th scope=col>&lt;chr&gt;</th><th scope=col>&lt;chr&gt;</th><th scope=col>&lt;chr&gt;</th><th scope=col>&lt;chr&gt;</th><th scope=col>&lt;int&gt;</th><th scope=col>&lt;int&gt;</th><th scope=col>&lt;int&gt;</th><th scope=col>&lt;dbl&gt;</th><th scope=col>&lt;dbl&gt;</th><th scope=col>&lt;chr&gt;</th></tr>\n",
       "</thead>\n",
       "<tbody>\n",
       "\t<tr><th scope=row>1</th><td>chr10:11678309:A:G</td><td>10</td><td>11678308</td><td>11678309</td><td>G</td><td>A</td><td>ENSG00000148429</td><td>1</td><td>1</td><td>1</td><td>⋯</td><td>Mic_mega_eQTL   </td><td>AD_Bellenguez_2022               </td><td>10:11678309:A:G</td><td>chr10_10500888_12817813</td><td>1</td><td>-1</td><td>-1</td><td>        NA</td><td>      NA</td><td>AD_Bellenguez_2022:chr10_10500888_12817813:1               </td></tr>\n",
       "\t<tr><th scope=row>2</th><td>chr10:11678309:A:G</td><td>10</td><td>11678308</td><td>11678309</td><td>G</td><td>A</td><td>ENSG00000148429</td><td>1</td><td>1</td><td>1</td><td>⋯</td><td>Mic_mega_eQTL   </td><td>AD_Jansen_2021                   </td><td>10:11678309:A:G</td><td>chr10_10500888_12817813</td><td>1</td><td>-1</td><td>-1</td><td>0.18080328</td><td>5.645878</td><td>AD_Jansen_2021:chr10_10500888_12817813:1                   </td></tr>\n",
       "\t<tr><th scope=row>3</th><td>chr10:11678309:A:G</td><td>10</td><td>11678308</td><td>11678309</td><td>G</td><td>A</td><td>ENSG00000148429</td><td>1</td><td>1</td><td>1</td><td>⋯</td><td>Mic_mega_eQTL   </td><td>AD_Wightman_Full_2021            </td><td>10:11678309:A:G</td><td>chr10_10500888_12817813</td><td>1</td><td>-1</td><td>-1</td><td>0.05051167</td><td>7.374065</td><td>AD_Wightman_Full_2021:chr10_10500888_12817813:1            </td></tr>\n",
       "\t<tr><th scope=row>4</th><td>chr10:11678309:A:G</td><td>10</td><td>11678308</td><td>11678309</td><td>G</td><td>A</td><td>ENSG00000148429</td><td>1</td><td>1</td><td>1</td><td>⋯</td><td>Mic_mega_eQTL   </td><td>AD_Wightman_Excluding23andMe_2021</td><td>10:11678309:A:G</td><td>chr10_10500888_12817813</td><td>1</td><td> 1</td><td> 1</td><td>0.49184952</td><td>6.603571</td><td>AD_Wightman_Excluding23andMe_2021:chr10_10500888_12817813:1</td></tr>\n",
       "\t<tr><th scope=row>5</th><td>chr10:11678309:A:G</td><td>10</td><td>11678308</td><td>11678309</td><td>G</td><td>A</td><td>ENSG00000148429</td><td>1</td><td>1</td><td>1</td><td>⋯</td><td>Mic_DeJager_eQTL</td><td>AD_Bellenguez_2022               </td><td>10:11678309:A:G</td><td>chr10_10500888_12817813</td><td>1</td><td>-1</td><td>-1</td><td>        NA</td><td>      NA</td><td>AD_Bellenguez_2022:chr10_10500888_12817813:1               </td></tr>\n",
       "\t<tr><th scope=row>6</th><td>chr10:11678309:A:G</td><td>10</td><td>11678308</td><td>11678309</td><td>G</td><td>A</td><td>ENSG00000148429</td><td>1</td><td>1</td><td>1</td><td>⋯</td><td>Mic_DeJager_eQTL</td><td>AD_Jansen_2021                   </td><td>10:11678309:A:G</td><td>chr10_10500888_12817813</td><td>1</td><td>-1</td><td>-1</td><td>0.18080328</td><td>5.645878</td><td>AD_Jansen_2021:chr10_10500888_12817813:1                   </td></tr>\n",
       "</tbody>\n",
       "</table>\n"
      ],
      "text/latex": [
       "A data.frame: 6 × 22\n",
       "\\begin{tabular}{r|lllllllllllllllllllll}\n",
       "  & variant\\_ID & \\#chr & start & end & a1 & a2 & gene\\_ID & cs\\_coverage\\_0.95 & cs\\_coverage\\_0.7 & cs\\_coverage\\_0.5 & ⋯ & event\\_ID & study & variant\\_id & region & cs\\_coverage\\_0.95\\_min\\_corr & cs\\_coverage\\_0.7\\_min\\_corr & cs\\_coverage\\_0.5\\_min\\_corr & pip & z & gwas\\_cs\\\\\n",
       "  & <chr> & <int> & <dbl> & <int> & <chr> & <chr> & <chr> & <int> & <int> & <int> & ⋯ & <chr> & <chr> & <chr> & <chr> & <int> & <int> & <int> & <dbl> & <dbl> & <chr>\\\\\n",
       "\\hline\n",
       "\t1 & chr10:11678309:A:G & 10 & 11678308 & 11678309 & G & A & ENSG00000148429 & 1 & 1 & 1 & ⋯ & Mic\\_mega\\_eQTL    & AD\\_Bellenguez\\_2022                & 10:11678309:A:G & chr10\\_10500888\\_12817813 & 1 & -1 & -1 &         NA &       NA & AD\\_Bellenguez\\_2022:chr10\\_10500888\\_12817813:1               \\\\\n",
       "\t2 & chr10:11678309:A:G & 10 & 11678308 & 11678309 & G & A & ENSG00000148429 & 1 & 1 & 1 & ⋯ & Mic\\_mega\\_eQTL    & AD\\_Jansen\\_2021                    & 10:11678309:A:G & chr10\\_10500888\\_12817813 & 1 & -1 & -1 & 0.18080328 & 5.645878 & AD\\_Jansen\\_2021:chr10\\_10500888\\_12817813:1                   \\\\\n",
       "\t3 & chr10:11678309:A:G & 10 & 11678308 & 11678309 & G & A & ENSG00000148429 & 1 & 1 & 1 & ⋯ & Mic\\_mega\\_eQTL    & AD\\_Wightman\\_Full\\_2021             & 10:11678309:A:G & chr10\\_10500888\\_12817813 & 1 & -1 & -1 & 0.05051167 & 7.374065 & AD\\_Wightman\\_Full\\_2021:chr10\\_10500888\\_12817813:1            \\\\\n",
       "\t4 & chr10:11678309:A:G & 10 & 11678308 & 11678309 & G & A & ENSG00000148429 & 1 & 1 & 1 & ⋯ & Mic\\_mega\\_eQTL    & AD\\_Wightman\\_Excluding23andMe\\_2021 & 10:11678309:A:G & chr10\\_10500888\\_12817813 & 1 &  1 &  1 & 0.49184952 & 6.603571 & AD\\_Wightman\\_Excluding23andMe\\_2021:chr10\\_10500888\\_12817813:1\\\\\n",
       "\t5 & chr10:11678309:A:G & 10 & 11678308 & 11678309 & G & A & ENSG00000148429 & 1 & 1 & 1 & ⋯ & Mic\\_DeJager\\_eQTL & AD\\_Bellenguez\\_2022                & 10:11678309:A:G & chr10\\_10500888\\_12817813 & 1 & -1 & -1 &         NA &       NA & AD\\_Bellenguez\\_2022:chr10\\_10500888\\_12817813:1               \\\\\n",
       "\t6 & chr10:11678309:A:G & 10 & 11678308 & 11678309 & G & A & ENSG00000148429 & 1 & 1 & 1 & ⋯ & Mic\\_DeJager\\_eQTL & AD\\_Jansen\\_2021                    & 10:11678309:A:G & chr10\\_10500888\\_12817813 & 1 & -1 & -1 & 0.18080328 & 5.645878 & AD\\_Jansen\\_2021:chr10\\_10500888\\_12817813:1                   \\\\\n",
       "\\end{tabular}\n"
      ],
      "text/markdown": [
       "\n",
       "A data.frame: 6 × 22\n",
       "\n",
       "| <!--/--> | variant_ID &lt;chr&gt; | #chr &lt;int&gt; | start &lt;dbl&gt; | end &lt;int&gt; | a1 &lt;chr&gt; | a2 &lt;chr&gt; | gene_ID &lt;chr&gt; | cs_coverage_0.95 &lt;int&gt; | cs_coverage_0.7 &lt;int&gt; | cs_coverage_0.5 &lt;int&gt; | ⋯ ⋯ | event_ID &lt;chr&gt; | study &lt;chr&gt; | variant_id &lt;chr&gt; | region &lt;chr&gt; | cs_coverage_0.95_min_corr &lt;int&gt; | cs_coverage_0.7_min_corr &lt;int&gt; | cs_coverage_0.5_min_corr &lt;int&gt; | pip &lt;dbl&gt; | z &lt;dbl&gt; | gwas_cs &lt;chr&gt; |\n",
       "|---|---|---|---|---|---|---|---|---|---|---|---|---|---|---|---|---|---|---|---|---|---|\n",
       "| 1 | chr10:11678309:A:G | 10 | 11678308 | 11678309 | G | A | ENSG00000148429 | 1 | 1 | 1 | ⋯ | Mic_mega_eQTL    | AD_Bellenguez_2022                | 10:11678309:A:G | chr10_10500888_12817813 | 1 | -1 | -1 |         NA |       NA | AD_Bellenguez_2022:chr10_10500888_12817813:1                |\n",
       "| 2 | chr10:11678309:A:G | 10 | 11678308 | 11678309 | G | A | ENSG00000148429 | 1 | 1 | 1 | ⋯ | Mic_mega_eQTL    | AD_Jansen_2021                    | 10:11678309:A:G | chr10_10500888_12817813 | 1 | -1 | -1 | 0.18080328 | 5.645878 | AD_Jansen_2021:chr10_10500888_12817813:1                    |\n",
       "| 3 | chr10:11678309:A:G | 10 | 11678308 | 11678309 | G | A | ENSG00000148429 | 1 | 1 | 1 | ⋯ | Mic_mega_eQTL    | AD_Wightman_Full_2021             | 10:11678309:A:G | chr10_10500888_12817813 | 1 | -1 | -1 | 0.05051167 | 7.374065 | AD_Wightman_Full_2021:chr10_10500888_12817813:1             |\n",
       "| 4 | chr10:11678309:A:G | 10 | 11678308 | 11678309 | G | A | ENSG00000148429 | 1 | 1 | 1 | ⋯ | Mic_mega_eQTL    | AD_Wightman_Excluding23andMe_2021 | 10:11678309:A:G | chr10_10500888_12817813 | 1 |  1 |  1 | 0.49184952 | 6.603571 | AD_Wightman_Excluding23andMe_2021:chr10_10500888_12817813:1 |\n",
       "| 5 | chr10:11678309:A:G | 10 | 11678308 | 11678309 | G | A | ENSG00000148429 | 1 | 1 | 1 | ⋯ | Mic_DeJager_eQTL | AD_Bellenguez_2022                | 10:11678309:A:G | chr10_10500888_12817813 | 1 | -1 | -1 |         NA |       NA | AD_Bellenguez_2022:chr10_10500888_12817813:1                |\n",
       "| 6 | chr10:11678309:A:G | 10 | 11678308 | 11678309 | G | A | ENSG00000148429 | 1 | 1 | 1 | ⋯ | Mic_DeJager_eQTL | AD_Jansen_2021                    | 10:11678309:A:G | chr10_10500888_12817813 | 1 | -1 | -1 | 0.18080328 | 5.645878 | AD_Jansen_2021:chr10_10500888_12817813:1                    |\n",
       "\n"
      ],
      "text/plain": [
       "  variant_ID         #chr start    end      a1 a2 gene_ID        \n",
       "1 chr10:11678309:A:G 10   11678308 11678309 G  A  ENSG00000148429\n",
       "2 chr10:11678309:A:G 10   11678308 11678309 G  A  ENSG00000148429\n",
       "3 chr10:11678309:A:G 10   11678308 11678309 G  A  ENSG00000148429\n",
       "4 chr10:11678309:A:G 10   11678308 11678309 G  A  ENSG00000148429\n",
       "5 chr10:11678309:A:G 10   11678308 11678309 G  A  ENSG00000148429\n",
       "6 chr10:11678309:A:G 10   11678308 11678309 G  A  ENSG00000148429\n",
       "  cs_coverage_0.95 cs_coverage_0.7 cs_coverage_0.5 ⋯ event_ID        \n",
       "1 1                1               1               ⋯ Mic_mega_eQTL   \n",
       "2 1                1               1               ⋯ Mic_mega_eQTL   \n",
       "3 1                1               1               ⋯ Mic_mega_eQTL   \n",
       "4 1                1               1               ⋯ Mic_mega_eQTL   \n",
       "5 1                1               1               ⋯ Mic_DeJager_eQTL\n",
       "6 1                1               1               ⋯ Mic_DeJager_eQTL\n",
       "  study                             variant_id      region                 \n",
       "1 AD_Bellenguez_2022                10:11678309:A:G chr10_10500888_12817813\n",
       "2 AD_Jansen_2021                    10:11678309:A:G chr10_10500888_12817813\n",
       "3 AD_Wightman_Full_2021             10:11678309:A:G chr10_10500888_12817813\n",
       "4 AD_Wightman_Excluding23andMe_2021 10:11678309:A:G chr10_10500888_12817813\n",
       "5 AD_Bellenguez_2022                10:11678309:A:G chr10_10500888_12817813\n",
       "6 AD_Jansen_2021                    10:11678309:A:G chr10_10500888_12817813\n",
       "  cs_coverage_0.95_min_corr cs_coverage_0.7_min_corr cs_coverage_0.5_min_corr\n",
       "1 1                         -1                       -1                      \n",
       "2 1                         -1                       -1                      \n",
       "3 1                         -1                       -1                      \n",
       "4 1                          1                        1                      \n",
       "5 1                         -1                       -1                      \n",
       "6 1                         -1                       -1                      \n",
       "  pip        z       \n",
       "1         NA       NA\n",
       "2 0.18080328 5.645878\n",
       "3 0.05051167 7.374065\n",
       "4 0.49184952 6.603571\n",
       "5         NA       NA\n",
       "6 0.18080328 5.645878\n",
       "  gwas_cs                                                    \n",
       "1 AD_Bellenguez_2022:chr10_10500888_12817813:1               \n",
       "2 AD_Jansen_2021:chr10_10500888_12817813:1                   \n",
       "3 AD_Wightman_Full_2021:chr10_10500888_12817813:1            \n",
       "4 AD_Wightman_Excluding23andMe_2021:chr10_10500888_12817813:1\n",
       "5 AD_Bellenguez_2022:chr10_10500888_12817813:1               \n",
       "6 AD_Jansen_2021:chr10_10500888_12817813:1                   "
      ]
     },
     "metadata": {},
     "output_type": "display_data"
    },
    {
     "data": {
      "text/html": [
       "<style>\n",
       ".list-inline {list-style: none; margin:0; padding: 0}\n",
       ".list-inline>li {display: inline-block}\n",
       ".list-inline>li:not(:last-child)::after {content: \"\\00b7\"; padding: 0 .5ex}\n",
       "</style>\n",
       "<ol class=list-inline><li>'variant_ID'</li><li>'#chr'</li><li>'start'</li><li>'end'</li><li>'a1'</li><li>'a2'</li><li>'gene_ID'</li><li>'cs_coverage_0.95'</li><li>'cs_coverage_0.7'</li><li>'cs_coverage_0.5'</li><li>'PIP'</li><li>'conditional_effect'</li><li>'event_ID'</li><li>'study'</li><li>'variant_id'</li><li>'region'</li><li>'cs_coverage_0.95_min_corr'</li><li>'cs_coverage_0.7_min_corr'</li><li>'cs_coverage_0.5_min_corr'</li><li>'pip'</li><li>'z'</li><li>'gwas_cs'</li></ol>\n"
      ],
      "text/latex": [
       "\\begin{enumerate*}\n",
       "\\item 'variant\\_ID'\n",
       "\\item '\\#chr'\n",
       "\\item 'start'\n",
       "\\item 'end'\n",
       "\\item 'a1'\n",
       "\\item 'a2'\n",
       "\\item 'gene\\_ID'\n",
       "\\item 'cs\\_coverage\\_0.95'\n",
       "\\item 'cs\\_coverage\\_0.7'\n",
       "\\item 'cs\\_coverage\\_0.5'\n",
       "\\item 'PIP'\n",
       "\\item 'conditional\\_effect'\n",
       "\\item 'event\\_ID'\n",
       "\\item 'study'\n",
       "\\item 'variant\\_id'\n",
       "\\item 'region'\n",
       "\\item 'cs\\_coverage\\_0.95\\_min\\_corr'\n",
       "\\item 'cs\\_coverage\\_0.7\\_min\\_corr'\n",
       "\\item 'cs\\_coverage\\_0.5\\_min\\_corr'\n",
       "\\item 'pip'\n",
       "\\item 'z'\n",
       "\\item 'gwas\\_cs'\n",
       "\\end{enumerate*}\n"
      ],
      "text/markdown": [
       "1. 'variant_ID'\n",
       "2. '#chr'\n",
       "3. 'start'\n",
       "4. 'end'\n",
       "5. 'a1'\n",
       "6. 'a2'\n",
       "7. 'gene_ID'\n",
       "8. 'cs_coverage_0.95'\n",
       "9. 'cs_coverage_0.7'\n",
       "10. 'cs_coverage_0.5'\n",
       "11. 'PIP'\n",
       "12. 'conditional_effect'\n",
       "13. 'event_ID'\n",
       "14. 'study'\n",
       "15. 'variant_id'\n",
       "16. 'region'\n",
       "17. 'cs_coverage_0.95_min_corr'\n",
       "18. 'cs_coverage_0.7_min_corr'\n",
       "19. 'cs_coverage_0.5_min_corr'\n",
       "20. 'pip'\n",
       "21. 'z'\n",
       "22. 'gwas_cs'\n",
       "\n",
       "\n"
      ],
      "text/plain": [
       " [1] \"variant_ID\"                \"#chr\"                     \n",
       " [3] \"start\"                     \"end\"                      \n",
       " [5] \"a1\"                        \"a2\"                       \n",
       " [7] \"gene_ID\"                   \"cs_coverage_0.95\"         \n",
       " [9] \"cs_coverage_0.7\"           \"cs_coverage_0.5\"          \n",
       "[11] \"PIP\"                       \"conditional_effect\"       \n",
       "[13] \"event_ID\"                  \"study\"                    \n",
       "[15] \"variant_id\"                \"region\"                   \n",
       "[17] \"cs_coverage_0.95_min_corr\" \"cs_coverage_0.7_min_corr\" \n",
       "[19] \"cs_coverage_0.5_min_corr\"  \"pip\"                      \n",
       "[21] \"z\"                         \"gwas_cs\"                  "
      ]
     },
     "metadata": {},
     "output_type": "display_data"
    }
   ],
   "source": [
    "head(single_context_AD_GWAS_meta_df)\n",
    "colnames(single_context_AD_GWAS_meta_df)"
   ]
  },
  {
   "cell_type": "markdown",
   "id": "f40c1e5a-8447-4d61-8e6a-906563f8b62a",
   "metadata": {},
   "source": [
    "## summarize multi context results"
   ]
  },
  {
   "cell_type": "code",
   "execution_count": 101,
   "id": "15f99ecf-2d1f-43b7-91a0-15dfdc93d5f7",
   "metadata": {},
   "outputs": [],
   "source": [
    "library(data.table)\n",
    "ROSMAP_multicontext_top_loci <- fread(\"/data/analysis_result/multi_context/ROSMAP/export/summary/ROSMAP.exported.toploci.bed.gz\")\n",
    "MSBB_multicontext_top_loci <- fread(\"/data/analysis_result/multi_context/MSBB/export/summary/MSBB.exported.toploci.bed.gz\")\n",
    "multicontext_top_loci <- rbind(ROSMAP_multicontext_top_loci, MSBB_multicontext_top_loci)\n",
    "#gwas <- fread('/data/interactive_analysis/rl3328/image_QTL/AD_GWAS_finemapping/export/output/extracted_info/109_blocks_top_loci.csv.gz') ## From Ruixi on Mar19, 2025\n",
    "gwas <- fread('/data/interactive_analysis/adpelle1/export/AD_GWAS_finemapping_109_blocks_top_loci_unified_any0.8ANDmin0.5.csv.gz')\n",
    "coverage <- \"cs_coverage_0.95_min_corr\"\n",
    "gwas_95 <- gwas %>%\n",
    "  mutate(!!coverage := abs(.data[[coverage]])) %>%\n",
    "  filter(.data[[coverage]] > 0)\n",
    "AD_gwas_df = gwas_95 %>%mutate(gwas_cs = paste(study,region,.data[[coverage]],sep=\":\"))%>% mutate(variant_ID = paste0('chr', variant_id))\n",
    "AD_gwas_df <- AD_gwas_df%>% filter(!(gwas_cs == \"AD_Bellenguez_2022:chr15_47690138_49901356:1\" & pip==0.998973148941477))\n",
    "coverage <- \"cs_coverage_0.95\"\n",
    "multi_context_AD_GWAS_meta_df <- merge(multicontext_top_loci%>%filter(.data[[coverage]]>0), AD_gwas_df,  by = 'variant_ID', suffixes = c('QTL', 'GWAS'))"
   ]
  },
  {
   "cell_type": "code",
   "execution_count": 102,
   "id": "e8500098-d134-42a6-a950-3b10e5767131",
   "metadata": {},
   "outputs": [
    {
     "data": {
      "text/html": [
       "<table class=\"dataframe\">\n",
       "<caption>A data.table: 6 × 23</caption>\n",
       "<thead>\n",
       "\t<tr><th scope=col>variant_ID</th><th scope=col>#chr</th><th scope=col>start</th><th scope=col>end</th><th scope=col>a1</th><th scope=col>a2</th><th scope=col>gene_ID</th><th scope=col>event_ID</th><th scope=col>cs_coverage_0.95</th><th scope=col>cs_coverage_0.7</th><th scope=col>⋯</th><th scope=col>lfsr</th><th scope=col>study</th><th scope=col>variant_id</th><th scope=col>region</th><th scope=col>cs_coverage_0.95_min_corr</th><th scope=col>cs_coverage_0.7_min_corr</th><th scope=col>cs_coverage_0.5_min_corr</th><th scope=col>pip</th><th scope=col>z</th><th scope=col>gwas_cs</th></tr>\n",
       "\t<tr><th scope=col>&lt;chr&gt;</th><th scope=col>&lt;int&gt;</th><th scope=col>&lt;dbl&gt;</th><th scope=col>&lt;int&gt;</th><th scope=col>&lt;chr&gt;</th><th scope=col>&lt;chr&gt;</th><th scope=col>&lt;chr&gt;</th><th scope=col>&lt;chr&gt;</th><th scope=col>&lt;int&gt;</th><th scope=col>&lt;int&gt;</th><th scope=col>⋯</th><th scope=col>&lt;chr&gt;</th><th scope=col>&lt;chr&gt;</th><th scope=col>&lt;chr&gt;</th><th scope=col>&lt;chr&gt;</th><th scope=col>&lt;int&gt;</th><th scope=col>&lt;int&gt;</th><th scope=col>&lt;int&gt;</th><th scope=col>&lt;dbl&gt;</th><th scope=col>&lt;dbl&gt;</th><th scope=col>&lt;chr&gt;</th></tr>\n",
       "</thead>\n",
       "<tbody>\n",
       "\t<tr><td>chr10:11678309:A:G</td><td>10</td><td>11678308</td><td>11678309</td><td>G</td><td>A</td><td>ENSG00000148429</td><td>AC_DeJager_eQTL;Inh_DeJager_eQTL;Mic_DeJager_eQTL</td><td>1</td><td>1</td><td>⋯</td><td>5.39940054691537e-10;5.77822064232386e-06;1.31041603191121e-34</td><td>AD_Bellenguez_2022               </td><td>10:11678309:A:G</td><td>chr10_10500888_12817813</td><td>1</td><td>-1</td><td>-1</td><td>        NA</td><td>      NA</td><td>AD_Bellenguez_2022:chr10_10500888_12817813:1               </td></tr>\n",
       "\t<tr><td>chr10:11678309:A:G</td><td>10</td><td>11678308</td><td>11678309</td><td>G</td><td>A</td><td>ENSG00000148429</td><td>AC_DeJager_eQTL;Inh_DeJager_eQTL;Mic_DeJager_eQTL</td><td>1</td><td>1</td><td>⋯</td><td>5.39940054691537e-10;5.77822064232386e-06;1.31041603191121e-34</td><td>AD_Jansen_2021                   </td><td>10:11678309:A:G</td><td>chr10_10500888_12817813</td><td>1</td><td>-1</td><td>-1</td><td>0.18080328</td><td>5.645878</td><td>AD_Jansen_2021:chr10_10500888_12817813:1                   </td></tr>\n",
       "\t<tr><td>chr10:11678309:A:G</td><td>10</td><td>11678308</td><td>11678309</td><td>G</td><td>A</td><td>ENSG00000148429</td><td>AC_DeJager_eQTL;Inh_DeJager_eQTL;Mic_DeJager_eQTL</td><td>1</td><td>1</td><td>⋯</td><td>5.39940054691537e-10;5.77822064232386e-06;1.31041603191121e-34</td><td>AD_Wightman_Excluding23andMe_2021</td><td>10:11678309:A:G</td><td>chr10_10500888_12817813</td><td>1</td><td> 1</td><td> 1</td><td>0.49184952</td><td>6.603571</td><td>AD_Wightman_Excluding23andMe_2021:chr10_10500888_12817813:1</td></tr>\n",
       "\t<tr><td>chr10:11678309:A:G</td><td>10</td><td>11678308</td><td>11678309</td><td>G</td><td>A</td><td>ENSG00000148429</td><td>AC_DeJager_eQTL;Inh_DeJager_eQTL;Mic_DeJager_eQTL</td><td>1</td><td>1</td><td>⋯</td><td>5.39940054691537e-10;5.77822064232386e-06;1.31041603191121e-34</td><td>AD_Wightman_Full_2021            </td><td>10:11678309:A:G</td><td>chr10_10500888_12817813</td><td>1</td><td>-1</td><td>-1</td><td>0.05051167</td><td>7.374065</td><td>AD_Wightman_Full_2021:chr10_10500888_12817813:1            </td></tr>\n",
       "\t<tr><td>chr10:11678621:C:T</td><td>10</td><td>11678620</td><td>11678621</td><td>T</td><td>C</td><td>ENSG00000148429</td><td>AC_DeJager_eQTL;Inh_DeJager_eQTL;Mic_DeJager_eQTL</td><td>1</td><td>0</td><td>⋯</td><td>5.39940054691537e-10;5.77822064232386e-06;1.31041603191121e-34</td><td>AD_Bellenguez_2022               </td><td>10:11678621:C:T</td><td>chr10_10500888_12817813</td><td>1</td><td>-1</td><td>-1</td><td>        NA</td><td>      NA</td><td>AD_Bellenguez_2022:chr10_10500888_12817813:1               </td></tr>\n",
       "\t<tr><td>chr10:11678621:C:T</td><td>10</td><td>11678620</td><td>11678621</td><td>T</td><td>C</td><td>ENSG00000148429</td><td>AC_DeJager_eQTL;Inh_DeJager_eQTL;Mic_DeJager_eQTL</td><td>1</td><td>0</td><td>⋯</td><td>5.39940054691537e-10;5.77822064232386e-06;1.31041603191121e-34</td><td>AD_Jansen_2021                   </td><td>10:11678621:C:T</td><td>chr10_10500888_12817813</td><td>1</td><td>-1</td><td>-1</td><td>0.04382463</td><td>5.378474</td><td>AD_Jansen_2021:chr10_10500888_12817813:1                   </td></tr>\n",
       "</tbody>\n",
       "</table>\n"
      ],
      "text/latex": [
       "A data.table: 6 × 23\n",
       "\\begin{tabular}{lllllllllllllllllllll}\n",
       " variant\\_ID & \\#chr & start & end & a1 & a2 & gene\\_ID & event\\_ID & cs\\_coverage\\_0.95 & cs\\_coverage\\_0.7 & ⋯ & lfsr & study & variant\\_id & region & cs\\_coverage\\_0.95\\_min\\_corr & cs\\_coverage\\_0.7\\_min\\_corr & cs\\_coverage\\_0.5\\_min\\_corr & pip & z & gwas\\_cs\\\\\n",
       " <chr> & <int> & <dbl> & <int> & <chr> & <chr> & <chr> & <chr> & <int> & <int> & ⋯ & <chr> & <chr> & <chr> & <chr> & <int> & <int> & <int> & <dbl> & <dbl> & <chr>\\\\\n",
       "\\hline\n",
       "\t chr10:11678309:A:G & 10 & 11678308 & 11678309 & G & A & ENSG00000148429 & AC\\_DeJager\\_eQTL;Inh\\_DeJager\\_eQTL;Mic\\_DeJager\\_eQTL & 1 & 1 & ⋯ & 5.39940054691537e-10;5.77822064232386e-06;1.31041603191121e-34 & AD\\_Bellenguez\\_2022                & 10:11678309:A:G & chr10\\_10500888\\_12817813 & 1 & -1 & -1 &         NA &       NA & AD\\_Bellenguez\\_2022:chr10\\_10500888\\_12817813:1               \\\\\n",
       "\t chr10:11678309:A:G & 10 & 11678308 & 11678309 & G & A & ENSG00000148429 & AC\\_DeJager\\_eQTL;Inh\\_DeJager\\_eQTL;Mic\\_DeJager\\_eQTL & 1 & 1 & ⋯ & 5.39940054691537e-10;5.77822064232386e-06;1.31041603191121e-34 & AD\\_Jansen\\_2021                    & 10:11678309:A:G & chr10\\_10500888\\_12817813 & 1 & -1 & -1 & 0.18080328 & 5.645878 & AD\\_Jansen\\_2021:chr10\\_10500888\\_12817813:1                   \\\\\n",
       "\t chr10:11678309:A:G & 10 & 11678308 & 11678309 & G & A & ENSG00000148429 & AC\\_DeJager\\_eQTL;Inh\\_DeJager\\_eQTL;Mic\\_DeJager\\_eQTL & 1 & 1 & ⋯ & 5.39940054691537e-10;5.77822064232386e-06;1.31041603191121e-34 & AD\\_Wightman\\_Excluding23andMe\\_2021 & 10:11678309:A:G & chr10\\_10500888\\_12817813 & 1 &  1 &  1 & 0.49184952 & 6.603571 & AD\\_Wightman\\_Excluding23andMe\\_2021:chr10\\_10500888\\_12817813:1\\\\\n",
       "\t chr10:11678309:A:G & 10 & 11678308 & 11678309 & G & A & ENSG00000148429 & AC\\_DeJager\\_eQTL;Inh\\_DeJager\\_eQTL;Mic\\_DeJager\\_eQTL & 1 & 1 & ⋯ & 5.39940054691537e-10;5.77822064232386e-06;1.31041603191121e-34 & AD\\_Wightman\\_Full\\_2021             & 10:11678309:A:G & chr10\\_10500888\\_12817813 & 1 & -1 & -1 & 0.05051167 & 7.374065 & AD\\_Wightman\\_Full\\_2021:chr10\\_10500888\\_12817813:1            \\\\\n",
       "\t chr10:11678621:C:T & 10 & 11678620 & 11678621 & T & C & ENSG00000148429 & AC\\_DeJager\\_eQTL;Inh\\_DeJager\\_eQTL;Mic\\_DeJager\\_eQTL & 1 & 0 & ⋯ & 5.39940054691537e-10;5.77822064232386e-06;1.31041603191121e-34 & AD\\_Bellenguez\\_2022                & 10:11678621:C:T & chr10\\_10500888\\_12817813 & 1 & -1 & -1 &         NA &       NA & AD\\_Bellenguez\\_2022:chr10\\_10500888\\_12817813:1               \\\\\n",
       "\t chr10:11678621:C:T & 10 & 11678620 & 11678621 & T & C & ENSG00000148429 & AC\\_DeJager\\_eQTL;Inh\\_DeJager\\_eQTL;Mic\\_DeJager\\_eQTL & 1 & 0 & ⋯ & 5.39940054691537e-10;5.77822064232386e-06;1.31041603191121e-34 & AD\\_Jansen\\_2021                    & 10:11678621:C:T & chr10\\_10500888\\_12817813 & 1 & -1 & -1 & 0.04382463 & 5.378474 & AD\\_Jansen\\_2021:chr10\\_10500888\\_12817813:1                   \\\\\n",
       "\\end{tabular}\n"
      ],
      "text/markdown": [
       "\n",
       "A data.table: 6 × 23\n",
       "\n",
       "| variant_ID &lt;chr&gt; | #chr &lt;int&gt; | start &lt;dbl&gt; | end &lt;int&gt; | a1 &lt;chr&gt; | a2 &lt;chr&gt; | gene_ID &lt;chr&gt; | event_ID &lt;chr&gt; | cs_coverage_0.95 &lt;int&gt; | cs_coverage_0.7 &lt;int&gt; | ⋯ ⋯ | lfsr &lt;chr&gt; | study &lt;chr&gt; | variant_id &lt;chr&gt; | region &lt;chr&gt; | cs_coverage_0.95_min_corr &lt;int&gt; | cs_coverage_0.7_min_corr &lt;int&gt; | cs_coverage_0.5_min_corr &lt;int&gt; | pip &lt;dbl&gt; | z &lt;dbl&gt; | gwas_cs &lt;chr&gt; |\n",
       "|---|---|---|---|---|---|---|---|---|---|---|---|---|---|---|---|---|---|---|---|---|\n",
       "| chr10:11678309:A:G | 10 | 11678308 | 11678309 | G | A | ENSG00000148429 | AC_DeJager_eQTL;Inh_DeJager_eQTL;Mic_DeJager_eQTL | 1 | 1 | ⋯ | 5.39940054691537e-10;5.77822064232386e-06;1.31041603191121e-34 | AD_Bellenguez_2022                | 10:11678309:A:G | chr10_10500888_12817813 | 1 | -1 | -1 |         NA |       NA | AD_Bellenguez_2022:chr10_10500888_12817813:1                |\n",
       "| chr10:11678309:A:G | 10 | 11678308 | 11678309 | G | A | ENSG00000148429 | AC_DeJager_eQTL;Inh_DeJager_eQTL;Mic_DeJager_eQTL | 1 | 1 | ⋯ | 5.39940054691537e-10;5.77822064232386e-06;1.31041603191121e-34 | AD_Jansen_2021                    | 10:11678309:A:G | chr10_10500888_12817813 | 1 | -1 | -1 | 0.18080328 | 5.645878 | AD_Jansen_2021:chr10_10500888_12817813:1                    |\n",
       "| chr10:11678309:A:G | 10 | 11678308 | 11678309 | G | A | ENSG00000148429 | AC_DeJager_eQTL;Inh_DeJager_eQTL;Mic_DeJager_eQTL | 1 | 1 | ⋯ | 5.39940054691537e-10;5.77822064232386e-06;1.31041603191121e-34 | AD_Wightman_Excluding23andMe_2021 | 10:11678309:A:G | chr10_10500888_12817813 | 1 |  1 |  1 | 0.49184952 | 6.603571 | AD_Wightman_Excluding23andMe_2021:chr10_10500888_12817813:1 |\n",
       "| chr10:11678309:A:G | 10 | 11678308 | 11678309 | G | A | ENSG00000148429 | AC_DeJager_eQTL;Inh_DeJager_eQTL;Mic_DeJager_eQTL | 1 | 1 | ⋯ | 5.39940054691537e-10;5.77822064232386e-06;1.31041603191121e-34 | AD_Wightman_Full_2021             | 10:11678309:A:G | chr10_10500888_12817813 | 1 | -1 | -1 | 0.05051167 | 7.374065 | AD_Wightman_Full_2021:chr10_10500888_12817813:1             |\n",
       "| chr10:11678621:C:T | 10 | 11678620 | 11678621 | T | C | ENSG00000148429 | AC_DeJager_eQTL;Inh_DeJager_eQTL;Mic_DeJager_eQTL | 1 | 0 | ⋯ | 5.39940054691537e-10;5.77822064232386e-06;1.31041603191121e-34 | AD_Bellenguez_2022                | 10:11678621:C:T | chr10_10500888_12817813 | 1 | -1 | -1 |         NA |       NA | AD_Bellenguez_2022:chr10_10500888_12817813:1                |\n",
       "| chr10:11678621:C:T | 10 | 11678620 | 11678621 | T | C | ENSG00000148429 | AC_DeJager_eQTL;Inh_DeJager_eQTL;Mic_DeJager_eQTL | 1 | 0 | ⋯ | 5.39940054691537e-10;5.77822064232386e-06;1.31041603191121e-34 | AD_Jansen_2021                    | 10:11678621:C:T | chr10_10500888_12817813 | 1 | -1 | -1 | 0.04382463 | 5.378474 | AD_Jansen_2021:chr10_10500888_12817813:1                    |\n",
       "\n"
      ],
      "text/plain": [
       "  variant_ID         #chr start    end      a1 a2 gene_ID        \n",
       "1 chr10:11678309:A:G 10   11678308 11678309 G  A  ENSG00000148429\n",
       "2 chr10:11678309:A:G 10   11678308 11678309 G  A  ENSG00000148429\n",
       "3 chr10:11678309:A:G 10   11678308 11678309 G  A  ENSG00000148429\n",
       "4 chr10:11678309:A:G 10   11678308 11678309 G  A  ENSG00000148429\n",
       "5 chr10:11678621:C:T 10   11678620 11678621 T  C  ENSG00000148429\n",
       "6 chr10:11678621:C:T 10   11678620 11678621 T  C  ENSG00000148429\n",
       "  event_ID                                          cs_coverage_0.95\n",
       "1 AC_DeJager_eQTL;Inh_DeJager_eQTL;Mic_DeJager_eQTL 1               \n",
       "2 AC_DeJager_eQTL;Inh_DeJager_eQTL;Mic_DeJager_eQTL 1               \n",
       "3 AC_DeJager_eQTL;Inh_DeJager_eQTL;Mic_DeJager_eQTL 1               \n",
       "4 AC_DeJager_eQTL;Inh_DeJager_eQTL;Mic_DeJager_eQTL 1               \n",
       "5 AC_DeJager_eQTL;Inh_DeJager_eQTL;Mic_DeJager_eQTL 1               \n",
       "6 AC_DeJager_eQTL;Inh_DeJager_eQTL;Mic_DeJager_eQTL 1               \n",
       "  cs_coverage_0.7 ⋯\n",
       "1 1               ⋯\n",
       "2 1               ⋯\n",
       "3 1               ⋯\n",
       "4 1               ⋯\n",
       "5 0               ⋯\n",
       "6 0               ⋯\n",
       "  lfsr                                                          \n",
       "1 5.39940054691537e-10;5.77822064232386e-06;1.31041603191121e-34\n",
       "2 5.39940054691537e-10;5.77822064232386e-06;1.31041603191121e-34\n",
       "3 5.39940054691537e-10;5.77822064232386e-06;1.31041603191121e-34\n",
       "4 5.39940054691537e-10;5.77822064232386e-06;1.31041603191121e-34\n",
       "5 5.39940054691537e-10;5.77822064232386e-06;1.31041603191121e-34\n",
       "6 5.39940054691537e-10;5.77822064232386e-06;1.31041603191121e-34\n",
       "  study                             variant_id      region                 \n",
       "1 AD_Bellenguez_2022                10:11678309:A:G chr10_10500888_12817813\n",
       "2 AD_Jansen_2021                    10:11678309:A:G chr10_10500888_12817813\n",
       "3 AD_Wightman_Excluding23andMe_2021 10:11678309:A:G chr10_10500888_12817813\n",
       "4 AD_Wightman_Full_2021             10:11678309:A:G chr10_10500888_12817813\n",
       "5 AD_Bellenguez_2022                10:11678621:C:T chr10_10500888_12817813\n",
       "6 AD_Jansen_2021                    10:11678621:C:T chr10_10500888_12817813\n",
       "  cs_coverage_0.95_min_corr cs_coverage_0.7_min_corr cs_coverage_0.5_min_corr\n",
       "1 1                         -1                       -1                      \n",
       "2 1                         -1                       -1                      \n",
       "3 1                          1                        1                      \n",
       "4 1                         -1                       -1                      \n",
       "5 1                         -1                       -1                      \n",
       "6 1                         -1                       -1                      \n",
       "  pip        z       \n",
       "1         NA       NA\n",
       "2 0.18080328 5.645878\n",
       "3 0.49184952 6.603571\n",
       "4 0.05051167 7.374065\n",
       "5         NA       NA\n",
       "6 0.04382463 5.378474\n",
       "  gwas_cs                                                    \n",
       "1 AD_Bellenguez_2022:chr10_10500888_12817813:1               \n",
       "2 AD_Jansen_2021:chr10_10500888_12817813:1                   \n",
       "3 AD_Wightman_Excluding23andMe_2021:chr10_10500888_12817813:1\n",
       "4 AD_Wightman_Full_2021:chr10_10500888_12817813:1            \n",
       "5 AD_Bellenguez_2022:chr10_10500888_12817813:1               \n",
       "6 AD_Jansen_2021:chr10_10500888_12817813:1                   "
      ]
     },
     "metadata": {},
     "output_type": "display_data"
    }
   ],
   "source": [
    "head(multi_context_AD_GWAS_meta_df)"
   ]
  },
  {
   "cell_type": "code",
   "execution_count": 103,
   "id": "b78ded36-4730-48da-8b06-be512334e1f2",
   "metadata": {},
   "outputs": [
    {
     "data": {
      "text/html": [
       "<style>\n",
       ".list-inline {list-style: none; margin:0; padding: 0}\n",
       ".list-inline>li {display: inline-block}\n",
       ".list-inline>li:not(:last-child)::after {content: \"\\00b7\"; padding: 0 .5ex}\n",
       "</style>\n",
       "<ol class=list-inline><li>'variant_ID'</li><li>'#chr'</li><li>'start'</li><li>'end'</li><li>'a1'</li><li>'a2'</li><li>'gene_ID'</li><li>'event_ID'</li><li>'cs_coverage_0.95'</li><li>'cs_coverage_0.7'</li><li>'cs_coverage_0.5'</li><li>'PIP'</li><li>'conditional_effect'</li><li>'lfsr'</li><li>'study'</li><li>'variant_id'</li><li>'region'</li><li>'cs_coverage_0.95_min_corr'</li><li>'cs_coverage_0.7_min_corr'</li><li>'cs_coverage_0.5_min_corr'</li><li>'pip'</li><li>'z'</li><li>'gwas_cs'</li></ol>\n"
      ],
      "text/latex": [
       "\\begin{enumerate*}\n",
       "\\item 'variant\\_ID'\n",
       "\\item '\\#chr'\n",
       "\\item 'start'\n",
       "\\item 'end'\n",
       "\\item 'a1'\n",
       "\\item 'a2'\n",
       "\\item 'gene\\_ID'\n",
       "\\item 'event\\_ID'\n",
       "\\item 'cs\\_coverage\\_0.95'\n",
       "\\item 'cs\\_coverage\\_0.7'\n",
       "\\item 'cs\\_coverage\\_0.5'\n",
       "\\item 'PIP'\n",
       "\\item 'conditional\\_effect'\n",
       "\\item 'lfsr'\n",
       "\\item 'study'\n",
       "\\item 'variant\\_id'\n",
       "\\item 'region'\n",
       "\\item 'cs\\_coverage\\_0.95\\_min\\_corr'\n",
       "\\item 'cs\\_coverage\\_0.7\\_min\\_corr'\n",
       "\\item 'cs\\_coverage\\_0.5\\_min\\_corr'\n",
       "\\item 'pip'\n",
       "\\item 'z'\n",
       "\\item 'gwas\\_cs'\n",
       "\\end{enumerate*}\n"
      ],
      "text/markdown": [
       "1. 'variant_ID'\n",
       "2. '#chr'\n",
       "3. 'start'\n",
       "4. 'end'\n",
       "5. 'a1'\n",
       "6. 'a2'\n",
       "7. 'gene_ID'\n",
       "8. 'event_ID'\n",
       "9. 'cs_coverage_0.95'\n",
       "10. 'cs_coverage_0.7'\n",
       "11. 'cs_coverage_0.5'\n",
       "12. 'PIP'\n",
       "13. 'conditional_effect'\n",
       "14. 'lfsr'\n",
       "15. 'study'\n",
       "16. 'variant_id'\n",
       "17. 'region'\n",
       "18. 'cs_coverage_0.95_min_corr'\n",
       "19. 'cs_coverage_0.7_min_corr'\n",
       "20. 'cs_coverage_0.5_min_corr'\n",
       "21. 'pip'\n",
       "22. 'z'\n",
       "23. 'gwas_cs'\n",
       "\n",
       "\n"
      ],
      "text/plain": [
       " [1] \"variant_ID\"                \"#chr\"                     \n",
       " [3] \"start\"                     \"end\"                      \n",
       " [5] \"a1\"                        \"a2\"                       \n",
       " [7] \"gene_ID\"                   \"event_ID\"                 \n",
       " [9] \"cs_coverage_0.95\"          \"cs_coverage_0.7\"          \n",
       "[11] \"cs_coverage_0.5\"           \"PIP\"                      \n",
       "[13] \"conditional_effect\"        \"lfsr\"                     \n",
       "[15] \"study\"                     \"variant_id\"               \n",
       "[17] \"region\"                    \"cs_coverage_0.95_min_corr\"\n",
       "[19] \"cs_coverage_0.7_min_corr\"  \"cs_coverage_0.5_min_corr\" \n",
       "[21] \"pip\"                       \"z\"                        \n",
       "[23] \"gwas_cs\"                  "
      ]
     },
     "metadata": {},
     "output_type": "display_data"
    }
   ],
   "source": [
    "colnames(multi_context_AD_GWAS_meta_df)"
   ]
  },
  {
   "cell_type": "markdown",
   "id": "bbb85f4b-7353-4c09-9700-ba36df9c6211",
   "metadata": {},
   "source": [
    "## summarize metabrian results"
   ]
  },
  {
   "cell_type": "code",
   "execution_count": 104,
   "id": "f0b2f9ab-75be-48ec-b37a-820b21752201",
   "metadata": {},
   "outputs": [],
   "source": [
    "library(data.table)\n",
    "library(dplyr)\n",
    "library(stringr)\n",
    "metabrain_sing_df <- fread('/data/analysis_result/single_context/MetaBrain/export/summary/MetaBrain.exported.toploci.bed.gz')\n",
    "metabrain_sing_df <- metabrain_sing_df %>%\n",
    "  mutate(\n",
    "    resource = str_extract(event_ID, \"^[^_]+_[^_]+\"),  # Remove last part (gene name) to get context\n",
    "    gene_name = str_extract(event_ID, \"[^_]+$\")  # Extract last part (gene name)\n",
    "  )%>%select(-gene_name)\n",
    "#gwas <- fread('/data/interactive_analysis/rl3328/image_QTL/AD_GWAS_finemapping/export/output/extracted_info/109_blocks_top_loci.csv.gz') ## From Ruixi on Mar19, 2025\n",
    "gwas <- fread('/data/interactive_analysis/adpelle1/export/AD_GWAS_finemapping_109_blocks_top_loci_unified_any0.8ANDmin0.5.csv.gz')\n",
    "coverage <- \"cs_coverage_0.95_min_corr\"\n",
    "gwas_95 <- gwas %>%\n",
    "  mutate(!!coverage := abs(.data[[coverage]])) %>%\n",
    "  filter(.data[[coverage]] > 0)\n",
    "AD_gwas_df = gwas_95 %>%mutate(gwas_cs = paste(study,region,.data[[coverage]],sep=\":\"))%>% mutate(variant_ID = paste0('chr', variant_id))\n",
    "AD_gwas_df <- AD_gwas_df%>% filter(!(gwas_cs == \"AD_Bellenguez_2022:chr15_47690138_49901356:1\" & pip==0.998973148941477))\n",
    "coverage <- \"cs_coverage_0.95\"\n",
    "metabrain_AD_GWAS_meta_df <- merge(metabrain_sing_df%>%\n",
    "                                    filter(.data[[coverage]]>0), AD_gwas_df,  by = 'variant_ID', suffixes = c('QTL', 'GWAS'))"
   ]
  },
  {
   "cell_type": "code",
   "execution_count": 105,
   "id": "98a2ff8d-37a6-4607-bf59-793957928f61",
   "metadata": {},
   "outputs": [
    {
     "data": {
      "text/html": [
       "<style>\n",
       ".list-inline {list-style: none; margin:0; padding: 0}\n",
       ".list-inline>li {display: inline-block}\n",
       ".list-inline>li:not(:last-child)::after {content: \"\\00b7\"; padding: 0 .5ex}\n",
       "</style>\n",
       "<ol class=list-inline><li>'variant_ID'</li><li>'#chr'</li><li>'start'</li><li>'end'</li><li>'a1'</li><li>'a2'</li><li>'gene_ID'</li><li>'event_ID'</li><li>'cs_coverage_0.95'</li><li>'cs_coverage_0.7'</li><li>'cs_coverage_0.5'</li><li>'PIP'</li><li>'conditional_effect'</li><li>'resource'</li><li>'study'</li><li>'variant_id'</li><li>'region'</li><li>'cs_coverage_0.95_min_corr'</li><li>'cs_coverage_0.7_min_corr'</li><li>'cs_coverage_0.5_min_corr'</li><li>'pip'</li><li>'z'</li><li>'gwas_cs'</li></ol>\n"
      ],
      "text/latex": [
       "\\begin{enumerate*}\n",
       "\\item 'variant\\_ID'\n",
       "\\item '\\#chr'\n",
       "\\item 'start'\n",
       "\\item 'end'\n",
       "\\item 'a1'\n",
       "\\item 'a2'\n",
       "\\item 'gene\\_ID'\n",
       "\\item 'event\\_ID'\n",
       "\\item 'cs\\_coverage\\_0.95'\n",
       "\\item 'cs\\_coverage\\_0.7'\n",
       "\\item 'cs\\_coverage\\_0.5'\n",
       "\\item 'PIP'\n",
       "\\item 'conditional\\_effect'\n",
       "\\item 'resource'\n",
       "\\item 'study'\n",
       "\\item 'variant\\_id'\n",
       "\\item 'region'\n",
       "\\item 'cs\\_coverage\\_0.95\\_min\\_corr'\n",
       "\\item 'cs\\_coverage\\_0.7\\_min\\_corr'\n",
       "\\item 'cs\\_coverage\\_0.5\\_min\\_corr'\n",
       "\\item 'pip'\n",
       "\\item 'z'\n",
       "\\item 'gwas\\_cs'\n",
       "\\end{enumerate*}\n"
      ],
      "text/markdown": [
       "1. 'variant_ID'\n",
       "2. '#chr'\n",
       "3. 'start'\n",
       "4. 'end'\n",
       "5. 'a1'\n",
       "6. 'a2'\n",
       "7. 'gene_ID'\n",
       "8. 'event_ID'\n",
       "9. 'cs_coverage_0.95'\n",
       "10. 'cs_coverage_0.7'\n",
       "11. 'cs_coverage_0.5'\n",
       "12. 'PIP'\n",
       "13. 'conditional_effect'\n",
       "14. 'resource'\n",
       "15. 'study'\n",
       "16. 'variant_id'\n",
       "17. 'region'\n",
       "18. 'cs_coverage_0.95_min_corr'\n",
       "19. 'cs_coverage_0.7_min_corr'\n",
       "20. 'cs_coverage_0.5_min_corr'\n",
       "21. 'pip'\n",
       "22. 'z'\n",
       "23. 'gwas_cs'\n",
       "\n",
       "\n"
      ],
      "text/plain": [
       " [1] \"variant_ID\"                \"#chr\"                     \n",
       " [3] \"start\"                     \"end\"                      \n",
       " [5] \"a1\"                        \"a2\"                       \n",
       " [7] \"gene_ID\"                   \"event_ID\"                 \n",
       " [9] \"cs_coverage_0.95\"          \"cs_coverage_0.7\"          \n",
       "[11] \"cs_coverage_0.5\"           \"PIP\"                      \n",
       "[13] \"conditional_effect\"        \"resource\"                 \n",
       "[15] \"study\"                     \"variant_id\"               \n",
       "[17] \"region\"                    \"cs_coverage_0.95_min_corr\"\n",
       "[19] \"cs_coverage_0.7_min_corr\"  \"cs_coverage_0.5_min_corr\" \n",
       "[21] \"pip\"                       \"z\"                        \n",
       "[23] \"gwas_cs\"                  "
      ]
     },
     "metadata": {},
     "output_type": "display_data"
    }
   ],
   "source": [
    "colnames(metabrain_AD_GWAS_meta_df)"
   ]
  },
  {
   "cell_type": "code",
   "execution_count": 106,
   "id": "0f964f2c-41e1-4328-a5ee-054b959ba1be",
   "metadata": {},
   "outputs": [
    {
     "data": {
      "text/html": [
       "<style>\n",
       ".list-inline {list-style: none; margin:0; padding: 0}\n",
       ".list-inline>li {display: inline-block}\n",
       ".list-inline>li:not(:last-child)::after {content: \"\\00b7\"; padding: 0 .5ex}\n",
       "</style>\n",
       "<ol class=list-inline><li>'Metabrain_Cortex'</li><li>'Metabrain_Cerebellum'</li><li>'Metabrain_Basalganglia'</li><li>'Metabrain_Hippocampus'</li><li>'Metabrain_Spinalcord'</li></ol>\n"
      ],
      "text/latex": [
       "\\begin{enumerate*}\n",
       "\\item 'Metabrain\\_Cortex'\n",
       "\\item 'Metabrain\\_Cerebellum'\n",
       "\\item 'Metabrain\\_Basalganglia'\n",
       "\\item 'Metabrain\\_Hippocampus'\n",
       "\\item 'Metabrain\\_Spinalcord'\n",
       "\\end{enumerate*}\n"
      ],
      "text/markdown": [
       "1. 'Metabrain_Cortex'\n",
       "2. 'Metabrain_Cerebellum'\n",
       "3. 'Metabrain_Basalganglia'\n",
       "4. 'Metabrain_Hippocampus'\n",
       "5. 'Metabrain_Spinalcord'\n",
       "\n",
       "\n"
      ],
      "text/plain": [
       "[1] \"Metabrain_Cortex\"       \"Metabrain_Cerebellum\"   \"Metabrain_Basalganglia\"\n",
       "[4] \"Metabrain_Hippocampus\"  \"Metabrain_Spinalcord\"  "
      ]
     },
     "metadata": {},
     "output_type": "display_data"
    }
   ],
   "source": [
    "metabrain_AD_GWAS_meta_df$resource%>%unique()"
   ]
  },
  {
   "cell_type": "markdown",
   "id": "2cce2833-2474-4729-85d1-cc933ea3a62d",
   "metadata": {},
   "source": [
    "## summarize multi gene results"
   ]
  },
  {
   "cell_type": "code",
   "execution_count": 107,
   "id": "75995e84-b19a-47cc-ac20-2ebfbb864490",
   "metadata": {},
   "outputs": [],
   "source": [
    "files <- list.files(\"/data/analysis_result/multi_gene/ROSMAP/export/summary/context_specific/\",pattern = \".bed.gz$\",full.names = TRUE)\n",
    "tmp <- data.frame()\n",
    "for (i in 1:length(files)) {\n",
    "    multi_gene_export <- fread(files[i])\n",
    "    resource <- sub(\".*ROSMAP_(.*?)\\\\.exported.*\", \"\\\\1\", files[i])\n",
    "    if(resource==\"eQTL\"){resource <- \"monocyte_ROSMAP_eQTL\"}\n",
    "    df <- multi_gene_export %>% mutate(resource = resource)\n",
    "    tmp <- rbind(tmp, df)\n",
    "}"
   ]
  },
  {
   "cell_type": "code",
   "execution_count": 108,
   "id": "7b0d2c68-cb38-4c54-bc81-f9d243f962c8",
   "metadata": {},
   "outputs": [
    {
     "data": {
      "text/html": [
       "<style>\n",
       ".list-inline {list-style: none; margin:0; padding: 0}\n",
       ".list-inline>li {display: inline-block}\n",
       ".list-inline>li:not(:last-child)::after {content: \"\\00b7\"; padding: 0 .5ex}\n",
       "</style>\n",
       "<ol class=list-inline><li>'AC_DeJager_eQTL'</li><li>'Ast_DeJager_eQTL'</li><li>'Ast_mega_eQTL'</li><li>'DLPFC_Bennett_pQTL'</li><li>'DLPFC_DeJager_eQTL'</li><li>'Exc_DeJager_eQTL'</li><li>'Exc_mega_eQTL'</li><li>'Inh_DeJager_eQTL'</li><li>'Inh_mega_eQTL'</li><li>'Mic_DeJager_eQTL'</li><li>'Mic_mega_eQTL'</li><li>'OPC_DeJager_eQTL'</li><li>'OPC_mega_eQTL'</li><li>'Oli_DeJager_eQTL'</li><li>'Oli_mega_eQTL'</li><li>'PCC_DeJager_eQTL'</li><li>'monocyte_ROSMAP_eQTL'</li></ol>\n"
      ],
      "text/latex": [
       "\\begin{enumerate*}\n",
       "\\item 'AC\\_DeJager\\_eQTL'\n",
       "\\item 'Ast\\_DeJager\\_eQTL'\n",
       "\\item 'Ast\\_mega\\_eQTL'\n",
       "\\item 'DLPFC\\_Bennett\\_pQTL'\n",
       "\\item 'DLPFC\\_DeJager\\_eQTL'\n",
       "\\item 'Exc\\_DeJager\\_eQTL'\n",
       "\\item 'Exc\\_mega\\_eQTL'\n",
       "\\item 'Inh\\_DeJager\\_eQTL'\n",
       "\\item 'Inh\\_mega\\_eQTL'\n",
       "\\item 'Mic\\_DeJager\\_eQTL'\n",
       "\\item 'Mic\\_mega\\_eQTL'\n",
       "\\item 'OPC\\_DeJager\\_eQTL'\n",
       "\\item 'OPC\\_mega\\_eQTL'\n",
       "\\item 'Oli\\_DeJager\\_eQTL'\n",
       "\\item 'Oli\\_mega\\_eQTL'\n",
       "\\item 'PCC\\_DeJager\\_eQTL'\n",
       "\\item 'monocyte\\_ROSMAP\\_eQTL'\n",
       "\\end{enumerate*}\n"
      ],
      "text/markdown": [
       "1. 'AC_DeJager_eQTL'\n",
       "2. 'Ast_DeJager_eQTL'\n",
       "3. 'Ast_mega_eQTL'\n",
       "4. 'DLPFC_Bennett_pQTL'\n",
       "5. 'DLPFC_DeJager_eQTL'\n",
       "6. 'Exc_DeJager_eQTL'\n",
       "7. 'Exc_mega_eQTL'\n",
       "8. 'Inh_DeJager_eQTL'\n",
       "9. 'Inh_mega_eQTL'\n",
       "10. 'Mic_DeJager_eQTL'\n",
       "11. 'Mic_mega_eQTL'\n",
       "12. 'OPC_DeJager_eQTL'\n",
       "13. 'OPC_mega_eQTL'\n",
       "14. 'Oli_DeJager_eQTL'\n",
       "15. 'Oli_mega_eQTL'\n",
       "16. 'PCC_DeJager_eQTL'\n",
       "17. 'monocyte_ROSMAP_eQTL'\n",
       "\n",
       "\n"
      ],
      "text/plain": [
       " [1] \"AC_DeJager_eQTL\"      \"Ast_DeJager_eQTL\"     \"Ast_mega_eQTL\"       \n",
       " [4] \"DLPFC_Bennett_pQTL\"   \"DLPFC_DeJager_eQTL\"   \"Exc_DeJager_eQTL\"    \n",
       " [7] \"Exc_mega_eQTL\"        \"Inh_DeJager_eQTL\"     \"Inh_mega_eQTL\"       \n",
       "[10] \"Mic_DeJager_eQTL\"     \"Mic_mega_eQTL\"        \"OPC_DeJager_eQTL\"    \n",
       "[13] \"OPC_mega_eQTL\"        \"Oli_DeJager_eQTL\"     \"Oli_mega_eQTL\"       \n",
       "[16] \"PCC_DeJager_eQTL\"     \"monocyte_ROSMAP_eQTL\""
      ]
     },
     "metadata": {},
     "output_type": "display_data"
    }
   ],
   "source": [
    "tmp%>%pull(resource)%>%unique()"
   ]
  },
  {
   "cell_type": "code",
   "execution_count": 109,
   "id": "bcd97fca-44bc-45f7-a55d-139cc94e4228",
   "metadata": {},
   "outputs": [],
   "source": [
    "library(stringr)\n",
    "files <- list.files(\"/data/analysis_result/multi_gene/MSBB/export/summary/context_specific/\",pattern = \".bed.gz$\",full.names = TRUE)\n",
    "MSBB_tmp <- data.frame()\n",
    "for (i in 1:length(files)) {\n",
    "multi_gene_export <- fread(files[i])\n",
    "resource <- str_extract(files[i], \"(?<=/)[^/]+_eQTL(?=\\\\.exported)\")\n",
    "df <- multi_gene_export %>% mutate(resource = resource)\n",
    "MSBB_tmp <- rbind(MSBB_tmp, df)\n",
    "}"
   ]
  },
  {
   "cell_type": "code",
   "execution_count": 110,
   "id": "fb63dddd-a454-448d-9588-89c023d38642",
   "metadata": {},
   "outputs": [],
   "source": [
    "multi_gene_res <- rbind(tmp, MSBB_tmp)"
   ]
  },
  {
   "cell_type": "code",
   "execution_count": 111,
   "id": "023bd507-f462-4ec8-9f6e-111b0a36ed94",
   "metadata": {},
   "outputs": [
    {
     "data": {
      "text/html": [
       "<table class=\"dataframe\">\n",
       "<caption>A data.table: 6 × 14</caption>\n",
       "<thead>\n",
       "\t<tr><th scope=col>#chr</th><th scope=col>start</th><th scope=col>end</th><th scope=col>a1</th><th scope=col>a2</th><th scope=col>variant_ID</th><th scope=col>gene_ID</th><th scope=col>event_ID</th><th scope=col>cs_coverage_0.95</th><th scope=col>cs_coverage_0.95_purity0.5</th><th scope=col>PIP</th><th scope=col>conditional_effect</th><th scope=col>lfsr</th><th scope=col>resource</th></tr>\n",
       "\t<tr><th scope=col>&lt;int&gt;</th><th scope=col>&lt;dbl&gt;</th><th scope=col>&lt;int&gt;</th><th scope=col>&lt;chr&gt;</th><th scope=col>&lt;chr&gt;</th><th scope=col>&lt;chr&gt;</th><th scope=col>&lt;chr&gt;</th><th scope=col>&lt;chr&gt;</th><th scope=col>&lt;int&gt;</th><th scope=col>&lt;int&gt;</th><th scope=col>&lt;dbl&gt;</th><th scope=col>&lt;chr&gt;</th><th scope=col>&lt;chr&gt;</th><th scope=col>&lt;chr&gt;</th></tr>\n",
       "</thead>\n",
       "<tbody>\n",
       "\t<tr><td>1</td><td>1303111</td><td>1303112</td><td>A</td><td>G</td><td>chr1:1303112:G:A</td><td>chr1_0_7520074</td><td>ENSG00000242485</td><td>10</td><td>10</td><td>0.30181490</td><td>0.213604181524862</td><td>3.79477490270115e-10</td><td>AC_DeJager_eQTL</td></tr>\n",
       "\t<tr><td>1</td><td>1303799</td><td>1303800</td><td>A</td><td>G</td><td>chr1:1303800:G:A</td><td>chr1_0_7520074</td><td>ENSG00000242485</td><td>10</td><td>10</td><td>0.20795258</td><td>0.21639498867546 </td><td>3.79477490270115e-10</td><td>AC_DeJager_eQTL</td></tr>\n",
       "\t<tr><td>1</td><td>1304554</td><td>1304555</td><td>C</td><td>A</td><td>chr1:1304555:A:C</td><td>chr1_0_7520074</td><td>ENSG00000242485</td><td>10</td><td>10</td><td>0.20795258</td><td>0.21639498867546 </td><td>3.79477490270115e-10</td><td>AC_DeJager_eQTL</td></tr>\n",
       "\t<tr><td>1</td><td>1325752</td><td>1325753</td><td>T</td><td>G</td><td>chr1:1325753:G:T</td><td>chr1_0_7520074</td><td>ENSG00000242485</td><td>10</td><td>10</td><td>0.03537254</td><td>0.213134189797448</td><td>3.79477490270115e-10</td><td>AC_DeJager_eQTL</td></tr>\n",
       "\t<tr><td>1</td><td>1344047</td><td>1344048</td><td>A</td><td>G</td><td>chr1:1344048:G:A</td><td>chr1_0_7520074</td><td>ENSG00000242485</td><td>10</td><td>10</td><td>0.05459853</td><td>0.214012593164653</td><td>3.79477490270115e-10</td><td>AC_DeJager_eQTL</td></tr>\n",
       "\t<tr><td>1</td><td>1364252</td><td>1364253</td><td>G</td><td>C</td><td>chr1:1364253:C:G</td><td>chr1_0_7520074</td><td>ENSG00000242485</td><td>10</td><td>10</td><td>0.03961189</td><td>0.211097094914644</td><td>3.79477490270115e-10</td><td>AC_DeJager_eQTL</td></tr>\n",
       "</tbody>\n",
       "</table>\n"
      ],
      "text/latex": [
       "A data.table: 6 × 14\n",
       "\\begin{tabular}{llllllllllllll}\n",
       " \\#chr & start & end & a1 & a2 & variant\\_ID & gene\\_ID & event\\_ID & cs\\_coverage\\_0.95 & cs\\_coverage\\_0.95\\_purity0.5 & PIP & conditional\\_effect & lfsr & resource\\\\\n",
       " <int> & <dbl> & <int> & <chr> & <chr> & <chr> & <chr> & <chr> & <int> & <int> & <dbl> & <chr> & <chr> & <chr>\\\\\n",
       "\\hline\n",
       "\t 1 & 1303111 & 1303112 & A & G & chr1:1303112:G:A & chr1\\_0\\_7520074 & ENSG00000242485 & 10 & 10 & 0.30181490 & 0.213604181524862 & 3.79477490270115e-10 & AC\\_DeJager\\_eQTL\\\\\n",
       "\t 1 & 1303799 & 1303800 & A & G & chr1:1303800:G:A & chr1\\_0\\_7520074 & ENSG00000242485 & 10 & 10 & 0.20795258 & 0.21639498867546  & 3.79477490270115e-10 & AC\\_DeJager\\_eQTL\\\\\n",
       "\t 1 & 1304554 & 1304555 & C & A & chr1:1304555:A:C & chr1\\_0\\_7520074 & ENSG00000242485 & 10 & 10 & 0.20795258 & 0.21639498867546  & 3.79477490270115e-10 & AC\\_DeJager\\_eQTL\\\\\n",
       "\t 1 & 1325752 & 1325753 & T & G & chr1:1325753:G:T & chr1\\_0\\_7520074 & ENSG00000242485 & 10 & 10 & 0.03537254 & 0.213134189797448 & 3.79477490270115e-10 & AC\\_DeJager\\_eQTL\\\\\n",
       "\t 1 & 1344047 & 1344048 & A & G & chr1:1344048:G:A & chr1\\_0\\_7520074 & ENSG00000242485 & 10 & 10 & 0.05459853 & 0.214012593164653 & 3.79477490270115e-10 & AC\\_DeJager\\_eQTL\\\\\n",
       "\t 1 & 1364252 & 1364253 & G & C & chr1:1364253:C:G & chr1\\_0\\_7520074 & ENSG00000242485 & 10 & 10 & 0.03961189 & 0.211097094914644 & 3.79477490270115e-10 & AC\\_DeJager\\_eQTL\\\\\n",
       "\\end{tabular}\n"
      ],
      "text/markdown": [
       "\n",
       "A data.table: 6 × 14\n",
       "\n",
       "| #chr &lt;int&gt; | start &lt;dbl&gt; | end &lt;int&gt; | a1 &lt;chr&gt; | a2 &lt;chr&gt; | variant_ID &lt;chr&gt; | gene_ID &lt;chr&gt; | event_ID &lt;chr&gt; | cs_coverage_0.95 &lt;int&gt; | cs_coverage_0.95_purity0.5 &lt;int&gt; | PIP &lt;dbl&gt; | conditional_effect &lt;chr&gt; | lfsr &lt;chr&gt; | resource &lt;chr&gt; |\n",
       "|---|---|---|---|---|---|---|---|---|---|---|---|---|---|\n",
       "| 1 | 1303111 | 1303112 | A | G | chr1:1303112:G:A | chr1_0_7520074 | ENSG00000242485 | 10 | 10 | 0.30181490 | 0.213604181524862 | 3.79477490270115e-10 | AC_DeJager_eQTL |\n",
       "| 1 | 1303799 | 1303800 | A | G | chr1:1303800:G:A | chr1_0_7520074 | ENSG00000242485 | 10 | 10 | 0.20795258 | 0.21639498867546  | 3.79477490270115e-10 | AC_DeJager_eQTL |\n",
       "| 1 | 1304554 | 1304555 | C | A | chr1:1304555:A:C | chr1_0_7520074 | ENSG00000242485 | 10 | 10 | 0.20795258 | 0.21639498867546  | 3.79477490270115e-10 | AC_DeJager_eQTL |\n",
       "| 1 | 1325752 | 1325753 | T | G | chr1:1325753:G:T | chr1_0_7520074 | ENSG00000242485 | 10 | 10 | 0.03537254 | 0.213134189797448 | 3.79477490270115e-10 | AC_DeJager_eQTL |\n",
       "| 1 | 1344047 | 1344048 | A | G | chr1:1344048:G:A | chr1_0_7520074 | ENSG00000242485 | 10 | 10 | 0.05459853 | 0.214012593164653 | 3.79477490270115e-10 | AC_DeJager_eQTL |\n",
       "| 1 | 1364252 | 1364253 | G | C | chr1:1364253:C:G | chr1_0_7520074 | ENSG00000242485 | 10 | 10 | 0.03961189 | 0.211097094914644 | 3.79477490270115e-10 | AC_DeJager_eQTL |\n",
       "\n"
      ],
      "text/plain": [
       "  #chr start   end     a1 a2 variant_ID       gene_ID        event_ID       \n",
       "1 1    1303111 1303112 A  G  chr1:1303112:G:A chr1_0_7520074 ENSG00000242485\n",
       "2 1    1303799 1303800 A  G  chr1:1303800:G:A chr1_0_7520074 ENSG00000242485\n",
       "3 1    1304554 1304555 C  A  chr1:1304555:A:C chr1_0_7520074 ENSG00000242485\n",
       "4 1    1325752 1325753 T  G  chr1:1325753:G:T chr1_0_7520074 ENSG00000242485\n",
       "5 1    1344047 1344048 A  G  chr1:1344048:G:A chr1_0_7520074 ENSG00000242485\n",
       "6 1    1364252 1364253 G  C  chr1:1364253:C:G chr1_0_7520074 ENSG00000242485\n",
       "  cs_coverage_0.95 cs_coverage_0.95_purity0.5 PIP        conditional_effect\n",
       "1 10               10                         0.30181490 0.213604181524862 \n",
       "2 10               10                         0.20795258 0.21639498867546  \n",
       "3 10               10                         0.20795258 0.21639498867546  \n",
       "4 10               10                         0.03537254 0.213134189797448 \n",
       "5 10               10                         0.05459853 0.214012593164653 \n",
       "6 10               10                         0.03961189 0.211097094914644 \n",
       "  lfsr                 resource       \n",
       "1 3.79477490270115e-10 AC_DeJager_eQTL\n",
       "2 3.79477490270115e-10 AC_DeJager_eQTL\n",
       "3 3.79477490270115e-10 AC_DeJager_eQTL\n",
       "4 3.79477490270115e-10 AC_DeJager_eQTL\n",
       "5 3.79477490270115e-10 AC_DeJager_eQTL\n",
       "6 3.79477490270115e-10 AC_DeJager_eQTL"
      ]
     },
     "metadata": {},
     "output_type": "display_data"
    }
   ],
   "source": [
    "head(multi_gene_res)"
   ]
  },
  {
   "cell_type": "code",
   "execution_count": 112,
   "id": "39eb3877-49e5-46f5-9f25-756530c14f2a",
   "metadata": {},
   "outputs": [],
   "source": [
    "#gwas <- fread('/data/interactive_analysis/rl3328/image_QTL/AD_GWAS_finemapping/export/output/extracted_info/109_blocks_top_loci.csv.gz') ## From Ruixi on Mar19, 2025\n",
    "gwas <- fread('/data/interactive_analysis/adpelle1/export/AD_GWAS_finemapping_109_blocks_top_loci_unified_any0.8ANDmin0.5.csv.gz')\n",
    "coverage <- \"cs_coverage_0.95_min_corr\"\n",
    "gwas_95 <- gwas %>%\n",
    "  mutate(!!coverage := abs(.data[[coverage]])) %>%\n",
    "  filter(.data[[coverage]] > 0)\n",
    "AD_gwas_df = gwas_95 %>%mutate(gwas_cs = paste(study,region,.data[[coverage]],sep=\":\")) %>% mutate(variant_ID = paste0('chr', variant_id))\n",
    "AD_gwas_df <- AD_gwas_df%>% filter(!(gwas_cs == \"AD_Bellenguez_2022:chr15_47690138_49901356:1\" & pip==0.998973148941477))\n",
    "coverage <- \"cs_coverage_0.95\"\n",
    "multigene_AD_GWAS_meta_df <- merge(multi_gene_res%>%\n",
    "                                    filter(.data[[coverage]]>0), AD_gwas_df,  by = 'variant_ID', suffixes = c('QTL', 'GWAS'))"
   ]
  },
  {
   "cell_type": "code",
   "execution_count": 113,
   "id": "93b5379d-07ce-4241-8553-a8693865c1d5",
   "metadata": {},
   "outputs": [
    {
     "data": {
      "text/html": [
       "<table class=\"dataframe\">\n",
       "<caption>A data.table: 6 × 23</caption>\n",
       "<thead>\n",
       "\t<tr><th scope=col>variant_ID</th><th scope=col>#chr</th><th scope=col>start</th><th scope=col>end</th><th scope=col>a1</th><th scope=col>a2</th><th scope=col>gene_ID</th><th scope=col>event_ID</th><th scope=col>cs_coverage_0.95</th><th scope=col>cs_coverage_0.95_purity0.5</th><th scope=col>⋯</th><th scope=col>resource</th><th scope=col>study</th><th scope=col>variant_id</th><th scope=col>region</th><th scope=col>cs_coverage_0.95_min_corr</th><th scope=col>cs_coverage_0.7_min_corr</th><th scope=col>cs_coverage_0.5_min_corr</th><th scope=col>pip</th><th scope=col>z</th><th scope=col>gwas_cs</th></tr>\n",
       "\t<tr><th scope=col>&lt;chr&gt;</th><th scope=col>&lt;int&gt;</th><th scope=col>&lt;dbl&gt;</th><th scope=col>&lt;int&gt;</th><th scope=col>&lt;chr&gt;</th><th scope=col>&lt;chr&gt;</th><th scope=col>&lt;chr&gt;</th><th scope=col>&lt;chr&gt;</th><th scope=col>&lt;int&gt;</th><th scope=col>&lt;int&gt;</th><th scope=col>⋯</th><th scope=col>&lt;chr&gt;</th><th scope=col>&lt;chr&gt;</th><th scope=col>&lt;chr&gt;</th><th scope=col>&lt;chr&gt;</th><th scope=col>&lt;int&gt;</th><th scope=col>&lt;int&gt;</th><th scope=col>&lt;int&gt;</th><th scope=col>&lt;dbl&gt;</th><th scope=col>&lt;dbl&gt;</th><th scope=col>&lt;chr&gt;</th></tr>\n",
       "</thead>\n",
       "<tbody>\n",
       "\t<tr><td>chr15:63277703:C:T</td><td>15</td><td>63277702</td><td>63277703</td><td>T</td><td>C</td><td>chr15_58574103_63343138</td><td>ENSG00000138613</td><td>2</td><td>2</td><td>⋯</td><td>AC_DeJager_eQTL</td><td>AD_Bellenguez_2022               </td><td>15:63277703:C:T</td><td>chr15_63051119_66680537</td><td>1</td><td>1</td><td>1</td><td>0.9813510</td><td>9.495798</td><td>AD_Bellenguez_2022:chr15_63051119_66680537:1               </td></tr>\n",
       "\t<tr><td>chr15:63277703:C:T</td><td>15</td><td>63277702</td><td>63277703</td><td>T</td><td>C</td><td>chr15_58574103_63343138</td><td>ENSG00000138613</td><td>2</td><td>2</td><td>⋯</td><td>AC_DeJager_eQTL</td><td>AD_Wightman_Excluding23andMe_2021</td><td>15:63277703:C:T</td><td>chr15_63051119_66680537</td><td>1</td><td>1</td><td>1</td><td>0.9148197</td><td>6.436907</td><td>AD_Wightman_Excluding23andMe_2021:chr15_63051119_66680537:1</td></tr>\n",
       "\t<tr><td>chr15:63277703:C:T</td><td>15</td><td>63277702</td><td>63277703</td><td>T</td><td>C</td><td>chr15_58574103_63343138</td><td>ENSG00000138613</td><td>2</td><td>2</td><td>⋯</td><td>AC_DeJager_eQTL</td><td>AD_Wightman_Full_2021            </td><td>15:63277703:C:T</td><td>chr15_63051119_66680537</td><td>1</td><td>1</td><td>1</td><td>0.8383659</td><td>6.857665</td><td>AD_Wightman_Full_2021:chr15_63051119_66680537:1            </td></tr>\n",
       "\t<tr><td>chr15:63277703:C:T</td><td>15</td><td>63277702</td><td>63277703</td><td>T</td><td>C</td><td>chr15_60834681_64158021</td><td>ENSG00000138613</td><td>2</td><td>2</td><td>⋯</td><td>AC_DeJager_eQTL</td><td>AD_Bellenguez_2022               </td><td>15:63277703:C:T</td><td>chr15_63051119_66680537</td><td>1</td><td>1</td><td>1</td><td>0.9813510</td><td>9.495798</td><td>AD_Bellenguez_2022:chr15_63051119_66680537:1               </td></tr>\n",
       "\t<tr><td>chr15:63277703:C:T</td><td>15</td><td>63277702</td><td>63277703</td><td>T</td><td>C</td><td>chr15_60834681_64158021</td><td>ENSG00000138613</td><td>2</td><td>2</td><td>⋯</td><td>AC_DeJager_eQTL</td><td>AD_Wightman_Excluding23andMe_2021</td><td>15:63277703:C:T</td><td>chr15_63051119_66680537</td><td>1</td><td>1</td><td>1</td><td>0.9148197</td><td>6.436907</td><td>AD_Wightman_Excluding23andMe_2021:chr15_63051119_66680537:1</td></tr>\n",
       "\t<tr><td>chr15:63277703:C:T</td><td>15</td><td>63277702</td><td>63277703</td><td>T</td><td>C</td><td>chr15_60834681_64158021</td><td>ENSG00000138613</td><td>2</td><td>2</td><td>⋯</td><td>AC_DeJager_eQTL</td><td>AD_Wightman_Full_2021            </td><td>15:63277703:C:T</td><td>chr15_63051119_66680537</td><td>1</td><td>1</td><td>1</td><td>0.8383659</td><td>6.857665</td><td>AD_Wightman_Full_2021:chr15_63051119_66680537:1            </td></tr>\n",
       "</tbody>\n",
       "</table>\n"
      ],
      "text/latex": [
       "A data.table: 6 × 23\n",
       "\\begin{tabular}{lllllllllllllllllllll}\n",
       " variant\\_ID & \\#chr & start & end & a1 & a2 & gene\\_ID & event\\_ID & cs\\_coverage\\_0.95 & cs\\_coverage\\_0.95\\_purity0.5 & ⋯ & resource & study & variant\\_id & region & cs\\_coverage\\_0.95\\_min\\_corr & cs\\_coverage\\_0.7\\_min\\_corr & cs\\_coverage\\_0.5\\_min\\_corr & pip & z & gwas\\_cs\\\\\n",
       " <chr> & <int> & <dbl> & <int> & <chr> & <chr> & <chr> & <chr> & <int> & <int> & ⋯ & <chr> & <chr> & <chr> & <chr> & <int> & <int> & <int> & <dbl> & <dbl> & <chr>\\\\\n",
       "\\hline\n",
       "\t chr15:63277703:C:T & 15 & 63277702 & 63277703 & T & C & chr15\\_58574103\\_63343138 & ENSG00000138613 & 2 & 2 & ⋯ & AC\\_DeJager\\_eQTL & AD\\_Bellenguez\\_2022                & 15:63277703:C:T & chr15\\_63051119\\_66680537 & 1 & 1 & 1 & 0.9813510 & 9.495798 & AD\\_Bellenguez\\_2022:chr15\\_63051119\\_66680537:1               \\\\\n",
       "\t chr15:63277703:C:T & 15 & 63277702 & 63277703 & T & C & chr15\\_58574103\\_63343138 & ENSG00000138613 & 2 & 2 & ⋯ & AC\\_DeJager\\_eQTL & AD\\_Wightman\\_Excluding23andMe\\_2021 & 15:63277703:C:T & chr15\\_63051119\\_66680537 & 1 & 1 & 1 & 0.9148197 & 6.436907 & AD\\_Wightman\\_Excluding23andMe\\_2021:chr15\\_63051119\\_66680537:1\\\\\n",
       "\t chr15:63277703:C:T & 15 & 63277702 & 63277703 & T & C & chr15\\_58574103\\_63343138 & ENSG00000138613 & 2 & 2 & ⋯ & AC\\_DeJager\\_eQTL & AD\\_Wightman\\_Full\\_2021             & 15:63277703:C:T & chr15\\_63051119\\_66680537 & 1 & 1 & 1 & 0.8383659 & 6.857665 & AD\\_Wightman\\_Full\\_2021:chr15\\_63051119\\_66680537:1            \\\\\n",
       "\t chr15:63277703:C:T & 15 & 63277702 & 63277703 & T & C & chr15\\_60834681\\_64158021 & ENSG00000138613 & 2 & 2 & ⋯ & AC\\_DeJager\\_eQTL & AD\\_Bellenguez\\_2022                & 15:63277703:C:T & chr15\\_63051119\\_66680537 & 1 & 1 & 1 & 0.9813510 & 9.495798 & AD\\_Bellenguez\\_2022:chr15\\_63051119\\_66680537:1               \\\\\n",
       "\t chr15:63277703:C:T & 15 & 63277702 & 63277703 & T & C & chr15\\_60834681\\_64158021 & ENSG00000138613 & 2 & 2 & ⋯ & AC\\_DeJager\\_eQTL & AD\\_Wightman\\_Excluding23andMe\\_2021 & 15:63277703:C:T & chr15\\_63051119\\_66680537 & 1 & 1 & 1 & 0.9148197 & 6.436907 & AD\\_Wightman\\_Excluding23andMe\\_2021:chr15\\_63051119\\_66680537:1\\\\\n",
       "\t chr15:63277703:C:T & 15 & 63277702 & 63277703 & T & C & chr15\\_60834681\\_64158021 & ENSG00000138613 & 2 & 2 & ⋯ & AC\\_DeJager\\_eQTL & AD\\_Wightman\\_Full\\_2021             & 15:63277703:C:T & chr15\\_63051119\\_66680537 & 1 & 1 & 1 & 0.8383659 & 6.857665 & AD\\_Wightman\\_Full\\_2021:chr15\\_63051119\\_66680537:1            \\\\\n",
       "\\end{tabular}\n"
      ],
      "text/markdown": [
       "\n",
       "A data.table: 6 × 23\n",
       "\n",
       "| variant_ID &lt;chr&gt; | #chr &lt;int&gt; | start &lt;dbl&gt; | end &lt;int&gt; | a1 &lt;chr&gt; | a2 &lt;chr&gt; | gene_ID &lt;chr&gt; | event_ID &lt;chr&gt; | cs_coverage_0.95 &lt;int&gt; | cs_coverage_0.95_purity0.5 &lt;int&gt; | ⋯ ⋯ | resource &lt;chr&gt; | study &lt;chr&gt; | variant_id &lt;chr&gt; | region &lt;chr&gt; | cs_coverage_0.95_min_corr &lt;int&gt; | cs_coverage_0.7_min_corr &lt;int&gt; | cs_coverage_0.5_min_corr &lt;int&gt; | pip &lt;dbl&gt; | z &lt;dbl&gt; | gwas_cs &lt;chr&gt; |\n",
       "|---|---|---|---|---|---|---|---|---|---|---|---|---|---|---|---|---|---|---|---|---|\n",
       "| chr15:63277703:C:T | 15 | 63277702 | 63277703 | T | C | chr15_58574103_63343138 | ENSG00000138613 | 2 | 2 | ⋯ | AC_DeJager_eQTL | AD_Bellenguez_2022                | 15:63277703:C:T | chr15_63051119_66680537 | 1 | 1 | 1 | 0.9813510 | 9.495798 | AD_Bellenguez_2022:chr15_63051119_66680537:1                |\n",
       "| chr15:63277703:C:T | 15 | 63277702 | 63277703 | T | C | chr15_58574103_63343138 | ENSG00000138613 | 2 | 2 | ⋯ | AC_DeJager_eQTL | AD_Wightman_Excluding23andMe_2021 | 15:63277703:C:T | chr15_63051119_66680537 | 1 | 1 | 1 | 0.9148197 | 6.436907 | AD_Wightman_Excluding23andMe_2021:chr15_63051119_66680537:1 |\n",
       "| chr15:63277703:C:T | 15 | 63277702 | 63277703 | T | C | chr15_58574103_63343138 | ENSG00000138613 | 2 | 2 | ⋯ | AC_DeJager_eQTL | AD_Wightman_Full_2021             | 15:63277703:C:T | chr15_63051119_66680537 | 1 | 1 | 1 | 0.8383659 | 6.857665 | AD_Wightman_Full_2021:chr15_63051119_66680537:1             |\n",
       "| chr15:63277703:C:T | 15 | 63277702 | 63277703 | T | C | chr15_60834681_64158021 | ENSG00000138613 | 2 | 2 | ⋯ | AC_DeJager_eQTL | AD_Bellenguez_2022                | 15:63277703:C:T | chr15_63051119_66680537 | 1 | 1 | 1 | 0.9813510 | 9.495798 | AD_Bellenguez_2022:chr15_63051119_66680537:1                |\n",
       "| chr15:63277703:C:T | 15 | 63277702 | 63277703 | T | C | chr15_60834681_64158021 | ENSG00000138613 | 2 | 2 | ⋯ | AC_DeJager_eQTL | AD_Wightman_Excluding23andMe_2021 | 15:63277703:C:T | chr15_63051119_66680537 | 1 | 1 | 1 | 0.9148197 | 6.436907 | AD_Wightman_Excluding23andMe_2021:chr15_63051119_66680537:1 |\n",
       "| chr15:63277703:C:T | 15 | 63277702 | 63277703 | T | C | chr15_60834681_64158021 | ENSG00000138613 | 2 | 2 | ⋯ | AC_DeJager_eQTL | AD_Wightman_Full_2021             | 15:63277703:C:T | chr15_63051119_66680537 | 1 | 1 | 1 | 0.8383659 | 6.857665 | AD_Wightman_Full_2021:chr15_63051119_66680537:1             |\n",
       "\n"
      ],
      "text/plain": [
       "  variant_ID         #chr start    end      a1 a2 gene_ID                \n",
       "1 chr15:63277703:C:T 15   63277702 63277703 T  C  chr15_58574103_63343138\n",
       "2 chr15:63277703:C:T 15   63277702 63277703 T  C  chr15_58574103_63343138\n",
       "3 chr15:63277703:C:T 15   63277702 63277703 T  C  chr15_58574103_63343138\n",
       "4 chr15:63277703:C:T 15   63277702 63277703 T  C  chr15_60834681_64158021\n",
       "5 chr15:63277703:C:T 15   63277702 63277703 T  C  chr15_60834681_64158021\n",
       "6 chr15:63277703:C:T 15   63277702 63277703 T  C  chr15_60834681_64158021\n",
       "  event_ID        cs_coverage_0.95 cs_coverage_0.95_purity0.5 ⋯ resource       \n",
       "1 ENSG00000138613 2                2                          ⋯ AC_DeJager_eQTL\n",
       "2 ENSG00000138613 2                2                          ⋯ AC_DeJager_eQTL\n",
       "3 ENSG00000138613 2                2                          ⋯ AC_DeJager_eQTL\n",
       "4 ENSG00000138613 2                2                          ⋯ AC_DeJager_eQTL\n",
       "5 ENSG00000138613 2                2                          ⋯ AC_DeJager_eQTL\n",
       "6 ENSG00000138613 2                2                          ⋯ AC_DeJager_eQTL\n",
       "  study                             variant_id      region                 \n",
       "1 AD_Bellenguez_2022                15:63277703:C:T chr15_63051119_66680537\n",
       "2 AD_Wightman_Excluding23andMe_2021 15:63277703:C:T chr15_63051119_66680537\n",
       "3 AD_Wightman_Full_2021             15:63277703:C:T chr15_63051119_66680537\n",
       "4 AD_Bellenguez_2022                15:63277703:C:T chr15_63051119_66680537\n",
       "5 AD_Wightman_Excluding23andMe_2021 15:63277703:C:T chr15_63051119_66680537\n",
       "6 AD_Wightman_Full_2021             15:63277703:C:T chr15_63051119_66680537\n",
       "  cs_coverage_0.95_min_corr cs_coverage_0.7_min_corr cs_coverage_0.5_min_corr\n",
       "1 1                         1                        1                       \n",
       "2 1                         1                        1                       \n",
       "3 1                         1                        1                       \n",
       "4 1                         1                        1                       \n",
       "5 1                         1                        1                       \n",
       "6 1                         1                        1                       \n",
       "  pip       z       \n",
       "1 0.9813510 9.495798\n",
       "2 0.9148197 6.436907\n",
       "3 0.8383659 6.857665\n",
       "4 0.9813510 9.495798\n",
       "5 0.9148197 6.436907\n",
       "6 0.8383659 6.857665\n",
       "  gwas_cs                                                    \n",
       "1 AD_Bellenguez_2022:chr15_63051119_66680537:1               \n",
       "2 AD_Wightman_Excluding23andMe_2021:chr15_63051119_66680537:1\n",
       "3 AD_Wightman_Full_2021:chr15_63051119_66680537:1            \n",
       "4 AD_Bellenguez_2022:chr15_63051119_66680537:1               \n",
       "5 AD_Wightman_Excluding23andMe_2021:chr15_63051119_66680537:1\n",
       "6 AD_Wightman_Full_2021:chr15_63051119_66680537:1            "
      ]
     },
     "metadata": {},
     "output_type": "display_data"
    }
   ],
   "source": [
    "head(multigene_AD_GWAS_meta_df)"
   ]
  },
  {
   "cell_type": "code",
   "execution_count": 114,
   "id": "09309523-ca86-4c6a-b366-0ba0c0de7880",
   "metadata": {},
   "outputs": [],
   "source": [
    "multigene_AD_GWAS_meta_df %>% saveRDS(\"multigene_AD_GWAS_meta_df.rds\")"
   ]
  },
  {
   "cell_type": "code",
   "execution_count": 115,
   "id": "19c48420-2bd3-413d-874b-26af076e5e59",
   "metadata": {},
   "outputs": [
    {
     "data": {
      "text/html": [
       "<style>\n",
       ".list-inline {list-style: none; margin:0; padding: 0}\n",
       ".list-inline>li {display: inline-block}\n",
       ".list-inline>li:not(:last-child)::after {content: \"\\00b7\"; padding: 0 .5ex}\n",
       "</style>\n",
       "<ol class=list-inline><li>'variant_ID'</li><li>'#chr'</li><li>'start'</li><li>'end'</li><li>'a1'</li><li>'a2'</li><li>'gene_ID'</li><li>'event_ID'</li><li>'cs_coverage_0.95'</li><li>'cs_coverage_0.95_purity0.5'</li><li>'PIP'</li><li>'conditional_effect'</li><li>'lfsr'</li><li>'resource'</li><li>'study'</li><li>'variant_id'</li><li>'region'</li><li>'cs_coverage_0.95_min_corr'</li><li>'cs_coverage_0.7_min_corr'</li><li>'cs_coverage_0.5_min_corr'</li><li>'pip'</li><li>'z'</li><li>'gwas_cs'</li></ol>\n"
      ],
      "text/latex": [
       "\\begin{enumerate*}\n",
       "\\item 'variant\\_ID'\n",
       "\\item '\\#chr'\n",
       "\\item 'start'\n",
       "\\item 'end'\n",
       "\\item 'a1'\n",
       "\\item 'a2'\n",
       "\\item 'gene\\_ID'\n",
       "\\item 'event\\_ID'\n",
       "\\item 'cs\\_coverage\\_0.95'\n",
       "\\item 'cs\\_coverage\\_0.95\\_purity0.5'\n",
       "\\item 'PIP'\n",
       "\\item 'conditional\\_effect'\n",
       "\\item 'lfsr'\n",
       "\\item 'resource'\n",
       "\\item 'study'\n",
       "\\item 'variant\\_id'\n",
       "\\item 'region'\n",
       "\\item 'cs\\_coverage\\_0.95\\_min\\_corr'\n",
       "\\item 'cs\\_coverage\\_0.7\\_min\\_corr'\n",
       "\\item 'cs\\_coverage\\_0.5\\_min\\_corr'\n",
       "\\item 'pip'\n",
       "\\item 'z'\n",
       "\\item 'gwas\\_cs'\n",
       "\\end{enumerate*}\n"
      ],
      "text/markdown": [
       "1. 'variant_ID'\n",
       "2. '#chr'\n",
       "3. 'start'\n",
       "4. 'end'\n",
       "5. 'a1'\n",
       "6. 'a2'\n",
       "7. 'gene_ID'\n",
       "8. 'event_ID'\n",
       "9. 'cs_coverage_0.95'\n",
       "10. 'cs_coverage_0.95_purity0.5'\n",
       "11. 'PIP'\n",
       "12. 'conditional_effect'\n",
       "13. 'lfsr'\n",
       "14. 'resource'\n",
       "15. 'study'\n",
       "16. 'variant_id'\n",
       "17. 'region'\n",
       "18. 'cs_coverage_0.95_min_corr'\n",
       "19. 'cs_coverage_0.7_min_corr'\n",
       "20. 'cs_coverage_0.5_min_corr'\n",
       "21. 'pip'\n",
       "22. 'z'\n",
       "23. 'gwas_cs'\n",
       "\n",
       "\n"
      ],
      "text/plain": [
       " [1] \"variant_ID\"                 \"#chr\"                      \n",
       " [3] \"start\"                      \"end\"                       \n",
       " [5] \"a1\"                         \"a2\"                        \n",
       " [7] \"gene_ID\"                    \"event_ID\"                  \n",
       " [9] \"cs_coverage_0.95\"           \"cs_coverage_0.95_purity0.5\"\n",
       "[11] \"PIP\"                        \"conditional_effect\"        \n",
       "[13] \"lfsr\"                       \"resource\"                  \n",
       "[15] \"study\"                      \"variant_id\"                \n",
       "[17] \"region\"                     \"cs_coverage_0.95_min_corr\" \n",
       "[19] \"cs_coverage_0.7_min_corr\"   \"cs_coverage_0.5_min_corr\"  \n",
       "[21] \"pip\"                        \"z\"                         \n",
       "[23] \"gwas_cs\"                   "
      ]
     },
     "metadata": {},
     "output_type": "display_data"
    }
   ],
   "source": [
    "colnames(multigene_AD_GWAS_meta_df)"
   ]
  },
  {
   "cell_type": "markdown",
   "id": "0caac1c7-6e5a-4c29-a294-8c68feeb5d24",
   "metadata": {},
   "source": [
    "## summarize the coloboost results"
   ]
  },
  {
   "cell_type": "code",
   "execution_count": 57,
   "id": "ba99fd29-a7df-4c53-94c6-dfcd22a1b0aa",
   "metadata": {},
   "outputs": [],
   "source": [
    "library(data.table)\n",
    "library(dplyr)\n",
    "library(stringr)\n",
    "cb_files <- list.files('/data/analysis_result/ColocBoost/export/summary/', 'bed.gz$', full.names = T) %>% .[str_detect(., 'AD_xQTL_')] # data upadted on Sep 3rd, 2025"
   ]
  },
  {
   "cell_type": "code",
   "execution_count": 141,
   "id": "7284842f-f857-4e18-9c51-2ba645fbba58",
   "metadata": {},
   "outputs": [
    {
     "data": {
      "text/html": [
       "<style>\n",
       ".list-inline {list-style: none; margin:0; padding: 0}\n",
       ".list-inline>li {display: inline-block}\n",
       ".list-inline>li:not(:last-child)::after {content: \"\\00b7\"; padding: 0 .5ex}\n",
       "</style>\n",
       "<ol class=list-inline><li>'/data/analysis_result/ColocBoost/export/summary//AD_xQTL_KNIGHT_colocboost_export_release_sorted.bed.gz'</li><li>'/data/analysis_result/ColocBoost/export/summary//AD_xQTL_MIGA_colocboost_export_release_sorted.bed.gz'</li><li>'/data/analysis_result/ColocBoost/export/summary//AD_xQTL_MSBB_colocboost_export_release_sorted.bed.gz'</li><li>'/data/analysis_result/ColocBoost/export/summary//AD_xQTL_ROSMAP_colocboost_export_release.bed.gz'</li></ol>\n"
      ],
      "text/latex": [
       "\\begin{enumerate*}\n",
       "\\item '/data/analysis\\_result/ColocBoost/export/summary//AD\\_xQTL\\_KNIGHT\\_colocboost\\_export\\_release\\_sorted.bed.gz'\n",
       "\\item '/data/analysis\\_result/ColocBoost/export/summary//AD\\_xQTL\\_MIGA\\_colocboost\\_export\\_release\\_sorted.bed.gz'\n",
       "\\item '/data/analysis\\_result/ColocBoost/export/summary//AD\\_xQTL\\_MSBB\\_colocboost\\_export\\_release\\_sorted.bed.gz'\n",
       "\\item '/data/analysis\\_result/ColocBoost/export/summary//AD\\_xQTL\\_ROSMAP\\_colocboost\\_export\\_release.bed.gz'\n",
       "\\end{enumerate*}\n"
      ],
      "text/markdown": [
       "1. '/data/analysis_result/ColocBoost/export/summary//AD_xQTL_KNIGHT_colocboost_export_release_sorted.bed.gz'\n",
       "2. '/data/analysis_result/ColocBoost/export/summary//AD_xQTL_MIGA_colocboost_export_release_sorted.bed.gz'\n",
       "3. '/data/analysis_result/ColocBoost/export/summary//AD_xQTL_MSBB_colocboost_export_release_sorted.bed.gz'\n",
       "4. '/data/analysis_result/ColocBoost/export/summary//AD_xQTL_ROSMAP_colocboost_export_release.bed.gz'\n",
       "\n",
       "\n"
      ],
      "text/plain": [
       "[1] \"/data/analysis_result/ColocBoost/export/summary//AD_xQTL_KNIGHT_colocboost_export_release_sorted.bed.gz\"\n",
       "[2] \"/data/analysis_result/ColocBoost/export/summary//AD_xQTL_MIGA_colocboost_export_release_sorted.bed.gz\"  \n",
       "[3] \"/data/analysis_result/ColocBoost/export/summary//AD_xQTL_MSBB_colocboost_export_release_sorted.bed.gz\"  \n",
       "[4] \"/data/analysis_result/ColocBoost/export/summary//AD_xQTL_ROSMAP_colocboost_export_release.bed.gz\"       "
      ]
     },
     "metadata": {},
     "output_type": "display_data"
    }
   ],
   "source": [
    "cb_files"
   ]
  },
  {
   "cell_type": "code",
   "execution_count": 142,
   "id": "6d0df812-9c6f-4d59-a4e1-5cb646f4896c",
   "metadata": {},
   "outputs": [],
   "source": [
    "cb_AD_res <- data.frame()\n",
    "for(cb_file in cb_files){\n",
    "    cb_AD_res <- rbind(cb_AD_res, \n",
    "                      fread(cb_file))\n",
    "}"
   ]
  },
  {
   "cell_type": "code",
   "execution_count": 78,
   "id": "4aac8f28-7a99-47b8-8601-fe56ffe5d393",
   "metadata": {},
   "outputs": [],
   "source": [
    "\n",
    "# Define your tag patterns as before\n",
    "tag_patterns <- c(\n",
    "  'Knight_eQTL_brain' = 'KNIGHT_eQTL', # left single right coloc id\n",
    "  'Knight_pQTL_brain' = 'KNIGHT_pQTL',\n",
    "  'MiGA_THA_eQTL'= 'MIGA_THA',\n",
    "  'MiGA_GFM_eQTL'= 'MIGA_GFM',\n",
    "  'MiGA_GTS_eQTL'= 'MIGA_GTS',\n",
    "  'MiGA_SVZ_eQTL'= 'MIGA_SVZ',\n",
    "  'BM_10_MSBB_eQTL' = 'MSBB_eQTL_BM_10',\n",
    "  'BM_22_MSBB_eQTL' = 'MSBB_eQTL_BM_22',\n",
    "  'BM_36_MSBB_eQTL' = 'MSBB_eQTL_BM_36',\n",
    "  'BM_44_MSBB_eQTL' = 'MSBB_eQTL_BM_44',\n",
    "  'BM_36_MSBB_pQTL' = 'MSBB_pQTL_BM_36',\n",
    "\n",
    "   # ROSMAP\n",
    "  'DLPFC_Klein_gpQTL_adjusted' = 'DLPFC_Klein_gpQTL_adjusted',\n",
    "  'DLPFC_Klein_gpQTL_adjusted' = 'DLPFC_Klein_gpQTL_unadjusted', ## please double check this line above \n",
    "\n",
    "  \"ROSMAP_AC_sQTL_NE\"    = \"^AC_.*sQTL.*NE\",\n",
    "  \"ROSMAP_AC_sQTL_UP\"    = \"^AC_.*sQTL.*UP\",\n",
    "  \"ROSMAP_AC_sQTL_PR\"    = \"^AC_.*sQTL.*PR\",\n",
    "  \"ROSMAP_PCC_sQTL_NE\"   = \"^PCC_.*sQTL.*NE\",\n",
    "  \"ROSMAP_PCC_sQTL_UP\"   = \"^PCC_.*sQTL.*UP\",\n",
    "  \"ROSMAP_PCC_sQTL_PR\"   = \"^PCC_.*sQTL.*PR\",\n",
    "  \"ROSMAP_DLPFC_sQTL_NE\" = \"^DLPFC_.*sQTL.*NE\",\n",
    "  \"ROSMAP_DLPFC_sQTL_UP\" = \"^DLPFC_.*sQTL.*UP\",\n",
    "  \"ROSMAP_DLPFC_sQTL_PR\" = \"^DLPFC_.*sQTL.*PR\",\n",
    "  # General patterns fallback\n",
    "  \"Mic_DeJager_eQTL\"     = \"DeJager_Mic\",\n",
    "  \"Mic_mega_eQTL\"        = \"mega_Mic\",\n",
    "  \"Mic_Kellis_eQTL\"      = \"Kellis_Mic\",\n",
    "  \"Inh_Kellis_eQTL\"      = \"Kellis_Inh\",\n",
    "  \"Inh_DeJager_eQTL\"     = \"DeJager_Inh\",\n",
    "  \"AC_DeJager_eQTL\"      = \"ROSMAP_AC\",\n",
    "  \"Oli_Kellis_eQTL\"      = \"Kellis_Oli\",\n",
    "  \"Exc_Kellis_eQTL\"      = \"Kellis_Exc\",\n",
    "  \"Oli_mega_eQTL\"        = \"mega_Oli\",\n",
    "  \"Exc_mega_eQTL\"        = \"mega_Exc\",\n",
    "  \"Exc_DeJager_eQTL\"     = \"DeJager_Exc\",\n",
    "  \"Inh_mega_eQTL\"        = \"mega_Inh\",\n",
    "  \"Ast_DeJager_eQTL\"     = \"DeJager_Ast\",\n",
    "  \"Ast_mega_eQTL\"        = \"mega_Ast\",\n",
    "  \"DLPFC_DeJager_eQTL\"   = \"ROSMAP_DLPFC\",\n",
    "  \"Oli_DeJager_eQTL\"     = \"DeJager_Oli\",\n",
    "  \"Ast_Kellis_eQTL\"      = \"Kellis_Ast\",\n",
    "  \"OPC_Kellis_eQTL\"      = \"Kellis_OPC\",\n",
    "  \"Ast_DeJager_eQTL\"     = \"DeJager_Ast\",\n",
    "  \"OPC_mega_eQTL\"        = \"mega_OPC\",\n",
    "  \"OPC_DeJager_eQTL\"     = \"DeJager_OPC\",\n",
    "  \"PCC_DeJager_eQTL\"     = \"ROSMAP_PCC\",\n",
    "  \"DLPFC_Bennett_pQTL\"   = \"DLPFC_Bennett_pQTL\",\n",
    "  \"monocyte_ROSMAP_eQTL\" = \"ROSMAP_Monocyte\"\n",
    ")\n",
    "\n",
    "# Function to extract tags per row\n",
    "extract_tags <- function(event_id_str) {\n",
    "  substrings <- unlist(str_split(event_id_str, \";\"))\n",
    "  \n",
    "  # Match predefined tags\n",
    "  mapped_tags <- unlist(lapply(substrings, function(sub) {\n",
    "    names(tag_patterns)[str_detect(sub, tag_patterns)]\n",
    "  }))\n",
    "  \n",
    "  # Also extract raw AD-related tags\n",
    "  ad_tags <- substrings[str_detect(substrings, \"AD\")]\n",
    "  \n",
    "  # Combine both, remove duplicates, sort optionally\n",
    "  final_tags <- sort(unique(c(mapped_tags, ad_tags)))\n",
    "  paste(final_tags, collapse = \", \")\n",
    "}\n",
    "\n",
    "# Apply to your dataframe\n",
    "cb_AD_res$contexts <- sapply(cb_AD_res$event_ID, extract_tags)"
   ]
  },
  {
   "cell_type": "code",
   "execution_count": 80,
   "id": "0ff23cef-709a-4fd9-a8ce-4242d53d149d",
   "metadata": {},
   "outputs": [
    {
     "data": {
      "text/html": [
       "<table class=\"dataframe\">\n",
       "<caption>A data.table: 2 × 15</caption>\n",
       "<thead>\n",
       "\t<tr><th scope=col>#chr</th><th scope=col>start</th><th scope=col>end</th><th scope=col>a1</th><th scope=col>a2</th><th scope=col>variant_ID</th><th scope=col>region_ID</th><th scope=col>event_ID</th><th scope=col>cos_ID</th><th scope=col>vcp</th><th scope=col>cos_npc</th><th scope=col>min_npc_outcome</th><th scope=col>coef</th><th scope=col>study</th><th scope=col>contexts</th></tr>\n",
       "\t<tr><th scope=col>&lt;chr&gt;</th><th scope=col>&lt;int&gt;</th><th scope=col>&lt;int&gt;</th><th scope=col>&lt;chr&gt;</th><th scope=col>&lt;chr&gt;</th><th scope=col>&lt;chr&gt;</th><th scope=col>&lt;chr&gt;</th><th scope=col>&lt;chr&gt;</th><th scope=col>&lt;chr&gt;</th><th scope=col>&lt;dbl&gt;</th><th scope=col>&lt;dbl&gt;</th><th scope=col>&lt;dbl&gt;</th><th scope=col>&lt;chr&gt;</th><th scope=col>&lt;chr&gt;</th><th scope=col>&lt;chr&gt;</th></tr>\n",
       "</thead>\n",
       "<tbody>\n",
       "\t<tr><td>chr1</td><td>207573951</td><td>207573951</td><td>G</td><td>A</td><td>chr1:207573951:A:G</td><td>ENSG00000203710</td><td>KNIGHT_eQTL_ENSG00000203710; AD_Bellenguez        </td><td>ENSG00000203710:cos1:y1_y2</td><td>0.02131227</td><td>0.9741</td><td>0.9741</td><td>-0.0113326428446495;-0.000118137670560767</td><td>AD_Bellenguez        </td><td>Knight_eQTL_brain</td></tr>\n",
       "\t<tr><td>chr1</td><td>207573951</td><td>207573951</td><td>G</td><td>A</td><td>chr1:207573951:A:G</td><td>ENSG00000203710</td><td>KNIGHT_eQTL_ENSG00000203710; AD_Kunkle_Stage1_2019</td><td>ENSG00000203710:cos1:y1_y2</td><td>0.05200296</td><td>0.9820</td><td>0.9818</td><td>-0.0113432399994088;-0.00164700157001807 </td><td>AD_Kunkle_Stage1_2019</td><td>Knight_eQTL_brain</td></tr>\n",
       "</tbody>\n",
       "</table>\n"
      ],
      "text/latex": [
       "A data.table: 2 × 15\n",
       "\\begin{tabular}{lllllllllllllll}\n",
       " \\#chr & start & end & a1 & a2 & variant\\_ID & region\\_ID & event\\_ID & cos\\_ID & vcp & cos\\_npc & min\\_npc\\_outcome & coef & study & contexts\\\\\n",
       " <chr> & <int> & <int> & <chr> & <chr> & <chr> & <chr> & <chr> & <chr> & <dbl> & <dbl> & <dbl> & <chr> & <chr> & <chr>\\\\\n",
       "\\hline\n",
       "\t chr1 & 207573951 & 207573951 & G & A & chr1:207573951:A:G & ENSG00000203710 & KNIGHT\\_eQTL\\_ENSG00000203710; AD\\_Bellenguez         & ENSG00000203710:cos1:y1\\_y2 & 0.02131227 & 0.9741 & 0.9741 & -0.0113326428446495;-0.000118137670560767 & AD\\_Bellenguez         & Knight\\_eQTL\\_brain\\\\\n",
       "\t chr1 & 207573951 & 207573951 & G & A & chr1:207573951:A:G & ENSG00000203710 & KNIGHT\\_eQTL\\_ENSG00000203710; AD\\_Kunkle\\_Stage1\\_2019 & ENSG00000203710:cos1:y1\\_y2 & 0.05200296 & 0.9820 & 0.9818 & -0.0113432399994088;-0.00164700157001807  & AD\\_Kunkle\\_Stage1\\_2019 & Knight\\_eQTL\\_brain\\\\\n",
       "\\end{tabular}\n"
      ],
      "text/markdown": [
       "\n",
       "A data.table: 2 × 15\n",
       "\n",
       "| #chr &lt;chr&gt; | start &lt;int&gt; | end &lt;int&gt; | a1 &lt;chr&gt; | a2 &lt;chr&gt; | variant_ID &lt;chr&gt; | region_ID &lt;chr&gt; | event_ID &lt;chr&gt; | cos_ID &lt;chr&gt; | vcp &lt;dbl&gt; | cos_npc &lt;dbl&gt; | min_npc_outcome &lt;dbl&gt; | coef &lt;chr&gt; | study &lt;chr&gt; | contexts &lt;chr&gt; |\n",
       "|---|---|---|---|---|---|---|---|---|---|---|---|---|---|---|\n",
       "| chr1 | 207573951 | 207573951 | G | A | chr1:207573951:A:G | ENSG00000203710 | KNIGHT_eQTL_ENSG00000203710; AD_Bellenguez         | ENSG00000203710:cos1:y1_y2 | 0.02131227 | 0.9741 | 0.9741 | -0.0113326428446495;-0.000118137670560767 | AD_Bellenguez         | Knight_eQTL_brain |\n",
       "| chr1 | 207573951 | 207573951 | G | A | chr1:207573951:A:G | ENSG00000203710 | KNIGHT_eQTL_ENSG00000203710; AD_Kunkle_Stage1_2019 | ENSG00000203710:cos1:y1_y2 | 0.05200296 | 0.9820 | 0.9818 | -0.0113432399994088;-0.00164700157001807  | AD_Kunkle_Stage1_2019 | Knight_eQTL_brain |\n",
       "\n"
      ],
      "text/plain": [
       "  #chr start     end       a1 a2 variant_ID         region_ID      \n",
       "1 chr1 207573951 207573951 G  A  chr1:207573951:A:G ENSG00000203710\n",
       "2 chr1 207573951 207573951 G  A  chr1:207573951:A:G ENSG00000203710\n",
       "  event_ID                                           cos_ID                    \n",
       "1 KNIGHT_eQTL_ENSG00000203710; AD_Bellenguez         ENSG00000203710:cos1:y1_y2\n",
       "2 KNIGHT_eQTL_ENSG00000203710; AD_Kunkle_Stage1_2019 ENSG00000203710:cos1:y1_y2\n",
       "  vcp        cos_npc min_npc_outcome coef                                     \n",
       "1 0.02131227 0.9741  0.9741          -0.0113326428446495;-0.000118137670560767\n",
       "2 0.05200296 0.9820  0.9818          -0.0113432399994088;-0.00164700157001807 \n",
       "  study                 contexts         \n",
       "1 AD_Bellenguez         Knight_eQTL_brain\n",
       "2 AD_Kunkle_Stage1_2019 Knight_eQTL_brain"
      ]
     },
     "metadata": {},
     "output_type": "display_data"
    }
   ],
   "source": [
    "library(dplyr)\n",
    "library(stringr)\n",
    "library(purrr)\n",
    "\n",
    "cb_AD_res_study <- cb_AD_res %>%\n",
    "  mutate(\n",
    "    # Split contexts string into list, and trim each element\n",
    "    context_list = str_split(contexts, \",\\\\s*\"),\n",
    "    context_list = map(context_list, ~ str_trim(.x)),  # Trim whitespace\n",
    "\n",
    "    # Extract AD-related context\n",
    "    study = map_chr(context_list, ~ paste(.x[str_detect(.x, \"^AD_\")], collapse = \", \")),\n",
    "\n",
    "    # Remove AD-related context\n",
    "    context_cleaned = map_chr(context_list, ~ paste(.x[!str_detect(.x, \"^AD_\")], collapse = \", \"))\n",
    "  ) %>%\n",
    "  select(-c(context_list,contexts)) %>%\n",
    "  rename(contexts = context_cleaned)\n",
    "\n",
    "# Check the result\n",
    "head(cb_AD_res_study, n=2)\n"
   ]
  },
  {
   "cell_type": "code",
   "execution_count": 81,
   "id": "91f811f3-870c-46d8-b28c-734c530c8700",
   "metadata": {},
   "outputs": [],
   "source": [
    "#cb_AD_res <- readRDS(\"cb_AD_res_contexts.rds\")\n",
    "gwas <- fread('/data/interactive_analysis/adpelle1/export/AD_GWAS_finemapping_109_blocks_top_loci_unified_any0.8ANDmin0.5.csv.gz')\n",
    "coverage <- \"cs_coverage_0.95_min_corr\"\n",
    "gwas_95 <- gwas %>%\n",
    "  mutate(!!coverage := abs(.data[[coverage]])) %>%\n",
    "  filter(.data[[coverage]] > 0)\n",
    "AD_gwas_df = gwas_95 %>%mutate(gwas_cs = paste(study,region,.data[[coverage]],sep=\":\"))%>%mutate(variant_ID = paste0('chr', variant_id))\n",
    "AD_gwas_df <- AD_gwas_df%>% filter(!(gwas_cs == \"AD_Bellenguez_2022:chr15_47690138_49901356:1\" & pip==0.998973148941477))\n",
    "coverage <- \"cs_coverage_0.95\"\n",
    "cb_AD_combined_AD_GWAS_meta_df <- merge(cb_AD_res_study, AD_gwas_df,  by = c('variant_ID'), suffixes = c('QTL', 'GWAS'))"
   ]
  },
  {
   "cell_type": "code",
   "execution_count": 44,
   "id": "b38cfb5b-0790-43ee-bf32-36816e75983c",
   "metadata": {},
   "outputs": [],
   "source": [
    "#cb_AD_combined_AD_GWAS_meta_df <- readRDS(\"cb_AD_combined_AD_GWAS_meta_df.rds\")"
   ]
  },
  {
   "cell_type": "code",
   "execution_count": 83,
   "id": "66df220b-285a-4966-8045-0694508c144a",
   "metadata": {},
   "outputs": [
    {
     "data": {
      "text/html": [
       "<style>\n",
       ".list-inline {list-style: none; margin:0; padding: 0}\n",
       ".list-inline>li {display: inline-block}\n",
       ".list-inline>li:not(:last-child)::after {content: \"\\00b7\"; padding: 0 .5ex}\n",
       "</style>\n",
       "<ol class=list-inline><li>'variant_ID'</li><li>'#chr'</li><li>'start'</li><li>'end'</li><li>'a1'</li><li>'a2'</li><li>'region_ID'</li><li>'event_ID'</li><li>'cos_ID'</li><li>'vcp'</li><li>'cos_npc'</li><li>'min_npc_outcome'</li><li>'coef'</li><li>'studyQTL'</li><li>'contexts'</li><li>'studyGWAS'</li><li>'variant_id'</li><li>'region'</li><li>'cs_coverage_0.95_min_corr'</li><li>'cs_coverage_0.7_min_corr'</li><li>'cs_coverage_0.5_min_corr'</li><li>'pip'</li><li>'z'</li><li>'gwas_cs'</li></ol>\n"
      ],
      "text/latex": [
       "\\begin{enumerate*}\n",
       "\\item 'variant\\_ID'\n",
       "\\item '\\#chr'\n",
       "\\item 'start'\n",
       "\\item 'end'\n",
       "\\item 'a1'\n",
       "\\item 'a2'\n",
       "\\item 'region\\_ID'\n",
       "\\item 'event\\_ID'\n",
       "\\item 'cos\\_ID'\n",
       "\\item 'vcp'\n",
       "\\item 'cos\\_npc'\n",
       "\\item 'min\\_npc\\_outcome'\n",
       "\\item 'coef'\n",
       "\\item 'studyQTL'\n",
       "\\item 'contexts'\n",
       "\\item 'studyGWAS'\n",
       "\\item 'variant\\_id'\n",
       "\\item 'region'\n",
       "\\item 'cs\\_coverage\\_0.95\\_min\\_corr'\n",
       "\\item 'cs\\_coverage\\_0.7\\_min\\_corr'\n",
       "\\item 'cs\\_coverage\\_0.5\\_min\\_corr'\n",
       "\\item 'pip'\n",
       "\\item 'z'\n",
       "\\item 'gwas\\_cs'\n",
       "\\end{enumerate*}\n"
      ],
      "text/markdown": [
       "1. 'variant_ID'\n",
       "2. '#chr'\n",
       "3. 'start'\n",
       "4. 'end'\n",
       "5. 'a1'\n",
       "6. 'a2'\n",
       "7. 'region_ID'\n",
       "8. 'event_ID'\n",
       "9. 'cos_ID'\n",
       "10. 'vcp'\n",
       "11. 'cos_npc'\n",
       "12. 'min_npc_outcome'\n",
       "13. 'coef'\n",
       "14. 'studyQTL'\n",
       "15. 'contexts'\n",
       "16. 'studyGWAS'\n",
       "17. 'variant_id'\n",
       "18. 'region'\n",
       "19. 'cs_coverage_0.95_min_corr'\n",
       "20. 'cs_coverage_0.7_min_corr'\n",
       "21. 'cs_coverage_0.5_min_corr'\n",
       "22. 'pip'\n",
       "23. 'z'\n",
       "24. 'gwas_cs'\n",
       "\n",
       "\n"
      ],
      "text/plain": [
       " [1] \"variant_ID\"                \"#chr\"                     \n",
       " [3] \"start\"                     \"end\"                      \n",
       " [5] \"a1\"                        \"a2\"                       \n",
       " [7] \"region_ID\"                 \"event_ID\"                 \n",
       " [9] \"cos_ID\"                    \"vcp\"                      \n",
       "[11] \"cos_npc\"                   \"min_npc_outcome\"          \n",
       "[13] \"coef\"                      \"studyQTL\"                 \n",
       "[15] \"contexts\"                  \"studyGWAS\"                \n",
       "[17] \"variant_id\"                \"region\"                   \n",
       "[19] \"cs_coverage_0.95_min_corr\" \"cs_coverage_0.7_min_corr\" \n",
       "[21] \"cs_coverage_0.5_min_corr\"  \"pip\"                      \n",
       "[23] \"z\"                         \"gwas_cs\"                  "
      ]
     },
     "metadata": {},
     "output_type": "display_data"
    }
   ],
   "source": [
    "#head(cb_AD_combined_AD_GWAS_meta_df)\n",
    "colnames(cb_AD_combined_AD_GWAS_meta_df)"
   ]
  },
  {
   "cell_type": "code",
   "execution_count": 84,
   "id": "f9e05075-6264-4789-8094-0fc4b47d1c8d",
   "metadata": {},
   "outputs": [],
   "source": [
    "cb_AD_combined_AD_GWAS_meta_df <- cb_AD_combined_AD_GWAS_meta_df %>% rename(study=studyGWAS)"
   ]
  },
  {
   "cell_type": "code",
   "execution_count": 85,
   "id": "af737e45-20c4-4edd-bd8a-8536755f847b",
   "metadata": {},
   "outputs": [
    {
     "data": {
      "text/html": [
       "<style>\n",
       ".list-inline {list-style: none; margin:0; padding: 0}\n",
       ".list-inline>li {display: inline-block}\n",
       ".list-inline>li:not(:last-child)::after {content: \"\\00b7\"; padding: 0 .5ex}\n",
       "</style>\n",
       "<ol class=list-inline><li>'variant_ID'</li><li>'#chr'</li><li>'start'</li><li>'end'</li><li>'a1'</li><li>'a2'</li><li>'region_ID'</li><li>'event_ID'</li><li>'cos_ID'</li><li>'vcp'</li><li>'cos_npc'</li><li>'min_npc_outcome'</li><li>'coef'</li><li>'studyQTL'</li><li>'contexts'</li><li>'study'</li><li>'variant_id'</li><li>'region'</li><li>'cs_coverage_0.95_min_corr'</li><li>'cs_coverage_0.7_min_corr'</li><li>'cs_coverage_0.5_min_corr'</li><li>'pip'</li><li>'z'</li><li>'gwas_cs'</li></ol>\n"
      ],
      "text/latex": [
       "\\begin{enumerate*}\n",
       "\\item 'variant\\_ID'\n",
       "\\item '\\#chr'\n",
       "\\item 'start'\n",
       "\\item 'end'\n",
       "\\item 'a1'\n",
       "\\item 'a2'\n",
       "\\item 'region\\_ID'\n",
       "\\item 'event\\_ID'\n",
       "\\item 'cos\\_ID'\n",
       "\\item 'vcp'\n",
       "\\item 'cos\\_npc'\n",
       "\\item 'min\\_npc\\_outcome'\n",
       "\\item 'coef'\n",
       "\\item 'studyQTL'\n",
       "\\item 'contexts'\n",
       "\\item 'study'\n",
       "\\item 'variant\\_id'\n",
       "\\item 'region'\n",
       "\\item 'cs\\_coverage\\_0.95\\_min\\_corr'\n",
       "\\item 'cs\\_coverage\\_0.7\\_min\\_corr'\n",
       "\\item 'cs\\_coverage\\_0.5\\_min\\_corr'\n",
       "\\item 'pip'\n",
       "\\item 'z'\n",
       "\\item 'gwas\\_cs'\n",
       "\\end{enumerate*}\n"
      ],
      "text/markdown": [
       "1. 'variant_ID'\n",
       "2. '#chr'\n",
       "3. 'start'\n",
       "4. 'end'\n",
       "5. 'a1'\n",
       "6. 'a2'\n",
       "7. 'region_ID'\n",
       "8. 'event_ID'\n",
       "9. 'cos_ID'\n",
       "10. 'vcp'\n",
       "11. 'cos_npc'\n",
       "12. 'min_npc_outcome'\n",
       "13. 'coef'\n",
       "14. 'studyQTL'\n",
       "15. 'contexts'\n",
       "16. 'study'\n",
       "17. 'variant_id'\n",
       "18. 'region'\n",
       "19. 'cs_coverage_0.95_min_corr'\n",
       "20. 'cs_coverage_0.7_min_corr'\n",
       "21. 'cs_coverage_0.5_min_corr'\n",
       "22. 'pip'\n",
       "23. 'z'\n",
       "24. 'gwas_cs'\n",
       "\n",
       "\n"
      ],
      "text/plain": [
       " [1] \"variant_ID\"                \"#chr\"                     \n",
       " [3] \"start\"                     \"end\"                      \n",
       " [5] \"a1\"                        \"a2\"                       \n",
       " [7] \"region_ID\"                 \"event_ID\"                 \n",
       " [9] \"cos_ID\"                    \"vcp\"                      \n",
       "[11] \"cos_npc\"                   \"min_npc_outcome\"          \n",
       "[13] \"coef\"                      \"studyQTL\"                 \n",
       "[15] \"contexts\"                  \"study\"                    \n",
       "[17] \"variant_id\"                \"region\"                   \n",
       "[19] \"cs_coverage_0.95_min_corr\" \"cs_coverage_0.7_min_corr\" \n",
       "[21] \"cs_coverage_0.5_min_corr\"  \"pip\"                      \n",
       "[23] \"z\"                         \"gwas_cs\"                  "
      ]
     },
     "metadata": {},
     "output_type": "display_data"
    }
   ],
   "source": [
    "colnames(cb_AD_combined_AD_GWAS_meta_df)"
   ]
  },
  {
   "cell_type": "markdown",
   "id": "7292ab34-10b7-4fd3-91d9-c25fdc5b7118",
   "metadata": {},
   "source": [
    "## summarize trans results"
   ]
  },
  {
   "cell_type": "code",
   "execution_count": 86,
   "id": "b3bbb0e2-94e1-441f-a623-e00c90bc050e",
   "metadata": {},
   "outputs": [],
   "source": [
    "library(data.table)\n",
    "library(dplyr)\n",
    "library(stringr)\n",
    "trans_sing_df_raw <- fread('/data/analysis_result/trans/FunGen_xQTL.trans.nofiltered.exported.toploci.bed.gz') %>% mutate(p = 2 * pnorm(-abs(z))) \n",
    "\n",
    "trans_sing_df <- trans_sing_df_raw %>% filter(MAF > 0.05, p < 1E-05) # no MIGA \n",
    "trans_sing_df <- trans_sing_df %>%\n",
    "  mutate(\n",
    "    # resource = str_extract(event_ID, \"^[^_]+_[^_]+\"),  # Remove last part (gene name) to get context\n",
    "    gene_name = str_extract(event_ID, \"[^_]+$\")  # Extract last part (gene name)\n",
    "  )%>%select(-gene_name)\n",
    "#gwas <- fread('/data/interactive_analysis/rl3328/image_QTL/AD_GWAS_finemapping/export/output/extracted_info/109_blocks_top_loci.csv.gz') ## From Ruixi on Mar19, 2025\n",
    "gwas <- fread('/data/interactive_analysis/adpelle1/export/AD_GWAS_finemapping_109_blocks_top_loci_unified_any0.8ANDmin0.5.csv.gz')\n",
    "coverage <- \"cs_coverage_0.95_min_corr\"\n",
    "gwas_95 <- gwas %>%\n",
    "  mutate(!!coverage := abs(.data[[coverage]])) %>%\n",
    "  filter(.data[[coverage]] > 0)\n",
    "AD_gwas_df = gwas_95 %>%mutate(gwas_cs = paste(study,region,.data[[coverage]],sep=\":\"))%>% mutate(variant_ID = paste0('chr', variant_id))\n",
    "AD_gwas_df <- AD_gwas_df%>% filter(!(gwas_cs == \"AD_Bellenguez_2022:chr15_47690138_49901356:1\" & pip==0.998973148941477))\n",
    "coverage <- \"cs_coverage_0.95\""
   ]
  },
  {
   "cell_type": "code",
   "execution_count": 87,
   "id": "b746b67c-6369-4ba7-81fc-3b5438fdc402",
   "metadata": {},
   "outputs": [],
   "source": [
    "trans_AD_GWAS_meta_df <- merge(trans_sing_df%>%\n",
    "                                    filter(.data[[coverage]]>0), AD_gwas_df,  by = 'variant_ID', suffixes = c('QTL', 'GWAS'))"
   ]
  },
  {
   "cell_type": "code",
   "execution_count": 88,
   "id": "771aa3bc-cbbc-4c85-b9e9-577b65319544",
   "metadata": {},
   "outputs": [
    {
     "data": {
      "text/html": [
       "<style>\n",
       ".list-inline {list-style: none; margin:0; padding: 0}\n",
       ".list-inline>li {display: inline-block}\n",
       ".list-inline>li:not(:last-child)::after {content: \"\\00b7\"; padding: 0 .5ex}\n",
       "</style>\n",
       "<ol class=list-inline><li>5491897</li><li>19</li></ol>\n"
      ],
      "text/latex": [
       "\\begin{enumerate*}\n",
       "\\item 5491897\n",
       "\\item 19\n",
       "\\end{enumerate*}\n"
      ],
      "text/markdown": [
       "1. 5491897\n",
       "2. 19\n",
       "\n",
       "\n"
      ],
      "text/plain": [
       "[1] 5491897      19"
      ]
     },
     "metadata": {},
     "output_type": "display_data"
    },
    {
     "data": {
      "text/html": [
       "<style>\n",
       ".list-inline {list-style: none; margin:0; padding: 0}\n",
       ".list-inline>li {display: inline-block}\n",
       ".list-inline>li:not(:last-child)::after {content: \"\\00b7\"; padding: 0 .5ex}\n",
       "</style>\n",
       "<ol class=list-inline><li>3169684</li><li>19</li></ol>\n"
      ],
      "text/latex": [
       "\\begin{enumerate*}\n",
       "\\item 3169684\n",
       "\\item 19\n",
       "\\end{enumerate*}\n"
      ],
      "text/markdown": [
       "1. 3169684\n",
       "2. 19\n",
       "\n",
       "\n"
      ],
      "text/plain": [
       "[1] 3169684      19"
      ]
     },
     "metadata": {},
     "output_type": "display_data"
    }
   ],
   "source": [
    "trans_sing_df_raw %>% dim\n",
    "trans_sing_df %>% dim"
   ]
  },
  {
   "cell_type": "code",
   "execution_count": 89,
   "id": "0f841a92-1a1b-48fa-9fc6-1643cfc78961",
   "metadata": {},
   "outputs": [
    {
     "name": "stderr",
     "output_type": "stream",
     "text": [
      "\u001b[1m\u001b[22mJoining with `by = join_by(cs_id, gwas_cs)`\n"
     ]
    }
   ],
   "source": [
    "#cumsum pip > 0.5\n",
    "trans_AD_GWAS_meta_df <- trans_AD_GWAS_meta_df %>%\n",
    "  mutate(\n",
    "    # create a unique cs_id by combining gene_ID, event_ID, and cs_coverage_0.95\n",
    "    cs_id = paste(gene_ID, event_ID, cs_coverage_0.95, sep = \"_\")\n",
    "  )\n",
    "trans_AD_GWAS_meta_df_cumsum <- trans_AD_GWAS_meta_df %>%\n",
    "  group_by(cs_id, gwas_cs) %>%\n",
    "  summarise(\n",
    "    # sum PIP within each cs_id group\n",
    "    PIP_sum = sum(PIP, na.rm = TRUE),\n",
    "    .groups = \"drop\"\n",
    "  ) %>% filter(PIP_sum > 0.5) %>% left_join(trans_AD_GWAS_meta_df)"
   ]
  },
  {
   "cell_type": "code",
   "execution_count": 90,
   "id": "f2be7bc6-24ce-4fcd-a958-b60d4945b49f",
   "metadata": {},
   "outputs": [
    {
     "data": {
      "text/html": [
       "<style>\n",
       ".list-inline {list-style: none; margin:0; padding: 0}\n",
       ".list-inline>li {display: inline-block}\n",
       ".list-inline>li:not(:last-child)::after {content: \"\\00b7\"; padding: 0 .5ex}\n",
       "</style>\n",
       "<ol class=list-inline><li>11423</li><li>29</li></ol>\n"
      ],
      "text/latex": [
       "\\begin{enumerate*}\n",
       "\\item 11423\n",
       "\\item 29\n",
       "\\end{enumerate*}\n"
      ],
      "text/markdown": [
       "1. 11423\n",
       "2. 29\n",
       "\n",
       "\n"
      ],
      "text/plain": [
       "[1] 11423    29"
      ]
     },
     "metadata": {},
     "output_type": "display_data"
    },
    {
     "data": {
      "text/html": [
       "<style>\n",
       ".list-inline {list-style: none; margin:0; padding: 0}\n",
       ".list-inline>li {display: inline-block}\n",
       ".list-inline>li:not(:last-child)::after {content: \"\\00b7\"; padding: 0 .5ex}\n",
       "</style>\n",
       "<ol class=list-inline><li>10852</li><li>30</li></ol>\n"
      ],
      "text/latex": [
       "\\begin{enumerate*}\n",
       "\\item 10852\n",
       "\\item 30\n",
       "\\end{enumerate*}\n"
      ],
      "text/markdown": [
       "1. 10852\n",
       "2. 30\n",
       "\n",
       "\n"
      ],
      "text/plain": [
       "[1] 10852    30"
      ]
     },
     "metadata": {},
     "output_type": "display_data"
    }
   ],
   "source": [
    "trans_AD_GWAS_meta_df %>% dim\n",
    "trans_AD_GWAS_meta_df_cumsum %>% dim"
   ]
  },
  {
   "cell_type": "code",
   "execution_count": 91,
   "id": "5717e29b-af37-4c5d-849c-4d564bcbc047",
   "metadata": {},
   "outputs": [],
   "source": [
    "trans_95_info_raw <- trans_sing_df_raw %>% filter(.data[[coverage]]>0) %>% mutate(cs_id = paste(gene_ID, event_ID, cs_coverage_0.95, sep = \"_\"))"
   ]
  },
  {
   "cell_type": "code",
   "execution_count": 92,
   "id": "facd1dcc-442d-42e3-8ca7-8b75c0f7fd7b",
   "metadata": {},
   "outputs": [
    {
     "data": {
      "text/html": [
       "219555"
      ],
      "text/latex": [
       "219555"
      ],
      "text/markdown": [
       "219555"
      ],
      "text/plain": [
       "[1] 219555"
      ]
     },
     "metadata": {},
     "output_type": "display_data"
    }
   ],
   "source": [
    "trans_95_info_raw %>% pull(cs_id) %>% unique %>% length"
   ]
  },
  {
   "cell_type": "code",
   "execution_count": 93,
   "id": "55d9872d-c3f8-4024-bb1e-6358bee82a59",
   "metadata": {},
   "outputs": [],
   "source": [
    "trans_95_info <- trans_sing_df %>% filter(.data[[coverage]]>0) %>% mutate(cs_id = paste(gene_ID, event_ID, cs_coverage_0.95, sep = \"_\"))"
   ]
  },
  {
   "cell_type": "code",
   "execution_count": 94,
   "id": "411762cb-bced-4772-9694-62c5413819b5",
   "metadata": {},
   "outputs": [
    {
     "data": {
      "text/html": [
       "83034"
      ],
      "text/latex": [
       "83034"
      ],
      "text/markdown": [
       "83034"
      ],
      "text/plain": [
       "[1] 83034"
      ]
     },
     "metadata": {},
     "output_type": "display_data"
    }
   ],
   "source": [
    "trans_95_info %>% pull(cs_id) %>% unique %>% length"
   ]
  },
  {
   "cell_type": "code",
   "execution_count": null,
   "id": "dccd8e45-9515-4071-a109-66f0175e8bd6",
   "metadata": {},
   "outputs": [],
   "source": []
  },
  {
   "cell_type": "markdown",
   "id": "e463c8ac-2d38-4657-ab12-5f6b63b28c4a",
   "metadata": {},
   "source": [
    "## summarize fsusie results"
   ]
  },
  {
   "cell_type": "code",
   "execution_count": 116,
   "id": "637fa680-82fd-4141-a73a-ccf95f43283c",
   "metadata": {},
   "outputs": [],
   "source": [
    "fsusie_df <- readRDS(\"/data/interactive_analysis/hs3163/GIT/xqtl-paper/landscape_analysis/AD_loci_xQTL_context_method_summary.fsusie.rds\")\n",
    "snATAC <- c('ROSMAP_snATAC_Kelis_Ast','ROSMAP_snATAC_Kelis_Exc','ROSMAP_snATAC_Kelis_Inh','ROSMAP_snATAC_Kelis_Mic','ROSMAP_snATAC_Kelis_OPC','ROSMAP_snATAC_Kelis_Oli')\n",
    "fsusie_AD_GWAS_meta_df <- fsusie_df %>% filter(resource == \"builk_fsusie_coloc\")%>%filter(!event_ID%in% snATAC) %>% select(-resource)%>% mutate(resource = \"single_context and single_gene\")\n"
   ]
  },
  {
   "cell_type": "markdown",
   "id": "1401b676-7a3a-4af5-9726-92b65e33e38d",
   "metadata": {},
   "source": [
    "### combine all"
   ]
  },
  {
   "cell_type": "code",
   "execution_count": 117,
   "id": "27c7fa29-55c9-4a4d-a6b9-04f497c3a6ed",
   "metadata": {},
   "outputs": [],
   "source": [
    "extracted_colnames <- c('variant_ID','#chr','start','end','a1','a2','gene_ID','event_ID','variant_id','z','pip','study','region','gwas_cs')"
   ]
  },
  {
   "cell_type": "code",
   "execution_count": 118,
   "id": "7cf015c1-462c-41f2-a34a-76c9af704c81",
   "metadata": {},
   "outputs": [],
   "source": [
    "all_95_95 <- plyr::rbind.fill(single_context_AD_GWAS_meta_df%>%select(any_of(extracted_colnames))%>% mutate(resource = 'single_context'),\n",
    "                   multi_context_AD_GWAS_meta_df%>%select(any_of(extracted_colnames)) %>% mutate(resource = 'multi_context'),\n",
    "                   metabrain_AD_GWAS_meta_df%>%select(any_of(extracted_colnames))%>%mutate(resource = 'single_context'),\n",
    "                   trans_AD_GWAS_meta_df_cumsum%>%select(any_of(extracted_colnames))%>%mutate(resource = 'trans'),\n",
    "                   fsusie_AD_GWAS_meta_df%>%select(any_of(extracted_colnames))%>%mutate(resource = 'epigenomic'),\n",
    "                   cb_AD_combined_AD_GWAS_meta_df%>%select(any_of(extracted_colnames)) %>% mutate(resource = 'multi_context'),\n",
    "                   multigene_AD_GWAS_meta_df%>%select(any_of(extracted_colnames)) %>% mutate(resource = 'multi_gene'))\n",
    "all_95_95_cs <- all_95_95 %>%\n",
    "  group_by(gwas_cs) %>%\n",
    "  summarise(resources = paste(unique(resource), collapse = \",\"))\n",
    "all_95_95_cs_explain <- merge(AD_gwas_df, all_95_95_cs, all.x = T) %>% select(gwas_cs, study, resources) %>% distinct"
   ]
  },
  {
   "cell_type": "code",
   "execution_count": 119,
   "id": "7bd0cca2-2f91-4e70-9aa6-b4dceae90418",
   "metadata": {},
   "outputs": [],
   "source": [
    "all_95_95 %>% saveRDS(\"all_methods_95_df.rds\")"
   ]
  },
  {
   "cell_type": "code",
   "execution_count": 120,
   "id": "7c1b0513-d120-4850-a46b-7f6278fd82f0",
   "metadata": {},
   "outputs": [],
   "source": [
    "saveRDS(all_95_95_cs_explain, \"method_explain_AD_loci.rds\")\n"
   ]
  },
  {
   "cell_type": "code",
   "execution_count": 121,
   "id": "7b691d52-858f-4497-9507-99a91d89ac94",
   "metadata": {},
   "outputs": [],
   "source": [
    "all_95_95_cs %>% saveRDS(\"AD_loci_explained_by_methods.rds\")"
   ]
  },
  {
   "cell_type": "code",
   "execution_count": null,
   "id": "ba6cdb7c-afed-437f-ba46-bef591144e7e",
   "metadata": {},
   "outputs": [],
   "source": []
  },
  {
   "cell_type": "code",
   "execution_count": 122,
   "id": "2fdc068e-3e82-40ba-825b-7c7f0d4ec69e",
   "metadata": {},
   "outputs": [],
   "source": [
    "all_95_95_cs <- readRDS(\"AD_loci_explained_by_methods.rds\")"
   ]
  },
  {
   "cell_type": "code",
   "execution_count": 41,
   "id": "abc83eed-9cd1-4552-ac0f-5c69e9fda6dd",
   "metadata": {},
   "outputs": [],
   "source": [
    "# all_95_95 <- rbind(single_context_AD_GWAS_meta_df%>%select(any_of(extracted_colnames))%>% mutate(resource = 'single_context'),\n",
    "#                    multi_context_AD_GWAS_meta_df%>%select(any_of(extracted_colnames)) %>% mutate(resource = 'multi_context'),\n",
    "#                    metabrain_AD_GWAS_meta_df%>%select(any_of(extracted_colnames))%>%mutate(resource = 'single_context'),\n",
    "#                    cb_AD_combined_AD_GWAS_meta_df%>%select(any_of(extracted_colnames)) %>% mutate(resource = 'ColocBoost'),\n",
    "#                    multigene_AD_GWAS_meta_df%>%select(any_of(extracted_colnames)) %>% mutate(resource = 'multi_gene'), fill=T)"
   ]
  },
  {
   "cell_type": "markdown",
   "id": "dc7251da-87dd-451d-b45d-da9b90ddf25f",
   "metadata": {},
   "source": [
    "## plot susie upsetR "
   ]
  },
  {
   "cell_type": "code",
   "execution_count": 123,
   "id": "36fb935c-3457-479c-85c0-e28fbb916c9d",
   "metadata": {},
   "outputs": [
    {
     "data": {
      "text/html": [
       "<table class=\"dataframe\">\n",
       "<caption>A data.frame: 6 × 15</caption>\n",
       "<thead>\n",
       "\t<tr><th></th><th scope=col>variant_ID</th><th scope=col>#chr</th><th scope=col>start</th><th scope=col>end</th><th scope=col>a1</th><th scope=col>a2</th><th scope=col>gene_ID</th><th scope=col>event_ID</th><th scope=col>variant_id</th><th scope=col>z</th><th scope=col>pip</th><th scope=col>study</th><th scope=col>region</th><th scope=col>gwas_cs</th><th scope=col>resource</th></tr>\n",
       "\t<tr><th></th><th scope=col>&lt;chr&gt;</th><th scope=col>&lt;chr&gt;</th><th scope=col>&lt;dbl&gt;</th><th scope=col>&lt;dbl&gt;</th><th scope=col>&lt;chr&gt;</th><th scope=col>&lt;chr&gt;</th><th scope=col>&lt;chr&gt;</th><th scope=col>&lt;chr&gt;</th><th scope=col>&lt;chr&gt;</th><th scope=col>&lt;dbl&gt;</th><th scope=col>&lt;dbl&gt;</th><th scope=col>&lt;chr&gt;</th><th scope=col>&lt;chr&gt;</th><th scope=col>&lt;chr&gt;</th><th scope=col>&lt;chr&gt;</th></tr>\n",
       "</thead>\n",
       "<tbody>\n",
       "\t<tr><th scope=row>1</th><td>chr10:11678309:A:G</td><td>10</td><td>11678308</td><td>11678309</td><td>G</td><td>A</td><td>ENSG00000148429</td><td>Mic_mega_eQTL   </td><td>10:11678309:A:G</td><td>      NA</td><td>        NA</td><td>AD_Bellenguez_2022               </td><td>chr10_10500888_12817813</td><td>AD_Bellenguez_2022:chr10_10500888_12817813:1               </td><td>single_context</td></tr>\n",
       "\t<tr><th scope=row>2</th><td>chr10:11678309:A:G</td><td>10</td><td>11678308</td><td>11678309</td><td>G</td><td>A</td><td>ENSG00000148429</td><td>Mic_mega_eQTL   </td><td>10:11678309:A:G</td><td>5.645878</td><td>0.18080328</td><td>AD_Jansen_2021                   </td><td>chr10_10500888_12817813</td><td>AD_Jansen_2021:chr10_10500888_12817813:1                   </td><td>single_context</td></tr>\n",
       "\t<tr><th scope=row>3</th><td>chr10:11678309:A:G</td><td>10</td><td>11678308</td><td>11678309</td><td>G</td><td>A</td><td>ENSG00000148429</td><td>Mic_mega_eQTL   </td><td>10:11678309:A:G</td><td>7.374065</td><td>0.05051167</td><td>AD_Wightman_Full_2021            </td><td>chr10_10500888_12817813</td><td>AD_Wightman_Full_2021:chr10_10500888_12817813:1            </td><td>single_context</td></tr>\n",
       "\t<tr><th scope=row>4</th><td>chr10:11678309:A:G</td><td>10</td><td>11678308</td><td>11678309</td><td>G</td><td>A</td><td>ENSG00000148429</td><td>Mic_mega_eQTL   </td><td>10:11678309:A:G</td><td>6.603571</td><td>0.49184952</td><td>AD_Wightman_Excluding23andMe_2021</td><td>chr10_10500888_12817813</td><td>AD_Wightman_Excluding23andMe_2021:chr10_10500888_12817813:1</td><td>single_context</td></tr>\n",
       "\t<tr><th scope=row>5</th><td>chr10:11678309:A:G</td><td>10</td><td>11678308</td><td>11678309</td><td>G</td><td>A</td><td>ENSG00000148429</td><td>Mic_DeJager_eQTL</td><td>10:11678309:A:G</td><td>      NA</td><td>        NA</td><td>AD_Bellenguez_2022               </td><td>chr10_10500888_12817813</td><td>AD_Bellenguez_2022:chr10_10500888_12817813:1               </td><td>single_context</td></tr>\n",
       "\t<tr><th scope=row>6</th><td>chr10:11678309:A:G</td><td>10</td><td>11678308</td><td>11678309</td><td>G</td><td>A</td><td>ENSG00000148429</td><td>Mic_DeJager_eQTL</td><td>10:11678309:A:G</td><td>5.645878</td><td>0.18080328</td><td>AD_Jansen_2021                   </td><td>chr10_10500888_12817813</td><td>AD_Jansen_2021:chr10_10500888_12817813:1                   </td><td>single_context</td></tr>\n",
       "</tbody>\n",
       "</table>\n"
      ],
      "text/latex": [
       "A data.frame: 6 × 15\n",
       "\\begin{tabular}{r|lllllllllllllll}\n",
       "  & variant\\_ID & \\#chr & start & end & a1 & a2 & gene\\_ID & event\\_ID & variant\\_id & z & pip & study & region & gwas\\_cs & resource\\\\\n",
       "  & <chr> & <chr> & <dbl> & <dbl> & <chr> & <chr> & <chr> & <chr> & <chr> & <dbl> & <dbl> & <chr> & <chr> & <chr> & <chr>\\\\\n",
       "\\hline\n",
       "\t1 & chr10:11678309:A:G & 10 & 11678308 & 11678309 & G & A & ENSG00000148429 & Mic\\_mega\\_eQTL    & 10:11678309:A:G &       NA &         NA & AD\\_Bellenguez\\_2022                & chr10\\_10500888\\_12817813 & AD\\_Bellenguez\\_2022:chr10\\_10500888\\_12817813:1                & single\\_context\\\\\n",
       "\t2 & chr10:11678309:A:G & 10 & 11678308 & 11678309 & G & A & ENSG00000148429 & Mic\\_mega\\_eQTL    & 10:11678309:A:G & 5.645878 & 0.18080328 & AD\\_Jansen\\_2021                    & chr10\\_10500888\\_12817813 & AD\\_Jansen\\_2021:chr10\\_10500888\\_12817813:1                    & single\\_context\\\\\n",
       "\t3 & chr10:11678309:A:G & 10 & 11678308 & 11678309 & G & A & ENSG00000148429 & Mic\\_mega\\_eQTL    & 10:11678309:A:G & 7.374065 & 0.05051167 & AD\\_Wightman\\_Full\\_2021             & chr10\\_10500888\\_12817813 & AD\\_Wightman\\_Full\\_2021:chr10\\_10500888\\_12817813:1             & single\\_context\\\\\n",
       "\t4 & chr10:11678309:A:G & 10 & 11678308 & 11678309 & G & A & ENSG00000148429 & Mic\\_mega\\_eQTL    & 10:11678309:A:G & 6.603571 & 0.49184952 & AD\\_Wightman\\_Excluding23andMe\\_2021 & chr10\\_10500888\\_12817813 & AD\\_Wightman\\_Excluding23andMe\\_2021:chr10\\_10500888\\_12817813:1 & single\\_context\\\\\n",
       "\t5 & chr10:11678309:A:G & 10 & 11678308 & 11678309 & G & A & ENSG00000148429 & Mic\\_DeJager\\_eQTL & 10:11678309:A:G &       NA &         NA & AD\\_Bellenguez\\_2022                & chr10\\_10500888\\_12817813 & AD\\_Bellenguez\\_2022:chr10\\_10500888\\_12817813:1                & single\\_context\\\\\n",
       "\t6 & chr10:11678309:A:G & 10 & 11678308 & 11678309 & G & A & ENSG00000148429 & Mic\\_DeJager\\_eQTL & 10:11678309:A:G & 5.645878 & 0.18080328 & AD\\_Jansen\\_2021                    & chr10\\_10500888\\_12817813 & AD\\_Jansen\\_2021:chr10\\_10500888\\_12817813:1                    & single\\_context\\\\\n",
       "\\end{tabular}\n"
      ],
      "text/markdown": [
       "\n",
       "A data.frame: 6 × 15\n",
       "\n",
       "| <!--/--> | variant_ID &lt;chr&gt; | #chr &lt;chr&gt; | start &lt;dbl&gt; | end &lt;dbl&gt; | a1 &lt;chr&gt; | a2 &lt;chr&gt; | gene_ID &lt;chr&gt; | event_ID &lt;chr&gt; | variant_id &lt;chr&gt; | z &lt;dbl&gt; | pip &lt;dbl&gt; | study &lt;chr&gt; | region &lt;chr&gt; | gwas_cs &lt;chr&gt; | resource &lt;chr&gt; |\n",
       "|---|---|---|---|---|---|---|---|---|---|---|---|---|---|---|---|\n",
       "| 1 | chr10:11678309:A:G | 10 | 11678308 | 11678309 | G | A | ENSG00000148429 | Mic_mega_eQTL    | 10:11678309:A:G |       NA |         NA | AD_Bellenguez_2022                | chr10_10500888_12817813 | AD_Bellenguez_2022:chr10_10500888_12817813:1                | single_context |\n",
       "| 2 | chr10:11678309:A:G | 10 | 11678308 | 11678309 | G | A | ENSG00000148429 | Mic_mega_eQTL    | 10:11678309:A:G | 5.645878 | 0.18080328 | AD_Jansen_2021                    | chr10_10500888_12817813 | AD_Jansen_2021:chr10_10500888_12817813:1                    | single_context |\n",
       "| 3 | chr10:11678309:A:G | 10 | 11678308 | 11678309 | G | A | ENSG00000148429 | Mic_mega_eQTL    | 10:11678309:A:G | 7.374065 | 0.05051167 | AD_Wightman_Full_2021             | chr10_10500888_12817813 | AD_Wightman_Full_2021:chr10_10500888_12817813:1             | single_context |\n",
       "| 4 | chr10:11678309:A:G | 10 | 11678308 | 11678309 | G | A | ENSG00000148429 | Mic_mega_eQTL    | 10:11678309:A:G | 6.603571 | 0.49184952 | AD_Wightman_Excluding23andMe_2021 | chr10_10500888_12817813 | AD_Wightman_Excluding23andMe_2021:chr10_10500888_12817813:1 | single_context |\n",
       "| 5 | chr10:11678309:A:G | 10 | 11678308 | 11678309 | G | A | ENSG00000148429 | Mic_DeJager_eQTL | 10:11678309:A:G |       NA |         NA | AD_Bellenguez_2022                | chr10_10500888_12817813 | AD_Bellenguez_2022:chr10_10500888_12817813:1                | single_context |\n",
       "| 6 | chr10:11678309:A:G | 10 | 11678308 | 11678309 | G | A | ENSG00000148429 | Mic_DeJager_eQTL | 10:11678309:A:G | 5.645878 | 0.18080328 | AD_Jansen_2021                    | chr10_10500888_12817813 | AD_Jansen_2021:chr10_10500888_12817813:1                    | single_context |\n",
       "\n"
      ],
      "text/plain": [
       "  variant_ID         #chr start    end      a1 a2 gene_ID        \n",
       "1 chr10:11678309:A:G 10   11678308 11678309 G  A  ENSG00000148429\n",
       "2 chr10:11678309:A:G 10   11678308 11678309 G  A  ENSG00000148429\n",
       "3 chr10:11678309:A:G 10   11678308 11678309 G  A  ENSG00000148429\n",
       "4 chr10:11678309:A:G 10   11678308 11678309 G  A  ENSG00000148429\n",
       "5 chr10:11678309:A:G 10   11678308 11678309 G  A  ENSG00000148429\n",
       "6 chr10:11678309:A:G 10   11678308 11678309 G  A  ENSG00000148429\n",
       "  event_ID         variant_id      z        pip       \n",
       "1 Mic_mega_eQTL    10:11678309:A:G       NA         NA\n",
       "2 Mic_mega_eQTL    10:11678309:A:G 5.645878 0.18080328\n",
       "3 Mic_mega_eQTL    10:11678309:A:G 7.374065 0.05051167\n",
       "4 Mic_mega_eQTL    10:11678309:A:G 6.603571 0.49184952\n",
       "5 Mic_DeJager_eQTL 10:11678309:A:G       NA         NA\n",
       "6 Mic_DeJager_eQTL 10:11678309:A:G 5.645878 0.18080328\n",
       "  study                             region                 \n",
       "1 AD_Bellenguez_2022                chr10_10500888_12817813\n",
       "2 AD_Jansen_2021                    chr10_10500888_12817813\n",
       "3 AD_Wightman_Full_2021             chr10_10500888_12817813\n",
       "4 AD_Wightman_Excluding23andMe_2021 chr10_10500888_12817813\n",
       "5 AD_Bellenguez_2022                chr10_10500888_12817813\n",
       "6 AD_Jansen_2021                    chr10_10500888_12817813\n",
       "  gwas_cs                                                     resource      \n",
       "1 AD_Bellenguez_2022:chr10_10500888_12817813:1                single_context\n",
       "2 AD_Jansen_2021:chr10_10500888_12817813:1                    single_context\n",
       "3 AD_Wightman_Full_2021:chr10_10500888_12817813:1             single_context\n",
       "4 AD_Wightman_Excluding23andMe_2021:chr10_10500888_12817813:1 single_context\n",
       "5 AD_Bellenguez_2022:chr10_10500888_12817813:1                single_context\n",
       "6 AD_Jansen_2021:chr10_10500888_12817813:1                    single_context"
      ]
     },
     "metadata": {},
     "output_type": "display_data"
    }
   ],
   "source": [
    "head(all_95_95)"
   ]
  },
  {
   "cell_type": "code",
   "execution_count": 124,
   "id": "aa8e3409-421d-49eb-808c-279e9a3a2c66",
   "metadata": {},
   "outputs": [
    {
     "data": {
      "text/html": [
       "<table class=\"dataframe\">\n",
       "<caption>A tibble: 6 × 2</caption>\n",
       "<thead>\n",
       "\t<tr><th scope=col>gwas_cs</th><th scope=col>resources</th></tr>\n",
       "\t<tr><th scope=col>&lt;chr&gt;</th><th scope=col>&lt;chr&gt;</th></tr>\n",
       "</thead>\n",
       "<tbody>\n",
       "\t<tr><td>AD_Bellenguez_2022:chr10_10500888_12817813:1  </td><td>single_context,multi_context,trans           </td></tr>\n",
       "\t<tr><td>AD_Bellenguez_2022:chr10_57667362_59558848:1  </td><td>single_context,multi_context,trans,epigenomic</td></tr>\n",
       "\t<tr><td>AD_Bellenguez_2022:chr10_59558848_62446953:1  </td><td>single_context,multi_context                 </td></tr>\n",
       "\t<tr><td>AD_Bellenguez_2022:chr10_80126158_82231647:1  </td><td>single_context,multi_context                 </td></tr>\n",
       "\t<tr><td>AD_Bellenguez_2022:chr10_95280986_98320874:1  </td><td>single_context,multi_context                 </td></tr>\n",
       "\t<tr><td>AD_Bellenguez_2022:chr11_119829118_122612025:1</td><td>single_context,multi_context                 </td></tr>\n",
       "</tbody>\n",
       "</table>\n"
      ],
      "text/latex": [
       "A tibble: 6 × 2\n",
       "\\begin{tabular}{ll}\n",
       " gwas\\_cs & resources\\\\\n",
       " <chr> & <chr>\\\\\n",
       "\\hline\n",
       "\t AD\\_Bellenguez\\_2022:chr10\\_10500888\\_12817813:1   & single\\_context,multi\\_context,trans           \\\\\n",
       "\t AD\\_Bellenguez\\_2022:chr10\\_57667362\\_59558848:1   & single\\_context,multi\\_context,trans,epigenomic\\\\\n",
       "\t AD\\_Bellenguez\\_2022:chr10\\_59558848\\_62446953:1   & single\\_context,multi\\_context                 \\\\\n",
       "\t AD\\_Bellenguez\\_2022:chr10\\_80126158\\_82231647:1   & single\\_context,multi\\_context                 \\\\\n",
       "\t AD\\_Bellenguez\\_2022:chr10\\_95280986\\_98320874:1   & single\\_context,multi\\_context                 \\\\\n",
       "\t AD\\_Bellenguez\\_2022:chr11\\_119829118\\_122612025:1 & single\\_context,multi\\_context                 \\\\\n",
       "\\end{tabular}\n"
      ],
      "text/markdown": [
       "\n",
       "A tibble: 6 × 2\n",
       "\n",
       "| gwas_cs &lt;chr&gt; | resources &lt;chr&gt; |\n",
       "|---|---|\n",
       "| AD_Bellenguez_2022:chr10_10500888_12817813:1   | single_context,multi_context,trans            |\n",
       "| AD_Bellenguez_2022:chr10_57667362_59558848:1   | single_context,multi_context,trans,epigenomic |\n",
       "| AD_Bellenguez_2022:chr10_59558848_62446953:1   | single_context,multi_context                  |\n",
       "| AD_Bellenguez_2022:chr10_80126158_82231647:1   | single_context,multi_context                  |\n",
       "| AD_Bellenguez_2022:chr10_95280986_98320874:1   | single_context,multi_context                  |\n",
       "| AD_Bellenguez_2022:chr11_119829118_122612025:1 | single_context,multi_context                  |\n",
       "\n"
      ],
      "text/plain": [
       "  gwas_cs                                       \n",
       "1 AD_Bellenguez_2022:chr10_10500888_12817813:1  \n",
       "2 AD_Bellenguez_2022:chr10_57667362_59558848:1  \n",
       "3 AD_Bellenguez_2022:chr10_59558848_62446953:1  \n",
       "4 AD_Bellenguez_2022:chr10_80126158_82231647:1  \n",
       "5 AD_Bellenguez_2022:chr10_95280986_98320874:1  \n",
       "6 AD_Bellenguez_2022:chr11_119829118_122612025:1\n",
       "  resources                                    \n",
       "1 single_context,multi_context,trans           \n",
       "2 single_context,multi_context,trans,epigenomic\n",
       "3 single_context,multi_context                 \n",
       "4 single_context,multi_context                 \n",
       "5 single_context,multi_context                 \n",
       "6 single_context,multi_context                 "
      ]
     },
     "metadata": {},
     "output_type": "display_data"
    }
   ],
   "source": [
    "all_95_95_cs %>% head"
   ]
  },
  {
   "cell_type": "code",
   "execution_count": 125,
   "id": "c5bcdce6-3bc3-4297-af4b-8036ea74a4c7",
   "metadata": {},
   "outputs": [],
   "source": [
    "all_95_95_cs_explain <- readRDS(\"method_explain_AD_loci.rds\")\n"
   ]
  },
  {
   "cell_type": "code",
   "execution_count": 126,
   "id": "ffa74fea-927d-4bee-9a3a-c593f0d1f182",
   "metadata": {},
   "outputs": [
    {
     "data": {
      "text/plain": [
       ".\n",
       "                                           multi_context \n",
       "                                                      15 \n",
       "                                multi_context,epigenomic \n",
       "                                                       3 \n",
       "                                     multi_context,trans \n",
       "                                                       2 \n",
       "                                          single_context \n",
       "                                                       7 \n",
       "                            single_context,multi_context \n",
       "                                                      38 \n",
       "                 single_context,multi_context,multi_gene \n",
       "                                                       2 \n",
       "                      single_context,multi_context,trans \n",
       "                                                      27 \n",
       "           single_context,multi_context,trans,epigenomic \n",
       "                                                       1 \n",
       "single_context,multi_context,trans,epigenomic,multi_gene \n",
       "                                                       6 \n",
       "           single_context,multi_context,trans,multi_gene \n",
       "                                                      11 \n",
       "                                    single_context,trans \n",
       "                                                       4 \n",
       "                      single_context,trans,multi_context \n",
       "                                                       6 \n",
       "                                                   trans \n",
       "                                                      13 \n",
       "                                     trans,multi_context \n",
       "                                                       8 "
      ]
     },
     "metadata": {},
     "output_type": "display_data"
    }
   ],
   "source": [
    "library(dplyr)\n",
    "all_95_95_cs_explain %>% pull(resources) %>% table"
   ]
  },
  {
   "cell_type": "code",
   "execution_count": 127,
   "id": "c718d173-e939-4bef-8a61-d28d385b3bd3",
   "metadata": {},
   "outputs": [
    {
     "data": {
      "text/plain": [
       ".\n",
       "                                           multi_context \n",
       "                                                      15 \n",
       "                                multi_context,epigenomic \n",
       "                                                       3 \n",
       "                                     multi_context,trans \n",
       "                                                       2 \n",
       "                                          single_context \n",
       "                                                       7 \n",
       "                            single_context,multi_context \n",
       "                                                      38 \n",
       "                 single_context,multi_context,multi_gene \n",
       "                                                       2 \n",
       "                      single_context,multi_context,trans \n",
       "                                                      27 \n",
       "           single_context,multi_context,trans,epigenomic \n",
       "                                                       1 \n",
       "single_context,multi_context,trans,epigenomic,multi_gene \n",
       "                                                       6 \n",
       "           single_context,multi_context,trans,multi_gene \n",
       "                                                      11 \n",
       "                                    single_context,trans \n",
       "                                                       4 \n",
       "                      single_context,trans,multi_context \n",
       "                                                       6 \n",
       "                                                   trans \n",
       "                                                      13 \n",
       "                                     trans,multi_context \n",
       "                                                       8 "
      ]
     },
     "metadata": {},
     "output_type": "display_data"
    }
   ],
   "source": [
    "library(dplyr)\n",
    "all_95_95_cs_explain %>% pull(resources) %>% table"
   ]
  },
  {
   "cell_type": "code",
   "execution_count": 128,
   "id": "fa4307b6-912d-4fca-9ec9-201e3cb0af99",
   "metadata": {},
   "outputs": [
    {
     "data": {
      "text/html": [
       "<style>\n",
       ".list-inline {list-style: none; margin:0; padding: 0}\n",
       ".list-inline>li {display: inline-block}\n",
       ".list-inline>li:not(:last-child)::after {content: \"\\00b7\"; padding: 0 .5ex}\n",
       "</style>\n",
       "<ol class=list-inline><li>'single_context,multi_context,trans'</li><li>'single_context,multi_context,trans,epigenomic'</li><li>'single_context,multi_context'</li><li>'trans'</li><li>'multi_context'</li><li>NA</li><li>'single_context,trans'</li><li>'multi_context,epigenomic'</li><li>'single_context,multi_context,trans,multi_gene'</li><li>'single_context,trans,multi_context'</li><li>'single_context'</li><li>'trans,multi_context'</li><li>'single_context,multi_context,trans,epigenomic,multi_gene'</li><li>'single_context,multi_context,multi_gene'</li><li>'multi_context,trans'</li></ol>\n"
      ],
      "text/latex": [
       "\\begin{enumerate*}\n",
       "\\item 'single\\_context,multi\\_context,trans'\n",
       "\\item 'single\\_context,multi\\_context,trans,epigenomic'\n",
       "\\item 'single\\_context,multi\\_context'\n",
       "\\item 'trans'\n",
       "\\item 'multi\\_context'\n",
       "\\item NA\n",
       "\\item 'single\\_context,trans'\n",
       "\\item 'multi\\_context,epigenomic'\n",
       "\\item 'single\\_context,multi\\_context,trans,multi\\_gene'\n",
       "\\item 'single\\_context,trans,multi\\_context'\n",
       "\\item 'single\\_context'\n",
       "\\item 'trans,multi\\_context'\n",
       "\\item 'single\\_context,multi\\_context,trans,epigenomic,multi\\_gene'\n",
       "\\item 'single\\_context,multi\\_context,multi\\_gene'\n",
       "\\item 'multi\\_context,trans'\n",
       "\\end{enumerate*}\n"
      ],
      "text/markdown": [
       "1. 'single_context,multi_context,trans'\n",
       "2. 'single_context,multi_context,trans,epigenomic'\n",
       "3. 'single_context,multi_context'\n",
       "4. 'trans'\n",
       "5. 'multi_context'\n",
       "6. NA\n",
       "7. 'single_context,trans'\n",
       "8. 'multi_context,epigenomic'\n",
       "9. 'single_context,multi_context,trans,multi_gene'\n",
       "10. 'single_context,trans,multi_context'\n",
       "11. 'single_context'\n",
       "12. 'trans,multi_context'\n",
       "13. 'single_context,multi_context,trans,epigenomic,multi_gene'\n",
       "14. 'single_context,multi_context,multi_gene'\n",
       "15. 'multi_context,trans'\n",
       "\n",
       "\n"
      ],
      "text/plain": [
       " [1] \"single_context,multi_context,trans\"                      \n",
       " [2] \"single_context,multi_context,trans,epigenomic\"           \n",
       " [3] \"single_context,multi_context\"                            \n",
       " [4] \"trans\"                                                   \n",
       " [5] \"multi_context\"                                           \n",
       " [6] NA                                                        \n",
       " [7] \"single_context,trans\"                                    \n",
       " [8] \"multi_context,epigenomic\"                                \n",
       " [9] \"single_context,multi_context,trans,multi_gene\"           \n",
       "[10] \"single_context,trans,multi_context\"                      \n",
       "[11] \"single_context\"                                          \n",
       "[12] \"trans,multi_context\"                                     \n",
       "[13] \"single_context,multi_context,trans,epigenomic,multi_gene\"\n",
       "[14] \"single_context,multi_context,multi_gene\"                 \n",
       "[15] \"multi_context,trans\"                                     "
      ]
     },
     "metadata": {},
     "output_type": "display_data"
    }
   ],
   "source": [
    "all_95_95_cs_explain %>% pull(resources)%>%unique()"
   ]
  },
  {
   "cell_type": "code",
   "execution_count": 129,
   "id": "da2d1232-370d-40f6-a9ad-871c394103fc",
   "metadata": {},
   "outputs": [
    {
     "data": {
      "text/html": [
       "<table class=\"dataframe\">\n",
       "<caption>A tibble: 6 × 2</caption>\n",
       "<thead>\n",
       "\t<tr><th scope=col>gwas_cs</th><th scope=col>resources</th></tr>\n",
       "\t<tr><th scope=col>&lt;chr&gt;</th><th scope=col>&lt;chr&gt;</th></tr>\n",
       "</thead>\n",
       "<tbody>\n",
       "\t<tr><td>AD_Bellenguez_2022:chr10_10500888_12817813:1  </td><td>single_context,multi_context,trans           </td></tr>\n",
       "\t<tr><td>AD_Bellenguez_2022:chr10_57667362_59558848:1  </td><td>single_context,multi_context,trans,epigenomic</td></tr>\n",
       "\t<tr><td>AD_Bellenguez_2022:chr10_59558848_62446953:1  </td><td>single_context,multi_context                 </td></tr>\n",
       "\t<tr><td>AD_Bellenguez_2022:chr10_80126158_82231647:1  </td><td>single_context,multi_context                 </td></tr>\n",
       "\t<tr><td>AD_Bellenguez_2022:chr10_95280986_98320874:1  </td><td>single_context,multi_context                 </td></tr>\n",
       "\t<tr><td>AD_Bellenguez_2022:chr11_119829118_122612025:1</td><td>single_context,multi_context                 </td></tr>\n",
       "</tbody>\n",
       "</table>\n"
      ],
      "text/latex": [
       "A tibble: 6 × 2\n",
       "\\begin{tabular}{ll}\n",
       " gwas\\_cs & resources\\\\\n",
       " <chr> & <chr>\\\\\n",
       "\\hline\n",
       "\t AD\\_Bellenguez\\_2022:chr10\\_10500888\\_12817813:1   & single\\_context,multi\\_context,trans           \\\\\n",
       "\t AD\\_Bellenguez\\_2022:chr10\\_57667362\\_59558848:1   & single\\_context,multi\\_context,trans,epigenomic\\\\\n",
       "\t AD\\_Bellenguez\\_2022:chr10\\_59558848\\_62446953:1   & single\\_context,multi\\_context                 \\\\\n",
       "\t AD\\_Bellenguez\\_2022:chr10\\_80126158\\_82231647:1   & single\\_context,multi\\_context                 \\\\\n",
       "\t AD\\_Bellenguez\\_2022:chr10\\_95280986\\_98320874:1   & single\\_context,multi\\_context                 \\\\\n",
       "\t AD\\_Bellenguez\\_2022:chr11\\_119829118\\_122612025:1 & single\\_context,multi\\_context                 \\\\\n",
       "\\end{tabular}\n"
      ],
      "text/markdown": [
       "\n",
       "A tibble: 6 × 2\n",
       "\n",
       "| gwas_cs &lt;chr&gt; | resources &lt;chr&gt; |\n",
       "|---|---|\n",
       "| AD_Bellenguez_2022:chr10_10500888_12817813:1   | single_context,multi_context,trans            |\n",
       "| AD_Bellenguez_2022:chr10_57667362_59558848:1   | single_context,multi_context,trans,epigenomic |\n",
       "| AD_Bellenguez_2022:chr10_59558848_62446953:1   | single_context,multi_context                  |\n",
       "| AD_Bellenguez_2022:chr10_80126158_82231647:1   | single_context,multi_context                  |\n",
       "| AD_Bellenguez_2022:chr10_95280986_98320874:1   | single_context,multi_context                  |\n",
       "| AD_Bellenguez_2022:chr11_119829118_122612025:1 | single_context,multi_context                  |\n",
       "\n"
      ],
      "text/plain": [
       "  gwas_cs                                       \n",
       "1 AD_Bellenguez_2022:chr10_10500888_12817813:1  \n",
       "2 AD_Bellenguez_2022:chr10_57667362_59558848:1  \n",
       "3 AD_Bellenguez_2022:chr10_59558848_62446953:1  \n",
       "4 AD_Bellenguez_2022:chr10_80126158_82231647:1  \n",
       "5 AD_Bellenguez_2022:chr10_95280986_98320874:1  \n",
       "6 AD_Bellenguez_2022:chr11_119829118_122612025:1\n",
       "  resources                                    \n",
       "1 single_context,multi_context,trans           \n",
       "2 single_context,multi_context,trans,epigenomic\n",
       "3 single_context,multi_context                 \n",
       "4 single_context,multi_context                 \n",
       "5 single_context,multi_context                 \n",
       "6 single_context,multi_context                 "
      ]
     },
     "metadata": {},
     "output_type": "display_data"
    }
   ],
   "source": [
    "all_95_95_cs %>% head"
   ]
  },
  {
   "cell_type": "markdown",
   "id": "4d0601ef-1523-44aa-bc95-577e90f09058",
   "metadata": {},
   "source": [
    "## plot the stacked bar plot (only four categories)"
   ]
  },
  {
   "cell_type": "code",
   "execution_count": 130,
   "id": "ef32be77-3579-4a84-8436-6682f84ade6c",
   "metadata": {},
   "outputs": [
    {
     "name": "stderr",
     "output_type": "stream",
     "text": [
      "\n",
      "Attaching package: ‘scales’\n",
      "\n",
      "\n",
      "The following object is masked from ‘package:purrr’:\n",
      "\n",
      "    discard\n",
      "\n",
      "\n"
     ]
    }
   ],
   "source": [
    "library(dplyr)\n",
    "library(ggplot2)\n",
    "library(scales)  # For formatting percentages\n",
    "library(tidyr)\n",
    "library(RColorBrewer)\n",
    "\n",
    "resource_levels <- unique(all_95_95_cs_explain$resources)\n",
    "\n",
    "n_colors <- length(resource_levels)\n",
    "\n",
    "set2_colors <- colorRampPalette(brewer.pal(8, \"Set2\"))(n_colors)\n",
    "\n",
    "names(set2_colors) <- resource_levels"
   ]
  },
  {
   "cell_type": "code",
   "execution_count": 131,
   "id": "339cf7af-f686-4fe9-8b70-61795447288f",
   "metadata": {},
   "outputs": [
    {
     "name": "stderr",
     "output_type": "stream",
     "text": [
      "Warning message:\n",
      "“\u001b[1m\u001b[22mThe `size` argument of `element_line()` is deprecated as of ggplot2 3.4.0.\n",
      "\u001b[36mℹ\u001b[39m Please use the `linewidth` argument instead.”\n"
     ]
    },
    {
     "data": {
      "image/png": "[encoded data removed]",
      "text/plain": [
       "plot without title"
      ]
     },
     "metadata": {
      "image/png": {
       "height": 900,
       "width": 960
      }
     },
     "output_type": "display_data"
    }
   ],
   "source": [
    "\n",
    "# Aggregate data to count occurrences of each (study, resources) pair\n",
    "plot_data <- all_95_95_cs_explain %>%\n",
    "  group_by(study, resources) %>%\n",
    "  summarise(count = n(), .groups = \"drop\") %>%\n",
    "  mutate(resources = ifelse(is.na(resources), 'Not explained', resources)) %>%\n",
    "  filter(!study%in%c(\"AD_Jansen_2021\",\"AD_Bellenguez_EADI_2022\"))\n",
    "\n",
    "\n",
    "# Compute NA percentage per study\n",
    "study_totals <- plot_data %>%\n",
    "  group_by(study) %>%\n",
    "  summarise(total_count = sum(count)) %>%\n",
    "  left_join(\n",
    "    plot_data %>% filter(resources == 'Not explained') %>%\n",
    "      group_by(study) %>%\n",
    "      summarise(not_explained_count = sum(count), .groups = \"drop\"),\n",
    "    by = \"study\"\n",
    "  ) %>%\n",
    "  mutate(\n",
    "    not_explained_count = replace_na(not_explained_count, 0),  # Handle cases with no \"Not explained\"\n",
    "    non_na_percentage = round(1 - not_explained_count / total_count, 2)\n",
    "  ) %>%\n",
    "  select(study, total_count, non_na_percentage)\n",
    "\n",
    "# Merge total counts back into plot data\n",
    "plot_data <- left_join(plot_data, study_totals, by = \"study\")\n",
    "\n",
    "# pdf(\"AD_GWAS_loci_cs_method_explained_Jasen_removed_0503.pdf\", width =18, height = 12)\n",
    "# Create the stacked bar plot\n",
    "options(repr.plot.width = 16, repr.plot.height = 15)  \n",
    "\n",
    "ggplot(plot_data, aes(x = reorder(study, -total_count), y = count, fill = resources)) +\n",
    "  geom_bar(stat = \"identity\", position = \"stack\",width = 0.6) +\n",
    "  geom_text(data = study_totals, \n",
    "            aes(x = study, y = total_count * 0.95, \n",
    "                label = percent(1-non_na_percentage, accuracy = 1)), \n",
    "            inherit.aes = FALSE,  # Prevents inheritance of `fill` from ggplot()\n",
    "            size = 5, fontface = \"bold\", color = 'grey20') +  # Bold for readability+\n",
    "  geom_text(data = study_totals, \n",
    "            aes(x = study, y = total_count +2 , \n",
    "                label = total_count), \n",
    "            inherit.aes = FALSE,  # Prevents inheritance of `fill` from ggplot()\n",
    "            size = 5, fontface = \"bold\", color = 'grey70') +  # Bold for readability\n",
    "  theme_minimal() +\n",
    "  labs(x = \"Study\", y = \"Number of loci\", fill = \"Resources\", \n",
    "       title = \"% Explained by 95%CS AD Loci Across Methods\") +\n",
    "  theme(\n",
    "    plot.title  = element_text(size = 25, face = \"bold\", hjust = 0.5),\n",
    "    plot.title.position = \"plot\",\n",
    "    axis.text.x = element_text(angle = 30, hjust = 1, size = 16),\n",
    "    axis.text.y = element_text(size = 16),\n",
    "    axis.title = element_text(size = 25, face = \"bold\"),\n",
    "    legend.text = element_text(size = 16),\n",
    "    legend.title = element_text(size = 20, face = \"bold\"),\n",
    "    plot.margin = margin(10, 10, 10, 150),\n",
    "    panel.grid   = element_blank(),        # removes both x and y grid lines\n",
    "    panel.background = element_rect(fill = \"white\", colour = NA),\n",
    "    plot.background  = element_rect(fill = \"white\", colour = NA),\n",
    "    axis.line = element_line(color = \"black\", size = 0.6),\n",
    "      legend.key.size = unit(1.5, \"lines\"),\n",
    "      legend.key.height = unit(1.5, \"lines\"),\n",
    "  legend.key.width  = unit(1.5, \"lines\") # Adjust margins\n",
    "  )  +\n",
    "  scale_fill_manual(values = set2_colors)\n",
    "# dev.off()"
   ]
  },
  {
   "cell_type": "code",
   "execution_count": null,
   "id": "1d3626c2-028f-4ad3-9533-7b4f33bf4704",
   "metadata": {},
   "outputs": [],
   "source": []
  },
  {
   "cell_type": "code",
   "execution_count": null,
   "id": "192d802b-8bf8-45f2-80d4-de323cee970c",
   "metadata": {},
   "outputs": [],
   "source": [
    "single_95_n_var  = single_95_info %>% pull(variant_ID) %>% unique %>% length\n",
    "single_95_n_cs = single_95_info %>% pull(cs_id) %>% unique %>% length\n",
    "\n",
    "trans_95_raw_n_var  = trans_95_info_raw %>% pull(variant_ID) %>% unique %>% length\n",
    "trans_95_raw_n_cs = trans_95_info_raw %>% pull(cs_id) %>% unique %>% length\n",
    "\n",
    "trans_95_n_var  = trans_95_info %>% pull(variant_ID) %>% unique %>% length\n",
    "trans_95_n_cs = trans_95_info %>% pull(cs_id) %>% unique %>% length\n",
    "\n",
    "single_95_n_gwas_cs <- all_95_95_cs %>% filter(str_detect(resources, 'single')) %>% pull(gwas_cs) %>% length\n",
    "trans_95_n_gwas_cs <- all_95_95_cs %>% filter(str_detect(resources, 'trans')) %>% pull(gwas_cs) %>% length\n",
    "\n",
    "single_95_n_bellenuez_gwas_cs <- all_95_95_cs %>% filter(str_detect(resources, 'single'), str_detect(gwas_cs, 'AD_Bellenguez_2022')) %>% pull(gwas_cs) %>% length\n",
    "trans_95_n_bellenuez_gwas_cs <- all_95_95_cs %>% filter(str_detect(resources, 'trans'), str_detect(gwas_cs, 'AD_Bellenguez_2022')) %>% pull(gwas_cs) %>% length"
   ]
  },
  {
   "cell_type": "code",
   "execution_count": null,
   "id": "215a074e-5bd2-4dfa-a2bc-701011558c50",
   "metadata": {},
   "outputs": [],
   "source": [
    "library(tidyverse)\n",
    "\n",
    "summary_df <- tribble(\n",
    "  ~category,              ~type,       ~value,\n",
    "  \"Variants\",             \"single\",    single_95_n_var,\n",
    "  \"Variants\",             \"trans_raw\", trans_95_raw_n_var,\n",
    "  \"Variants\",             \"trans\",     trans_95_n_var,\n",
    "  \"CS\",                   \"single\",    single_95_n_cs,\n",
    "  \"CS\",                   \"trans_raw\", trans_95_raw_n_cs,\n",
    "  \"CS\",                   \"trans\",     trans_95_n_cs,\n",
    "  \"GWAS CS\",              \"single\",    single_95_n_gwas_cs,\n",
    "  \"GWAS CS\",              \"trans\",     trans_95_n_gwas_cs,\n",
    "  \"Bellenguez GWAS CS\",   \"single\",    single_95_n_bellenuez_gwas_cs,\n",
    "  \"Bellenguez GWAS CS\",   \"trans\",     trans_95_n_bellenuez_gwas_cs\n",
    ")\n",
    "\n",
    "ggplot(summary_df, aes(x = type, y = value, fill = type)) +\n",
    "  geom_col(position = \"dodge\") +\n",
    "  facet_wrap(~category, scales = \"free_y\") +\n",
    "  theme_classic() +\n",
    "  labs(x = \"Type\", y = \"Count\",\n",
    "       title = \"Single vs Trans (95% CS categories)\") +\n",
    "  geom_text(aes(label = value),\n",
    "            position = position_dodge(width = 0.9),\n",
    "            vjust = -0.2, size = 3, show.legend = FALSE)\n",
    "summary_df"
   ]
  },
  {
   "cell_type": "code",
   "execution_count": null,
   "id": "431f6b7f-6d29-49cd-8c5e-39558f76df8b",
   "metadata": {},
   "outputs": [],
   "source": []
  },
  {
   "cell_type": "markdown",
   "id": "c8e7af00-f965-42e8-9d11-48f043d4aca8",
   "metadata": {},
   "source": [
    "### check trans only"
   ]
  },
  {
   "cell_type": "code",
   "execution_count": 53,
   "id": "b3153233-d45e-489b-8441-07af1dc3100e",
   "metadata": {},
   "outputs": [
    {
     "name": "stderr",
     "output_type": "stream",
     "text": [
      "\u001b[1m\u001b[22mJoining with `by = join_by(gwas_cs)`\n"
     ]
    }
   ],
   "source": [
    "trans_only_gwas_cs <- all_95_95_cs %>% filter(resources == 'trans') %>% left_join(all_95_95)"
   ]
  },
  {
   "cell_type": "code",
   "execution_count": null,
   "id": "d0ced12f-5ae8-4e62-85ce-47acac635ca6",
   "metadata": {},
   "outputs": [],
   "source": []
  },
  {
   "cell_type": "markdown",
   "id": "45c8954a-bbeb-418e-a467-7194d3259b5a",
   "metadata": {},
   "source": [
    "#### add gene information to gpQTL"
   ]
  },
  {
   "cell_type": "code",
   "execution_count": 54,
   "id": "f1a490e4-d119-444f-bd68-3072485d9e62",
   "metadata": {},
   "outputs": [],
   "source": [
    "trans_only_gwas_cs_gp <- trans_only_gwas_cs %>% filter(str_detect(event_ID, 'gpQTL')) %>% mutate(gpID = str_extract(event_ID, 'gp_.+'))"
   ]
  },
  {
   "cell_type": "code",
   "execution_count": 55,
   "id": "a74e62d2-950a-473a-8c81-aa486751bc68",
   "metadata": {},
   "outputs": [
    {
     "data": {
      "text/html": [
       "<table class=\"dataframe\">\n",
       "<caption>A tibble: 2 × 17</caption>\n",
       "<thead>\n",
       "\t<tr><th scope=col>gwas_cs</th><th scope=col>resources</th><th scope=col>variant_ID</th><th scope=col>#chr</th><th scope=col>start</th><th scope=col>end</th><th scope=col>a1</th><th scope=col>a2</th><th scope=col>gene_ID</th><th scope=col>event_ID</th><th scope=col>variant_id</th><th scope=col>z</th><th scope=col>pip</th><th scope=col>study</th><th scope=col>region</th><th scope=col>resource</th><th scope=col>gpID</th></tr>\n",
       "\t<tr><th scope=col>&lt;chr&gt;</th><th scope=col>&lt;chr&gt;</th><th scope=col>&lt;chr&gt;</th><th scope=col>&lt;dbl&gt;</th><th scope=col>&lt;dbl&gt;</th><th scope=col>&lt;dbl&gt;</th><th scope=col>&lt;chr&gt;</th><th scope=col>&lt;chr&gt;</th><th scope=col>&lt;chr&gt;</th><th scope=col>&lt;chr&gt;</th><th scope=col>&lt;chr&gt;</th><th scope=col>&lt;dbl&gt;</th><th scope=col>&lt;dbl&gt;</th><th scope=col>&lt;chr&gt;</th><th scope=col>&lt;chr&gt;</th><th scope=col>&lt;chr&gt;</th><th scope=col>&lt;chr&gt;</th></tr>\n",
       "</thead>\n",
       "<tbody>\n",
       "\t<tr><td>AD_Bellenguez_2022:chr16_88382277_90220225:1   </td><td>trans</td><td>chr16:90103687:G:A</td><td>16</td><td>90103686</td><td>90103687</td><td>A</td><td>G</td><td>chr16_88382277_90220225</td><td>ROSMAP_gpQTL_gp_2508</td><td>16:90103687:G:A</td><td>NA</td><td>0.9940640</td><td>AD_Bellenguez_2022   </td><td>chr16_88382277_90220225</td><td>trans</td><td>gp_2508</td></tr>\n",
       "\t<tr><td>AD_Kunkle_Stage1_2019:chr16_78676505_80260790:1</td><td>trans</td><td>chr16:79321960:G:A</td><td>16</td><td>79321959</td><td>79321960</td><td>A</td><td>G</td><td>chr16_78676505_80260790</td><td>ROSMAP_gpQTL_gp_3231</td><td>16:79321960:G:A</td><td>NA</td><td>0.9771629</td><td>AD_Kunkle_Stage1_2019</td><td>chr16_78676505_80260790</td><td>trans</td><td>gp_3231</td></tr>\n",
       "</tbody>\n",
       "</table>\n"
      ],
      "text/latex": [
       "A tibble: 2 × 17\n",
       "\\begin{tabular}{lllllllllllllllll}\n",
       " gwas\\_cs & resources & variant\\_ID & \\#chr & start & end & a1 & a2 & gene\\_ID & event\\_ID & variant\\_id & z & pip & study & region & resource & gpID\\\\\n",
       " <chr> & <chr> & <chr> & <dbl> & <dbl> & <dbl> & <chr> & <chr> & <chr> & <chr> & <chr> & <dbl> & <dbl> & <chr> & <chr> & <chr> & <chr>\\\\\n",
       "\\hline\n",
       "\t AD\\_Bellenguez\\_2022:chr16\\_88382277\\_90220225:1    & trans & chr16:90103687:G:A & 16 & 90103686 & 90103687 & A & G & chr16\\_88382277\\_90220225 & ROSMAP\\_gpQTL\\_gp\\_2508 & 16:90103687:G:A & NA & 0.9940640 & AD\\_Bellenguez\\_2022    & chr16\\_88382277\\_90220225 & trans & gp\\_2508\\\\\n",
       "\t AD\\_Kunkle\\_Stage1\\_2019:chr16\\_78676505\\_80260790:1 & trans & chr16:79321960:G:A & 16 & 79321959 & 79321960 & A & G & chr16\\_78676505\\_80260790 & ROSMAP\\_gpQTL\\_gp\\_3231 & 16:79321960:G:A & NA & 0.9771629 & AD\\_Kunkle\\_Stage1\\_2019 & chr16\\_78676505\\_80260790 & trans & gp\\_3231\\\\\n",
       "\\end{tabular}\n"
      ],
      "text/markdown": [
       "\n",
       "A tibble: 2 × 17\n",
       "\n",
       "| gwas_cs &lt;chr&gt; | resources &lt;chr&gt; | variant_ID &lt;chr&gt; | #chr &lt;dbl&gt; | start &lt;dbl&gt; | end &lt;dbl&gt; | a1 &lt;chr&gt; | a2 &lt;chr&gt; | gene_ID &lt;chr&gt; | event_ID &lt;chr&gt; | variant_id &lt;chr&gt; | z &lt;dbl&gt; | pip &lt;dbl&gt; | study &lt;chr&gt; | region &lt;chr&gt; | resource &lt;chr&gt; | gpID &lt;chr&gt; |\n",
       "|---|---|---|---|---|---|---|---|---|---|---|---|---|---|---|---|---|\n",
       "| AD_Bellenguez_2022:chr16_88382277_90220225:1    | trans | chr16:90103687:G:A | 16 | 90103686 | 90103687 | A | G | chr16_88382277_90220225 | ROSMAP_gpQTL_gp_2508 | 16:90103687:G:A | NA | 0.9940640 | AD_Bellenguez_2022    | chr16_88382277_90220225 | trans | gp_2508 |\n",
       "| AD_Kunkle_Stage1_2019:chr16_78676505_80260790:1 | trans | chr16:79321960:G:A | 16 | 79321959 | 79321960 | A | G | chr16_78676505_80260790 | ROSMAP_gpQTL_gp_3231 | 16:79321960:G:A | NA | 0.9771629 | AD_Kunkle_Stage1_2019 | chr16_78676505_80260790 | trans | gp_3231 |\n",
       "\n"
      ],
      "text/plain": [
       "  gwas_cs                                         resources variant_ID        \n",
       "1 AD_Bellenguez_2022:chr16_88382277_90220225:1    trans     chr16:90103687:G:A\n",
       "2 AD_Kunkle_Stage1_2019:chr16_78676505_80260790:1 trans     chr16:79321960:G:A\n",
       "  #chr start    end      a1 a2 gene_ID                 event_ID            \n",
       "1 16   90103686 90103687 A  G  chr16_88382277_90220225 ROSMAP_gpQTL_gp_2508\n",
       "2 16   79321959 79321960 A  G  chr16_78676505_80260790 ROSMAP_gpQTL_gp_3231\n",
       "  variant_id      z  pip       study                 region                 \n",
       "1 16:90103687:G:A NA 0.9940640 AD_Bellenguez_2022    chr16_88382277_90220225\n",
       "2 16:79321960:G:A NA 0.9771629 AD_Kunkle_Stage1_2019 chr16_78676505_80260790\n",
       "  resource gpID   \n",
       "1 trans    gp_2508\n",
       "2 trans    gp_3231"
      ]
     },
     "metadata": {},
     "output_type": "display_data"
    }
   ],
   "source": [
    "trans_only_gwas_cs_gp "
   ]
  },
  {
   "cell_type": "code",
   "execution_count": 56,
   "id": "674d1e4a-00c4-415a-a124-bb622a4c7bf5",
   "metadata": {},
   "outputs": [],
   "source": [
    "unadj_gpQTL_phenoID <- fread('/home/ubuntu/data/gpQTL/unadjusted/analysis_ready/phenotype_preprocessing_v202505/unadjusted_PhenotypeID.txt')\n",
    "adj_gpQTL_phenoID <- fread('/home/ubuntu/data/gpQTL/adjusted/analysis_ready/phenotype_preprocessing_v202505/adjusted_PhenotypeID.txt')\n",
    "gpQTL_phenoID <- rbind(unadj_gpQTL_phenoID, adj_gpQTL_phenoID) %>% distinct\n",
    "colnames(gpQTL_phenoID) <- c('gpID', 'gene_id')"
   ]
  },
  {
   "cell_type": "code",
   "execution_count": 57,
   "id": "93bd888b-cff3-446f-80b4-f3202dfc4b4a",
   "metadata": {},
   "outputs": [],
   "source": [
    "trans_only_gwas_cs_gp <- trans_only_gwas_cs_gp %>% merge(., gpQTL_phenoID)\n",
    "\n",
    "trans_only_gwas_cs_gp <- trans_only_gwas_cs_gp %>% mutate(event_ID = paste0(str_remove(event_ID, 'gp_.+'),  gene_id))"
   ]
  },
  {
   "cell_type": "code",
   "execution_count": 58,
   "id": "bd3c8842-b14b-4168-9530-be08dee96ce4",
   "metadata": {},
   "outputs": [],
   "source": [
    "trans_only_gwas_cs <- rbind( trans_only_gwas_cs %>% filter(!str_detect(event_ID, 'gpQTL')), trans_only_gwas_cs_gp %>% select(-gpID, -gene_id))"
   ]
  },
  {
   "cell_type": "code",
   "execution_count": null,
   "id": "ef2c39f0-4d84-4985-9b65-901b0835ad99",
   "metadata": {},
   "outputs": [],
   "source": []
  },
  {
   "cell_type": "code",
   "execution_count": 59,
   "id": "85e295d8-43f6-4ad7-a467-621a2b2a01fe",
   "metadata": {},
   "outputs": [
    {
     "data": {
      "text/html": [
       "<table class=\"dataframe\">\n",
       "<caption>A tibble: 12 × 4</caption>\n",
       "<thead>\n",
       "\t<tr><th scope=col>region</th><th scope=col>n_event</th><th scope=col>events</th><th scope=col>studies</th></tr>\n",
       "\t<tr><th scope=col>&lt;chr&gt;</th><th scope=col>&lt;int&gt;</th><th scope=col>&lt;chr&gt;</th><th scope=col>&lt;chr&gt;</th></tr>\n",
       "</thead>\n",
       "<tbody>\n",
       "\t<tr><td>chr11_119829118_122612025</td><td>1</td><td>MSBB_eQTL_BM10_ENSG00000198380                                                                                             </td><td>AD_Bellenguez_2022,AD_Wightman_Excluding23andMe_2021,AD_Wightman_ExcludingUKBand23andME_2021,AD_Wightman_Full_2021</td></tr>\n",
       "\t<tr><td>chr15_47690138_49901356  </td><td>1</td><td>ROSMAP_DeJager_eQTL_Monocyte_ENSG00000087263                                                                               </td><td>AD_Bellenguez_2022                                                                                                </td></tr>\n",
       "\t<tr><td>chr15_49901356_51733753  </td><td>1</td><td>ROSMAP_DeJager_eQTL_Monocyte_ENSG00000087263                                                                               </td><td>AD_Bellenguez_2022                                                                                                </td></tr>\n",
       "\t<tr><td>chr16_78676505_80260790  </td><td>2</td><td>ROSMAP_pQTL_ENSG00000120697,ROSMAP_gpQTL_ENSG00000106809                                                                   </td><td>AD_Wightman_ExcludingUKBand23andME_2021,AD_Kunkle_Stage1_2019                                                     </td></tr>\n",
       "\t<tr><td>chr16_88382277_90220225  </td><td>1</td><td>ROSMAP_gpQTL_ENSG00000142156                                                                                               </td><td>AD_Bellenguez_2022                                                                                                </td></tr>\n",
       "\t<tr><td>chr1_158933969_162352348 </td><td>1</td><td>ROSMAP_DeJager_eQTL_AC_ENSG00000237637                                                                                     </td><td>AD_Jansen_2021                                                                                                    </td></tr>\n",
       "\t<tr><td>chr20_40697409_42726168  </td><td>1</td><td>ROSMAP_DeJager_eQTL_OPC_ENSG00000114861                                                                                    </td><td>AD_Bellenguez_EADB_2022                                                                                           </td></tr>\n",
       "\t<tr><td>chr2_125689597_127728648 </td><td>1</td><td>MSBB_eQTL_BM10_ENSG00000168077                                                                                             </td><td>AD_Bellenguez_2022                                                                                                </td></tr>\n",
       "\t<tr><td>chr2_158720603_160577800 </td><td>3</td><td>MSBB_eQTL_BM10_ENSG00000213579,ROSMAP_DeJager_eQTL_Monocyte_ENSG00000179611,ROSMAP_DeJager_eQTL_Monocyte_ENSG00000105220   </td><td>AD_Bellenguez_2022                                                                                                </td></tr>\n",
       "\t<tr><td>chr3_154360351_156292136 </td><td>3</td><td>ROSMAP_DeJager_eQTL_Inh_ENSG00000011465,ROSMAP_DeJager_eQTL_Monocyte_ENSG00000205269,ROSMAP_Kellis_eQTL_Ast_ENSG00000090372</td><td>AD_Wightman_Full_2021                                                                                             </td></tr>\n",
       "\t<tr><td>chr5_139769624_142619401 </td><td>1</td><td>MSBB_eQTL_BM10_ENSG00000136840                                                                                             </td><td>AD_Kunkle_Stage1_2019                                                                                             </td></tr>\n",
       "\t<tr><td>chr5_149895776_152257891 </td><td>2</td><td>ROSMAP_DeJager_eQTL_Inh_ENSG00000250403,MSBB_eQTL_BM22_ENSG00000279889                                                     </td><td>AD_Wightman_ExcludingUKBand23andME_2021                                                                           </td></tr>\n",
       "</tbody>\n",
       "</table>\n"
      ],
      "text/latex": [
       "A tibble: 12 × 4\n",
       "\\begin{tabular}{llll}\n",
       " region & n\\_event & events & studies\\\\\n",
       " <chr> & <int> & <chr> & <chr>\\\\\n",
       "\\hline\n",
       "\t chr11\\_119829118\\_122612025 & 1 & MSBB\\_eQTL\\_BM10\\_ENSG00000198380                                                                                              & AD\\_Bellenguez\\_2022,AD\\_Wightman\\_Excluding23andMe\\_2021,AD\\_Wightman\\_ExcludingUKBand23andME\\_2021,AD\\_Wightman\\_Full\\_2021\\\\\n",
       "\t chr15\\_47690138\\_49901356   & 1 & ROSMAP\\_DeJager\\_eQTL\\_Monocyte\\_ENSG00000087263                                                                                & AD\\_Bellenguez\\_2022                                                                                                \\\\\n",
       "\t chr15\\_49901356\\_51733753   & 1 & ROSMAP\\_DeJager\\_eQTL\\_Monocyte\\_ENSG00000087263                                                                                & AD\\_Bellenguez\\_2022                                                                                                \\\\\n",
       "\t chr16\\_78676505\\_80260790   & 2 & ROSMAP\\_pQTL\\_ENSG00000120697,ROSMAP\\_gpQTL\\_ENSG00000106809                                                                    & AD\\_Wightman\\_ExcludingUKBand23andME\\_2021,AD\\_Kunkle\\_Stage1\\_2019                                                     \\\\\n",
       "\t chr16\\_88382277\\_90220225   & 1 & ROSMAP\\_gpQTL\\_ENSG00000142156                                                                                                & AD\\_Bellenguez\\_2022                                                                                                \\\\\n",
       "\t chr1\\_158933969\\_162352348  & 1 & ROSMAP\\_DeJager\\_eQTL\\_AC\\_ENSG00000237637                                                                                      & AD\\_Jansen\\_2021                                                                                                    \\\\\n",
       "\t chr20\\_40697409\\_42726168   & 1 & ROSMAP\\_DeJager\\_eQTL\\_OPC\\_ENSG00000114861                                                                                     & AD\\_Bellenguez\\_EADB\\_2022                                                                                           \\\\\n",
       "\t chr2\\_125689597\\_127728648  & 1 & MSBB\\_eQTL\\_BM10\\_ENSG00000168077                                                                                              & AD\\_Bellenguez\\_2022                                                                                                \\\\\n",
       "\t chr2\\_158720603\\_160577800  & 3 & MSBB\\_eQTL\\_BM10\\_ENSG00000213579,ROSMAP\\_DeJager\\_eQTL\\_Monocyte\\_ENSG00000179611,ROSMAP\\_DeJager\\_eQTL\\_Monocyte\\_ENSG00000105220    & AD\\_Bellenguez\\_2022                                                                                                \\\\\n",
       "\t chr3\\_154360351\\_156292136  & 3 & ROSMAP\\_DeJager\\_eQTL\\_Inh\\_ENSG00000011465,ROSMAP\\_DeJager\\_eQTL\\_Monocyte\\_ENSG00000205269,ROSMAP\\_Kellis\\_eQTL\\_Ast\\_ENSG00000090372 & AD\\_Wightman\\_Full\\_2021                                                                                             \\\\\n",
       "\t chr5\\_139769624\\_142619401  & 1 & MSBB\\_eQTL\\_BM10\\_ENSG00000136840                                                                                              & AD\\_Kunkle\\_Stage1\\_2019                                                                                             \\\\\n",
       "\t chr5\\_149895776\\_152257891  & 2 & ROSMAP\\_DeJager\\_eQTL\\_Inh\\_ENSG00000250403,MSBB\\_eQTL\\_BM22\\_ENSG00000279889                                                      & AD\\_Wightman\\_ExcludingUKBand23andME\\_2021                                                                           \\\\\n",
       "\\end{tabular}\n"
      ],
      "text/markdown": [
       "\n",
       "A tibble: 12 × 4\n",
       "\n",
       "| region &lt;chr&gt; | n_event &lt;int&gt; | events &lt;chr&gt; | studies &lt;chr&gt; |\n",
       "|---|---|---|---|\n",
       "| chr11_119829118_122612025 | 1 | MSBB_eQTL_BM10_ENSG00000198380                                                                                              | AD_Bellenguez_2022,AD_Wightman_Excluding23andMe_2021,AD_Wightman_ExcludingUKBand23andME_2021,AD_Wightman_Full_2021 |\n",
       "| chr15_47690138_49901356   | 1 | ROSMAP_DeJager_eQTL_Monocyte_ENSG00000087263                                                                                | AD_Bellenguez_2022                                                                                                 |\n",
       "| chr15_49901356_51733753   | 1 | ROSMAP_DeJager_eQTL_Monocyte_ENSG00000087263                                                                                | AD_Bellenguez_2022                                                                                                 |\n",
       "| chr16_78676505_80260790   | 2 | ROSMAP_pQTL_ENSG00000120697,ROSMAP_gpQTL_ENSG00000106809                                                                    | AD_Wightman_ExcludingUKBand23andME_2021,AD_Kunkle_Stage1_2019                                                      |\n",
       "| chr16_88382277_90220225   | 1 | ROSMAP_gpQTL_ENSG00000142156                                                                                                | AD_Bellenguez_2022                                                                                                 |\n",
       "| chr1_158933969_162352348  | 1 | ROSMAP_DeJager_eQTL_AC_ENSG00000237637                                                                                      | AD_Jansen_2021                                                                                                     |\n",
       "| chr20_40697409_42726168   | 1 | ROSMAP_DeJager_eQTL_OPC_ENSG00000114861                                                                                     | AD_Bellenguez_EADB_2022                                                                                            |\n",
       "| chr2_125689597_127728648  | 1 | MSBB_eQTL_BM10_ENSG00000168077                                                                                              | AD_Bellenguez_2022                                                                                                 |\n",
       "| chr2_158720603_160577800  | 3 | MSBB_eQTL_BM10_ENSG00000213579,ROSMAP_DeJager_eQTL_Monocyte_ENSG00000179611,ROSMAP_DeJager_eQTL_Monocyte_ENSG00000105220    | AD_Bellenguez_2022                                                                                                 |\n",
       "| chr3_154360351_156292136  | 3 | ROSMAP_DeJager_eQTL_Inh_ENSG00000011465,ROSMAP_DeJager_eQTL_Monocyte_ENSG00000205269,ROSMAP_Kellis_eQTL_Ast_ENSG00000090372 | AD_Wightman_Full_2021                                                                                              |\n",
       "| chr5_139769624_142619401  | 1 | MSBB_eQTL_BM10_ENSG00000136840                                                                                              | AD_Kunkle_Stage1_2019                                                                                              |\n",
       "| chr5_149895776_152257891  | 2 | ROSMAP_DeJager_eQTL_Inh_ENSG00000250403,MSBB_eQTL_BM22_ENSG00000279889                                                      | AD_Wightman_ExcludingUKBand23andME_2021                                                                            |\n",
       "\n"
      ],
      "text/plain": [
       "   region                    n_event\n",
       "1  chr11_119829118_122612025 1      \n",
       "2  chr15_47690138_49901356   1      \n",
       "3  chr15_49901356_51733753   1      \n",
       "4  chr16_78676505_80260790   2      \n",
       "5  chr16_88382277_90220225   1      \n",
       "6  chr1_158933969_162352348  1      \n",
       "7  chr20_40697409_42726168   1      \n",
       "8  chr2_125689597_127728648  1      \n",
       "9  chr2_158720603_160577800  3      \n",
       "10 chr3_154360351_156292136  3      \n",
       "11 chr5_139769624_142619401  1      \n",
       "12 chr5_149895776_152257891  2      \n",
       "   events                                                                                                                     \n",
       "1  MSBB_eQTL_BM10_ENSG00000198380                                                                                             \n",
       "2  ROSMAP_DeJager_eQTL_Monocyte_ENSG00000087263                                                                               \n",
       "3  ROSMAP_DeJager_eQTL_Monocyte_ENSG00000087263                                                                               \n",
       "4  ROSMAP_pQTL_ENSG00000120697,ROSMAP_gpQTL_ENSG00000106809                                                                   \n",
       "5  ROSMAP_gpQTL_ENSG00000142156                                                                                               \n",
       "6  ROSMAP_DeJager_eQTL_AC_ENSG00000237637                                                                                     \n",
       "7  ROSMAP_DeJager_eQTL_OPC_ENSG00000114861                                                                                    \n",
       "8  MSBB_eQTL_BM10_ENSG00000168077                                                                                             \n",
       "9  MSBB_eQTL_BM10_ENSG00000213579,ROSMAP_DeJager_eQTL_Monocyte_ENSG00000179611,ROSMAP_DeJager_eQTL_Monocyte_ENSG00000105220   \n",
       "10 ROSMAP_DeJager_eQTL_Inh_ENSG00000011465,ROSMAP_DeJager_eQTL_Monocyte_ENSG00000205269,ROSMAP_Kellis_eQTL_Ast_ENSG00000090372\n",
       "11 MSBB_eQTL_BM10_ENSG00000136840                                                                                             \n",
       "12 ROSMAP_DeJager_eQTL_Inh_ENSG00000250403,MSBB_eQTL_BM22_ENSG00000279889                                                     \n",
       "   studies                                                                                                           \n",
       "1  AD_Bellenguez_2022,AD_Wightman_Excluding23andMe_2021,AD_Wightman_ExcludingUKBand23andME_2021,AD_Wightman_Full_2021\n",
       "2  AD_Bellenguez_2022                                                                                                \n",
       "3  AD_Bellenguez_2022                                                                                                \n",
       "4  AD_Wightman_ExcludingUKBand23andME_2021,AD_Kunkle_Stage1_2019                                                     \n",
       "5  AD_Bellenguez_2022                                                                                                \n",
       "6  AD_Jansen_2021                                                                                                    \n",
       "7  AD_Bellenguez_EADB_2022                                                                                           \n",
       "8  AD_Bellenguez_2022                                                                                                \n",
       "9  AD_Bellenguez_2022                                                                                                \n",
       "10 AD_Wightman_Full_2021                                                                                             \n",
       "11 AD_Kunkle_Stage1_2019                                                                                             \n",
       "12 AD_Wightman_ExcludingUKBand23andME_2021                                                                           "
      ]
     },
     "metadata": {},
     "output_type": "display_data"
    }
   ],
   "source": [
    "trans_only_gwas_cs_sum <- trans_only_gwas_cs %>% group_by(region) %>% summarise(n_event = n_distinct(event_ID), events = paste(unique(event_ID), collapse = ','), studies = paste(unique(study), collapse = ','))\n",
    "\n",
    "# trans_only_gwas_cs_sum %>% saveRDS('trans_only.loci.info.rds')\n",
    "trans_only_gwas_cs_sum"
   ]
  },
  {
   "cell_type": "code",
   "execution_count": null,
   "id": "8ce18f03-5ff4-4064-a8b5-ee9b45274900",
   "metadata": {},
   "outputs": [],
   "source": []
  },
  {
   "cell_type": "code",
   "execution_count": null,
   "id": "9e25343e-8567-462e-be43-0a17bd2db877",
   "metadata": {},
   "outputs": [],
   "source": []
  },
  {
   "cell_type": "code",
   "execution_count": null,
   "id": "dc24c1e4-4afd-4b15-bbac-fb85489e5d2c",
   "metadata": {},
   "outputs": [],
   "source": []
  }
 ],
 "metadata": {
  "kernelspec": {
   "display_name": "R",
   "language": "R",
   "name": "ir"
  },
  "language_info": {
   "codemirror_mode": "r",
   "file_extension": ".r",
   "mimetype": "text/x-r-source",
   "name": "R",
   "pygments_lexer": "r",
   "version": "4.3.3"
  }
 },
 "nbformat": 4,
 "nbformat_minor": 5
}
