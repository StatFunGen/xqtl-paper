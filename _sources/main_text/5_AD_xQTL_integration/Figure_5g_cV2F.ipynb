{
 "cells": [
  {
   "cell_type": "markdown",
   "id": "notebook-title",
   "metadata": {},
   "source": [
    "# Consensus Variant-to-Function Score for AD"
   ]
  },
  {
   "cell_type": "markdown",
   "id": "author-header",
   "metadata": {},
   "source": [
    "**Authors:** Ru Feng and Jenny Empawi"
   ]
  },
  {
   "cell_type": "markdown",
   "id": "motivation-header",
   "metadata": {},
   "source": [
    "## Motivation"
   ]
  },
  {
   "cell_type": "markdown",
   "id": "motivation-content",
   "metadata": {},
   "source": [
    "Systematically score and prioritize variants within AD loci using the consensus Variant-to-Function (CV2F) framework. Integrate the xQTL atlas with established functional annotations to improve the CV2F framework for AD."
   ]
  },
  {
   "cell_type": "markdown",
   "id": "implementation-header",
   "metadata": {},
   "source": [
    "## Implementation"
   ]
  },
  {
   "cell_type": "markdown",
   "id": "implementation-content",
   "metadata": {},
   "source": [
    "Leverage 339 original CV2F features and augment with xQTL-specific features, including effect sizes and posterior inclusion probabilities (PIPs) from fine-mapping results. Train a gradient boosting model using AD fine-mapped credible sets and colocalization confidence intervals as positive controls, and non-AD associated variants as negative controls. Validate the framework performance with AUPRC metrics and demonstrate the added value of xQTL features."
   ]
  }
 ],
 "metadata": {
  "kernelspec": {
   "display_name": "R",
   "language": "R",
   "name": "ir"
  },
  "language_info": {
   "codemirror_mode": "r",
   "file_extension": ".r",
   "mimetype": "text/x-r-source",
   "name": "R",
   "pygments_lexer": "r",
   "version": "4.1.0"
  }
 },
 "nbformat": 4,
 "nbformat_minor": 5
}