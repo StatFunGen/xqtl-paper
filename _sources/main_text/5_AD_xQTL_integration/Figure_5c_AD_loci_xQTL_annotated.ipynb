{
 "cells": [
  {
   "cell_type": "markdown",
   "id": "notebook-title",
   "metadata": {},
   "source": [
    "# AD loci \"explained\" by xQTL"
   ]
  },
  {
   "cell_type": "markdown",
   "id": "motivation-header",
   "metadata": {},
   "source": [
    "## Motivation"
   ]
  },
  {
   "cell_type": "markdown",
   "id": "motivation-content",
   "metadata": {},
   "source": [
    "Answer the question: How many AD risk loci overlap (via fine-mapping credible sets) and/or formally colocalize (via colocalization confident sets) with various xQTL modalities and contexts? This analysis aims to quantify the extent to which Alzheimer's disease risk loci can be 'explained' through molecular quantitative trait loci across multiple biological contexts and data types."
   ]
  },
  {
   "cell_type": "markdown",
   "id": "methods-header",
   "metadata": {},
   "source": [
    "## Methods Overview"
   ]
  },
  {
   "cell_type": "markdown",
   "id": "methods-content",
   "metadata": {},
   "source": [
    "- Leverage AD GWAS fine-mapping and xQTL fine-mapping discussed in previous sections\n- Perform AD GWAS fine-mapping with multi-trait xQTL data genome-wide\n- Summarize results by GWAS studies to identify the proportion of AD loci explained"
   ]
  },
  {
   "cell_type": "markdown",
   "id": "implementation-header",
   "metadata": {},
   "source": [
    "## Implementation"
   ]
  },
  {
   "cell_type": "markdown",
   "id": "overlap-analysis-header",
   "metadata": {},
   "source": [
    "### Overlap Analysis"
   ]
  },
  {
   "cell_type": "markdown",
   "id": "overlap-analysis-content",
   "metadata": {},
   "source": [
    "Create a bar plot showing overlap between AD loci and multiple xQTL data types, quantifying explained loci and distinguishing between detectable and mappable categories. This analysis will highlight overlap types with illustrative cartoons and bar plots to visualize the intersection patterns between AD risk variants and molecular QTL signals across different experimental contexts."
   ]
  },
  {
   "cell_type": "markdown",
   "id": "gene-involvement-header",
   "metadata": {},
   "source": [
    "### Gene Involvement Evidence"
   ]
  },
  {
   "cell_type": "markdown",
   "id": "gene-involvement-content",
   "metadata": {},
   "source": [
    "Generate a stacked bar plot for each AD locus showing evidence of multiple gene involvement, defined by overlap between 95% GWAS credible sets and 95% xQTL credible sets. This section will summarize xQTL-based gene targets per AD locus, including both cis and trans targets, providing comprehensive insights into the molecular mechanisms potentially underlying AD risk at each genomic region."
   ]
  }
 ],
 "metadata": {
  "kernelspec": {
   "display_name": "R",
   "language": "R",
   "name": "ir"
  },
  "language_info": {
   "codemirror_mode": "r",
   "file_extension": ".r",
   "mimetype": "text/x-r-source",
   "name": "R",
   "pygments_lexer": "r",
   "version": "4.1.0"
  }
 },
 "nbformat": 4,
 "nbformat_minor": 5
}