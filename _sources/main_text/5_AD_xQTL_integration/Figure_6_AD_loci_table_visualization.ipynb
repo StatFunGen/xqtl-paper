{
 "cells": [
  {
   "cell_type": "markdown",
   "id": "notebook-title",
   "metadata": {},
   "source": [
    "# Visualization of FunGen-xQTL AD loci table"
   ]
  },
  {
   "cell_type": "markdown",
   "id": "author-header",
   "metadata": {},
   "source": [
    "**Author:** Alexandre Pelletier and Jenny Empawi"
   ]
  },
  {
   "cell_type": "markdown",
   "id": "motivation-header",
   "metadata": {},
   "source": [
    "## Motivation"
   ]
  },
  {
   "cell_type": "markdown",
   "id": "motivation-content",
   "metadata": {},
   "source": [
    "Create an informative visualization summarizing key information from the comprehensive AD loci table."
   ]
  },
  {
   "cell_type": "markdown",
   "id": "implementation-header",
   "metadata": {},
   "source": [
    "## Implementation"
   ]
  },
  {
   "cell_type": "markdown",
   "id": "implementation-content",
   "metadata": {},
   "source": [
    "Generate one figure to highlight the most critical insights from the AD loci table."
   ]
  }
 ],
 "metadata": {
  "kernelspec": {
   "display_name": "R",
   "language": "R",
   "name": "ir"
  },
  "language_info": {
   "codemirror_mode": "r",
   "file_extension": ".r",
   "mimetype": "text/x-r-source",
   "name": "R",
   "pygments_lexer": "r",
   "version": "4.1.0"
  }
 },
 "nbformat": 4,
 "nbformat_minor": 5
}