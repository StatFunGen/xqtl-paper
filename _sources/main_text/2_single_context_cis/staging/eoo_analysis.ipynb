{
 "cells": [
  {
   "cell_type": "markdown",
   "id": "239acf29-ba29-4293-83aa-029304b4bae8",
   "metadata": {
    "kernel": "SoS"
   },
   "source": [
    "# EOO results"
   ]
  },
  {
   "cell_type": "markdown",
   "id": "f513588c-23ea-432a-8b7b-0590f78bbfe6",
   "metadata": {},
   "source": [
    "\n",
    "The visualization should be replicated starting from Viusalization - Plot; input data has been uploaded to s3://statfungen/ftp_fgc_xqtl/analysis_result/EOO/EOO_reshape_combined_result_withSNP_pip01_95cs_annotation_variant_level.updatedSep9th.RDS"
   ]
  },
  {
   "cell_type": "markdown",
   "id": "bc8fa047-8313-4b56-ac84-bc58c32043b9",
   "metadata": {},
   "source": [
    "## input"
   ]
  },
  {
   "cell_type": "code",
   "execution_count": 189,
   "id": "17e7c512-4d64-4be2-9ec8-6f23acd1b4c5",
   "metadata": {},
   "outputs": [],
   "source": [
    "# multi context to EOO input \n",
    "\n",
    "library(data.table)\n",
    "library(tidyverse)\n",
    "\n",
    "multi_con <- fread('~/Work/Fungen_xQTL/2025/Sep/eoo/EOO/data/ROSMAP.exported.toploci.bed.gz')"
   ]
  },
  {
   "cell_type": "code",
   "execution_count": 177,
   "id": "e23ee7a6-3aec-402b-8462-acf05cd364d6",
   "metadata": {},
   "outputs": [],
   "source": [
    "# Filter rows and pull the lfsr column\n",
    "multi_con_clean <- multi_con %>%\n",
    "  filter(lfsr != \"\", cs_coverage_0.95 > 0, PIP > 0.1)"
   ]
  },
  {
   "cell_type": "code",
   "execution_count": 178,
   "id": "e962d24e-3eaf-439e-a7cb-62b5635b8103",
   "metadata": {},
   "outputs": [
    {
     "data": {
      "text/plain": [
       "     Min.   1st Qu.    Median      Mean   3rd Qu.      Max. \n",
       "0.000e+00 0.000e+00 1.031e-06 8.171e-04 3.627e-04 1.000e-02 "
      ]
     },
     "metadata": {},
     "output_type": "display_data"
    }
   ],
   "source": [
    "multi_con_clean %>%   pull(lfsr) %>%\n",
    "  # split by \";\" into matrix\n",
    "  str_split(\";\", simplify = TRUE) %>%\n",
    "  # convert to vector\n",
    "  unlist() %>%\n",
    "  # convert to numeric\n",
    "  as.numeric() %>% .[!is.na(.)] %>%\n",
    "  # show summary statistics\n",
    "  summary()"
   ]
  },
  {
   "cell_type": "code",
   "execution_count": 179,
   "id": "e347b0b5-746a-4eaa-b89f-44816d00b6fc",
   "metadata": {},
   "outputs": [],
   "source": [
    "\n",
    "multi_con_clean_long <- multi_con_clean %>%\n",
    "  # separate_longer_delim is tidyverse way to split long by delimiter\n",
    "  separate_longer_delim(event_ID, delim = \";\")"
   ]
  },
  {
   "cell_type": "code",
   "execution_count": 180,
   "id": "9bbaf764-4d17-4e47-958c-2b3342a9bbe6",
   "metadata": {},
   "outputs": [],
   "source": [
    "multi_con_clean_long <- multi_con_clean_long %>% mutate(event_ID = paste0(event_ID, '_multicontext'))"
   ]
  },
  {
   "cell_type": "code",
   "execution_count": 181,
   "id": "cd0006c0-cb5c-4e3c-98f3-c3b2074770d2",
   "metadata": {},
   "outputs": [
    {
     "name": "stdout",
     "output_type": "stream",
     "text": [
      "AC_DeJager_eQTL_multicontext\"\n",
      "\"DLPFC_DeJager_eQTL_multicontext\"\n",
      "\"PCC_DeJager_eQTL_multicontext\"\n",
      "\"Exc_mega_eQTL_multicontext\"\n",
      "\"Ast_Kellis_eQTL_multicontext\"\n",
      "\"Ast_mega_eQTL_multicontext\"\n",
      "\"Exc_DeJager_eQTL_multicontext\"\n",
      "\"Exc_Kellis_eQTL_multicontext\"\n",
      "\"Inh_DeJager_eQTL_multicontext\"\n",
      "\"Inh_Kellis_eQTL_multicontext\"\n",
      "\"Inh_mega_eQTL_multicontext\"\n",
      "\"Oli_DeJager_eQTL_multicontext\"\n",
      "\"Oli_mega_eQTL_multicontext\"\n",
      "\"Ast_DeJager_eQTL_multicontext\"\n",
      "\"OPC_Kellis_eQTL_multicontext\"\n",
      "\"DLPFC_Bennett_pQTL_multicontext\"\n",
      "\"OPC_DeJager_eQTL_multicontext\"\n",
      "\"Oli_Kellis_eQTL_multicontext\"\n",
      "\"OPC_mega_eQTL_multicontext\"\n",
      "\"monocyte_ROSMAP_eQTL_multicontext\"\n",
      "\"Mic_Kellis_eQTL_multicontext\"\n",
      "\"Mic_mega_eQTL_multicontext\"\n",
      "\"Mic_DeJager_eQTL_multicontext"
     ]
    }
   ],
   "source": [
    "multi_con_clean_long %>% pull(event_ID) %>% unique %>% paste(.,collapse = '\"\\n\"') %>% cat"
   ]
  },
  {
   "cell_type": "code",
   "execution_count": 58,
   "id": "3520ac2b-76d0-4af3-a983-dd6057e4517f",
   "metadata": {},
   "outputs": [],
   "source": [
    "multi_con_clean_long %>%\n",
    "  group_split(event_ID) %>%\n",
    "  walk(function(df) {\n",
    "    id <- unique(df$event_ID)\n",
    "    file_name <- paste0(\"~/Work/Fungen_xQTL/2025/Sep/eoo/EOO/data/ROSMAP.\", id, \".exported.toploci.tsv\")  \n",
    "    fwrite(df %>% select(`#chr`, end) %>% rename(chr = `#chr`, pos = end) %>% arrange(chr, pos), file_name, sep = '\\t')\n",
    "  })"
   ]
  },
  {
   "cell_type": "code",
   "execution_count": null,
   "id": "abb433ca-861d-4c32-933f-8a13560cd97a",
   "metadata": {},
   "outputs": [],
   "source": []
  },
  {
   "cell_type": "code",
   "execution_count": null,
   "id": "77cc4416-783d-4892-afaa-280c0c8e761a",
   "metadata": {},
   "outputs": [],
   "source": []
  },
  {
   "cell_type": "markdown",
   "id": "4e92f366-1442-437d-96bf-cc920189f8ab",
   "metadata": {},
   "source": [
    "In the first itration, we found the multi context does not show a better enrichment than single context, we wondered if we should use a version\n",
    "```\n",
    "Identify pure cell-specific multi-context, which in principle to keep only variants that:\n",
    "•\tAppear in a single context (event_ID has no ;)\n",
    "•\tAnd do not appear in any rows where event_ID includes a ; (multi-context bundles)\n",
    "```"
   ]
  },
  {
   "cell_type": "code",
   "execution_count": 182,
   "id": "bc8be486-7889-4753-a759-5bab30f43518",
   "metadata": {},
   "outputs": [],
   "source": [
    "# Identify variant_IDs that are in multi-context bundles\n",
    "multi_context_variants <- multi_con_clean %>%\n",
    " filter(str_detect(event_ID, \";\")) %>%\n",
    " pull(variant_ID) %>%\n",
    " unique()\n",
    "\n",
    "# Keep only rows where event_ID has no ';' AND variant_ID not in multi-context\n",
    "pure_cell_specific <- multi_con_clean %>%\n",
    " filter(!str_detect(event_ID, \";\"), !variant_ID %in% multi_context_variants)"
   ]
  },
  {
   "cell_type": "code",
   "execution_count": 185,
   "id": "5f2e6919-7592-49ea-abed-f15f5a503e59",
   "metadata": {},
   "outputs": [
    {
     "data": {
      "text/html": [
       "<style>\n",
       ".list-inline {list-style: none; margin:0; padding: 0}\n",
       ".list-inline>li {display: inline-block}\n",
       ".list-inline>li:not(:last-child)::after {content: \"\\00b7\"; padding: 0 .5ex}\n",
       "</style>\n",
       "<ol class=list-inline><li>41213</li><li>14</li></ol>\n"
      ],
      "text/latex": [
       "\\begin{enumerate*}\n",
       "\\item 41213\n",
       "\\item 14\n",
       "\\end{enumerate*}\n"
      ],
      "text/markdown": [
       "1. 41213\n",
       "2. 14\n",
       "\n",
       "\n"
      ],
      "text/plain": [
       "[1] 41213    14"
      ]
     },
     "metadata": {},
     "output_type": "display_data"
    }
   ],
   "source": [
    "multi_con_clean %>% dim"
   ]
  },
  {
   "cell_type": "code",
   "execution_count": 183,
   "id": "bbfc4b78-80d7-4cab-a079-4829a0f1eca3",
   "metadata": {},
   "outputs": [
    {
     "data": {
      "text/html": [
       "<style>\n",
       ".list-inline {list-style: none; margin:0; padding: 0}\n",
       ".list-inline>li {display: inline-block}\n",
       ".list-inline>li:not(:last-child)::after {content: \"\\00b7\"; padding: 0 .5ex}\n",
       "</style>\n",
       "<ol class=list-inline><li>3126</li><li>14</li></ol>\n"
      ],
      "text/latex": [
       "\\begin{enumerate*}\n",
       "\\item 3126\n",
       "\\item 14\n",
       "\\end{enumerate*}\n"
      ],
      "text/markdown": [
       "1. 3126\n",
       "2. 14\n",
       "\n",
       "\n"
      ],
      "text/plain": [
       "[1] 3126   14"
      ]
     },
     "metadata": {},
     "output_type": "display_data"
    }
   ],
   "source": [
    "pure_cell_specific %>% dim"
   ]
  },
  {
   "cell_type": "markdown",
   "id": "1ac61a57-7688-4f4f-8071-f25288f19708",
   "metadata": {},
   "source": [
    "too few to continue EOO analysis with this pure way"
   ]
  },
  {
   "cell_type": "markdown",
   "id": "fc232aa5-41ec-485c-b67a-f79977258fda",
   "metadata": {},
   "source": [
    "## Data preparation"
   ]
  },
  {
   "cell_type": "code",
   "execution_count": 190,
   "id": "950d7fdb-4ee9-406d-8182-36eb8477db12",
   "metadata": {
    "kernel": "SoS",
    "scrolled": true
   },
   "outputs": [],
   "source": [
    "library(tidyverse)\n",
    "library(data.table)"
   ]
  },
  {
   "cell_type": "code",
   "execution_count": 191,
   "id": "0d9d9355-fd39-4436-9df9-1e6f086e3917",
   "metadata": {
    "kernel": "SoS"
   },
   "outputs": [],
   "source": [
    "eoo_res_list <- list.files('~/Work/Fungen_xQTL/2025/Sep/eoo/EOO/enrichment', 'gz$', full.names = T)"
   ]
  },
  {
   "cell_type": "code",
   "execution_count": 194,
   "id": "7f769df4-c162-4d62-8a5b-269618069756",
   "metadata": {
    "kernel": "SoS"
   },
   "outputs": [
    {
     "data": {
      "text/html": [
       "368"
      ],
      "text/latex": [
       "368"
      ],
      "text/markdown": [
       "368"
      ],
      "text/plain": [
       "[1] 368"
      ]
     },
     "metadata": {},
     "output_type": "display_data"
    }
   ],
   "source": [
    "eoo_res_list %>% length"
   ]
  },
  {
   "cell_type": "code",
   "execution_count": 195,
   "id": "be74f0a7-71c7-4e1a-bf6b-2f38f3785cdb",
   "metadata": {
    "kernel": "SoS"
   },
   "outputs": [],
   "source": [
    "eoo_res <- data.frame()\n",
    "for(i in seq_along(eoo_res_list)){\n",
    "    eoo_res  <- rbind(eoo_res, fread(eoo_res_list[i]) %>% mutate(study = basename(eoo_res_list[i]) %>% str_split(., '[.]', simplify = T) %>% .[,1]))\n",
    "\n",
    "}"
   ]
  },
  {
   "cell_type": "code",
   "execution_count": 196,
   "id": "6fca6ee2-aae9-44b6-b415-a987d2730308",
   "metadata": {
    "kernel": "SoS"
   },
   "outputs": [],
   "source": [
    "fwrite(eoo_res, '~/Work/Fungen_xQTL/2025/Sep/eoo/EOO/enrichment/ROSMAP_multicontext.all.enrichment_results_summary.tsv.gz')"
   ]
  },
  {
   "cell_type": "code",
   "execution_count": 197,
   "id": "eee0c032-5e8b-424c-aa94-b6f04deb6796",
   "metadata": {
    "kernel": "SoS"
   },
   "outputs": [
    {
     "data": {
      "text/html": [
       "<table class=\"dataframe\">\n",
       "<caption>A data.table: 6 × 12</caption>\n",
       "<thead>\n",
       "\t<tr><th scope=col>Annotation</th><th scope=col>OR</th><th scope=col>OR_SE</th><th scope=col>OR_log2</th><th scope=col>OR_SE_log2</th><th scope=col>Enrichment</th><th scope=col>Enrichment_SE</th><th scope=col>Enrichment_log2</th><th scope=col>Enrichment_SE_log2</th><th scope=col>Enrichment_Z_score</th><th scope=col>Enrichment_P_value</th><th scope=col>study</th></tr>\n",
       "\t<tr><th scope=col>&lt;chr&gt;</th><th scope=col>&lt;dbl&gt;</th><th scope=col>&lt;dbl&gt;</th><th scope=col>&lt;dbl&gt;</th><th scope=col>&lt;dbl&gt;</th><th scope=col>&lt;dbl&gt;</th><th scope=col>&lt;dbl&gt;</th><th scope=col>&lt;dbl&gt;</th><th scope=col>&lt;dbl&gt;</th><th scope=col>&lt;dbl&gt;</th><th scope=col>&lt;dbl&gt;</th><th scope=col>&lt;chr&gt;</th></tr>\n",
       "</thead>\n",
       "<tbody>\n",
       "\t<tr><td>LHX2_TSS_H3K27ac                 </td><td>10.478451</td><td>0.4956974</td><td>3.389354</td><td>0.06813028</td><td>9.462041</td><td>0.4672775</td><td>3.242068</td><td>0.07111028</td><td>20.249298</td><td> 3.603390e-91</td><td>AC_DeJager_eQTL_multicontext</td></tr>\n",
       "\t<tr><td>LHX2_enhancer                    </td><td> 2.891761</td><td>0.2098354</td><td>1.531948</td><td>0.10443331</td><td>2.771898</td><td>0.1944439</td><td>1.470706</td><td>0.10097178</td><td>14.255515</td><td> 4.142337e-46</td><td>AC_DeJager_eQTL_multicontext</td></tr>\n",
       "\t<tr><td>LHX2_enhancer_atac               </td><td> 6.359157</td><td>0.6551940</td><td>2.668836</td><td>0.14953289</td><td>6.200055</td><td>0.6254002</td><td>2.631929</td><td>0.14642127</td><td> 9.913741</td><td> 3.628028e-23</td><td>AC_DeJager_eQTL_multicontext</td></tr>\n",
       "\t<tr><td>LHX2_optimal_peak.H3K27          </td><td> 5.353238</td><td>0.2439659</td><td>2.420412</td><td>0.06586453</td><td>4.689886</td><td>0.2152761</td><td>2.229480</td><td>0.06632624</td><td>21.785450</td><td>3.187966e-105</td><td>AC_DeJager_eQTL_multicontext</td></tr>\n",
       "\t<tr><td>LHX2_optimal_peak.H3K4me3        </td><td>10.151530</td><td>0.4857885</td><td>3.343625</td><td>0.06918673</td><td>9.274875</td><td>0.4537692</td><td>3.213245</td><td>0.07070101</td><td>20.439632</td><td> 7.429773e-93</td><td>AC_DeJager_eQTL_multicontext</td></tr>\n",
       "\t<tr><td>LHX2_optimal_peak_IDR_ENCODE.ATAC</td><td> 7.957453</td><td>0.4111946</td><td>2.992307</td><td>0.07456977</td><td>7.451540</td><td>0.3673269</td><td>2.897455</td><td>0.07114755</td><td>20.285857</td><td> 1.714488e-91</td><td>AC_DeJager_eQTL_multicontext</td></tr>\n",
       "</tbody>\n",
       "</table>\n"
      ],
      "text/latex": [
       "A data.table: 6 × 12\n",
       "\\begin{tabular}{llllllllllll}\n",
       " Annotation & OR & OR\\_SE & OR\\_log2 & OR\\_SE\\_log2 & Enrichment & Enrichment\\_SE & Enrichment\\_log2 & Enrichment\\_SE\\_log2 & Enrichment\\_Z\\_score & Enrichment\\_P\\_value & study\\\\\n",
       " <chr> & <dbl> & <dbl> & <dbl> & <dbl> & <dbl> & <dbl> & <dbl> & <dbl> & <dbl> & <dbl> & <chr>\\\\\n",
       "\\hline\n",
       "\t LHX2\\_TSS\\_H3K27ac                  & 10.478451 & 0.4956974 & 3.389354 & 0.06813028 & 9.462041 & 0.4672775 & 3.242068 & 0.07111028 & 20.249298 &  3.603390e-91 & AC\\_DeJager\\_eQTL\\_multicontext\\\\\n",
       "\t LHX2\\_enhancer                     &  2.891761 & 0.2098354 & 1.531948 & 0.10443331 & 2.771898 & 0.1944439 & 1.470706 & 0.10097178 & 14.255515 &  4.142337e-46 & AC\\_DeJager\\_eQTL\\_multicontext\\\\\n",
       "\t LHX2\\_enhancer\\_atac                &  6.359157 & 0.6551940 & 2.668836 & 0.14953289 & 6.200055 & 0.6254002 & 2.631929 & 0.14642127 &  9.913741 &  3.628028e-23 & AC\\_DeJager\\_eQTL\\_multicontext\\\\\n",
       "\t LHX2\\_optimal\\_peak.H3K27           &  5.353238 & 0.2439659 & 2.420412 & 0.06586453 & 4.689886 & 0.2152761 & 2.229480 & 0.06632624 & 21.785450 & 3.187966e-105 & AC\\_DeJager\\_eQTL\\_multicontext\\\\\n",
       "\t LHX2\\_optimal\\_peak.H3K4me3         & 10.151530 & 0.4857885 & 3.343625 & 0.06918673 & 9.274875 & 0.4537692 & 3.213245 & 0.07070101 & 20.439632 &  7.429773e-93 & AC\\_DeJager\\_eQTL\\_multicontext\\\\\n",
       "\t LHX2\\_optimal\\_peak\\_IDR\\_ENCODE.ATAC &  7.957453 & 0.4111946 & 2.992307 & 0.07456977 & 7.451540 & 0.3673269 & 2.897455 & 0.07114755 & 20.285857 &  1.714488e-91 & AC\\_DeJager\\_eQTL\\_multicontext\\\\\n",
       "\\end{tabular}\n"
      ],
      "text/markdown": [
       "\n",
       "A data.table: 6 × 12\n",
       "\n",
       "| Annotation &lt;chr&gt; | OR &lt;dbl&gt; | OR_SE &lt;dbl&gt; | OR_log2 &lt;dbl&gt; | OR_SE_log2 &lt;dbl&gt; | Enrichment &lt;dbl&gt; | Enrichment_SE &lt;dbl&gt; | Enrichment_log2 &lt;dbl&gt; | Enrichment_SE_log2 &lt;dbl&gt; | Enrichment_Z_score &lt;dbl&gt; | Enrichment_P_value &lt;dbl&gt; | study &lt;chr&gt; |\n",
       "|---|---|---|---|---|---|---|---|---|---|---|---|\n",
       "| LHX2_TSS_H3K27ac                  | 10.478451 | 0.4956974 | 3.389354 | 0.06813028 | 9.462041 | 0.4672775 | 3.242068 | 0.07111028 | 20.249298 |  3.603390e-91 | AC_DeJager_eQTL_multicontext |\n",
       "| LHX2_enhancer                     |  2.891761 | 0.2098354 | 1.531948 | 0.10443331 | 2.771898 | 0.1944439 | 1.470706 | 0.10097178 | 14.255515 |  4.142337e-46 | AC_DeJager_eQTL_multicontext |\n",
       "| LHX2_enhancer_atac                |  6.359157 | 0.6551940 | 2.668836 | 0.14953289 | 6.200055 | 0.6254002 | 2.631929 | 0.14642127 |  9.913741 |  3.628028e-23 | AC_DeJager_eQTL_multicontext |\n",
       "| LHX2_optimal_peak.H3K27           |  5.353238 | 0.2439659 | 2.420412 | 0.06586453 | 4.689886 | 0.2152761 | 2.229480 | 0.06632624 | 21.785450 | 3.187966e-105 | AC_DeJager_eQTL_multicontext |\n",
       "| LHX2_optimal_peak.H3K4me3         | 10.151530 | 0.4857885 | 3.343625 | 0.06918673 | 9.274875 | 0.4537692 | 3.213245 | 0.07070101 | 20.439632 |  7.429773e-93 | AC_DeJager_eQTL_multicontext |\n",
       "| LHX2_optimal_peak_IDR_ENCODE.ATAC |  7.957453 | 0.4111946 | 2.992307 | 0.07456977 | 7.451540 | 0.3673269 | 2.897455 | 0.07114755 | 20.285857 |  1.714488e-91 | AC_DeJager_eQTL_multicontext |\n",
       "\n"
      ],
      "text/plain": [
       "  Annotation                        OR        OR_SE     OR_log2  OR_SE_log2\n",
       "1 LHX2_TSS_H3K27ac                  10.478451 0.4956974 3.389354 0.06813028\n",
       "2 LHX2_enhancer                      2.891761 0.2098354 1.531948 0.10443331\n",
       "3 LHX2_enhancer_atac                 6.359157 0.6551940 2.668836 0.14953289\n",
       "4 LHX2_optimal_peak.H3K27            5.353238 0.2439659 2.420412 0.06586453\n",
       "5 LHX2_optimal_peak.H3K4me3         10.151530 0.4857885 3.343625 0.06918673\n",
       "6 LHX2_optimal_peak_IDR_ENCODE.ATAC  7.957453 0.4111946 2.992307 0.07456977\n",
       "  Enrichment Enrichment_SE Enrichment_log2 Enrichment_SE_log2\n",
       "1 9.462041   0.4672775     3.242068        0.07111028        \n",
       "2 2.771898   0.1944439     1.470706        0.10097178        \n",
       "3 6.200055   0.6254002     2.631929        0.14642127        \n",
       "4 4.689886   0.2152761     2.229480        0.06632624        \n",
       "5 9.274875   0.4537692     3.213245        0.07070101        \n",
       "6 7.451540   0.3673269     2.897455        0.07114755        \n",
       "  Enrichment_Z_score Enrichment_P_value study                       \n",
       "1 20.249298           3.603390e-91      AC_DeJager_eQTL_multicontext\n",
       "2 14.255515           4.142337e-46      AC_DeJager_eQTL_multicontext\n",
       "3  9.913741           3.628028e-23      AC_DeJager_eQTL_multicontext\n",
       "4 21.785450          3.187966e-105      AC_DeJager_eQTL_multicontext\n",
       "5 20.439632           7.429773e-93      AC_DeJager_eQTL_multicontext\n",
       "6 20.285857           1.714488e-91      AC_DeJager_eQTL_multicontext"
      ]
     },
     "metadata": {},
     "output_type": "display_data"
    }
   ],
   "source": [
    "eoo_res %>% head"
   ]
  },
  {
   "cell_type": "markdown",
   "id": "346c64ea-5bf2-4f70-8f1a-146e21932130",
   "metadata": {
    "kernel": "SoS"
   },
   "source": [
    "## Visualization "
   ]
  },
  {
   "cell_type": "markdown",
   "id": "a8cbd9ef-3c2d-484b-bf59-0bca59bb1770",
   "metadata": {},
   "source": [
    "### prepare data"
   ]
  },
  {
   "cell_type": "markdown",
   "id": "2c4373dc-4327-41c3-85ee-923e4f64689c",
   "metadata": {},
   "source": [
    "#### load updated multicontext"
   ]
  },
  {
   "cell_type": "code",
   "execution_count": 227,
   "id": "ec3d0041-d33a-4126-b93e-bf7ea266bf0a",
   "metadata": {
    "kernel": "SoS"
   },
   "outputs": [],
   "source": [
    "library(data.table)\n",
    "library(ggplot2)\n",
    "library(tidyverse)\n",
    "library(RColorBrewer)\n",
    "library(scales)\n",
    "eoo_res_multicon <- fread( '~/Work/Fungen_xQTL/2025/Sep/eoo/EOO/enrichment/ROSMAP_multicontext.all.enrichment_results_summary.tsv.gz')\n",
    "\n",
    "#### load data ####\n",
    "meta <- fread('~/Work/gpQTL//EOO/data/realease_data_readme.txt')\n",
    "meta <- meta %>% mutate(context_mod = basename(Path) %>% gsub('.exported.toploci.bed.gz', '',.))"
   ]
  },
  {
   "cell_type": "code",
   "execution_count": 229,
   "id": "e9294aee-5ae0-4c64-9bda-0899bf5f5567",
   "metadata": {},
   "outputs": [
    {
     "data": {
      "text/html": [
       "<style>\n",
       ".list-inline {list-style: none; margin:0; padding: 0}\n",
       ".list-inline>li {display: inline-block}\n",
       ".list-inline>li:not(:last-child)::after {content: \"\\00b7\"; padding: 0 .5ex}\n",
       "</style>\n",
       "<ol class=list-inline><li>'AC_DeJager_eQTL_multicontext'</li><li>'Ast_DeJager_eQTL_multicontext'</li><li>'Ast_Kellis_eQTL_multicontext'</li><li>'Ast_mega_eQTL_multicontext'</li><li>'DLPFC_Bennett_pQTL_multicontext'</li><li>'DLPFC_DeJager_eQTL_multicontext'</li><li>'Exc_DeJager_eQTL_multicontext'</li><li>'Exc_Kellis_eQTL_multicontext'</li><li>'Exc_mega_eQTL_multicontext'</li><li>'Inh_DeJager_eQTL_multicontext'</li><li>'Inh_Kellis_eQTL_multicontext'</li><li>'Inh_mega_eQTL_multicontext'</li><li>'Mic_DeJager_eQTL_multicontext'</li><li>'Mic_Kellis_eQTL_multicontext'</li><li>'Mic_mega_eQTL_multicontext'</li><li>'monocyte_ROSMAP_eQTL_multicontext'</li><li>'Oli_DeJager_eQTL_multicontext'</li><li>'Oli_Kellis_eQTL_multicontext'</li><li>'Oli_mega_eQTL_multicontext'</li><li>'OPC_DeJager_eQTL_multicontext'</li><li>'OPC_Kellis_eQTL_multicontext'</li><li>'OPC_mega_eQTL_multicontext'</li><li>'PCC_DeJager_eQTL_multicontext'</li></ol>\n"
      ],
      "text/latex": [
       "\\begin{enumerate*}\n",
       "\\item 'AC\\_DeJager\\_eQTL\\_multicontext'\n",
       "\\item 'Ast\\_DeJager\\_eQTL\\_multicontext'\n",
       "\\item 'Ast\\_Kellis\\_eQTL\\_multicontext'\n",
       "\\item 'Ast\\_mega\\_eQTL\\_multicontext'\n",
       "\\item 'DLPFC\\_Bennett\\_pQTL\\_multicontext'\n",
       "\\item 'DLPFC\\_DeJager\\_eQTL\\_multicontext'\n",
       "\\item 'Exc\\_DeJager\\_eQTL\\_multicontext'\n",
       "\\item 'Exc\\_Kellis\\_eQTL\\_multicontext'\n",
       "\\item 'Exc\\_mega\\_eQTL\\_multicontext'\n",
       "\\item 'Inh\\_DeJager\\_eQTL\\_multicontext'\n",
       "\\item 'Inh\\_Kellis\\_eQTL\\_multicontext'\n",
       "\\item 'Inh\\_mega\\_eQTL\\_multicontext'\n",
       "\\item 'Mic\\_DeJager\\_eQTL\\_multicontext'\n",
       "\\item 'Mic\\_Kellis\\_eQTL\\_multicontext'\n",
       "\\item 'Mic\\_mega\\_eQTL\\_multicontext'\n",
       "\\item 'monocyte\\_ROSMAP\\_eQTL\\_multicontext'\n",
       "\\item 'Oli\\_DeJager\\_eQTL\\_multicontext'\n",
       "\\item 'Oli\\_Kellis\\_eQTL\\_multicontext'\n",
       "\\item 'Oli\\_mega\\_eQTL\\_multicontext'\n",
       "\\item 'OPC\\_DeJager\\_eQTL\\_multicontext'\n",
       "\\item 'OPC\\_Kellis\\_eQTL\\_multicontext'\n",
       "\\item 'OPC\\_mega\\_eQTL\\_multicontext'\n",
       "\\item 'PCC\\_DeJager\\_eQTL\\_multicontext'\n",
       "\\end{enumerate*}\n"
      ],
      "text/markdown": [
       "1. 'AC_DeJager_eQTL_multicontext'\n",
       "2. 'Ast_DeJager_eQTL_multicontext'\n",
       "3. 'Ast_Kellis_eQTL_multicontext'\n",
       "4. 'Ast_mega_eQTL_multicontext'\n",
       "5. 'DLPFC_Bennett_pQTL_multicontext'\n",
       "6. 'DLPFC_DeJager_eQTL_multicontext'\n",
       "7. 'Exc_DeJager_eQTL_multicontext'\n",
       "8. 'Exc_Kellis_eQTL_multicontext'\n",
       "9. 'Exc_mega_eQTL_multicontext'\n",
       "10. 'Inh_DeJager_eQTL_multicontext'\n",
       "11. 'Inh_Kellis_eQTL_multicontext'\n",
       "12. 'Inh_mega_eQTL_multicontext'\n",
       "13. 'Mic_DeJager_eQTL_multicontext'\n",
       "14. 'Mic_Kellis_eQTL_multicontext'\n",
       "15. 'Mic_mega_eQTL_multicontext'\n",
       "16. 'monocyte_ROSMAP_eQTL_multicontext'\n",
       "17. 'Oli_DeJager_eQTL_multicontext'\n",
       "18. 'Oli_Kellis_eQTL_multicontext'\n",
       "19. 'Oli_mega_eQTL_multicontext'\n",
       "20. 'OPC_DeJager_eQTL_multicontext'\n",
       "21. 'OPC_Kellis_eQTL_multicontext'\n",
       "22. 'OPC_mega_eQTL_multicontext'\n",
       "23. 'PCC_DeJager_eQTL_multicontext'\n",
       "\n",
       "\n"
      ],
      "text/plain": [
       " [1] \"AC_DeJager_eQTL_multicontext\"      \"Ast_DeJager_eQTL_multicontext\"    \n",
       " [3] \"Ast_Kellis_eQTL_multicontext\"      \"Ast_mega_eQTL_multicontext\"       \n",
       " [5] \"DLPFC_Bennett_pQTL_multicontext\"   \"DLPFC_DeJager_eQTL_multicontext\"  \n",
       " [7] \"Exc_DeJager_eQTL_multicontext\"     \"Exc_Kellis_eQTL_multicontext\"     \n",
       " [9] \"Exc_mega_eQTL_multicontext\"        \"Inh_DeJager_eQTL_multicontext\"    \n",
       "[11] \"Inh_Kellis_eQTL_multicontext\"      \"Inh_mega_eQTL_multicontext\"       \n",
       "[13] \"Mic_DeJager_eQTL_multicontext\"     \"Mic_Kellis_eQTL_multicontext\"     \n",
       "[15] \"Mic_mega_eQTL_multicontext\"        \"monocyte_ROSMAP_eQTL_multicontext\"\n",
       "[17] \"Oli_DeJager_eQTL_multicontext\"     \"Oli_Kellis_eQTL_multicontext\"     \n",
       "[19] \"Oli_mega_eQTL_multicontext\"        \"OPC_DeJager_eQTL_multicontext\"    \n",
       "[21] \"OPC_Kellis_eQTL_multicontext\"      \"OPC_mega_eQTL_multicontext\"       \n",
       "[23] \"PCC_DeJager_eQTL_multicontext\"    "
      ]
     },
     "metadata": {},
     "output_type": "display_data"
    }
   ],
   "source": [
    "eoo_res_multicon %>% pull(study) %>% unique "
   ]
  },
  {
   "cell_type": "markdown",
   "id": "92b46718-5091-4f03-8bc6-04bd11cc9d74",
   "metadata": {},
   "source": [
    "#### load all other data"
   ]
  },
  {
   "cell_type": "code",
   "execution_count": 230,
   "id": "ef709be4-168e-43ad-9f70-036e77fc7a9d",
   "metadata": {},
   "outputs": [],
   "source": [
    "eoo_res_all <- readRDS( '~/Work/Fungen_xQTL/2025/Sep/eoo/EOO/EOO_reshape_combined_result_withSNP_pip01_95cs_annotation_variant_level.RDS')\n",
    "# eoo_res <- readRDS( '~/Work/Fungen_xQTL/2025/Sep/eoo/EOO/EOO_original_result_files_withSNP_pip01_95cs_annotation_variant_level.RDS')"
   ]
  },
  {
   "cell_type": "code",
   "execution_count": 231,
   "id": "d7ef1d6a-ec47-4edc-b088-21e91f995761",
   "metadata": {},
   "outputs": [],
   "source": [
    "eoo_res_all <- eoo_res_all %>% rename(Enrichment_Z_score=Z_enrich, Enrichment_P_value = P_enrich)"
   ]
  },
  {
   "cell_type": "code",
   "execution_count": 232,
   "id": "33c242ad-335a-49bd-ab33-f413b2759342",
   "metadata": {},
   "outputs": [
    {
     "data": {
      "text/html": [
       "<style>\n",
       ".list-inline {list-style: none; margin:0; padding: 0}\n",
       ".list-inline>li {display: inline-block}\n",
       ".list-inline>li:not(:last-child)::after {content: \"\\00b7\"; padding: 0 .5ex}\n",
       "</style>\n",
       "<ol class=list-inline><li>'MSBB'</li><li>'ROSMAP'</li><li>'ROSMAP_AC'</li><li>'ROSMAP_DLPFC'</li><li>'ROSMAP_Exc'</li><li>'ROSMAP_Inh'</li><li>'ROSMAP_Mic'</li><li>'ROSMAP_OPC'</li><li>'ROSMAP_PCC'</li></ol>\n"
      ],
      "text/latex": [
       "\\begin{enumerate*}\n",
       "\\item 'MSBB'\n",
       "\\item 'ROSMAP'\n",
       "\\item 'ROSMAP\\_AC'\n",
       "\\item 'ROSMAP\\_DLPFC'\n",
       "\\item 'ROSMAP\\_Exc'\n",
       "\\item 'ROSMAP\\_Inh'\n",
       "\\item 'ROSMAP\\_Mic'\n",
       "\\item 'ROSMAP\\_OPC'\n",
       "\\item 'ROSMAP\\_PCC'\n",
       "\\end{enumerate*}\n"
      ],
      "text/markdown": [
       "1. 'MSBB'\n",
       "2. 'ROSMAP'\n",
       "3. 'ROSMAP_AC'\n",
       "4. 'ROSMAP_DLPFC'\n",
       "5. 'ROSMAP_Exc'\n",
       "6. 'ROSMAP_Inh'\n",
       "7. 'ROSMAP_Mic'\n",
       "8. 'ROSMAP_OPC'\n",
       "9. 'ROSMAP_PCC'\n",
       "\n",
       "\n"
      ],
      "text/plain": [
       "[1] \"MSBB\"         \"ROSMAP\"       \"ROSMAP_AC\"    \"ROSMAP_DLPFC\" \"ROSMAP_Exc\"  \n",
       "[6] \"ROSMAP_Inh\"   \"ROSMAP_Mic\"   \"ROSMAP_OPC\"   \"ROSMAP_PCC\"  "
      ]
     },
     "metadata": {},
     "output_type": "display_data"
    }
   ],
   "source": [
    "eoo_res_all %>% filter(method == 'multicontext') %>% pull(study) %>% unique "
   ]
  },
  {
   "cell_type": "code",
   "execution_count": 233,
   "id": "d5803e03-fca1-4252-bd63-3ac293e06be9",
   "metadata": {},
   "outputs": [
    {
     "data": {
      "text/html": [
       "'ROSMAP_Ast_multicontext'"
      ],
      "text/latex": [
       "'ROSMAP\\_Ast\\_multicontext'"
      ],
      "text/markdown": [
       "'ROSMAP_Ast_multicontext'"
      ],
      "text/plain": [
       "[1] \"ROSMAP_Ast_multicontext\""
      ]
     },
     "metadata": {},
     "output_type": "display_data"
    }
   ],
   "source": [
    "eoo_res_all %>% filter(is.na(method)) %>% pull(study) %>% unique "
   ]
  },
  {
   "cell_type": "markdown",
   "id": "78c77fc1-7f17-4c45-989f-b1b92ea238f3",
   "metadata": {},
   "source": [
    "#### combine as new data"
   ]
  },
  {
   "cell_type": "code",
   "execution_count": 235,
   "id": "2cacb4e8-771a-40bf-844f-3a9f310971da",
   "metadata": {},
   "outputs": [],
   "source": [
    "eoo_res_all_nomulticon <- eoo_res_all %>% filter(method != 'multicontext' | is.na(method))"
   ]
  },
  {
   "cell_type": "code",
   "execution_count": 236,
   "id": "fa979f97-91c4-4e2e-9d25-f7bde424cb85",
   "metadata": {},
   "outputs": [],
   "source": [
    "eoo_res_all <- plyr::rbind.fill(eoo_res_all_nomulticon %>% as.data.frame, eoo_res_multicon %>% as.data.frame %>% mutate(method = 'multicontext') %>% filter(Annotation!='UTR_5_UCSC.to_hg38')) # a duplicate annotation"
   ]
  },
  {
   "cell_type": "code",
   "execution_count": 237,
   "id": "39aa45b6-a3c8-485e-82b2-8b1ee6f040ca",
   "metadata": {},
   "outputs": [
    {
     "data": {
      "text/html": [
       "<table class=\"dataframe\">\n",
       "<caption>A data.frame: 6 × 17</caption>\n",
       "<thead>\n",
       "\t<tr><th></th><th scope=col>Annotation</th><th scope=col>OR</th><th scope=col>OR_SE</th><th scope=col>OR_log2</th><th scope=col>OR_SE_log2</th><th scope=col>Enrichment</th><th scope=col>Enrichment_SE</th><th scope=col>Enrichment_log2</th><th scope=col>Enrichment_SE_log2</th><th scope=col>study</th><th scope=col>method</th><th scope=col>annotation</th><th scope=col>annotation_sets</th><th scope=col>Enrichment_Z_score</th><th scope=col>Enrichment_P_value</th><th scope=col>Z_or</th><th scope=col>P_or</th></tr>\n",
       "\t<tr><th></th><th scope=col>&lt;chr&gt;</th><th scope=col>&lt;dbl&gt;</th><th scope=col>&lt;dbl&gt;</th><th scope=col>&lt;dbl&gt;</th><th scope=col>&lt;dbl&gt;</th><th scope=col>&lt;dbl&gt;</th><th scope=col>&lt;dbl&gt;</th><th scope=col>&lt;dbl&gt;</th><th scope=col>&lt;dbl&gt;</th><th scope=col>&lt;chr&gt;</th><th scope=col>&lt;chr&gt;</th><th scope=col>&lt;chr&gt;</th><th scope=col>&lt;chr&gt;</th><th scope=col>&lt;dbl&gt;</th><th scope=col>&lt;dbl&gt;</th><th scope=col>&lt;dbl&gt;</th><th scope=col>&lt;dbl&gt;</th></tr>\n",
       "</thead>\n",
       "<tbody>\n",
       "\t<tr><th scope=row>1</th><td>LHX2_TSS_H3K27ac                 </td><td>12.723741</td><td>0.7243419</td><td>3.669451</td><td>0.08187278</td><td>11.352247</td><td>0.6569629</td><td>3.504791</td><td>0.08324203</td><td>AC_DeJager_eQTL</td><td>univariate</td><td>AI_MPRA_starrseq_baseline_1000G_EUR_hg38_annotations</td><td>AI_MPRA_starrseq</td><td>15.757733</td><td>0.000000e+00</td><td>44.81894</td><td>0</td></tr>\n",
       "\t<tr><th scope=row>2</th><td>LHX2_enhancer                    </td><td> 2.973535</td><td>0.2473014</td><td>1.572179</td><td>0.12043096</td><td> 2.850839</td><td>0.2272655</td><td>1.511167</td><td>0.11543278</td><td>AC_DeJager_eQTL</td><td>univariate</td><td>AI_MPRA_starrseq_baseline_1000G_EUR_hg38_annotations</td><td>AI_MPRA_starrseq</td><td> 8.143953</td><td>4.440892e-16</td><td>13.05461</td><td>0</td></tr>\n",
       "\t<tr><th scope=row>3</th><td>LHX2_enhancer_atac               </td><td> 6.056163</td><td>0.7897873</td><td>2.598404</td><td>0.18915166</td><td> 5.945633</td><td>0.7606750</td><td>2.571264</td><td>0.18561522</td><td>AC_DeJager_eQTL</td><td>univariate</td><td>AI_MPRA_starrseq_baseline_1000G_EUR_hg38_annotations</td><td>AI_MPRA_starrseq</td><td> 6.501637</td><td>7.945045e-11</td><td>13.73715</td><td>0</td></tr>\n",
       "\t<tr><th scope=row>4</th><td>LHX2_optimal_peak.H3K27          </td><td> 6.227424</td><td>0.3309881</td><td>2.638635</td><td>0.07691982</td><td> 5.346442</td><td>0.2765385</td><td>2.418487</td><td>0.07482234</td><td>AC_DeJager_eQTL</td><td>univariate</td><td>AI_MPRA_starrseq_baseline_1000G_EUR_hg38_annotations</td><td>AI_MPRA_starrseq</td><td>15.717315</td><td>0.000000e+00</td><td>34.30371</td><td>0</td></tr>\n",
       "\t<tr><th scope=row>5</th><td>LHX2_optimal_peak.H3K4me3        </td><td>13.591981</td><td>0.7181150</td><td>3.764684</td><td>0.07614929</td><td>12.169811</td><td>0.6565377</td><td>3.605135</td><td>0.07771441</td><td>AC_DeJager_eQTL</td><td>univariate</td><td>AI_MPRA_starrseq_baseline_1000G_EUR_hg38_annotations</td><td>AI_MPRA_starrseq</td><td>17.013206</td><td>0.000000e+00</td><td>49.43820</td><td>0</td></tr>\n",
       "\t<tr><th scope=row>6</th><td>LHX2_optimal_peak_IDR_ENCODE.ATAC</td><td>10.153046</td><td>0.5578225</td><td>3.343841</td><td>0.07882028</td><td> 9.403917</td><td>0.4846550</td><td>3.233171</td><td>0.07397257</td><td>AC_DeJager_eQTL</td><td>univariate</td><td>AI_MPRA_starrseq_baseline_1000G_EUR_hg38_annotations</td><td>AI_MPRA_starrseq</td><td>17.340000</td><td>0.000000e+00</td><td>42.42361</td><td>0</td></tr>\n",
       "</tbody>\n",
       "</table>\n"
      ],
      "text/latex": [
       "A data.frame: 6 × 17\n",
       "\\begin{tabular}{r|lllllllllllllllll}\n",
       "  & Annotation & OR & OR\\_SE & OR\\_log2 & OR\\_SE\\_log2 & Enrichment & Enrichment\\_SE & Enrichment\\_log2 & Enrichment\\_SE\\_log2 & study & method & annotation & annotation\\_sets & Enrichment\\_Z\\_score & Enrichment\\_P\\_value & Z\\_or & P\\_or\\\\\n",
       "  & <chr> & <dbl> & <dbl> & <dbl> & <dbl> & <dbl> & <dbl> & <dbl> & <dbl> & <chr> & <chr> & <chr> & <chr> & <dbl> & <dbl> & <dbl> & <dbl>\\\\\n",
       "\\hline\n",
       "\t1 & LHX2\\_TSS\\_H3K27ac                  & 12.723741 & 0.7243419 & 3.669451 & 0.08187278 & 11.352247 & 0.6569629 & 3.504791 & 0.08324203 & AC\\_DeJager\\_eQTL & univariate & AI\\_MPRA\\_starrseq\\_baseline\\_1000G\\_EUR\\_hg38\\_annotations & AI\\_MPRA\\_starrseq & 15.757733 & 0.000000e+00 & 44.81894 & 0\\\\\n",
       "\t2 & LHX2\\_enhancer                     &  2.973535 & 0.2473014 & 1.572179 & 0.12043096 &  2.850839 & 0.2272655 & 1.511167 & 0.11543278 & AC\\_DeJager\\_eQTL & univariate & AI\\_MPRA\\_starrseq\\_baseline\\_1000G\\_EUR\\_hg38\\_annotations & AI\\_MPRA\\_starrseq &  8.143953 & 4.440892e-16 & 13.05461 & 0\\\\\n",
       "\t3 & LHX2\\_enhancer\\_atac                &  6.056163 & 0.7897873 & 2.598404 & 0.18915166 &  5.945633 & 0.7606750 & 2.571264 & 0.18561522 & AC\\_DeJager\\_eQTL & univariate & AI\\_MPRA\\_starrseq\\_baseline\\_1000G\\_EUR\\_hg38\\_annotations & AI\\_MPRA\\_starrseq &  6.501637 & 7.945045e-11 & 13.73715 & 0\\\\\n",
       "\t4 & LHX2\\_optimal\\_peak.H3K27           &  6.227424 & 0.3309881 & 2.638635 & 0.07691982 &  5.346442 & 0.2765385 & 2.418487 & 0.07482234 & AC\\_DeJager\\_eQTL & univariate & AI\\_MPRA\\_starrseq\\_baseline\\_1000G\\_EUR\\_hg38\\_annotations & AI\\_MPRA\\_starrseq & 15.717315 & 0.000000e+00 & 34.30371 & 0\\\\\n",
       "\t5 & LHX2\\_optimal\\_peak.H3K4me3         & 13.591981 & 0.7181150 & 3.764684 & 0.07614929 & 12.169811 & 0.6565377 & 3.605135 & 0.07771441 & AC\\_DeJager\\_eQTL & univariate & AI\\_MPRA\\_starrseq\\_baseline\\_1000G\\_EUR\\_hg38\\_annotations & AI\\_MPRA\\_starrseq & 17.013206 & 0.000000e+00 & 49.43820 & 0\\\\\n",
       "\t6 & LHX2\\_optimal\\_peak\\_IDR\\_ENCODE.ATAC & 10.153046 & 0.5578225 & 3.343841 & 0.07882028 &  9.403917 & 0.4846550 & 3.233171 & 0.07397257 & AC\\_DeJager\\_eQTL & univariate & AI\\_MPRA\\_starrseq\\_baseline\\_1000G\\_EUR\\_hg38\\_annotations & AI\\_MPRA\\_starrseq & 17.340000 & 0.000000e+00 & 42.42361 & 0\\\\\n",
       "\\end{tabular}\n"
      ],
      "text/markdown": [
       "\n",
       "A data.frame: 6 × 17\n",
       "\n",
       "| <!--/--> | Annotation &lt;chr&gt; | OR &lt;dbl&gt; | OR_SE &lt;dbl&gt; | OR_log2 &lt;dbl&gt; | OR_SE_log2 &lt;dbl&gt; | Enrichment &lt;dbl&gt; | Enrichment_SE &lt;dbl&gt; | Enrichment_log2 &lt;dbl&gt; | Enrichment_SE_log2 &lt;dbl&gt; | study &lt;chr&gt; | method &lt;chr&gt; | annotation &lt;chr&gt; | annotation_sets &lt;chr&gt; | Enrichment_Z_score &lt;dbl&gt; | Enrichment_P_value &lt;dbl&gt; | Z_or &lt;dbl&gt; | P_or &lt;dbl&gt; |\n",
       "|---|---|---|---|---|---|---|---|---|---|---|---|---|---|---|---|---|---|\n",
       "| 1 | LHX2_TSS_H3K27ac                  | 12.723741 | 0.7243419 | 3.669451 | 0.08187278 | 11.352247 | 0.6569629 | 3.504791 | 0.08324203 | AC_DeJager_eQTL | univariate | AI_MPRA_starrseq_baseline_1000G_EUR_hg38_annotations | AI_MPRA_starrseq | 15.757733 | 0.000000e+00 | 44.81894 | 0 |\n",
       "| 2 | LHX2_enhancer                     |  2.973535 | 0.2473014 | 1.572179 | 0.12043096 |  2.850839 | 0.2272655 | 1.511167 | 0.11543278 | AC_DeJager_eQTL | univariate | AI_MPRA_starrseq_baseline_1000G_EUR_hg38_annotations | AI_MPRA_starrseq |  8.143953 | 4.440892e-16 | 13.05461 | 0 |\n",
       "| 3 | LHX2_enhancer_atac                |  6.056163 | 0.7897873 | 2.598404 | 0.18915166 |  5.945633 | 0.7606750 | 2.571264 | 0.18561522 | AC_DeJager_eQTL | univariate | AI_MPRA_starrseq_baseline_1000G_EUR_hg38_annotations | AI_MPRA_starrseq |  6.501637 | 7.945045e-11 | 13.73715 | 0 |\n",
       "| 4 | LHX2_optimal_peak.H3K27           |  6.227424 | 0.3309881 | 2.638635 | 0.07691982 |  5.346442 | 0.2765385 | 2.418487 | 0.07482234 | AC_DeJager_eQTL | univariate | AI_MPRA_starrseq_baseline_1000G_EUR_hg38_annotations | AI_MPRA_starrseq | 15.717315 | 0.000000e+00 | 34.30371 | 0 |\n",
       "| 5 | LHX2_optimal_peak.H3K4me3         | 13.591981 | 0.7181150 | 3.764684 | 0.07614929 | 12.169811 | 0.6565377 | 3.605135 | 0.07771441 | AC_DeJager_eQTL | univariate | AI_MPRA_starrseq_baseline_1000G_EUR_hg38_annotations | AI_MPRA_starrseq | 17.013206 | 0.000000e+00 | 49.43820 | 0 |\n",
       "| 6 | LHX2_optimal_peak_IDR_ENCODE.ATAC | 10.153046 | 0.5578225 | 3.343841 | 0.07882028 |  9.403917 | 0.4846550 | 3.233171 | 0.07397257 | AC_DeJager_eQTL | univariate | AI_MPRA_starrseq_baseline_1000G_EUR_hg38_annotations | AI_MPRA_starrseq | 17.340000 | 0.000000e+00 | 42.42361 | 0 |\n",
       "\n"
      ],
      "text/plain": [
       "  Annotation                        OR        OR_SE     OR_log2  OR_SE_log2\n",
       "1 LHX2_TSS_H3K27ac                  12.723741 0.7243419 3.669451 0.08187278\n",
       "2 LHX2_enhancer                      2.973535 0.2473014 1.572179 0.12043096\n",
       "3 LHX2_enhancer_atac                 6.056163 0.7897873 2.598404 0.18915166\n",
       "4 LHX2_optimal_peak.H3K27            6.227424 0.3309881 2.638635 0.07691982\n",
       "5 LHX2_optimal_peak.H3K4me3         13.591981 0.7181150 3.764684 0.07614929\n",
       "6 LHX2_optimal_peak_IDR_ENCODE.ATAC 10.153046 0.5578225 3.343841 0.07882028\n",
       "  Enrichment Enrichment_SE Enrichment_log2 Enrichment_SE_log2 study          \n",
       "1 11.352247  0.6569629     3.504791        0.08324203         AC_DeJager_eQTL\n",
       "2  2.850839  0.2272655     1.511167        0.11543278         AC_DeJager_eQTL\n",
       "3  5.945633  0.7606750     2.571264        0.18561522         AC_DeJager_eQTL\n",
       "4  5.346442  0.2765385     2.418487        0.07482234         AC_DeJager_eQTL\n",
       "5 12.169811  0.6565377     3.605135        0.07771441         AC_DeJager_eQTL\n",
       "6  9.403917  0.4846550     3.233171        0.07397257         AC_DeJager_eQTL\n",
       "  method     annotation                                          \n",
       "1 univariate AI_MPRA_starrseq_baseline_1000G_EUR_hg38_annotations\n",
       "2 univariate AI_MPRA_starrseq_baseline_1000G_EUR_hg38_annotations\n",
       "3 univariate AI_MPRA_starrseq_baseline_1000G_EUR_hg38_annotations\n",
       "4 univariate AI_MPRA_starrseq_baseline_1000G_EUR_hg38_annotations\n",
       "5 univariate AI_MPRA_starrseq_baseline_1000G_EUR_hg38_annotations\n",
       "6 univariate AI_MPRA_starrseq_baseline_1000G_EUR_hg38_annotations\n",
       "  annotation_sets  Enrichment_Z_score Enrichment_P_value Z_or     P_or\n",
       "1 AI_MPRA_starrseq 15.757733          0.000000e+00       44.81894 0   \n",
       "2 AI_MPRA_starrseq  8.143953          4.440892e-16       13.05461 0   \n",
       "3 AI_MPRA_starrseq  6.501637          7.945045e-11       13.73715 0   \n",
       "4 AI_MPRA_starrseq 15.717315          0.000000e+00       34.30371 0   \n",
       "5 AI_MPRA_starrseq 17.013206          0.000000e+00       49.43820 0   \n",
       "6 AI_MPRA_starrseq 17.340000          0.000000e+00       42.42361 0   "
      ]
     },
     "metadata": {},
     "output_type": "display_data"
    }
   ],
   "source": [
    "eoo_res_all %>% head"
   ]
  },
  {
   "cell_type": "code",
   "execution_count": null,
   "id": "cb50619f-0fe7-450a-b14f-9a2d550bcd29",
   "metadata": {},
   "outputs": [],
   "source": []
  },
  {
   "cell_type": "code",
   "execution_count": 238,
   "id": "ed689943-506f-4149-99d7-9b3bac4766e4",
   "metadata": {},
   "outputs": [],
   "source": [
    "saveRDS(eoo_res_all, '~/Work/Fungen_xQTL/2025/Sep/eoo/EOO/EOO_reshape_combined_result_withSNP_pip01_95cs_annotation_variant_level.updatedSep9th.RDS')"
   ]
  },
  {
   "cell_type": "code",
   "execution_count": 239,
   "id": "49dfdc1a-d743-4070-bb7e-4a96bed3aee1",
   "metadata": {
    "kernel": "SoS"
   },
   "outputs": [],
   "source": [
    "# # reorganize track df \n",
    "# old_track_df <- fread(\"/Work/Fungen_xQTL/2025/Sep/eoo/EOO/data/categorized_annotation_tracks.csv\")\n",
    "# encode_track_df <- fread(\"/Work/Fungen_xQTL/2025/Sep/eoo/EOO/data/encode_categories_Ru.csv\")\n",
    "\n",
    "# encode_track_df <- encode_track_df %>% select(V1, V2)\n",
    "# encode_track_df <- encode_track_df[-1,] %>% mutate(Source = 'ENCODE')\n",
    "# colnames(encode_track_df) <- c('Track', 'Category', 'Source')\n",
    "# track_df <- plyr::rbind.fill(old_track_df, encode_track_df)\n",
    "# fwrite(track_df, \"/Work/Fungen_xQTL/2025/Sep/eoo/EOO/data/categorized_annotation_tracks.csv\")\n"
   ]
  },
  {
   "cell_type": "markdown",
   "id": "5145705d-ad9c-4f0f-80c6-69d87d8527e0",
   "metadata": {},
   "source": [
    "### Plot"
   ]
  },
  {
   "cell_type": "code",
   "execution_count": 240,
   "id": "6120e8cf-1a92-4a1a-ba74-d3e335592a86",
   "metadata": {},
   "outputs": [],
   "source": [
    "eoo_res_all <- readRDS('EOO_reshape_combined_result_withSNP_pip01_95cs_annotation_variant_level.updatedSep9th.RDS')"
   ]
  },
  {
   "cell_type": "code",
   "execution_count": 261,
   "id": "bca8adaa-2fc5-4411-88fb-f3fb40f7f4ac",
   "metadata": {
    "kernel": "SoS"
   },
   "outputs": [],
   "source": [
    "enrichment_data <- eoo_res_all %>% mutate(Annotation = gsub('.to_hg38', '', Annotation)) %>% filter(!str_detect(Annotation,'hg19'))\n",
    "\n",
    "enrichment_data <- enrichment_data %>%\n",
    "  mutate(Annotation = ifelse(\n",
    "    str_detect(Annotation, 'ENCFF038KTR|ENCFF015DGX|ENCFF370ANN'),\n",
    "    str_replace(Annotation, '\\\\.bed$', '.bed.gz'),\n",
    "    Annotation  # keep original if condition not met\n",
    "  )) %>%\n",
    "  distinct()"
   ]
  },
  {
   "cell_type": "code",
   "execution_count": 262,
   "id": "b89a4b59-1374-4579-94ff-d7a3c5892e33",
   "metadata": {
    "kernel": "SoS"
   },
   "outputs": [],
   "source": [
    "track_df <- fread(\"categorized_annotation_tracks.csv\")\n",
    "\n",
    "enrichment_data <- merge(enrichment_data, track_df, by.x = 'Annotation', by.y = 'Track', all.x = T)%>% select(-Source) %>% distinct\n",
    "\n",
    "# enrichment_data <- enrichment_data %>%mutate(Annotation = ifelse(str_detect(Annotation, 'ENCFF'),paste0(Category, \"_\", Annotation),Annotation))\n",
    "enrichment_data <- enrichment_data %>%mutate(Annotation = paste0(Category, \"|\", Annotation))\n",
    "\n",
    "# Reorder Annotation based on the order of Category\n",
    "enrichment_data$Annotation <- factor(enrichment_data$Annotation,\n",
    "                                     levels = unique(enrichment_data$Annotation[order(enrichment_data$Category)]))"
   ]
  },
  {
   "cell_type": "code",
   "execution_count": 243,
   "id": "d85a3beb-e49a-4618-b667-dff641067876",
   "metadata": {},
   "outputs": [
    {
     "data": {
      "text/html": [
       "<table class=\"dataframe\">\n",
       "<caption>A data.frame: 6 × 24</caption>\n",
       "<thead>\n",
       "\t<tr><th></th><th scope=col>Annotation</th><th scope=col>OR</th><th scope=col>OR_SE</th><th scope=col>OR_log2</th><th scope=col>OR_SE_log2</th><th scope=col>Enrichment</th><th scope=col>Enrichment_SE</th><th scope=col>Enrichment_log2</th><th scope=col>Enrichment_SE_log2</th><th scope=col>study</th><th scope=col>⋯</th><th scope=col>Enrichment_P_value</th><th scope=col>Z_or</th><th scope=col>P_or</th><th scope=col>Assay</th><th scope=col>Data_Category</th><th scope=col>Cell_Type</th><th scope=col>Category</th><th scope=col>Annotation_Category</th><th scope=col>Priority</th><th scope=col>Notes</th></tr>\n",
       "\t<tr><th></th><th scope=col>&lt;fct&gt;</th><th scope=col>&lt;dbl&gt;</th><th scope=col>&lt;dbl&gt;</th><th scope=col>&lt;dbl&gt;</th><th scope=col>&lt;dbl&gt;</th><th scope=col>&lt;dbl&gt;</th><th scope=col>&lt;dbl&gt;</th><th scope=col>&lt;dbl&gt;</th><th scope=col>&lt;dbl&gt;</th><th scope=col>&lt;chr&gt;</th><th scope=col>⋯</th><th scope=col>&lt;dbl&gt;</th><th scope=col>&lt;dbl&gt;</th><th scope=col>&lt;dbl&gt;</th><th scope=col>&lt;chr&gt;</th><th scope=col>&lt;chr&gt;</th><th scope=col>&lt;chr&gt;</th><th scope=col>&lt;chr&gt;</th><th scope=col>&lt;chr&gt;</th><th scope=col>&lt;chr&gt;</th><th scope=col>&lt;chr&gt;</th></tr>\n",
       "</thead>\n",
       "<tbody>\n",
       "\t<tr><th scope=row>1</th><td>Transcription_Factor_Binding|1_GATA2_1-Interval-Track</td><td>1.809502</td><td>0.11650544</td><td>0.8555927</td><td>0.09286834</td><td>1.783705</td><td>0.11105414</td><td>0.8347443</td><td>0.08981472</td><td>Oli_DeJager_eQTL_multicontext    </td><td>⋯</td><td> 4.742789e-58</td><td>NA</td><td>NA</td><td></td><td></td><td></td><td>Transcription_Factor_Binding</td><td>Uncategorized</td><td>Exploratory</td><td>Not directly mapped; exploratory</td></tr>\n",
       "\t<tr><th scope=row>2</th><td>Transcription_Factor_Binding|1_GATA2_1-Interval-Track</td><td>1.737711</td><td>0.10442133</td><td>0.7971878</td><td>0.08647314</td><td>1.714913</td><td>0.09971817</td><td>0.7780193</td><td>0.08368707</td><td>Oli_Kellis_eQTL_multicontext     </td><td>⋯</td><td> 2.767894e-66</td><td>NA</td><td>NA</td><td></td><td></td><td></td><td>Transcription_Factor_Binding</td><td>Uncategorized</td><td>Exploratory</td><td>Not directly mapped; exploratory</td></tr>\n",
       "\t<tr><th scope=row>3</th><td>Transcription_Factor_Binding|1_GATA2_1-Interval-Track</td><td>1.816044</td><td>0.11174689</td><td>0.8607993</td><td>0.08874149</td><td>1.790219</td><td>0.10689954</td><td>0.8400134</td><td>0.08612717</td><td>OPC_Kellis_eQTL_multicontext     </td><td>⋯</td><td> 5.981670e-63</td><td>NA</td><td>NA</td><td></td><td></td><td></td><td>Transcription_Factor_Binding</td><td>Uncategorized</td><td>Exploratory</td><td>Not directly mapped; exploratory</td></tr>\n",
       "\t<tr><th scope=row>4</th><td>Transcription_Factor_Binding|1_GATA2_1-Interval-Track</td><td>1.737365</td><td>0.22948146</td><td>0.7969008</td><td>0.19164379</td><td>1.715772</td><td>0.21975690</td><td>0.7782897</td><td>0.18587504</td><td>monocyte_ROSMAP_eQTL_multicontext</td><td>⋯</td><td> 5.829208e-15</td><td>NA</td><td>NA</td><td></td><td></td><td></td><td>Transcription_Factor_Binding</td><td>Uncategorized</td><td>Exploratory</td><td>Not directly mapped; exploratory</td></tr>\n",
       "\t<tr><th scope=row>5</th><td>Transcription_Factor_Binding|1_GATA2_1-Interval-Track</td><td>1.769361</td><td>0.08809096</td><td>0.8232284</td><td>0.07188886</td><td>1.744402</td><td>0.08413339</td><td>0.8026526</td><td>0.06964766</td><td>Exc_DeJager_eQTL_multicontext    </td><td>⋯</td><td> 1.718045e-95</td><td>NA</td><td>NA</td><td></td><td></td><td></td><td>Transcription_Factor_Binding</td><td>Uncategorized</td><td>Exploratory</td><td>Not directly mapped; exploratory</td></tr>\n",
       "\t<tr><th scope=row>6</th><td>Transcription_Factor_Binding|1_GATA2_1-Interval-Track</td><td>1.604405</td><td>0.06880918</td><td>0.6820384</td><td>0.06174599</td><td>1.585853</td><td>0.06590343</td><td>0.6651996</td><td>0.05983695</td><td>PCC_DeJager_eQTL_multicontext    </td><td>⋯</td><td>6.061492e-128</td><td>NA</td><td>NA</td><td></td><td></td><td></td><td>Transcription_Factor_Binding</td><td>Uncategorized</td><td>Exploratory</td><td>Not directly mapped; exploratory</td></tr>\n",
       "</tbody>\n",
       "</table>\n"
      ],
      "text/latex": [
       "A data.frame: 6 × 24\n",
       "\\begin{tabular}{r|lllllllllllllllllllll}\n",
       "  & Annotation & OR & OR\\_SE & OR\\_log2 & OR\\_SE\\_log2 & Enrichment & Enrichment\\_SE & Enrichment\\_log2 & Enrichment\\_SE\\_log2 & study & ⋯ & Enrichment\\_P\\_value & Z\\_or & P\\_or & Assay & Data\\_Category & Cell\\_Type & Category & Annotation\\_Category & Priority & Notes\\\\\n",
       "  & <fct> & <dbl> & <dbl> & <dbl> & <dbl> & <dbl> & <dbl> & <dbl> & <dbl> & <chr> & ⋯ & <dbl> & <dbl> & <dbl> & <chr> & <chr> & <chr> & <chr> & <chr> & <chr> & <chr>\\\\\n",
       "\\hline\n",
       "\t1 & Transcription\\_Factor\\_Binding\\textbar{}1\\_GATA2\\_1-Interval-Track & 1.809502 & 0.11650544 & 0.8555927 & 0.09286834 & 1.783705 & 0.11105414 & 0.8347443 & 0.08981472 & Oli\\_DeJager\\_eQTL\\_multicontext     & ⋯ &  4.742789e-58 & NA & NA &  &  &  & Transcription\\_Factor\\_Binding & Uncategorized & Exploratory & Not directly mapped; exploratory\\\\\n",
       "\t2 & Transcription\\_Factor\\_Binding\\textbar{}1\\_GATA2\\_1-Interval-Track & 1.737711 & 0.10442133 & 0.7971878 & 0.08647314 & 1.714913 & 0.09971817 & 0.7780193 & 0.08368707 & Oli\\_Kellis\\_eQTL\\_multicontext      & ⋯ &  2.767894e-66 & NA & NA &  &  &  & Transcription\\_Factor\\_Binding & Uncategorized & Exploratory & Not directly mapped; exploratory\\\\\n",
       "\t3 & Transcription\\_Factor\\_Binding\\textbar{}1\\_GATA2\\_1-Interval-Track & 1.816044 & 0.11174689 & 0.8607993 & 0.08874149 & 1.790219 & 0.10689954 & 0.8400134 & 0.08612717 & OPC\\_Kellis\\_eQTL\\_multicontext      & ⋯ &  5.981670e-63 & NA & NA &  &  &  & Transcription\\_Factor\\_Binding & Uncategorized & Exploratory & Not directly mapped; exploratory\\\\\n",
       "\t4 & Transcription\\_Factor\\_Binding\\textbar{}1\\_GATA2\\_1-Interval-Track & 1.737365 & 0.22948146 & 0.7969008 & 0.19164379 & 1.715772 & 0.21975690 & 0.7782897 & 0.18587504 & monocyte\\_ROSMAP\\_eQTL\\_multicontext & ⋯ &  5.829208e-15 & NA & NA &  &  &  & Transcription\\_Factor\\_Binding & Uncategorized & Exploratory & Not directly mapped; exploratory\\\\\n",
       "\t5 & Transcription\\_Factor\\_Binding\\textbar{}1\\_GATA2\\_1-Interval-Track & 1.769361 & 0.08809096 & 0.8232284 & 0.07188886 & 1.744402 & 0.08413339 & 0.8026526 & 0.06964766 & Exc\\_DeJager\\_eQTL\\_multicontext     & ⋯ &  1.718045e-95 & NA & NA &  &  &  & Transcription\\_Factor\\_Binding & Uncategorized & Exploratory & Not directly mapped; exploratory\\\\\n",
       "\t6 & Transcription\\_Factor\\_Binding\\textbar{}1\\_GATA2\\_1-Interval-Track & 1.604405 & 0.06880918 & 0.6820384 & 0.06174599 & 1.585853 & 0.06590343 & 0.6651996 & 0.05983695 & PCC\\_DeJager\\_eQTL\\_multicontext     & ⋯ & 6.061492e-128 & NA & NA &  &  &  & Transcription\\_Factor\\_Binding & Uncategorized & Exploratory & Not directly mapped; exploratory\\\\\n",
       "\\end{tabular}\n"
      ],
      "text/markdown": [
       "\n",
       "A data.frame: 6 × 24\n",
       "\n",
       "| <!--/--> | Annotation &lt;fct&gt; | OR &lt;dbl&gt; | OR_SE &lt;dbl&gt; | OR_log2 &lt;dbl&gt; | OR_SE_log2 &lt;dbl&gt; | Enrichment &lt;dbl&gt; | Enrichment_SE &lt;dbl&gt; | Enrichment_log2 &lt;dbl&gt; | Enrichment_SE_log2 &lt;dbl&gt; | study &lt;chr&gt; | ⋯ ⋯ | Enrichment_P_value &lt;dbl&gt; | Z_or &lt;dbl&gt; | P_or &lt;dbl&gt; | Assay &lt;chr&gt; | Data_Category &lt;chr&gt; | Cell_Type &lt;chr&gt; | Category &lt;chr&gt; | Annotation_Category &lt;chr&gt; | Priority &lt;chr&gt; | Notes &lt;chr&gt; |\n",
       "|---|---|---|---|---|---|---|---|---|---|---|---|---|---|---|---|---|---|---|---|---|---|\n",
       "| 1 | Transcription_Factor_Binding|1_GATA2_1-Interval-Track | 1.809502 | 0.11650544 | 0.8555927 | 0.09286834 | 1.783705 | 0.11105414 | 0.8347443 | 0.08981472 | Oli_DeJager_eQTL_multicontext     | ⋯ |  4.742789e-58 | NA | NA | <!----> | <!----> | <!----> | Transcription_Factor_Binding | Uncategorized | Exploratory | Not directly mapped; exploratory |\n",
       "| 2 | Transcription_Factor_Binding|1_GATA2_1-Interval-Track | 1.737711 | 0.10442133 | 0.7971878 | 0.08647314 | 1.714913 | 0.09971817 | 0.7780193 | 0.08368707 | Oli_Kellis_eQTL_multicontext      | ⋯ |  2.767894e-66 | NA | NA | <!----> | <!----> | <!----> | Transcription_Factor_Binding | Uncategorized | Exploratory | Not directly mapped; exploratory |\n",
       "| 3 | Transcription_Factor_Binding|1_GATA2_1-Interval-Track | 1.816044 | 0.11174689 | 0.8607993 | 0.08874149 | 1.790219 | 0.10689954 | 0.8400134 | 0.08612717 | OPC_Kellis_eQTL_multicontext      | ⋯ |  5.981670e-63 | NA | NA | <!----> | <!----> | <!----> | Transcription_Factor_Binding | Uncategorized | Exploratory | Not directly mapped; exploratory |\n",
       "| 4 | Transcription_Factor_Binding|1_GATA2_1-Interval-Track | 1.737365 | 0.22948146 | 0.7969008 | 0.19164379 | 1.715772 | 0.21975690 | 0.7782897 | 0.18587504 | monocyte_ROSMAP_eQTL_multicontext | ⋯ |  5.829208e-15 | NA | NA | <!----> | <!----> | <!----> | Transcription_Factor_Binding | Uncategorized | Exploratory | Not directly mapped; exploratory |\n",
       "| 5 | Transcription_Factor_Binding|1_GATA2_1-Interval-Track | 1.769361 | 0.08809096 | 0.8232284 | 0.07188886 | 1.744402 | 0.08413339 | 0.8026526 | 0.06964766 | Exc_DeJager_eQTL_multicontext     | ⋯ |  1.718045e-95 | NA | NA | <!----> | <!----> | <!----> | Transcription_Factor_Binding | Uncategorized | Exploratory | Not directly mapped; exploratory |\n",
       "| 6 | Transcription_Factor_Binding|1_GATA2_1-Interval-Track | 1.604405 | 0.06880918 | 0.6820384 | 0.06174599 | 1.585853 | 0.06590343 | 0.6651996 | 0.05983695 | PCC_DeJager_eQTL_multicontext     | ⋯ | 6.061492e-128 | NA | NA | <!----> | <!----> | <!----> | Transcription_Factor_Binding | Uncategorized | Exploratory | Not directly mapped; exploratory |\n",
       "\n"
      ],
      "text/plain": [
       "  Annotation                                            OR       OR_SE     \n",
       "1 Transcription_Factor_Binding|1_GATA2_1-Interval-Track 1.809502 0.11650544\n",
       "2 Transcription_Factor_Binding|1_GATA2_1-Interval-Track 1.737711 0.10442133\n",
       "3 Transcription_Factor_Binding|1_GATA2_1-Interval-Track 1.816044 0.11174689\n",
       "4 Transcription_Factor_Binding|1_GATA2_1-Interval-Track 1.737365 0.22948146\n",
       "5 Transcription_Factor_Binding|1_GATA2_1-Interval-Track 1.769361 0.08809096\n",
       "6 Transcription_Factor_Binding|1_GATA2_1-Interval-Track 1.604405 0.06880918\n",
       "  OR_log2   OR_SE_log2 Enrichment Enrichment_SE Enrichment_log2\n",
       "1 0.8555927 0.09286834 1.783705   0.11105414    0.8347443      \n",
       "2 0.7971878 0.08647314 1.714913   0.09971817    0.7780193      \n",
       "3 0.8607993 0.08874149 1.790219   0.10689954    0.8400134      \n",
       "4 0.7969008 0.19164379 1.715772   0.21975690    0.7782897      \n",
       "5 0.8232284 0.07188886 1.744402   0.08413339    0.8026526      \n",
       "6 0.6820384 0.06174599 1.585853   0.06590343    0.6651996      \n",
       "  Enrichment_SE_log2 study                             ⋯ Enrichment_P_value\n",
       "1 0.08981472         Oli_DeJager_eQTL_multicontext     ⋯  4.742789e-58     \n",
       "2 0.08368707         Oli_Kellis_eQTL_multicontext      ⋯  2.767894e-66     \n",
       "3 0.08612717         OPC_Kellis_eQTL_multicontext      ⋯  5.981670e-63     \n",
       "4 0.18587504         monocyte_ROSMAP_eQTL_multicontext ⋯  5.829208e-15     \n",
       "5 0.06964766         Exc_DeJager_eQTL_multicontext     ⋯  1.718045e-95     \n",
       "6 0.05983695         PCC_DeJager_eQTL_multicontext     ⋯ 6.061492e-128     \n",
       "  Z_or P_or Assay Data_Category Cell_Type Category                    \n",
       "1 NA   NA                                 Transcription_Factor_Binding\n",
       "2 NA   NA                                 Transcription_Factor_Binding\n",
       "3 NA   NA                                 Transcription_Factor_Binding\n",
       "4 NA   NA                                 Transcription_Factor_Binding\n",
       "5 NA   NA                                 Transcription_Factor_Binding\n",
       "6 NA   NA                                 Transcription_Factor_Binding\n",
       "  Annotation_Category Priority    Notes                           \n",
       "1 Uncategorized       Exploratory Not directly mapped; exploratory\n",
       "2 Uncategorized       Exploratory Not directly mapped; exploratory\n",
       "3 Uncategorized       Exploratory Not directly mapped; exploratory\n",
       "4 Uncategorized       Exploratory Not directly mapped; exploratory\n",
       "5 Uncategorized       Exploratory Not directly mapped; exploratory\n",
       "6 Uncategorized       Exploratory Not directly mapped; exploratory"
      ]
     },
     "metadata": {},
     "output_type": "display_data"
    }
   ],
   "source": [
    "enrichment_data %>% head"
   ]
  },
  {
   "cell_type": "markdown",
   "id": "16f6a904-ffe7-4c00-99b9-d3d2dd63d511",
   "metadata": {
    "kernel": "SoS"
   },
   "source": [
    "#### barplot"
   ]
  },
  {
   "cell_type": "code",
   "execution_count": 244,
   "id": "9c75fb4a-411a-4166-bd1f-c90695cd4f91",
   "metadata": {
    "kernel": "SoS"
   },
   "outputs": [],
   "source": [
    "# Get original Set2 colors (8)\n",
    "set2_colors <- brewer.pal(12, \"Set3\")\n",
    "\n",
    "# Generate extra colors in a similar style\n",
    "n_cat <- length(unique(enrichment_data$Category))\n",
    "if (n_cat > 8) {\n",
    "  extra_colors <- hue_pal(h = c(30, 300), c = 70, l = 70)(n_cat - 8)\n",
    "  all_colors <- c(set2_colors, extra_colors)\n",
    "} else {\n",
    "  all_colors <- set2_colors[1:n_cat]\n",
    "}"
   ]
  },
  {
   "cell_type": "code",
   "execution_count": 245,
   "id": "5db9db07-8ba8-4f02-b0eb-ee43510958f8",
   "metadata": {},
   "outputs": [],
   "source": [
    "options(repr.plot.width=20, repr.plot.height=10)\n"
   ]
  },
  {
   "cell_type": "code",
   "execution_count": 246,
   "id": "63b136b5-d88b-4d10-bbe0-de023fd7befd",
   "metadata": {
    "kernel": "SoS",
    "scrolled": true
   },
   "outputs": [
    {
     "name": "stdout",
     "output_type": "stream",
     "text": [
      "[1] \"Oli_DeJager_eQTL_multicontext\"\n"
     ]
    },
    {
     "name": "stderr",
     "output_type": "stream",
     "text": [
      "Warning message in geom_col(stat = \"identity\"):\n",
      "“\u001b[1m\u001b[22mIgnoring unknown parameters: `stat`”\n",
      "Warning message in dir.create(dirname(output), recursive = T):\n",
      "“'/home/rf2872/Work/Fungen_xQTL/2025/Sep/eoo/EOO/enrichment_figures_category/Other' already exists”\n",
      "Warning message in grid.Call.graphics(C_text, as.graphicsAnnot(x$label), x$x, x$y, :\n",
      "“conversion failure on 'log₂(Enrichment Score)' in 'mbcsToSbcs': for ₂ (U+2082)”\n"
     ]
    },
    {
     "name": "stdout",
     "output_type": "stream",
     "text": [
      "[1] \"Oli_Kellis_eQTL_multicontext\"\n"
     ]
    },
    {
     "name": "stderr",
     "output_type": "stream",
     "text": [
      "Warning message in geom_col(stat = \"identity\"):\n",
      "“\u001b[1m\u001b[22mIgnoring unknown parameters: `stat`”\n",
      "Warning message in dir.create(dirname(output), recursive = T):\n",
      "“'/home/rf2872/Work/Fungen_xQTL/2025/Sep/eoo/EOO/enrichment_figures_category/Other' already exists”\n",
      "Warning message in grid.Call.graphics(C_text, as.graphicsAnnot(x$label), x$x, x$y, :\n",
      "“conversion failure on 'log₂(Enrichment Score)' in 'mbcsToSbcs': for ₂ (U+2082)”\n"
     ]
    },
    {
     "name": "stdout",
     "output_type": "stream",
     "text": [
      "[1] \"OPC_Kellis_eQTL_multicontext\"\n"
     ]
    },
    {
     "name": "stderr",
     "output_type": "stream",
     "text": [
      "Warning message in geom_col(stat = \"identity\"):\n",
      "“\u001b[1m\u001b[22mIgnoring unknown parameters: `stat`”\n",
      "Warning message in dir.create(dirname(output), recursive = T):\n",
      "“'/home/rf2872/Work/Fungen_xQTL/2025/Sep/eoo/EOO/enrichment_figures_category/Other' already exists”\n",
      "Warning message in grid.Call.graphics(C_text, as.graphicsAnnot(x$label), x$x, x$y, :\n",
      "“conversion failure on 'log₂(Enrichment Score)' in 'mbcsToSbcs': for ₂ (U+2082)”\n"
     ]
    },
    {
     "name": "stdout",
     "output_type": "stream",
     "text": [
      "[1] \"monocyte_ROSMAP_eQTL_multicontext\"\n"
     ]
    },
    {
     "name": "stderr",
     "output_type": "stream",
     "text": [
      "Warning message in geom_col(stat = \"identity\"):\n",
      "“\u001b[1m\u001b[22mIgnoring unknown parameters: `stat`”\n",
      "Warning message in dir.create(dirname(output), recursive = T):\n",
      "“'/home/rf2872/Work/Fungen_xQTL/2025/Sep/eoo/EOO/enrichment_figures_category/Other' already exists”\n",
      "Warning message in grid.Call.graphics(C_text, as.graphicsAnnot(x$label), x$x, x$y, :\n",
      "“conversion failure on 'log₂(Enrichment Score)' in 'mbcsToSbcs': for ₂ (U+2082)”\n"
     ]
    },
    {
     "name": "stdout",
     "output_type": "stream",
     "text": [
      "[1] \"Exc_DeJager_eQTL_multicontext\"\n"
     ]
    },
    {
     "name": "stderr",
     "output_type": "stream",
     "text": [
      "Warning message in geom_col(stat = \"identity\"):\n",
      "“\u001b[1m\u001b[22mIgnoring unknown parameters: `stat`”\n",
      "Warning message in dir.create(dirname(output), recursive = T):\n",
      "“'/home/rf2872/Work/Fungen_xQTL/2025/Sep/eoo/EOO/enrichment_figures_category/Other' already exists”\n",
      "Warning message in grid.Call.graphics(C_text, as.graphicsAnnot(x$label), x$x, x$y, :\n",
      "“conversion failure on 'log₂(Enrichment Score)' in 'mbcsToSbcs': for ₂ (U+2082)”\n"
     ]
    },
    {
     "name": "stdout",
     "output_type": "stream",
     "text": [
      "[1] \"PCC_DeJager_eQTL_multicontext\"\n"
     ]
    },
    {
     "name": "stderr",
     "output_type": "stream",
     "text": [
      "Warning message in geom_col(stat = \"identity\"):\n",
      "“\u001b[1m\u001b[22mIgnoring unknown parameters: `stat`”\n",
      "Warning message in dir.create(dirname(output), recursive = T):\n",
      "“'/home/rf2872/Work/Fungen_xQTL/2025/Sep/eoo/EOO/enrichment_figures_category/Other' already exists”\n",
      "Warning message in grid.Call.graphics(C_text, as.graphicsAnnot(x$label), x$x, x$y, :\n",
      "“conversion failure on 'log₂(Enrichment Score)' in 'mbcsToSbcs': for ₂ (U+2082)”\n"
     ]
    },
    {
     "name": "stdout",
     "output_type": "stream",
     "text": [
      "[1] \"Ast_DeJager_eQTL_multicontext\"\n"
     ]
    },
    {
     "name": "stderr",
     "output_type": "stream",
     "text": [
      "Warning message in geom_col(stat = \"identity\"):\n",
      "“\u001b[1m\u001b[22mIgnoring unknown parameters: `stat`”\n",
      "Warning message in dir.create(dirname(output), recursive = T):\n",
      "“'/home/rf2872/Work/Fungen_xQTL/2025/Sep/eoo/EOO/enrichment_figures_category/Other' already exists”\n",
      "Warning message in grid.Call.graphics(C_text, as.graphicsAnnot(x$label), x$x, x$y, :\n",
      "“conversion failure on 'log₂(Enrichment Score)' in 'mbcsToSbcs': for ₂ (U+2082)”\n"
     ]
    },
    {
     "name": "stdout",
     "output_type": "stream",
     "text": [
      "[1] \"Oli_mega_eQTL_multicontext\"\n"
     ]
    },
    {
     "name": "stderr",
     "output_type": "stream",
     "text": [
      "Warning message in geom_col(stat = \"identity\"):\n",
      "“\u001b[1m\u001b[22mIgnoring unknown parameters: `stat`”\n",
      "Warning message in dir.create(dirname(output), recursive = T):\n",
      "“'/home/rf2872/Work/Fungen_xQTL/2025/Sep/eoo/EOO/enrichment_figures_category/Other' already exists”\n",
      "Warning message in grid.Call.graphics(C_text, as.graphicsAnnot(x$label), x$x, x$y, :\n",
      "“conversion failure on 'log₂(Enrichment Score)' in 'mbcsToSbcs': for ₂ (U+2082)”\n"
     ]
    },
    {
     "name": "stdout",
     "output_type": "stream",
     "text": [
      "[1] \"Mic_mega_eQTL_multicontext\"\n"
     ]
    },
    {
     "name": "stderr",
     "output_type": "stream",
     "text": [
      "Warning message in geom_col(stat = \"identity\"):\n",
      "“\u001b[1m\u001b[22mIgnoring unknown parameters: `stat`”\n",
      "Warning message in dir.create(dirname(output), recursive = T):\n",
      "“'/home/rf2872/Work/Fungen_xQTL/2025/Sep/eoo/EOO/enrichment_figures_category/Other' already exists”\n",
      "Warning message in grid.Call.graphics(C_text, as.graphicsAnnot(x$label), x$x, x$y, :\n",
      "“conversion failure on 'log₂(Enrichment Score)' in 'mbcsToSbcs': for ₂ (U+2082)”\n"
     ]
    },
    {
     "name": "stdout",
     "output_type": "stream",
     "text": [
      "[1] \"DLPFC_DeJager_eQTL_multicontext\"\n"
     ]
    },
    {
     "name": "stderr",
     "output_type": "stream",
     "text": [
      "Warning message in geom_col(stat = \"identity\"):\n",
      "“\u001b[1m\u001b[22mIgnoring unknown parameters: `stat`”\n",
      "Warning message in dir.create(dirname(output), recursive = T):\n",
      "“'/home/rf2872/Work/Fungen_xQTL/2025/Sep/eoo/EOO/enrichment_figures_category/Other' already exists”\n",
      "Warning message in grid.Call.graphics(C_text, as.graphicsAnnot(x$label), x$x, x$y, :\n",
      "“conversion failure on 'log₂(Enrichment Score)' in 'mbcsToSbcs': for ₂ (U+2082)”\n"
     ]
    },
    {
     "name": "stdout",
     "output_type": "stream",
     "text": [
      "[1] \"Exc_Kellis_eQTL_multicontext\"\n"
     ]
    },
    {
     "name": "stderr",
     "output_type": "stream",
     "text": [
      "Warning message in geom_col(stat = \"identity\"):\n",
      "“\u001b[1m\u001b[22mIgnoring unknown parameters: `stat`”\n",
      "Warning message in dir.create(dirname(output), recursive = T):\n",
      "“'/home/rf2872/Work/Fungen_xQTL/2025/Sep/eoo/EOO/enrichment_figures_category/Other' already exists”\n",
      "Warning message in grid.Call.graphics(C_text, as.graphicsAnnot(x$label), x$x, x$y, :\n",
      "“conversion failure on 'log₂(Enrichment Score)' in 'mbcsToSbcs': for ₂ (U+2082)”\n"
     ]
    },
    {
     "name": "stdout",
     "output_type": "stream",
     "text": [
      "[1] \"Inh_Kellis_eQTL_multicontext\"\n"
     ]
    },
    {
     "name": "stderr",
     "output_type": "stream",
     "text": [
      "Warning message in geom_col(stat = \"identity\"):\n",
      "“\u001b[1m\u001b[22mIgnoring unknown parameters: `stat`”\n",
      "Warning message in dir.create(dirname(output), recursive = T):\n",
      "“'/home/rf2872/Work/Fungen_xQTL/2025/Sep/eoo/EOO/enrichment_figures_category/Other' already exists”\n",
      "Warning message in grid.Call.graphics(C_text, as.graphicsAnnot(x$label), x$x, x$y, :\n",
      "“conversion failure on 'log₂(Enrichment Score)' in 'mbcsToSbcs': for ₂ (U+2082)”\n"
     ]
    },
    {
     "name": "stdout",
     "output_type": "stream",
     "text": [
      "[1] \"Inh_mega_eQTL_multicontext\"\n"
     ]
    },
    {
     "name": "stderr",
     "output_type": "stream",
     "text": [
      "Warning message in geom_col(stat = \"identity\"):\n",
      "“\u001b[1m\u001b[22mIgnoring unknown parameters: `stat`”\n",
      "Warning message in dir.create(dirname(output), recursive = T):\n",
      "“'/home/rf2872/Work/Fungen_xQTL/2025/Sep/eoo/EOO/enrichment_figures_category/Other' already exists”\n",
      "Warning message in grid.Call.graphics(C_text, as.graphicsAnnot(x$label), x$x, x$y, :\n",
      "“conversion failure on 'log₂(Enrichment Score)' in 'mbcsToSbcs': for ₂ (U+2082)”\n"
     ]
    },
    {
     "name": "stdout",
     "output_type": "stream",
     "text": [
      "[1] \"Mic_Kellis_eQTL_multicontext\"\n"
     ]
    },
    {
     "name": "stderr",
     "output_type": "stream",
     "text": [
      "Warning message in geom_col(stat = \"identity\"):\n",
      "“\u001b[1m\u001b[22mIgnoring unknown parameters: `stat`”\n",
      "Warning message in dir.create(dirname(output), recursive = T):\n",
      "“'/home/rf2872/Work/Fungen_xQTL/2025/Sep/eoo/EOO/enrichment_figures_category/Other' already exists”\n",
      "Warning message in grid.Call.graphics(C_text, as.graphicsAnnot(x$label), x$x, x$y, :\n",
      "“conversion failure on 'log₂(Enrichment Score)' in 'mbcsToSbcs': for ₂ (U+2082)”\n"
     ]
    },
    {
     "name": "stdout",
     "output_type": "stream",
     "text": [
      "[1] \"OPC_mega_eQTL_multicontext\"\n"
     ]
    },
    {
     "name": "stderr",
     "output_type": "stream",
     "text": [
      "Warning message in geom_col(stat = \"identity\"):\n",
      "“\u001b[1m\u001b[22mIgnoring unknown parameters: `stat`”\n",
      "Warning message in dir.create(dirname(output), recursive = T):\n",
      "“'/home/rf2872/Work/Fungen_xQTL/2025/Sep/eoo/EOO/enrichment_figures_category/Other' already exists”\n",
      "Warning message in grid.Call.graphics(C_text, as.graphicsAnnot(x$label), x$x, x$y, :\n",
      "“conversion failure on 'log₂(Enrichment Score)' in 'mbcsToSbcs': for ₂ (U+2082)”\n"
     ]
    },
    {
     "name": "stdout",
     "output_type": "stream",
     "text": [
      "[1] \"Mic_DeJager_eQTL_multicontext\"\n"
     ]
    },
    {
     "name": "stderr",
     "output_type": "stream",
     "text": [
      "Warning message in geom_col(stat = \"identity\"):\n",
      "“\u001b[1m\u001b[22mIgnoring unknown parameters: `stat`”\n",
      "Warning message in dir.create(dirname(output), recursive = T):\n",
      "“'/home/rf2872/Work/Fungen_xQTL/2025/Sep/eoo/EOO/enrichment_figures_category/Other' already exists”\n",
      "Warning message in grid.Call.graphics(C_text, as.graphicsAnnot(x$label), x$x, x$y, :\n",
      "“conversion failure on 'log₂(Enrichment Score)' in 'mbcsToSbcs': for ₂ (U+2082)”\n"
     ]
    },
    {
     "name": "stdout",
     "output_type": "stream",
     "text": [
      "[1] \"AC_DeJager_eQTL_multicontext\"\n"
     ]
    },
    {
     "name": "stderr",
     "output_type": "stream",
     "text": [
      "Warning message in geom_col(stat = \"identity\"):\n",
      "“\u001b[1m\u001b[22mIgnoring unknown parameters: `stat`”\n",
      "Warning message in dir.create(dirname(output), recursive = T):\n",
      "“'/home/rf2872/Work/Fungen_xQTL/2025/Sep/eoo/EOO/enrichment_figures_category/Other' already exists”\n",
      "Warning message in grid.Call.graphics(C_text, as.graphicsAnnot(x$label), x$x, x$y, :\n",
      "“conversion failure on 'log₂(Enrichment Score)' in 'mbcsToSbcs': for ₂ (U+2082)”\n"
     ]
    },
    {
     "name": "stdout",
     "output_type": "stream",
     "text": [
      "[1] \"OPC_DeJager_eQTL_multicontext\"\n"
     ]
    },
    {
     "name": "stderr",
     "output_type": "stream",
     "text": [
      "Warning message in geom_col(stat = \"identity\"):\n",
      "“\u001b[1m\u001b[22mIgnoring unknown parameters: `stat`”\n",
      "Warning message in dir.create(dirname(output), recursive = T):\n",
      "“'/home/rf2872/Work/Fungen_xQTL/2025/Sep/eoo/EOO/enrichment_figures_category/Other' already exists”\n",
      "Warning message in grid.Call.graphics(C_text, as.graphicsAnnot(x$label), x$x, x$y, :\n",
      "“conversion failure on 'log₂(Enrichment Score)' in 'mbcsToSbcs': for ₂ (U+2082)”\n"
     ]
    },
    {
     "name": "stdout",
     "output_type": "stream",
     "text": [
      "[1] \"Ast_Kellis_eQTL_multicontext\"\n"
     ]
    },
    {
     "name": "stderr",
     "output_type": "stream",
     "text": [
      "Warning message in geom_col(stat = \"identity\"):\n",
      "“\u001b[1m\u001b[22mIgnoring unknown parameters: `stat`”\n",
      "Warning message in dir.create(dirname(output), recursive = T):\n",
      "“'/home/rf2872/Work/Fungen_xQTL/2025/Sep/eoo/EOO/enrichment_figures_category/Other' already exists”\n",
      "Warning message in grid.Call.graphics(C_text, as.graphicsAnnot(x$label), x$x, x$y, :\n",
      "“conversion failure on 'log₂(Enrichment Score)' in 'mbcsToSbcs': for ₂ (U+2082)”\n"
     ]
    },
    {
     "name": "stdout",
     "output_type": "stream",
     "text": [
      "[1] \"DLPFC_Bennett_pQTL_multicontext\"\n"
     ]
    },
    {
     "name": "stderr",
     "output_type": "stream",
     "text": [
      "Warning message in geom_col(stat = \"identity\"):\n",
      "“\u001b[1m\u001b[22mIgnoring unknown parameters: `stat`”\n",
      "Warning message in dir.create(dirname(output), recursive = T):\n",
      "“'/home/rf2872/Work/Fungen_xQTL/2025/Sep/eoo/EOO/enrichment_figures_category/Other' already exists”\n",
      "Warning message in grid.Call.graphics(C_text, as.graphicsAnnot(x$label), x$x, x$y, :\n",
      "“conversion failure on 'log₂(Enrichment Score)' in 'mbcsToSbcs': for ₂ (U+2082)”\n"
     ]
    },
    {
     "name": "stdout",
     "output_type": "stream",
     "text": [
      "[1] \"Inh_DeJager_eQTL_multicontext\"\n"
     ]
    },
    {
     "name": "stderr",
     "output_type": "stream",
     "text": [
      "Warning message in geom_col(stat = \"identity\"):\n",
      "“\u001b[1m\u001b[22mIgnoring unknown parameters: `stat`”\n",
      "Warning message in dir.create(dirname(output), recursive = T):\n",
      "“'/home/rf2872/Work/Fungen_xQTL/2025/Sep/eoo/EOO/enrichment_figures_category/Other' already exists”\n",
      "Warning message in grid.Call.graphics(C_text, as.graphicsAnnot(x$label), x$x, x$y, :\n",
      "“conversion failure on 'log₂(Enrichment Score)' in 'mbcsToSbcs': for ₂ (U+2082)”\n"
     ]
    },
    {
     "name": "stdout",
     "output_type": "stream",
     "text": [
      "[1] \"Exc_mega_eQTL_multicontext\"\n"
     ]
    },
    {
     "name": "stderr",
     "output_type": "stream",
     "text": [
      "Warning message in geom_col(stat = \"identity\"):\n",
      "“\u001b[1m\u001b[22mIgnoring unknown parameters: `stat`”\n",
      "Warning message in dir.create(dirname(output), recursive = T):\n",
      "“'/home/rf2872/Work/Fungen_xQTL/2025/Sep/eoo/EOO/enrichment_figures_category/Other' already exists”\n",
      "Warning message in grid.Call.graphics(C_text, as.graphicsAnnot(x$label), x$x, x$y, :\n",
      "“conversion failure on 'log₂(Enrichment Score)' in 'mbcsToSbcs': for ₂ (U+2082)”\n"
     ]
    },
    {
     "name": "stdout",
     "output_type": "stream",
     "text": [
      "[1] \"Ast_mega_eQTL_multicontext\"\n"
     ]
    },
    {
     "name": "stderr",
     "output_type": "stream",
     "text": [
      "Warning message in geom_col(stat = \"identity\"):\n",
      "“\u001b[1m\u001b[22mIgnoring unknown parameters: `stat`”\n",
      "Warning message in dir.create(dirname(output), recursive = T):\n",
      "“'/home/rf2872/Work/Fungen_xQTL/2025/Sep/eoo/EOO/enrichment_figures_category/Other' already exists”\n",
      "Warning message in grid.Call.graphics(C_text, as.graphicsAnnot(x$label), x$x, x$y, :\n",
      "“conversion failure on 'log₂(Enrichment Score)' in 'mbcsToSbcs': for ₂ (U+2082)”\n"
     ]
    },
    {
     "name": "stdout",
     "output_type": "stream",
     "text": [
      "[1] \"Ast_DeJager_eQTL\"\n"
     ]
    },
    {
     "name": "stderr",
     "output_type": "stream",
     "text": [
      "Warning message in geom_col(stat = \"identity\"):\n",
      "“\u001b[1m\u001b[22mIgnoring unknown parameters: `stat`”\n",
      "Warning message in dir.create(dirname(output), recursive = T):\n",
      "“'/home/rf2872/Work/Fungen_xQTL/2025/Sep/eoo/EOO/enrichment_figures_category/single_context_finemapping' already exists”\n",
      "Warning message:\n",
      "“\u001b[1m\u001b[22mRemoved 1 row containing missing values or values outside the scale range\n",
      "(`geom_col()`).”\n",
      "Warning message in grid.Call.graphics(C_text, as.graphicsAnnot(x$label), x$x, x$y, :\n",
      "“conversion failure on 'log₂(Enrichment Score)' in 'mbcsToSbcs': for ₂ (U+2082)”\n"
     ]
    },
    {
     "name": "stdout",
     "output_type": "stream",
     "text": [
      "[1] \"OPC_Kellis_eQTL\"\n"
     ]
    },
    {
     "name": "stderr",
     "output_type": "stream",
     "text": [
      "Warning message in geom_col(stat = \"identity\"):\n",
      "“\u001b[1m\u001b[22mIgnoring unknown parameters: `stat`”\n",
      "Warning message in dir.create(dirname(output), recursive = T):\n",
      "“'/home/rf2872/Work/Fungen_xQTL/2025/Sep/eoo/EOO/enrichment_figures_category/single_context_finemapping' already exists”\n",
      "Warning message:\n",
      "“\u001b[1m\u001b[22mRemoved 1 row containing missing values or values outside the scale range\n",
      "(`geom_col()`).”\n",
      "Warning message in grid.Call.graphics(C_text, as.graphicsAnnot(x$label), x$x, x$y, :\n",
      "“conversion failure on 'log₂(Enrichment Score)' in 'mbcsToSbcs': for ₂ (U+2082)”\n"
     ]
    },
    {
     "name": "stdout",
     "output_type": "stream",
     "text": [
      "[1] \"ROSMAP_AC_sQTL\"\n"
     ]
    },
    {
     "name": "stderr",
     "output_type": "stream",
     "text": [
      "Warning message in geom_col(stat = \"identity\"):\n",
      "“\u001b[1m\u001b[22mIgnoring unknown parameters: `stat`”\n",
      "Warning message in dir.create(dirname(output), recursive = T):\n",
      "“'/home/rf2872/Work/Fungen_xQTL/2025/Sep/eoo/EOO/enrichment_figures_category/single_context_finemapping' already exists”\n",
      "Warning message in grid.Call.graphics(C_text, as.graphicsAnnot(x$label), x$x, x$y, :\n",
      "“conversion failure on 'log₂(Enrichment Score)' in 'mbcsToSbcs': for ₂ (U+2082)”\n"
     ]
    },
    {
     "name": "stdout",
     "output_type": "stream",
     "text": [
      "[1] \"Metabrain_Cortex\"\n"
     ]
    },
    {
     "name": "stderr",
     "output_type": "stream",
     "text": [
      "Warning message in geom_col(stat = \"identity\"):\n",
      "“\u001b[1m\u001b[22mIgnoring unknown parameters: `stat`”\n",
      "Warning message in dir.create(dirname(output), recursive = T):\n",
      "“'/home/rf2872/Work/Fungen_xQTL/2025/Sep/eoo/EOO/enrichment_figures_category/single_context_finemapping' already exists”\n",
      "Warning message in grid.Call.graphics(C_text, as.graphicsAnnot(x$label), x$x, x$y, :\n",
      "“conversion failure on 'log₂(Enrichment Score)' in 'mbcsToSbcs': for ₂ (U+2082)”\n"
     ]
    },
    {
     "name": "stdout",
     "output_type": "stream",
     "text": [
      "[1] \"ROSMAP_DeJager_AC\"\n"
     ]
    },
    {
     "name": "stderr",
     "output_type": "stream",
     "text": [
      "Warning message in geom_col(stat = \"identity\"):\n",
      "“\u001b[1m\u001b[22mIgnoring unknown parameters: `stat`”\n",
      "Warning message in dir.create(dirname(output), recursive = T):\n",
      "“'/home/rf2872/Work/Fungen_xQTL/2025/Sep/eoo/EOO/enrichment_figures_category/trans_finemapping' already exists”\n",
      "Warning message:\n",
      "“\u001b[1m\u001b[22mRemoved 144 rows containing missing values or values outside the scale range\n",
      "(`geom_col()`).”\n",
      "Warning message in grid.Call.graphics(C_text, as.graphicsAnnot(x$label), x$x, x$y, :\n",
      "“conversion failure on 'log₂(Enrichment Score)' in 'mbcsToSbcs': for ₂ (U+2082)”\n"
     ]
    },
    {
     "name": "stdout",
     "output_type": "stream",
     "text": [
      "[1] \"ROSMAP_DeJager_Exc\"\n"
     ]
    },
    {
     "name": "stderr",
     "output_type": "stream",
     "text": [
      "Warning message in geom_col(stat = \"identity\"):\n",
      "“\u001b[1m\u001b[22mIgnoring unknown parameters: `stat`”\n",
      "Warning message in dir.create(dirname(output), recursive = T):\n",
      "“'/home/rf2872/Work/Fungen_xQTL/2025/Sep/eoo/EOO/enrichment_figures_category/trans_finemapping' already exists”\n",
      "Warning message:\n",
      "“\u001b[1m\u001b[22mRemoved 164 rows containing missing values or values outside the scale range\n",
      "(`geom_col()`).”\n",
      "Warning message in grid.Call.graphics(C_text, as.graphicsAnnot(x$label), x$x, x$y, :\n",
      "“conversion failure on 'log₂(Enrichment Score)' in 'mbcsToSbcs': for ₂ (U+2082)”\n"
     ]
    },
    {
     "name": "stdout",
     "output_type": "stream",
     "text": [
      "[1] \"MiGA_eQTL_THA\"\n"
     ]
    },
    {
     "name": "stderr",
     "output_type": "stream",
     "text": [
      "Warning message in geom_col(stat = \"identity\"):\n",
      "“\u001b[1m\u001b[22mIgnoring unknown parameters: `stat`”\n",
      "Warning message in dir.create(dirname(output), recursive = T):\n",
      "“'/home/rf2872/Work/Fungen_xQTL/2025/Sep/eoo/EOO/enrichment_figures_category/trans_finemapping' already exists”\n",
      "Warning message:\n",
      "“\u001b[1m\u001b[22mRemoved 131 rows containing missing values or values outside the scale range\n",
      "(`geom_col()`).”\n",
      "Warning message in grid.Call.graphics(C_text, as.graphicsAnnot(x$label), x$x, x$y, :\n",
      "“conversion failure on 'log₂(Enrichment Score)' in 'mbcsToSbcs': for ₂ (U+2082)”\n"
     ]
    },
    {
     "name": "stdout",
     "output_type": "stream",
     "text": [
      "[1] \"MSBB_pQTL\"\n"
     ]
    },
    {
     "name": "stderr",
     "output_type": "stream",
     "text": [
      "Warning message in geom_col(stat = \"identity\"):\n",
      "“\u001b[1m\u001b[22mIgnoring unknown parameters: `stat`”\n",
      "Warning message in dir.create(dirname(output), recursive = T):\n",
      "“'/home/rf2872/Work/Fungen_xQTL/2025/Sep/eoo/EOO/enrichment_figures_category/trans_finemapping' already exists”\n",
      "Warning message:\n",
      "“\u001b[1m\u001b[22mRemoved 78 rows containing missing values or values outside the scale range\n",
      "(`geom_col()`).”\n",
      "Warning message in grid.Call.graphics(C_text, as.graphicsAnnot(x$label), x$x, x$y, :\n",
      "“conversion failure on 'log₂(Enrichment Score)' in 'mbcsToSbcs': for ₂ (U+2082)”\n"
     ]
    },
    {
     "name": "stdout",
     "output_type": "stream",
     "text": [
      "[1] \"ROSMAP_OPC_mega_eQTL\"\n"
     ]
    },
    {
     "name": "stderr",
     "output_type": "stream",
     "text": [
      "Warning message in geom_col(stat = \"identity\"):\n",
      "“\u001b[1m\u001b[22mIgnoring unknown parameters: `stat`”\n",
      "Warning message in dir.create(dirname(output), recursive = T):\n",
      "“'/home/rf2872/Work/Fungen_xQTL/2025/Sep/eoo/EOO/enrichment_figures_category/multi_gene_finemapping' already exists”\n",
      "Warning message:\n",
      "“\u001b[1m\u001b[22mRemoved 8 rows containing missing values or values outside the scale range\n",
      "(`geom_col()`).”\n",
      "Warning message in grid.Call.graphics(C_text, as.graphicsAnnot(x$label), x$x, x$y, :\n",
      "“conversion failure on 'log₂(Enrichment Score)' in 'mbcsToSbcs': for ₂ (U+2082)”\n"
     ]
    },
    {
     "name": "stdout",
     "output_type": "stream",
     "text": [
      "[1] \"MiGA_GTS_eQTL\"\n"
     ]
    },
    {
     "name": "stderr",
     "output_type": "stream",
     "text": [
      "Warning message in geom_col(stat = \"identity\"):\n",
      "“\u001b[1m\u001b[22mIgnoring unknown parameters: `stat`”\n",
      "Warning message in dir.create(dirname(output), recursive = T):\n",
      "“'/home/rf2872/Work/Fungen_xQTL/2025/Sep/eoo/EOO/enrichment_figures_category/single_context_finemapping' already exists”\n",
      "Warning message:\n",
      "“\u001b[1m\u001b[22mRemoved 2 rows containing missing values or values outside the scale range\n",
      "(`geom_col()`).”\n",
      "Warning message in grid.Call.graphics(C_text, as.graphicsAnnot(x$label), x$x, x$y, :\n",
      "“conversion failure on 'log₂(Enrichment Score)' in 'mbcsToSbcs': for ₂ (U+2082)”\n"
     ]
    },
    {
     "name": "stdout",
     "output_type": "stream",
     "text": [
      "[1] \"MiGA_eQTL_SVZ\"\n"
     ]
    },
    {
     "name": "stderr",
     "output_type": "stream",
     "text": [
      "Warning message in geom_col(stat = \"identity\"):\n",
      "“\u001b[1m\u001b[22mIgnoring unknown parameters: `stat`”\n",
      "Warning message in dir.create(dirname(output), recursive = T):\n",
      "“'/home/rf2872/Work/Fungen_xQTL/2025/Sep/eoo/EOO/enrichment_figures_category/trans_finemapping' already exists”\n",
      "Warning message:\n",
      "“\u001b[1m\u001b[22mRemoved 125 rows containing missing values or values outside the scale range\n",
      "(`geom_col()`).”\n",
      "Warning message in grid.Call.graphics(C_text, as.graphicsAnnot(x$label), x$x, x$y, :\n",
      "“conversion failure on 'log₂(Enrichment Score)' in 'mbcsToSbcs': for ₂ (U+2082)”\n"
     ]
    },
    {
     "name": "stdout",
     "output_type": "stream",
     "text": [
      "[1] \"DLPFC_Klein_gpQTL_adjusted\"\n"
     ]
    },
    {
     "name": "stderr",
     "output_type": "stream",
     "text": [
      "Warning message in geom_col(stat = \"identity\"):\n",
      "“\u001b[1m\u001b[22mIgnoring unknown parameters: `stat`”\n",
      "Warning message in dir.create(dirname(output), recursive = T):\n",
      "“'/home/rf2872/Work/Fungen_xQTL/2025/Sep/eoo/EOO/enrichment_figures_category/single_context_finemapping' already exists”\n",
      "Warning message:\n",
      "“\u001b[1m\u001b[22mRemoved 21 rows containing missing values or values outside the scale range\n",
      "(`geom_col()`).”\n",
      "Warning message in grid.Call.graphics(C_text, as.graphicsAnnot(x$label), x$x, x$y, :\n",
      "“conversion failure on 'log₂(Enrichment Score)' in 'mbcsToSbcs': for ₂ (U+2082)”\n"
     ]
    },
    {
     "name": "stdout",
     "output_type": "stream",
     "text": [
      "[1] \"MSBB_eQTL_BM44\"\n"
     ]
    },
    {
     "name": "stderr",
     "output_type": "stream",
     "text": [
      "Warning message in geom_col(stat = \"identity\"):\n",
      "“\u001b[1m\u001b[22mIgnoring unknown parameters: `stat`”\n",
      "Warning message in dir.create(dirname(output), recursive = T):\n",
      "“'/home/rf2872/Work/Fungen_xQTL/2025/Sep/eoo/EOO/enrichment_figures_category/trans_finemapping' already exists”\n",
      "Warning message:\n",
      "“\u001b[1m\u001b[22mRemoved 134 rows containing missing values or values outside the scale range\n",
      "(`geom_col()`).”\n",
      "Warning message in grid.Call.graphics(C_text, as.graphicsAnnot(x$label), x$x, x$y, :\n",
      "“conversion failure on 'log₂(Enrichment Score)' in 'mbcsToSbcs': for ₂ (U+2082)”\n"
     ]
    },
    {
     "name": "stdout",
     "output_type": "stream",
     "text": [
      "[1] \"ROSMAP_Ast_DeJager_eQTL\"\n"
     ]
    },
    {
     "name": "stderr",
     "output_type": "stream",
     "text": [
      "Warning message in geom_col(stat = \"identity\"):\n",
      "“\u001b[1m\u001b[22mIgnoring unknown parameters: `stat`”\n",
      "Warning message in dir.create(dirname(output), recursive = T):\n",
      "“'/home/rf2872/Work/Fungen_xQTL/2025/Sep/eoo/EOO/enrichment_figures_category/multi_gene_finemapping' already exists”\n",
      "Warning message:\n",
      "“\u001b[1m\u001b[22mRemoved 3 rows containing missing values or values outside the scale range\n",
      "(`geom_col()`).”\n",
      "Warning message in grid.Call.graphics(C_text, as.graphicsAnnot(x$label), x$x, x$y, :\n",
      "“conversion failure on 'log₂(Enrichment Score)' in 'mbcsToSbcs': for ₂ (U+2082)”\n"
     ]
    },
    {
     "name": "stdout",
     "output_type": "stream",
     "text": [
      "[1] \"ROSMAP_Kelli_Inh\"\n"
     ]
    },
    {
     "name": "stderr",
     "output_type": "stream",
     "text": [
      "Warning message in geom_col(stat = \"identity\"):\n",
      "“\u001b[1m\u001b[22mIgnoring unknown parameters: `stat`”\n",
      "Warning message in dir.create(dirname(output), recursive = T):\n",
      "“'/home/rf2872/Work/Fungen_xQTL/2025/Sep/eoo/EOO/enrichment_figures_category/trans_finemapping' already exists”\n",
      "Warning message:\n",
      "“\u001b[1m\u001b[22mRemoved 147 rows containing missing values or values outside the scale range\n",
      "(`geom_col()`).”\n",
      "Warning message in grid.Call.graphics(C_text, as.graphicsAnnot(x$label), x$x, x$y, :\n",
      "“conversion failure on 'log₂(Enrichment Score)' in 'mbcsToSbcs': for ₂ (U+2082)”\n"
     ]
    },
    {
     "name": "stdout",
     "output_type": "stream",
     "text": [
      "[1] \"ROSMAP_Ast_mega_eQTL\"\n"
     ]
    },
    {
     "name": "stderr",
     "output_type": "stream",
     "text": [
      "Warning message in geom_col(stat = \"identity\"):\n",
      "“\u001b[1m\u001b[22mIgnoring unknown parameters: `stat`”\n",
      "Warning message in dir.create(dirname(output), recursive = T):\n",
      "“'/home/rf2872/Work/Fungen_xQTL/2025/Sep/eoo/EOO/enrichment_figures_category/multi_gene_finemapping' already exists”\n",
      "Warning message:\n",
      "“\u001b[1m\u001b[22mRemoved 2 rows containing missing values or values outside the scale range\n",
      "(`geom_col()`).”\n",
      "Warning message in grid.Call.graphics(C_text, as.graphicsAnnot(x$label), x$x, x$y, :\n",
      "“conversion failure on 'log₂(Enrichment Score)' in 'mbcsToSbcs': for ₂ (U+2082)”\n"
     ]
    },
    {
     "name": "stdout",
     "output_type": "stream",
     "text": [
      "[1] \"MiGA_GFM_eQTL\"\n"
     ]
    },
    {
     "name": "stderr",
     "output_type": "stream",
     "text": [
      "Warning message in geom_col(stat = \"identity\"):\n",
      "“\u001b[1m\u001b[22mIgnoring unknown parameters: `stat`”\n",
      "Warning message in dir.create(dirname(output), recursive = T):\n",
      "“'/home/rf2872/Work/Fungen_xQTL/2025/Sep/eoo/EOO/enrichment_figures_category/single_context_finemapping' already exists”\n",
      "Warning message:\n",
      "“\u001b[1m\u001b[22mRemoved 2 rows containing missing values or values outside the scale range\n",
      "(`geom_col()`).”\n",
      "Warning message in grid.Call.graphics(C_text, as.graphicsAnnot(x$label), x$x, x$y, :\n",
      "“conversion failure on 'log₂(Enrichment Score)' in 'mbcsToSbcs': for ₂ (U+2082)”\n"
     ]
    },
    {
     "name": "stdout",
     "output_type": "stream",
     "text": [
      "[1] \"MSBB_eQTL_BM22\"\n"
     ]
    },
    {
     "name": "stderr",
     "output_type": "stream",
     "text": [
      "Warning message in geom_col(stat = \"identity\"):\n",
      "“\u001b[1m\u001b[22mIgnoring unknown parameters: `stat`”\n",
      "Warning message in dir.create(dirname(output), recursive = T):\n",
      "“'/home/rf2872/Work/Fungen_xQTL/2025/Sep/eoo/EOO/enrichment_figures_category/trans_finemapping' already exists”\n",
      "Warning message:\n",
      "“\u001b[1m\u001b[22mRemoved 112 rows containing missing values or values outside the scale range\n",
      "(`geom_col()`).”\n",
      "Warning message in grid.Call.graphics(C_text, as.graphicsAnnot(x$label), x$x, x$y, :\n",
      "“conversion failure on 'log₂(Enrichment Score)' in 'mbcsToSbcs': for ₂ (U+2082)”\n"
     ]
    },
    {
     "name": "stdout",
     "output_type": "stream",
     "text": [
      "[1] \"Mic_mega_eQTL\"\n"
     ]
    },
    {
     "name": "stderr",
     "output_type": "stream",
     "text": [
      "Warning message in geom_col(stat = \"identity\"):\n",
      "“\u001b[1m\u001b[22mIgnoring unknown parameters: `stat`”\n",
      "Warning message in dir.create(dirname(output), recursive = T):\n",
      "“'/home/rf2872/Work/Fungen_xQTL/2025/Sep/eoo/EOO/enrichment_figures_category/single_context_finemapping' already exists”\n",
      "Warning message:\n",
      "“\u001b[1m\u001b[22mRemoved 1 row containing missing values or values outside the scale range\n",
      "(`geom_col()`).”\n",
      "Warning message in grid.Call.graphics(C_text, as.graphicsAnnot(x$label), x$x, x$y, :\n",
      "“conversion failure on 'log₂(Enrichment Score)' in 'mbcsToSbcs': for ₂ (U+2082)”\n"
     ]
    },
    {
     "name": "stdout",
     "output_type": "stream",
     "text": [
      "[1] \"MSBB_BM36_pQTL\"\n"
     ]
    },
    {
     "name": "stderr",
     "output_type": "stream",
     "text": [
      "Warning message in geom_col(stat = \"identity\"):\n",
      "“\u001b[1m\u001b[22mIgnoring unknown parameters: `stat`”\n",
      "Warning message in dir.create(dirname(output), recursive = T):\n",
      "“'/home/rf2872/Work/Fungen_xQTL/2025/Sep/eoo/EOO/enrichment_figures_category/single_context_finemapping' already exists”\n",
      "Warning message:\n",
      "“\u001b[1m\u001b[22mRemoved 1 row containing missing values or values outside the scale range\n",
      "(`geom_col()`).”\n",
      "Warning message in grid.Call.graphics(C_text, as.graphicsAnnot(x$label), x$x, x$y, :\n",
      "“conversion failure on 'log₂(Enrichment Score)' in 'mbcsToSbcs': for ₂ (U+2082)”\n"
     ]
    },
    {
     "name": "stdout",
     "output_type": "stream",
     "text": [
      "[1] \"Ast_10_Kellis_eQTL\"\n"
     ]
    },
    {
     "name": "stderr",
     "output_type": "stream",
     "text": [
      "Warning message in geom_col(stat = \"identity\"):\n",
      "“\u001b[1m\u001b[22mIgnoring unknown parameters: `stat`”\n",
      "Warning message in dir.create(dirname(output), recursive = T):\n",
      "“'/home/rf2872/Work/Fungen_xQTL/2025/Sep/eoo/EOO/enrichment_figures_category/single_context_finemapping' already exists”\n",
      "Warning message:\n",
      "“\u001b[1m\u001b[22mRemoved 23 rows containing missing values or values outside the scale range\n",
      "(`geom_col()`).”\n",
      "Warning message in grid.Call.graphics(C_text, as.graphicsAnnot(x$label), x$x, x$y, :\n",
      "“conversion failure on 'log₂(Enrichment Score)' in 'mbcsToSbcs': for ₂ (U+2082)”\n"
     ]
    },
    {
     "name": "stdout",
     "output_type": "stream",
     "text": [
      "[1] \"ROSMAP_DLPFC_Bennett_pQTL\"\n"
     ]
    },
    {
     "name": "stderr",
     "output_type": "stream",
     "text": [
      "Warning message in geom_col(stat = \"identity\"):\n",
      "“\u001b[1m\u001b[22mIgnoring unknown parameters: `stat`”\n",
      "Warning message in dir.create(dirname(output), recursive = T):\n",
      "“'/home/rf2872/Work/Fungen_xQTL/2025/Sep/eoo/EOO/enrichment_figures_category/multi_gene_finemapping' already exists”\n",
      "Warning message:\n",
      "“\u001b[1m\u001b[22mRemoved 1 row containing missing values or values outside the scale range\n",
      "(`geom_col()`).”\n",
      "Warning message in grid.Call.graphics(C_text, as.graphicsAnnot(x$label), x$x, x$y, :\n",
      "“conversion failure on 'log₂(Enrichment Score)' in 'mbcsToSbcs': for ₂ (U+2082)”\n"
     ]
    },
    {
     "name": "stdout",
     "output_type": "stream",
     "text": [
      "[1] \"Metabrain_Spinalcord\"\n"
     ]
    },
    {
     "name": "stderr",
     "output_type": "stream",
     "text": [
      "Warning message in geom_col(stat = \"identity\"):\n",
      "“\u001b[1m\u001b[22mIgnoring unknown parameters: `stat`”\n",
      "Warning message in dir.create(dirname(output), recursive = T):\n",
      "“'/home/rf2872/Work/Fungen_xQTL/2025/Sep/eoo/EOO/enrichment_figures_category/single_context_finemapping' already exists”\n",
      "Warning message:\n",
      "“\u001b[1m\u001b[22mRemoved 4 rows containing missing values or values outside the scale range\n",
      "(`geom_col()`).”\n",
      "Warning message in grid.Call.graphics(C_text, as.graphicsAnnot(x$label), x$x, x$y, :\n",
      "“conversion failure on 'log₂(Enrichment Score)' in 'mbcsToSbcs': for ₂ (U+2082)”\n"
     ]
    },
    {
     "name": "stdout",
     "output_type": "stream",
     "text": [
      "[1] \"Mic_xqtl_only_colocboost\"\n"
     ]
    },
    {
     "name": "stderr",
     "output_type": "stream",
     "text": [
      "Warning message in geom_col(stat = \"identity\"):\n",
      "“\u001b[1m\u001b[22mIgnoring unknown parameters: `stat`”\n",
      "Warning message in dir.create(dirname(output), recursive = T):\n",
      "“'/home/rf2872/Work/Fungen_xQTL/2025/Sep/eoo/EOO/enrichment_figures_category/Other' already exists”\n",
      "Warning message:\n",
      "“\u001b[1m\u001b[22mRemoved 1 row containing missing values or values outside the scale range\n",
      "(`geom_col()`).”\n",
      "Warning message in grid.Call.graphics(C_text, as.graphicsAnnot(x$label), x$x, x$y, :\n",
      "“conversion failure on 'log₂(Enrichment Score)' in 'mbcsToSbcs': for ₂ (U+2082)”\n"
     ]
    },
    {
     "name": "stdout",
     "output_type": "stream",
     "text": [
      "[1] \"MSBB_BM_22_eQTL\"\n"
     ]
    },
    {
     "name": "stderr",
     "output_type": "stream",
     "text": [
      "Warning message in geom_col(stat = \"identity\"):\n",
      "“\u001b[1m\u001b[22mIgnoring unknown parameters: `stat`”\n",
      "Warning message in dir.create(dirname(output), recursive = T):\n",
      "“'/home/rf2872/Work/Fungen_xQTL/2025/Sep/eoo/EOO/enrichment_figures_category/multi_gene_finemapping' already exists”\n",
      "Warning message:\n",
      "“\u001b[1m\u001b[22mRemoved 16 rows containing missing values or values outside the scale range\n",
      "(`geom_col()`).”\n",
      "Warning message in grid.Call.graphics(C_text, as.graphicsAnnot(x$label), x$x, x$y, :\n",
      "“conversion failure on 'log₂(Enrichment Score)' in 'mbcsToSbcs': for ₂ (U+2082)”\n"
     ]
    },
    {
     "name": "stdout",
     "output_type": "stream",
     "text": [
      "[1] \"DLPFC_Klein_gpQTL_unadjusted\"\n"
     ]
    },
    {
     "name": "stderr",
     "output_type": "stream",
     "text": [
      "Warning message in geom_col(stat = \"identity\"):\n",
      "“\u001b[1m\u001b[22mIgnoring unknown parameters: `stat`”\n",
      "Warning message in dir.create(dirname(output), recursive = T):\n",
      "“'/home/rf2872/Work/Fungen_xQTL/2025/Sep/eoo/EOO/enrichment_figures_category/single_context_finemapping' already exists”\n",
      "Warning message:\n",
      "“\u001b[1m\u001b[22mRemoved 13 rows containing missing values or values outside the scale range\n",
      "(`geom_col()`).”\n",
      "Warning message in grid.Call.graphics(C_text, as.graphicsAnnot(x$label), x$x, x$y, :\n",
      "“conversion failure on 'log₂(Enrichment Score)' in 'mbcsToSbcs': for ₂ (U+2082)”\n"
     ]
    },
    {
     "name": "stdout",
     "output_type": "stream",
     "text": [
      "[1] \"monocyte_ROSMAP_eQTL\"\n"
     ]
    },
    {
     "name": "stderr",
     "output_type": "stream",
     "text": [
      "Warning message in geom_col(stat = \"identity\"):\n",
      "“\u001b[1m\u001b[22mIgnoring unknown parameters: `stat`”\n",
      "Warning message in dir.create(dirname(output), recursive = T):\n",
      "“'/home/rf2872/Work/Fungen_xQTL/2025/Sep/eoo/EOO/enrichment_figures_category/single_context_finemapping' already exists”\n",
      "Warning message:\n",
      "“\u001b[1m\u001b[22mRemoved 1 row containing missing values or values outside the scale range\n",
      "(`geom_col()`).”\n",
      "Warning message in grid.Call.graphics(C_text, as.graphicsAnnot(x$label), x$x, x$y, :\n",
      "“conversion failure on 'log₂(Enrichment Score)' in 'mbcsToSbcs': for ₂ (U+2082)”\n"
     ]
    },
    {
     "name": "stdout",
     "output_type": "stream",
     "text": [
      "[1] \"OPC_xqtl_only_colocboost\"\n"
     ]
    },
    {
     "name": "stderr",
     "output_type": "stream",
     "text": [
      "Warning message in geom_col(stat = \"identity\"):\n",
      "“\u001b[1m\u001b[22mIgnoring unknown parameters: `stat`”\n",
      "Warning message in dir.create(dirname(output), recursive = T):\n",
      "“'/home/rf2872/Work/Fungen_xQTL/2025/Sep/eoo/EOO/enrichment_figures_category/Other' already exists”\n",
      "Warning message:\n",
      "“\u001b[1m\u001b[22mRemoved 1 row containing missing values or values outside the scale range\n",
      "(`geom_col()`).”\n",
      "Warning message in grid.Call.graphics(C_text, as.graphicsAnnot(x$label), x$x, x$y, :\n",
      "“conversion failure on 'log₂(Enrichment Score)' in 'mbcsToSbcs': for ₂ (U+2082)”\n"
     ]
    },
    {
     "name": "stdout",
     "output_type": "stream",
     "text": [
      "[1] \"MiGA_SVZ_eQTL\"\n"
     ]
    },
    {
     "name": "stderr",
     "output_type": "stream",
     "text": [
      "Warning message in geom_col(stat = \"identity\"):\n",
      "“\u001b[1m\u001b[22mIgnoring unknown parameters: `stat`”\n",
      "Warning message in dir.create(dirname(output), recursive = T):\n",
      "“'/home/rf2872/Work/Fungen_xQTL/2025/Sep/eoo/EOO/enrichment_figures_category/single_context_finemapping' already exists”\n",
      "Warning message:\n",
      "“\u001b[1m\u001b[22mRemoved 2 rows containing missing values or values outside the scale range\n",
      "(`geom_col()`).”\n",
      "Warning message in grid.Call.graphics(C_text, as.graphicsAnnot(x$label), x$x, x$y, :\n",
      "“conversion failure on 'log₂(Enrichment Score)' in 'mbcsToSbcs': for ₂ (U+2082)”\n"
     ]
    },
    {
     "name": "stdout",
     "output_type": "stream",
     "text": [
      "[1] \"ROSMAP_Mic_DeJager_eQTL\"\n"
     ]
    },
    {
     "name": "stderr",
     "output_type": "stream",
     "text": [
      "Warning message in geom_col(stat = \"identity\"):\n",
      "“\u001b[1m\u001b[22mIgnoring unknown parameters: `stat`”\n",
      "Warning message in dir.create(dirname(output), recursive = T):\n",
      "“'/home/rf2872/Work/Fungen_xQTL/2025/Sep/eoo/EOO/enrichment_figures_category/multi_gene_finemapping' already exists”\n",
      "Warning message:\n",
      "“\u001b[1m\u001b[22mRemoved 64 rows containing missing values or values outside the scale range\n",
      "(`geom_col()`).”\n",
      "Warning message in grid.Call.graphics(C_text, as.graphicsAnnot(x$label), x$x, x$y, :\n",
      "“conversion failure on 'log₂(Enrichment Score)' in 'mbcsToSbcs': for ₂ (U+2082)”\n"
     ]
    },
    {
     "name": "stdout",
     "output_type": "stream",
     "text": [
      "[1] \"ROSMAP_DeJager_Oli\"\n"
     ]
    },
    {
     "name": "stderr",
     "output_type": "stream",
     "text": [
      "Warning message in geom_col(stat = \"identity\"):\n",
      "“\u001b[1m\u001b[22mIgnoring unknown parameters: `stat`”\n",
      "Warning message in dir.create(dirname(output), recursive = T):\n",
      "“'/home/rf2872/Work/Fungen_xQTL/2025/Sep/eoo/EOO/enrichment_figures_category/trans_finemapping' already exists”\n",
      "Warning message:\n",
      "“\u001b[1m\u001b[22mRemoved 164 rows containing missing values or values outside the scale range\n",
      "(`geom_col()`).”\n",
      "Warning message in grid.Call.graphics(C_text, as.graphicsAnnot(x$label), x$x, x$y, :\n",
      "“conversion failure on 'log₂(Enrichment Score)' in 'mbcsToSbcs': for ₂ (U+2082)”\n"
     ]
    },
    {
     "name": "stdout",
     "output_type": "stream",
     "text": [
      "[1] \"Knight_pQTL_brain\"\n"
     ]
    },
    {
     "name": "stderr",
     "output_type": "stream",
     "text": [
      "Warning message in geom_col(stat = \"identity\"):\n",
      "“\u001b[1m\u001b[22mIgnoring unknown parameters: `stat`”\n",
      "Warning message in dir.create(dirname(output), recursive = T):\n",
      "“'/home/rf2872/Work/Fungen_xQTL/2025/Sep/eoo/EOO/enrichment_figures_category/single_context_finemapping' already exists”\n",
      "Warning message:\n",
      "“\u001b[1m\u001b[22mRemoved 20 rows containing missing values or values outside the scale range\n",
      "(`geom_col()`).”\n",
      "Warning message in grid.Call.graphics(C_text, as.graphicsAnnot(x$label), x$x, x$y, :\n",
      "“conversion failure on 'log₂(Enrichment Score)' in 'mbcsToSbcs': for ₂ (U+2082)”\n"
     ]
    },
    {
     "name": "stdout",
     "output_type": "stream",
     "text": [
      "[1] \"ROSMAP_metabolome\"\n"
     ]
    },
    {
     "name": "stderr",
     "output_type": "stream",
     "text": [
      "Warning message in geom_col(stat = \"identity\"):\n",
      "“\u001b[1m\u001b[22mIgnoring unknown parameters: `stat`”\n",
      "Warning message in dir.create(dirname(output), recursive = T):\n",
      "“'/home/rf2872/Work/Fungen_xQTL/2025/Sep/eoo/EOO/enrichment_figures_category/trans_finemapping' already exists”\n",
      "Warning message:\n",
      "“\u001b[1m\u001b[22mRemoved 9 rows containing missing values or values outside the scale range\n",
      "(`geom_col()`).”\n",
      "Warning message in grid.Call.graphics(C_text, as.graphicsAnnot(x$label), x$x, x$y, :\n",
      "“conversion failure on 'log₂(Enrichment Score)' in 'mbcsToSbcs': for ₂ (U+2082)”\n"
     ]
    },
    {
     "name": "stdout",
     "output_type": "stream",
     "text": [
      "[1] \"ROSMAP_mega_Oli\"\n"
     ]
    },
    {
     "name": "stderr",
     "output_type": "stream",
     "text": [
      "Warning message in geom_col(stat = \"identity\"):\n",
      "“\u001b[1m\u001b[22mIgnoring unknown parameters: `stat`”\n",
      "Warning message in dir.create(dirname(output), recursive = T):\n",
      "“'/home/rf2872/Work/Fungen_xQTL/2025/Sep/eoo/EOO/enrichment_figures_category/trans_finemapping' already exists”\n",
      "Warning message:\n",
      "“\u001b[1m\u001b[22mRemoved 163 rows containing missing values or values outside the scale range\n",
      "(`geom_col()`).”\n",
      "Warning message in grid.Call.graphics(C_text, as.graphicsAnnot(x$label), x$x, x$y, :\n",
      "“conversion failure on 'log₂(Enrichment Score)' in 'mbcsToSbcs': for ₂ (U+2082)”\n"
     ]
    },
    {
     "name": "stdout",
     "output_type": "stream",
     "text": [
      "[1] \"Inh_mega_eQTL\"\n"
     ]
    },
    {
     "name": "stderr",
     "output_type": "stream",
     "text": [
      "Warning message in geom_col(stat = \"identity\"):\n",
      "“\u001b[1m\u001b[22mIgnoring unknown parameters: `stat`”\n",
      "Warning message in dir.create(dirname(output), recursive = T):\n",
      "“'/home/rf2872/Work/Fungen_xQTL/2025/Sep/eoo/EOO/enrichment_figures_category/single_context_finemapping' already exists”\n",
      "Warning message in grid.Call.graphics(C_text, as.graphicsAnnot(x$label), x$x, x$y, :\n",
      "“conversion failure on 'log₂(Enrichment Score)' in 'mbcsToSbcs': for ₂ (U+2082)”\n"
     ]
    },
    {
     "name": "stdout",
     "output_type": "stream",
     "text": [
      "[1] \"ROSMAP_DeJager_DLPFC\"\n"
     ]
    },
    {
     "name": "stderr",
     "output_type": "stream",
     "text": [
      "Warning message in geom_col(stat = \"identity\"):\n",
      "“\u001b[1m\u001b[22mIgnoring unknown parameters: `stat`”\n",
      "Warning message in dir.create(dirname(output), recursive = T):\n",
      "“'/home/rf2872/Work/Fungen_xQTL/2025/Sep/eoo/EOO/enrichment_figures_category/trans_finemapping' already exists”\n",
      "Warning message:\n",
      "“\u001b[1m\u001b[22mRemoved 49 rows containing missing values or values outside the scale range\n",
      "(`geom_col()`).”\n",
      "Warning message in grid.Call.graphics(C_text, as.graphicsAnnot(x$label), x$x, x$y, :\n",
      "“conversion failure on 'log₂(Enrichment Score)' in 'mbcsToSbcs': for ₂ (U+2082)”\n"
     ]
    },
    {
     "name": "stdout",
     "output_type": "stream",
     "text": [
      "[1] \"ROSMAP_Oli_DeJager_eQTL\"\n"
     ]
    },
    {
     "name": "stderr",
     "output_type": "stream",
     "text": [
      "Warning message in geom_col(stat = \"identity\"):\n",
      "“\u001b[1m\u001b[22mIgnoring unknown parameters: `stat`”\n",
      "Warning message in dir.create(dirname(output), recursive = T):\n",
      "“'/home/rf2872/Work/Fungen_xQTL/2025/Sep/eoo/EOO/enrichment_figures_category/multi_gene_finemapping' already exists”\n",
      "Warning message:\n",
      "“\u001b[1m\u001b[22mRemoved 2 rows containing missing values or values outside the scale range\n",
      "(`geom_col()`).”\n",
      "Warning message in grid.Call.graphics(C_text, as.graphicsAnnot(x$label), x$x, x$y, :\n",
      "“conversion failure on 'log₂(Enrichment Score)' in 'mbcsToSbcs': for ₂ (U+2082)”\n"
     ]
    },
    {
     "name": "stdout",
     "output_type": "stream",
     "text": [
      "[1] \"Oli_mega_eQTL\"\n"
     ]
    },
    {
     "name": "stderr",
     "output_type": "stream",
     "text": [
      "Warning message in geom_col(stat = \"identity\"):\n",
      "“\u001b[1m\u001b[22mIgnoring unknown parameters: `stat`”\n",
      "Warning message in dir.create(dirname(output), recursive = T):\n",
      "“'/home/rf2872/Work/Fungen_xQTL/2025/Sep/eoo/EOO/enrichment_figures_category/single_context_finemapping' already exists”\n",
      "Warning message:\n",
      "“\u001b[1m\u001b[22mRemoved 1 row containing missing values or values outside the scale range\n",
      "(`geom_col()`).”\n",
      "Warning message in grid.Call.graphics(C_text, as.graphicsAnnot(x$label), x$x, x$y, :\n",
      "“conversion failure on 'log₂(Enrichment Score)' in 'mbcsToSbcs': for ₂ (U+2082)”\n"
     ]
    },
    {
     "name": "stdout",
     "output_type": "stream",
     "text": [
      "[1] \"Mic_12_Kellis_eQTL\"\n"
     ]
    },
    {
     "name": "stderr",
     "output_type": "stream",
     "text": [
      "Warning message in geom_col(stat = \"identity\"):\n",
      "“\u001b[1m\u001b[22mIgnoring unknown parameters: `stat`”\n",
      "Warning message in dir.create(dirname(output), recursive = T):\n",
      "“'/home/rf2872/Work/Fungen_xQTL/2025/Sep/eoo/EOO/enrichment_figures_category/single_context_finemapping' already exists”\n",
      "Warning message:\n",
      "“\u001b[1m\u001b[22mRemoved 97 rows containing missing values or values outside the scale range\n",
      "(`geom_col()`).”\n",
      "Warning message in grid.Call.graphics(C_text, as.graphicsAnnot(x$label), x$x, x$y, :\n",
      "“conversion failure on 'log₂(Enrichment Score)' in 'mbcsToSbcs': for ₂ (U+2082)”\n"
     ]
    },
    {
     "name": "stdout",
     "output_type": "stream",
     "text": [
      "[1] \"ROSMAP_DLPFC_DeJager_eQTL\"\n"
     ]
    },
    {
     "name": "stderr",
     "output_type": "stream",
     "text": [
      "Warning message in geom_col(stat = \"identity\"):\n",
      "“\u001b[1m\u001b[22mIgnoring unknown parameters: `stat`”\n",
      "Warning message in dir.create(dirname(output), recursive = T):\n",
      "“'/home/rf2872/Work/Fungen_xQTL/2025/Sep/eoo/EOO/enrichment_figures_category/multi_gene_finemapping' already exists”\n",
      "Warning message in grid.Call.graphics(C_text, as.graphicsAnnot(x$label), x$x, x$y, :\n",
      "“conversion failure on 'log₂(Enrichment Score)' in 'mbcsToSbcs': for ₂ (U+2082)”\n"
     ]
    },
    {
     "name": "stdout",
     "output_type": "stream",
     "text": [
      "[1] \"Knight_eQTL_brain\"\n"
     ]
    },
    {
     "name": "stderr",
     "output_type": "stream",
     "text": [
      "Warning message in geom_col(stat = \"identity\"):\n",
      "“\u001b[1m\u001b[22mIgnoring unknown parameters: `stat`”\n",
      "Warning message in dir.create(dirname(output), recursive = T):\n",
      "“'/home/rf2872/Work/Fungen_xQTL/2025/Sep/eoo/EOO/enrichment_figures_category/single_context_finemapping' already exists”\n",
      "Warning message in grid.Call.graphics(C_text, as.graphicsAnnot(x$label), x$x, x$y, :\n",
      "“conversion failure on 'log₂(Enrichment Score)' in 'mbcsToSbcs': for ₂ (U+2082)”\n"
     ]
    },
    {
     "name": "stdout",
     "output_type": "stream",
     "text": [
      "[1] \"ROSMAP_DeJager_Mic\"\n"
     ]
    },
    {
     "name": "stderr",
     "output_type": "stream",
     "text": [
      "Warning message in geom_col(stat = \"identity\"):\n",
      "“\u001b[1m\u001b[22mIgnoring unknown parameters: `stat`”\n",
      "Warning message in dir.create(dirname(output), recursive = T):\n",
      "“'/home/rf2872/Work/Fungen_xQTL/2025/Sep/eoo/EOO/enrichment_figures_category/trans_finemapping' already exists”\n",
      "Warning message:\n",
      "“\u001b[1m\u001b[22mRemoved 171 rows containing missing values or values outside the scale range\n",
      "(`geom_col()`).”\n",
      "Warning message in grid.Call.graphics(C_text, as.graphicsAnnot(x$label), x$x, x$y, :\n",
      "“conversion failure on 'log₂(Enrichment Score)' in 'mbcsToSbcs': for ₂ (U+2082)”\n"
     ]
    },
    {
     "name": "stdout",
     "output_type": "stream",
     "text": [
      "[1] \"ROSMAP_Exc_DeJager_eQTL\"\n"
     ]
    },
    {
     "name": "stderr",
     "output_type": "stream",
     "text": [
      "Warning message in geom_col(stat = \"identity\"):\n",
      "“\u001b[1m\u001b[22mIgnoring unknown parameters: `stat`”\n",
      "Warning message in dir.create(dirname(output), recursive = T):\n",
      "“'/home/rf2872/Work/Fungen_xQTL/2025/Sep/eoo/EOO/enrichment_figures_category/multi_gene_finemapping' already exists”\n",
      "Warning message:\n",
      "“\u001b[1m\u001b[22mRemoved 1 row containing missing values or values outside the scale range\n",
      "(`geom_col()`).”\n",
      "Warning message in grid.Call.graphics(C_text, as.graphicsAnnot(x$label), x$x, x$y, :\n",
      "“conversion failure on 'log₂(Enrichment Score)' in 'mbcsToSbcs': for ₂ (U+2082)”\n"
     ]
    },
    {
     "name": "stdout",
     "output_type": "stream",
     "text": [
      "[1] \"ROSMAP_Exc_mega_eQTL\"\n"
     ]
    },
    {
     "name": "stderr",
     "output_type": "stream",
     "text": [
      "Warning message in geom_col(stat = \"identity\"):\n",
      "“\u001b[1m\u001b[22mIgnoring unknown parameters: `stat`”\n",
      "Warning message in dir.create(dirname(output), recursive = T):\n",
      "“'/home/rf2872/Work/Fungen_xQTL/2025/Sep/eoo/EOO/enrichment_figures_category/multi_gene_finemapping' already exists”\n",
      "Warning message:\n",
      "“\u001b[1m\u001b[22mRemoved 1 row containing missing values or values outside the scale range\n",
      "(`geom_col()`).”\n",
      "Warning message in grid.Call.graphics(C_text, as.graphicsAnnot(x$label), x$x, x$y, :\n",
      "“conversion failure on 'log₂(Enrichment Score)' in 'mbcsToSbcs': for ₂ (U+2082)”\n"
     ]
    },
    {
     "name": "stdout",
     "output_type": "stream",
     "text": [
      "[1] \"ROSMAP_mega_Mic\"\n"
     ]
    },
    {
     "name": "stderr",
     "output_type": "stream",
     "text": [
      "Warning message in geom_col(stat = \"identity\"):\n",
      "“\u001b[1m\u001b[22mIgnoring unknown parameters: `stat`”\n",
      "Warning message in dir.create(dirname(output), recursive = T):\n",
      "“'/home/rf2872/Work/Fungen_xQTL/2025/Sep/eoo/EOO/enrichment_figures_category/trans_finemapping' already exists”\n",
      "Warning message:\n",
      "“\u001b[1m\u001b[22mRemoved 175 rows containing missing values or values outside the scale range\n",
      "(`geom_col()`).”\n",
      "Warning message in grid.Call.graphics(C_text, as.graphicsAnnot(x$label), x$x, x$y, :\n",
      "“conversion failure on 'log₂(Enrichment Score)' in 'mbcsToSbcs': for ₂ (U+2082)”\n"
     ]
    },
    {
     "name": "stdout",
     "output_type": "stream",
     "text": [
      "[1] \"ROSMAP_OPC_DeJager_eQTL\"\n"
     ]
    },
    {
     "name": "stderr",
     "output_type": "stream",
     "text": [
      "Warning message in geom_col(stat = \"identity\"):\n",
      "“\u001b[1m\u001b[22mIgnoring unknown parameters: `stat`”\n",
      "Warning message in dir.create(dirname(output), recursive = T):\n",
      "“'/home/rf2872/Work/Fungen_xQTL/2025/Sep/eoo/EOO/enrichment_figures_category/multi_gene_finemapping' already exists”\n",
      "Warning message:\n",
      "“\u001b[1m\u001b[22mRemoved 61 rows containing missing values or values outside the scale range\n",
      "(`geom_col()`).”\n",
      "Warning message in grid.Call.graphics(C_text, as.graphicsAnnot(x$label), x$x, x$y, :\n",
      "“conversion failure on 'log₂(Enrichment Score)' in 'mbcsToSbcs': for ₂ (U+2082)”\n"
     ]
    },
    {
     "name": "stdout",
     "output_type": "stream",
     "text": [
      "[1] \"ROSMAP_Mic_mega_eQTL\"\n"
     ]
    },
    {
     "name": "stderr",
     "output_type": "stream",
     "text": [
      "Warning message in geom_col(stat = \"identity\"):\n",
      "“\u001b[1m\u001b[22mIgnoring unknown parameters: `stat`”\n",
      "Warning message in dir.create(dirname(output), recursive = T):\n",
      "“'/home/rf2872/Work/Fungen_xQTL/2025/Sep/eoo/EOO/enrichment_figures_category/multi_gene_finemapping' already exists”\n",
      "Warning message:\n",
      "“\u001b[1m\u001b[22mRemoved 61 rows containing missing values or values outside the scale range\n",
      "(`geom_col()`).”\n",
      "Warning message in grid.Call.graphics(C_text, as.graphicsAnnot(x$label), x$x, x$y, :\n",
      "“conversion failure on 'log₂(Enrichment Score)' in 'mbcsToSbcs': for ₂ (U+2082)”\n"
     ]
    },
    {
     "name": "stdout",
     "output_type": "stream",
     "text": [
      "[1] \"MSBB_eQTL_BM36\"\n"
     ]
    },
    {
     "name": "stderr",
     "output_type": "stream",
     "text": [
      "Warning message in geom_col(stat = \"identity\"):\n",
      "“\u001b[1m\u001b[22mIgnoring unknown parameters: `stat`”\n",
      "Warning message in dir.create(dirname(output), recursive = T):\n",
      "“'/home/rf2872/Work/Fungen_xQTL/2025/Sep/eoo/EOO/enrichment_figures_category/trans_finemapping' already exists”\n",
      "Warning message:\n",
      "“\u001b[1m\u001b[22mRemoved 144 rows containing missing values or values outside the scale range\n",
      "(`geom_col()`).”\n",
      "Warning message in grid.Call.graphics(C_text, as.graphicsAnnot(x$label), x$x, x$y, :\n",
      "“conversion failure on 'log₂(Enrichment Score)' in 'mbcsToSbcs': for ₂ (U+2082)”\n"
     ]
    },
    {
     "name": "stdout",
     "output_type": "stream",
     "text": [
      "[1] \"DLPFC_xqtl_only_colocboost\"\n"
     ]
    },
    {
     "name": "stderr",
     "output_type": "stream",
     "text": [
      "Warning message in geom_col(stat = \"identity\"):\n",
      "“\u001b[1m\u001b[22mIgnoring unknown parameters: `stat`”\n",
      "Warning message in dir.create(dirname(output), recursive = T):\n",
      "“'/home/rf2872/Work/Fungen_xQTL/2025/Sep/eoo/EOO/enrichment_figures_category/Other' already exists”\n",
      "Warning message in grid.Call.graphics(C_text, as.graphicsAnnot(x$label), x$x, x$y, :\n",
      "“conversion failure on 'log₂(Enrichment Score)' in 'mbcsToSbcs': for ₂ (U+2082)”\n"
     ]
    },
    {
     "name": "stdout",
     "output_type": "stream",
     "text": [
      "[1] \"DLPFC_DeJager_eQTL\"\n"
     ]
    },
    {
     "name": "stderr",
     "output_type": "stream",
     "text": [
      "Warning message in geom_col(stat = \"identity\"):\n",
      "“\u001b[1m\u001b[22mIgnoring unknown parameters: `stat`”\n",
      "Warning message in dir.create(dirname(output), recursive = T):\n",
      "“'/home/rf2872/Work/Fungen_xQTL/2025/Sep/eoo/EOO/enrichment_figures_category/single_context_finemapping' already exists”\n",
      "Warning message in grid.Call.graphics(C_text, as.graphicsAnnot(x$label), x$x, x$y, :\n",
      "“conversion failure on 'log₂(Enrichment Score)' in 'mbcsToSbcs': for ₂ (U+2082)”\n"
     ]
    },
    {
     "name": "stdout",
     "output_type": "stream",
     "text": [
      "[1] \"ROSMAP_DeJager_pQTL\"\n"
     ]
    },
    {
     "name": "stderr",
     "output_type": "stream",
     "text": [
      "Warning message in geom_col(stat = \"identity\"):\n",
      "“\u001b[1m\u001b[22mIgnoring unknown parameters: `stat`”\n",
      "Warning message in dir.create(dirname(output), recursive = T):\n",
      "“'/home/rf2872/Work/Fungen_xQTL/2025/Sep/eoo/EOO/enrichment_figures_category/trans_finemapping' already exists”\n",
      "Warning message:\n",
      "“\u001b[1m\u001b[22mRemoved 58 rows containing missing values or values outside the scale range\n",
      "(`geom_col()`).”\n",
      "Warning message in grid.Call.graphics(C_text, as.graphicsAnnot(x$label), x$x, x$y, :\n",
      "“conversion failure on 'log₂(Enrichment Score)' in 'mbcsToSbcs': for ₂ (U+2082)”\n"
     ]
    },
    {
     "name": "stdout",
     "output_type": "stream",
     "text": [
      "[1] \"Mic_Kellis_eQTL\"\n"
     ]
    },
    {
     "name": "stderr",
     "output_type": "stream",
     "text": [
      "Warning message in geom_col(stat = \"identity\"):\n",
      "“\u001b[1m\u001b[22mIgnoring unknown parameters: `stat`”\n",
      "Warning message in dir.create(dirname(output), recursive = T):\n",
      "“'/home/rf2872/Work/Fungen_xQTL/2025/Sep/eoo/EOO/enrichment_figures_category/single_context_finemapping' already exists”\n",
      "Warning message:\n",
      "“\u001b[1m\u001b[22mRemoved 1 row containing missing values or values outside the scale range\n",
      "(`geom_col()`).”\n",
      "Warning message in grid.Call.graphics(C_text, as.graphicsAnnot(x$label), x$x, x$y, :\n",
      "“conversion failure on 'log₂(Enrichment Score)' in 'mbcsToSbcs': for ₂ (U+2082)”\n"
     ]
    },
    {
     "name": "stdout",
     "output_type": "stream",
     "text": [
      "[1] \"Ast_mega_eQTL\"\n"
     ]
    },
    {
     "name": "stderr",
     "output_type": "stream",
     "text": [
      "Warning message in geom_col(stat = \"identity\"):\n",
      "“\u001b[1m\u001b[22mIgnoring unknown parameters: `stat`”\n",
      "Warning message in dir.create(dirname(output), recursive = T):\n",
      "“'/home/rf2872/Work/Fungen_xQTL/2025/Sep/eoo/EOO/enrichment_figures_category/single_context_finemapping' already exists”\n",
      "Warning message:\n",
      "“\u001b[1m\u001b[22mRemoved 1 row containing missing values or values outside the scale range\n",
      "(`geom_col()`).”\n",
      "Warning message in grid.Call.graphics(C_text, as.graphicsAnnot(x$label), x$x, x$y, :\n",
      "“conversion failure on 'log₂(Enrichment Score)' in 'mbcsToSbcs': for ₂ (U+2082)”\n"
     ]
    },
    {
     "name": "stdout",
     "output_type": "stream",
     "text": [
      "[1] \"ROSMAP_Inh_mega_eQTL\"\n"
     ]
    },
    {
     "name": "stderr",
     "output_type": "stream",
     "text": [
      "Warning message in geom_col(stat = \"identity\"):\n",
      "“\u001b[1m\u001b[22mIgnoring unknown parameters: `stat`”\n",
      "Warning message in dir.create(dirname(output), recursive = T):\n",
      "“'/home/rf2872/Work/Fungen_xQTL/2025/Sep/eoo/EOO/enrichment_figures_category/multi_gene_finemapping' already exists”\n",
      "Warning message:\n",
      "“\u001b[1m\u001b[22mRemoved 1 row containing missing values or values outside the scale range\n",
      "(`geom_col()`).”\n",
      "Warning message in grid.Call.graphics(C_text, as.graphicsAnnot(x$label), x$x, x$y, :\n",
      "“conversion failure on 'log₂(Enrichment Score)' in 'mbcsToSbcs': for ₂ (U+2082)”\n"
     ]
    },
    {
     "name": "stdout",
     "output_type": "stream",
     "text": [
      "[1] \"MiGA_THA_eQTL\"\n"
     ]
    },
    {
     "name": "stderr",
     "output_type": "stream",
     "text": [
      "Warning message in geom_col(stat = \"identity\"):\n",
      "“\u001b[1m\u001b[22mIgnoring unknown parameters: `stat`”\n",
      "Warning message in dir.create(dirname(output), recursive = T):\n",
      "“'/home/rf2872/Work/Fungen_xQTL/2025/Sep/eoo/EOO/enrichment_figures_category/single_context_finemapping' already exists”\n",
      "Warning message:\n",
      "“\u001b[1m\u001b[22mRemoved 1 row containing missing values or values outside the scale range\n",
      "(`geom_col()`).”\n",
      "Warning message in grid.Call.graphics(C_text, as.graphicsAnnot(x$label), x$x, x$y, :\n",
      "“conversion failure on 'log₂(Enrichment Score)' in 'mbcsToSbcs': for ₂ (U+2082)”\n"
     ]
    },
    {
     "name": "stdout",
     "output_type": "stream",
     "text": [
      "[1] \"ROSMAP_all_cs_snp_mQTL\"\n"
     ]
    },
    {
     "name": "stderr",
     "output_type": "stream",
     "text": [
      "Warning message in geom_col(stat = \"identity\"):\n",
      "“\u001b[1m\u001b[22mIgnoring unknown parameters: `stat`”\n",
      "Warning message in dir.create(dirname(output), recursive = T):\n",
      "“'/home/rf2872/Work/Fungen_xQTL/2025/Sep/eoo/EOO/enrichment_figures_category/Other' already exists”\n",
      "Warning message:\n",
      "“\u001b[1m\u001b[22mRemoved 1 row containing missing values or values outside the scale range\n",
      "(`geom_col()`).”\n",
      "Warning message in grid.Call.graphics(C_text, as.graphicsAnnot(x$label), x$x, x$y, :\n",
      "“conversion failure on 'log₂(Enrichment Score)' in 'mbcsToSbcs': for ₂ (U+2082)”\n"
     ]
    },
    {
     "name": "stdout",
     "output_type": "stream",
     "text": [
      "[1] \"ROSMAP_DeJager_PCC\"\n"
     ]
    },
    {
     "name": "stderr",
     "output_type": "stream",
     "text": [
      "Warning message in geom_col(stat = \"identity\"):\n",
      "“\u001b[1m\u001b[22mIgnoring unknown parameters: `stat`”\n",
      "Warning message in dir.create(dirname(output), recursive = T):\n",
      "“'/home/rf2872/Work/Fungen_xQTL/2025/Sep/eoo/EOO/enrichment_figures_category/trans_finemapping' already exists”\n",
      "Warning message:\n",
      "“\u001b[1m\u001b[22mRemoved 99 rows containing missing values or values outside the scale range\n",
      "(`geom_col()`).”\n",
      "Warning message in grid.Call.graphics(C_text, as.graphicsAnnot(x$label), x$x, x$y, :\n",
      "“conversion failure on 'log₂(Enrichment Score)' in 'mbcsToSbcs': for ₂ (U+2082)”\n"
     ]
    },
    {
     "name": "stdout",
     "output_type": "stream",
     "text": [
      "[1] \"ROSMAP_DeJager_Ast\"\n"
     ]
    },
    {
     "name": "stderr",
     "output_type": "stream",
     "text": [
      "Warning message in geom_col(stat = \"identity\"):\n",
      "“\u001b[1m\u001b[22mIgnoring unknown parameters: `stat`”\n",
      "Warning message in dir.create(dirname(output), recursive = T):\n",
      "“'/home/rf2872/Work/Fungen_xQTL/2025/Sep/eoo/EOO/enrichment_figures_category/trans_finemapping' already exists”\n",
      "Warning message:\n",
      "“\u001b[1m\u001b[22mRemoved 159 rows containing missing values or values outside the scale range\n",
      "(`geom_col()`).”\n",
      "Warning message in grid.Call.graphics(C_text, as.graphicsAnnot(x$label), x$x, x$y, :\n",
      "“conversion failure on 'log₂(Enrichment Score)' in 'mbcsToSbcs': for ₂ (U+2082)”\n"
     ]
    },
    {
     "name": "stdout",
     "output_type": "stream",
     "text": [
      "[1] \"BM_22_MSBB_eQTL\"\n"
     ]
    },
    {
     "name": "stderr",
     "output_type": "stream",
     "text": [
      "Warning message in geom_col(stat = \"identity\"):\n",
      "“\u001b[1m\u001b[22mIgnoring unknown parameters: `stat`”\n",
      "Warning message in dir.create(dirname(output), recursive = T):\n",
      "“'/home/rf2872/Work/Fungen_xQTL/2025/Sep/eoo/EOO/enrichment_figures_category/single_context_finemapping' already exists”\n",
      "Warning message:\n",
      "“\u001b[1m\u001b[22mRemoved 1 row containing missing values or values outside the scale range\n",
      "(`geom_col()`).”\n",
      "Warning message in grid.Call.graphics(C_text, as.graphicsAnnot(x$label), x$x, x$y, :\n",
      "“conversion failure on 'log₂(Enrichment Score)' in 'mbcsToSbcs': for ₂ (U+2082)”\n"
     ]
    },
    {
     "name": "stdout",
     "output_type": "stream",
     "text": [
      "[1] \"ROSMAP_mQTL.top_pc_1.cs_snp\"\n"
     ]
    },
    {
     "name": "stderr",
     "output_type": "stream",
     "text": [
      "Warning message in geom_col(stat = \"identity\"):\n",
      "“\u001b[1m\u001b[22mIgnoring unknown parameters: `stat`”\n",
      "Warning message in dir.create(dirname(output), recursive = T):\n",
      "“'/home/rf2872/Work/Fungen_xQTL/2025/Sep/eoo/EOO/enrichment_figures_category/Other' already exists”\n",
      "Warning message:\n",
      "“\u001b[1m\u001b[22mRemoved 2 rows containing missing values or values outside the scale range\n",
      "(`geom_col()`).”\n",
      "Warning message in grid.Call.graphics(C_text, as.graphicsAnnot(x$label), x$x, x$y, :\n",
      "“conversion failure on 'log₂(Enrichment Score)' in 'mbcsToSbcs': for ₂ (U+2082)”\n"
     ]
    },
    {
     "name": "stdout",
     "output_type": "stream",
     "text": [
      "[1] \"ROSMAP_PCC_sQTL\"\n"
     ]
    },
    {
     "name": "stderr",
     "output_type": "stream",
     "text": [
      "Warning message in geom_col(stat = \"identity\"):\n",
      "“\u001b[1m\u001b[22mIgnoring unknown parameters: `stat`”\n",
      "Warning message in dir.create(dirname(output), recursive = T):\n",
      "“'/home/rf2872/Work/Fungen_xQTL/2025/Sep/eoo/EOO/enrichment_figures_category/single_context_finemapping' already exists”\n",
      "Warning message in grid.Call.graphics(C_text, as.graphicsAnnot(x$label), x$x, x$y, :\n",
      "“conversion failure on 'log₂(Enrichment Score)' in 'mbcsToSbcs': for ₂ (U+2082)”\n"
     ]
    },
    {
     "name": "stdout",
     "output_type": "stream",
     "text": [
      "[1] \"STARNET_eQTL_Mac\"\n"
     ]
    },
    {
     "name": "stderr",
     "output_type": "stream",
     "text": [
      "Warning message in geom_col(stat = \"identity\"):\n",
      "“\u001b[1m\u001b[22mIgnoring unknown parameters: `stat`”\n",
      "Warning message in dir.create(dirname(output), recursive = T):\n",
      "“'/home/rf2872/Work/Fungen_xQTL/2025/Sep/eoo/EOO/enrichment_figures_category/single_context_finemapping' already exists”\n",
      "Warning message in grid.Call.graphics(C_text, as.graphicsAnnot(x$label), x$x, x$y, :\n",
      "“conversion failure on 'log₂(Enrichment Score)' in 'mbcsToSbcs': for ₂ (U+2082)”\n"
     ]
    },
    {
     "name": "stdout",
     "output_type": "stream",
     "text": [
      "[1] \"Inh_DeJager_eQTL\"\n"
     ]
    },
    {
     "name": "stderr",
     "output_type": "stream",
     "text": [
      "Warning message in geom_col(stat = \"identity\"):\n",
      "“\u001b[1m\u001b[22mIgnoring unknown parameters: `stat`”\n",
      "Warning message in dir.create(dirname(output), recursive = T):\n",
      "“'/home/rf2872/Work/Fungen_xQTL/2025/Sep/eoo/EOO/enrichment_figures_category/single_context_finemapping' already exists”\n",
      "Warning message:\n",
      "“\u001b[1m\u001b[22mRemoved 1 row containing missing values or values outside the scale range\n",
      "(`geom_col()`).”\n",
      "Warning message in grid.Call.graphics(C_text, as.graphicsAnnot(x$label), x$x, x$y, :\n",
      "“conversion failure on 'log₂(Enrichment Score)' in 'mbcsToSbcs': for ₂ (U+2082)”\n"
     ]
    },
    {
     "name": "stdout",
     "output_type": "stream",
     "text": [
      "[1] \"PCC_xqtl_only_colocboost\"\n"
     ]
    },
    {
     "name": "stderr",
     "output_type": "stream",
     "text": [
      "Warning message in geom_col(stat = \"identity\"):\n",
      "“\u001b[1m\u001b[22mIgnoring unknown parameters: `stat`”\n",
      "Warning message in dir.create(dirname(output), recursive = T):\n",
      "“'/home/rf2872/Work/Fungen_xQTL/2025/Sep/eoo/EOO/enrichment_figures_category/Other' already exists”\n",
      "Warning message in grid.Call.graphics(C_text, as.graphicsAnnot(x$label), x$x, x$y, :\n",
      "“conversion failure on 'log₂(Enrichment Score)' in 'mbcsToSbcs': for ₂ (U+2082)”\n"
     ]
    },
    {
     "name": "stdout",
     "output_type": "stream",
     "text": [
      "[1] \"ROSMAP_Kelli_Ast\"\n"
     ]
    },
    {
     "name": "stderr",
     "output_type": "stream",
     "text": [
      "Warning message in geom_col(stat = \"identity\"):\n",
      "“\u001b[1m\u001b[22mIgnoring unknown parameters: `stat`”\n",
      "Warning message in dir.create(dirname(output), recursive = T):\n",
      "“'/home/rf2872/Work/Fungen_xQTL/2025/Sep/eoo/EOO/enrichment_figures_category/trans_finemapping' already exists”\n",
      "Warning message:\n",
      "“\u001b[1m\u001b[22mRemoved 154 rows containing missing values or values outside the scale range\n",
      "(`geom_col()`).”\n",
      "Warning message in grid.Call.graphics(C_text, as.graphicsAnnot(x$label), x$x, x$y, :\n",
      "“conversion failure on 'log₂(Enrichment Score)' in 'mbcsToSbcs': for ₂ (U+2082)”\n"
     ]
    },
    {
     "name": "stdout",
     "output_type": "stream",
     "text": [
      "[1] \"ROSMAP_mega_OPC\"\n"
     ]
    },
    {
     "name": "stderr",
     "output_type": "stream",
     "text": [
      "Warning message in geom_col(stat = \"identity\"):\n",
      "“\u001b[1m\u001b[22mIgnoring unknown parameters: `stat`”\n",
      "Warning message in dir.create(dirname(output), recursive = T):\n",
      "“'/home/rf2872/Work/Fungen_xQTL/2025/Sep/eoo/EOO/enrichment_figures_category/trans_finemapping' already exists”\n",
      "Warning message:\n",
      "“\u001b[1m\u001b[22mRemoved 169 rows containing missing values or values outside the scale range\n",
      "(`geom_col()`).”\n",
      "Warning message in grid.Call.graphics(C_text, as.graphicsAnnot(x$label), x$x, x$y, :\n",
      "“conversion failure on 'log₂(Enrichment Score)' in 'mbcsToSbcs': for ₂ (U+2082)”\n"
     ]
    },
    {
     "name": "stdout",
     "output_type": "stream",
     "text": [
      "[1] \"ROSMAP_Oli_mega_eQTL\"\n"
     ]
    },
    {
     "name": "stderr",
     "output_type": "stream",
     "text": [
      "Warning message in geom_col(stat = \"identity\"):\n",
      "“\u001b[1m\u001b[22mIgnoring unknown parameters: `stat`”\n",
      "Warning message in dir.create(dirname(output), recursive = T):\n",
      "“'/home/rf2872/Work/Fungen_xQTL/2025/Sep/eoo/EOO/enrichment_figures_category/multi_gene_finemapping' already exists”\n",
      "Warning message:\n",
      "“\u001b[1m\u001b[22mRemoved 1 row containing missing values or values outside the scale range\n",
      "(`geom_col()`).”\n",
      "Warning message in grid.Call.graphics(C_text, as.graphicsAnnot(x$label), x$x, x$y, :\n",
      "“conversion failure on 'log₂(Enrichment Score)' in 'mbcsToSbcs': for ₂ (U+2082)”\n"
     ]
    },
    {
     "name": "stdout",
     "output_type": "stream",
     "text": [
      "[1] \"ROSMAP_DeJager_Inh\"\n"
     ]
    },
    {
     "name": "stderr",
     "output_type": "stream",
     "text": [
      "Warning message in geom_col(stat = \"identity\"):\n",
      "“\u001b[1m\u001b[22mIgnoring unknown parameters: `stat`”\n",
      "Warning message in dir.create(dirname(output), recursive = T):\n",
      "“'/home/rf2872/Work/Fungen_xQTL/2025/Sep/eoo/EOO/enrichment_figures_category/trans_finemapping' already exists”\n",
      "Warning message:\n",
      "“\u001b[1m\u001b[22mRemoved 157 rows containing missing values or values outside the scale range\n",
      "(`geom_col()`).”\n",
      "Warning message in grid.Call.graphics(C_text, as.graphicsAnnot(x$label), x$x, x$y, :\n",
      "“conversion failure on 'log₂(Enrichment Score)' in 'mbcsToSbcs': for ₂ (U+2082)”\n"
     ]
    },
    {
     "name": "stdout",
     "output_type": "stream",
     "text": [
      "[1] \"Inh_Kellis_eQTL\"\n"
     ]
    },
    {
     "name": "stderr",
     "output_type": "stream",
     "text": [
      "Warning message in geom_col(stat = \"identity\"):\n",
      "“\u001b[1m\u001b[22mIgnoring unknown parameters: `stat`”\n",
      "Warning message in dir.create(dirname(output), recursive = T):\n",
      "“'/home/rf2872/Work/Fungen_xQTL/2025/Sep/eoo/EOO/enrichment_figures_category/single_context_finemapping' already exists”\n",
      "Warning message:\n",
      "“\u001b[1m\u001b[22mRemoved 1 row containing missing values or values outside the scale range\n",
      "(`geom_col()`).”\n",
      "Warning message in grid.Call.graphics(C_text, as.graphicsAnnot(x$label), x$x, x$y, :\n",
      "“conversion failure on 'log₂(Enrichment Score)' in 'mbcsToSbcs': for ₂ (U+2082)”\n"
     ]
    },
    {
     "name": "stdout",
     "output_type": "stream",
     "text": [
      "[1] \"ROSMAP_all_cs_snp_haQTL\"\n"
     ]
    },
    {
     "name": "stderr",
     "output_type": "stream",
     "text": [
      "Warning message in geom_col(stat = \"identity\"):\n",
      "“\u001b[1m\u001b[22mIgnoring unknown parameters: `stat`”\n",
      "Warning message in dir.create(dirname(output), recursive = T):\n",
      "“'/home/rf2872/Work/Fungen_xQTL/2025/Sep/eoo/EOO/enrichment_figures_category/Other' already exists”\n",
      "Warning message:\n",
      "“\u001b[1m\u001b[22mRemoved 2 rows containing missing values or values outside the scale range\n",
      "(`geom_col()`).”\n",
      "Warning message in grid.Call.graphics(C_text, as.graphicsAnnot(x$label), x$x, x$y, :\n",
      "“conversion failure on 'log₂(Enrichment Score)' in 'mbcsToSbcs': for ₂ (U+2082)”\n"
     ]
    },
    {
     "name": "stdout",
     "output_type": "stream",
     "text": [
      "[1] \"BM_36_MSBB_eQTL\"\n"
     ]
    },
    {
     "name": "stderr",
     "output_type": "stream",
     "text": [
      "Warning message in geom_col(stat = \"identity\"):\n",
      "“\u001b[1m\u001b[22mIgnoring unknown parameters: `stat`”\n",
      "Warning message in dir.create(dirname(output), recursive = T):\n",
      "“'/home/rf2872/Work/Fungen_xQTL/2025/Sep/eoo/EOO/enrichment_figures_category/single_context_finemapping' already exists”\n",
      "Warning message in grid.Call.graphics(C_text, as.graphicsAnnot(x$label), x$x, x$y, :\n",
      "“conversion failure on 'log₂(Enrichment Score)' in 'mbcsToSbcs': for ₂ (U+2082)”\n"
     ]
    },
    {
     "name": "stdout",
     "output_type": "stream",
     "text": [
      "[1] \"BM_10_MSBB_eQTL\"\n"
     ]
    },
    {
     "name": "stderr",
     "output_type": "stream",
     "text": [
      "Warning message in geom_col(stat = \"identity\"):\n",
      "“\u001b[1m\u001b[22mIgnoring unknown parameters: `stat`”\n",
      "Warning message in dir.create(dirname(output), recursive = T):\n",
      "“'/home/rf2872/Work/Fungen_xQTL/2025/Sep/eoo/EOO/enrichment_figures_category/single_context_finemapping' already exists”\n",
      "Warning message in grid.Call.graphics(C_text, as.graphicsAnnot(x$label), x$x, x$y, :\n",
      "“conversion failure on 'log₂(Enrichment Score)' in 'mbcsToSbcs': for ₂ (U+2082)”\n"
     ]
    },
    {
     "name": "stdout",
     "output_type": "stream",
     "text": [
      "[1] \"Knight_eQTL\"\n"
     ]
    },
    {
     "name": "stderr",
     "output_type": "stream",
     "text": [
      "Warning message in geom_col(stat = \"identity\"):\n",
      "“\u001b[1m\u001b[22mIgnoring unknown parameters: `stat`”\n",
      "Warning message in dir.create(dirname(output), recursive = T):\n",
      "“'/home/rf2872/Work/Fungen_xQTL/2025/Sep/eoo/EOO/enrichment_figures_category/trans_finemapping' already exists”\n",
      "Warning message:\n",
      "“\u001b[1m\u001b[22mRemoved 124 rows containing missing values or values outside the scale range\n",
      "(`geom_col()`).”\n",
      "Warning message in grid.Call.graphics(C_text, as.graphicsAnnot(x$label), x$x, x$y, :\n",
      "“conversion failure on 'log₂(Enrichment Score)' in 'mbcsToSbcs': for ₂ (U+2082)”\n"
     ]
    },
    {
     "name": "stdout",
     "output_type": "stream",
     "text": [
      "[1] \"Ast_Kellis_eQTL\"\n"
     ]
    },
    {
     "name": "stderr",
     "output_type": "stream",
     "text": [
      "Warning message in geom_col(stat = \"identity\"):\n",
      "“\u001b[1m\u001b[22mIgnoring unknown parameters: `stat`”\n",
      "Warning message in dir.create(dirname(output), recursive = T):\n",
      "“'/home/rf2872/Work/Fungen_xQTL/2025/Sep/eoo/EOO/enrichment_figures_category/single_context_finemapping' already exists”\n",
      "Warning message:\n",
      "“\u001b[1m\u001b[22mRemoved 1 row containing missing values or values outside the scale range\n",
      "(`geom_col()`).”\n",
      "Warning message in grid.Call.graphics(C_text, as.graphicsAnnot(x$label), x$x, x$y, :\n",
      "“conversion failure on 'log₂(Enrichment Score)' in 'mbcsToSbcs': for ₂ (U+2082)”\n"
     ]
    },
    {
     "name": "stdout",
     "output_type": "stream",
     "text": [
      "[1] \"ROSMAP_Kelli_OPC\"\n"
     ]
    },
    {
     "name": "stderr",
     "output_type": "stream",
     "text": [
      "Warning message in geom_col(stat = \"identity\"):\n",
      "“\u001b[1m\u001b[22mIgnoring unknown parameters: `stat`”\n",
      "Warning message in dir.create(dirname(output), recursive = T):\n",
      "“'/home/rf2872/Work/Fungen_xQTL/2025/Sep/eoo/EOO/enrichment_figures_category/trans_finemapping' already exists”\n",
      "Warning message:\n",
      "“\u001b[1m\u001b[22mRemoved 141 rows containing missing values or values outside the scale range\n",
      "(`geom_col()`).”\n",
      "Warning message in grid.Call.graphics(C_text, as.graphicsAnnot(x$label), x$x, x$y, :\n",
      "“conversion failure on 'log₂(Enrichment Score)' in 'mbcsToSbcs': for ₂ (U+2082)”\n"
     ]
    },
    {
     "name": "stdout",
     "output_type": "stream",
     "text": [
      "[1] \"Metabrain_Basalganglia\"\n"
     ]
    },
    {
     "name": "stderr",
     "output_type": "stream",
     "text": [
      "Warning message in geom_col(stat = \"identity\"):\n",
      "“\u001b[1m\u001b[22mIgnoring unknown parameters: `stat`”\n",
      "Warning message in dir.create(dirname(output), recursive = T):\n",
      "“'/home/rf2872/Work/Fungen_xQTL/2025/Sep/eoo/EOO/enrichment_figures_category/single_context_finemapping' already exists”\n",
      "Warning message:\n",
      "“\u001b[1m\u001b[22mRemoved 1 row containing missing values or values outside the scale range\n",
      "(`geom_col()`).”\n",
      "Warning message in grid.Call.graphics(C_text, as.graphicsAnnot(x$label), x$x, x$y, :\n",
      "“conversion failure on 'log₂(Enrichment Score)' in 'mbcsToSbcs': for ₂ (U+2082)”\n"
     ]
    },
    {
     "name": "stdout",
     "output_type": "stream",
     "text": [
      "[1] \"ROSMAP_AC_DeJager_eQTL\"\n"
     ]
    },
    {
     "name": "stderr",
     "output_type": "stream",
     "text": [
      "Warning message in geom_col(stat = \"identity\"):\n",
      "“\u001b[1m\u001b[22mIgnoring unknown parameters: `stat`”\n",
      "Warning message in dir.create(dirname(output), recursive = T):\n",
      "“'/home/rf2872/Work/Fungen_xQTL/2025/Sep/eoo/EOO/enrichment_figures_category/multi_gene_finemapping' already exists”\n",
      "Warning message in grid.Call.graphics(C_text, as.graphicsAnnot(x$label), x$x, x$y, :\n",
      "“conversion failure on 'log₂(Enrichment Score)' in 'mbcsToSbcs': for ₂ (U+2082)”\n"
     ]
    },
    {
     "name": "stdout",
     "output_type": "stream",
     "text": [
      "[1] \"ROSMAP_mega_Ast\"\n"
     ]
    },
    {
     "name": "stderr",
     "output_type": "stream",
     "text": [
      "Warning message in geom_col(stat = \"identity\"):\n",
      "“\u001b[1m\u001b[22mIgnoring unknown parameters: `stat`”\n",
      "Warning message in dir.create(dirname(output), recursive = T):\n",
      "“'/home/rf2872/Work/Fungen_xQTL/2025/Sep/eoo/EOO/enrichment_figures_category/trans_finemapping' already exists”\n",
      "Warning message:\n",
      "“\u001b[1m\u001b[22mRemoved 170 rows containing missing values or values outside the scale range\n",
      "(`geom_col()`).”\n",
      "Warning message in grid.Call.graphics(C_text, as.graphicsAnnot(x$label), x$x, x$y, :\n",
      "“conversion failure on 'log₂(Enrichment Score)' in 'mbcsToSbcs': for ₂ (U+2082)”\n"
     ]
    },
    {
     "name": "stdout",
     "output_type": "stream",
     "text": [
      "[1] \"DLPFC_Bennett_pQTL\"\n"
     ]
    },
    {
     "name": "stderr",
     "output_type": "stream",
     "text": [
      "Warning message in geom_col(stat = \"identity\"):\n",
      "“\u001b[1m\u001b[22mIgnoring unknown parameters: `stat`”\n",
      "Warning message in dir.create(dirname(output), recursive = T):\n",
      "“'/home/rf2872/Work/Fungen_xQTL/2025/Sep/eoo/EOO/enrichment_figures_category/single_context_finemapping' already exists”\n",
      "Warning message in grid.Call.graphics(C_text, as.graphicsAnnot(x$label), x$x, x$y, :\n",
      "“conversion failure on 'log₂(Enrichment Score)' in 'mbcsToSbcs': for ₂ (U+2082)”\n"
     ]
    },
    {
     "name": "stdout",
     "output_type": "stream",
     "text": [
      "[1] \"Exc_DeJager_eQTL\"\n"
     ]
    },
    {
     "name": "stderr",
     "output_type": "stream",
     "text": [
      "Warning message in geom_col(stat = \"identity\"):\n",
      "“\u001b[1m\u001b[22mIgnoring unknown parameters: `stat`”\n",
      "Warning message in dir.create(dirname(output), recursive = T):\n",
      "“'/home/rf2872/Work/Fungen_xQTL/2025/Sep/eoo/EOO/enrichment_figures_category/single_context_finemapping' already exists”\n",
      "Warning message in grid.Call.graphics(C_text, as.graphicsAnnot(x$label), x$x, x$y, :\n",
      "“conversion failure on 'log₂(Enrichment Score)' in 'mbcsToSbcs': for ₂ (U+2082)”\n"
     ]
    },
    {
     "name": "stdout",
     "output_type": "stream",
     "text": [
      "[1] \"MSBB_BM_44_eQTL\"\n"
     ]
    },
    {
     "name": "stderr",
     "output_type": "stream",
     "text": [
      "Warning message in geom_col(stat = \"identity\"):\n",
      "“\u001b[1m\u001b[22mIgnoring unknown parameters: `stat`”\n",
      "Warning message in dir.create(dirname(output), recursive = T):\n",
      "“'/home/rf2872/Work/Fungen_xQTL/2025/Sep/eoo/EOO/enrichment_figures_category/multi_gene_finemapping' already exists”\n",
      "Warning message:\n",
      "“\u001b[1m\u001b[22mRemoved 18 rows containing missing values or values outside the scale range\n",
      "(`geom_col()`).”\n",
      "Warning message in grid.Call.graphics(C_text, as.graphicsAnnot(x$label), x$x, x$y, :\n",
      "“conversion failure on 'log₂(Enrichment Score)' in 'mbcsToSbcs': for ₂ (U+2082)”\n"
     ]
    },
    {
     "name": "stdout",
     "output_type": "stream",
     "text": [
      "[1] \"Oli_Kellis_eQTL\"\n"
     ]
    },
    {
     "name": "stderr",
     "output_type": "stream",
     "text": [
      "Warning message in geom_col(stat = \"identity\"):\n",
      "“\u001b[1m\u001b[22mIgnoring unknown parameters: `stat`”\n",
      "Warning message in dir.create(dirname(output), recursive = T):\n",
      "“'/home/rf2872/Work/Fungen_xQTL/2025/Sep/eoo/EOO/enrichment_figures_category/single_context_finemapping' already exists”\n",
      "Warning message in grid.Call.graphics(C_text, as.graphicsAnnot(x$label), x$x, x$y, :\n",
      "“conversion failure on 'log₂(Enrichment Score)' in 'mbcsToSbcs': for ₂ (U+2082)”\n"
     ]
    },
    {
     "name": "stdout",
     "output_type": "stream",
     "text": [
      "[1] \"ROSMAP_Kelli_Mic\"\n"
     ]
    },
    {
     "name": "stderr",
     "output_type": "stream",
     "text": [
      "Warning message in geom_col(stat = \"identity\"):\n",
      "“\u001b[1m\u001b[22mIgnoring unknown parameters: `stat`”\n",
      "Warning message in dir.create(dirname(output), recursive = T):\n",
      "“'/home/rf2872/Work/Fungen_xQTL/2025/Sep/eoo/EOO/enrichment_figures_category/trans_finemapping' already exists”\n",
      "Warning message:\n",
      "“\u001b[1m\u001b[22mRemoved 174 rows containing missing values or values outside the scale range\n",
      "(`geom_col()`).”\n",
      "Warning message in grid.Call.graphics(C_text, as.graphicsAnnot(x$label), x$x, x$y, :\n",
      "“conversion failure on 'log₂(Enrichment Score)' in 'mbcsToSbcs': for ₂ (U+2082)”\n"
     ]
    },
    {
     "name": "stdout",
     "output_type": "stream",
     "text": [
      "[1] \"Exc_mega_eQTL\"\n"
     ]
    },
    {
     "name": "stderr",
     "output_type": "stream",
     "text": [
      "Warning message in geom_col(stat = \"identity\"):\n",
      "“\u001b[1m\u001b[22mIgnoring unknown parameters: `stat`”\n",
      "Warning message in dir.create(dirname(output), recursive = T):\n",
      "“'/home/rf2872/Work/Fungen_xQTL/2025/Sep/eoo/EOO/enrichment_figures_category/single_context_finemapping' already exists”\n",
      "Warning message in grid.Call.graphics(C_text, as.graphicsAnnot(x$label), x$x, x$y, :\n",
      "“conversion failure on 'log₂(Enrichment Score)' in 'mbcsToSbcs': for ₂ (U+2082)”\n"
     ]
    },
    {
     "name": "stdout",
     "output_type": "stream",
     "text": [
      "[1] \"Exc_Kellis_eQTL\"\n"
     ]
    },
    {
     "name": "stderr",
     "output_type": "stream",
     "text": [
      "Warning message in geom_col(stat = \"identity\"):\n",
      "“\u001b[1m\u001b[22mIgnoring unknown parameters: `stat`”\n",
      "Warning message in dir.create(dirname(output), recursive = T):\n",
      "“'/home/rf2872/Work/Fungen_xQTL/2025/Sep/eoo/EOO/enrichment_figures_category/single_context_finemapping' already exists”\n",
      "Warning message in grid.Call.graphics(C_text, as.graphicsAnnot(x$label), x$x, x$y, :\n",
      "“conversion failure on 'log₂(Enrichment Score)' in 'mbcsToSbcs': for ₂ (U+2082)”\n"
     ]
    },
    {
     "name": "stdout",
     "output_type": "stream",
     "text": [
      "[1] \"Knight_pQTL\"\n"
     ]
    },
    {
     "name": "stderr",
     "output_type": "stream",
     "text": [
      "Warning message in geom_col(stat = \"identity\"):\n",
      "“\u001b[1m\u001b[22mIgnoring unknown parameters: `stat`”\n",
      "Warning message in dir.create(dirname(output), recursive = T):\n",
      "“'/home/rf2872/Work/Fungen_xQTL/2025/Sep/eoo/EOO/enrichment_figures_category/trans_finemapping' already exists”\n",
      "Warning message:\n",
      "“\u001b[1m\u001b[22mRemoved 172 rows containing missing values or values outside the scale range\n",
      "(`geom_col()`).”\n",
      "Warning message in grid.Call.graphics(C_text, as.graphicsAnnot(x$label), x$x, x$y, :\n",
      "“conversion failure on 'log₂(Enrichment Score)' in 'mbcsToSbcs': for ₂ (U+2082)”\n"
     ]
    },
    {
     "name": "stdout",
     "output_type": "stream",
     "text": [
      "[1] \"AC_DeJager_eQTL\"\n"
     ]
    },
    {
     "name": "stderr",
     "output_type": "stream",
     "text": [
      "Warning message in geom_col(stat = \"identity\"):\n",
      "“\u001b[1m\u001b[22mIgnoring unknown parameters: `stat`”\n",
      "Warning message in dir.create(dirname(output), recursive = T):\n",
      "“'/home/rf2872/Work/Fungen_xQTL/2025/Sep/eoo/EOO/enrichment_figures_category/single_context_finemapping' already exists”\n",
      "Warning message in grid.Call.graphics(C_text, as.graphicsAnnot(x$label), x$x, x$y, :\n",
      "“conversion failure on 'log₂(Enrichment Score)' in 'mbcsToSbcs': for ₂ (U+2082)”\n"
     ]
    },
    {
     "name": "stdout",
     "output_type": "stream",
     "text": [
      "[1] \"AC_xqtl_only_colocboost\"\n"
     ]
    },
    {
     "name": "stderr",
     "output_type": "stream",
     "text": [
      "Warning message in geom_col(stat = \"identity\"):\n",
      "“\u001b[1m\u001b[22mIgnoring unknown parameters: `stat`”\n",
      "Warning message in dir.create(dirname(output), recursive = T):\n",
      "“'/home/rf2872/Work/Fungen_xQTL/2025/Sep/eoo/EOO/enrichment_figures_category/Other' already exists”\n",
      "Warning message in grid.Call.graphics(C_text, as.graphicsAnnot(x$label), x$x, x$y, :\n",
      "“conversion failure on 'log₂(Enrichment Score)' in 'mbcsToSbcs': for ₂ (U+2082)”\n"
     ]
    },
    {
     "name": "stdout",
     "output_type": "stream",
     "text": [
      "[1] \"Metabrain_Hippocampus\"\n"
     ]
    },
    {
     "name": "stderr",
     "output_type": "stream",
     "text": [
      "Warning message in geom_col(stat = \"identity\"):\n",
      "“\u001b[1m\u001b[22mIgnoring unknown parameters: `stat`”\n",
      "Warning message in dir.create(dirname(output), recursive = T):\n",
      "“'/home/rf2872/Work/Fungen_xQTL/2025/Sep/eoo/EOO/enrichment_figures_category/single_context_finemapping' already exists”\n",
      "Warning message:\n",
      "“\u001b[1m\u001b[22mRemoved 1 row containing missing values or values outside the scale range\n",
      "(`geom_col()`).”\n",
      "Warning message in grid.Call.graphics(C_text, as.graphicsAnnot(x$label), x$x, x$y, :\n",
      "“conversion failure on 'log₂(Enrichment Score)' in 'mbcsToSbcs': for ₂ (U+2082)”\n"
     ]
    },
    {
     "name": "stdout",
     "output_type": "stream",
     "text": [
      "[1] \"OPC_mega_eQTL\"\n"
     ]
    },
    {
     "name": "stderr",
     "output_type": "stream",
     "text": [
      "Warning message in geom_col(stat = \"identity\"):\n",
      "“\u001b[1m\u001b[22mIgnoring unknown parameters: `stat`”\n",
      "Warning message in dir.create(dirname(output), recursive = T):\n",
      "“'/home/rf2872/Work/Fungen_xQTL/2025/Sep/eoo/EOO/enrichment_figures_category/single_context_finemapping' already exists”\n",
      "Warning message:\n",
      "“\u001b[1m\u001b[22mRemoved 1 row containing missing values or values outside the scale range\n",
      "(`geom_col()`).”\n",
      "Warning message in grid.Call.graphics(C_text, as.graphicsAnnot(x$label), x$x, x$y, :\n",
      "“conversion failure on 'log₂(Enrichment Score)' in 'mbcsToSbcs': for ₂ (U+2082)”\n"
     ]
    },
    {
     "name": "stdout",
     "output_type": "stream",
     "text": [
      "[1] \"OPC_DeJager_eQTL\"\n"
     ]
    },
    {
     "name": "stderr",
     "output_type": "stream",
     "text": [
      "Warning message in geom_col(stat = \"identity\"):\n",
      "“\u001b[1m\u001b[22mIgnoring unknown parameters: `stat`”\n",
      "Warning message in dir.create(dirname(output), recursive = T):\n",
      "“'/home/rf2872/Work/Fungen_xQTL/2025/Sep/eoo/EOO/enrichment_figures_category/single_context_finemapping' already exists”\n",
      "Warning message:\n",
      "“\u001b[1m\u001b[22mRemoved 1 row containing missing values or values outside the scale range\n",
      "(`geom_col()`).”\n",
      "Warning message in grid.Call.graphics(C_text, as.graphicsAnnot(x$label), x$x, x$y, :\n",
      "“conversion failure on 'log₂(Enrichment Score)' in 'mbcsToSbcs': for ₂ (U+2082)”\n"
     ]
    },
    {
     "name": "stdout",
     "output_type": "stream",
     "text": [
      "[1] \"Ast_xqtl_only_colocboost\"\n"
     ]
    },
    {
     "name": "stderr",
     "output_type": "stream",
     "text": [
      "Warning message in geom_col(stat = \"identity\"):\n",
      "“\u001b[1m\u001b[22mIgnoring unknown parameters: `stat`”\n",
      "Warning message in dir.create(dirname(output), recursive = T):\n",
      "“'/home/rf2872/Work/Fungen_xQTL/2025/Sep/eoo/EOO/enrichment_figures_category/Other' already exists”\n",
      "Warning message:\n",
      "“\u001b[1m\u001b[22mRemoved 1 row containing missing values or values outside the scale range\n",
      "(`geom_col()`).”\n",
      "Warning message in grid.Call.graphics(C_text, as.graphicsAnnot(x$label), x$x, x$y, :\n",
      "“conversion failure on 'log₂(Enrichment Score)' in 'mbcsToSbcs': for ₂ (U+2082)”\n"
     ]
    },
    {
     "name": "stdout",
     "output_type": "stream",
     "text": [
      "[1] \"MiGA_eQTL_GFM\"\n"
     ]
    },
    {
     "name": "stderr",
     "output_type": "stream",
     "text": [
      "Warning message in geom_col(stat = \"identity\"):\n",
      "“\u001b[1m\u001b[22mIgnoring unknown parameters: `stat`”\n",
      "Warning message in dir.create(dirname(output), recursive = T):\n",
      "“'/home/rf2872/Work/Fungen_xQTL/2025/Sep/eoo/EOO/enrichment_figures_category/trans_finemapping' already exists”\n",
      "Warning message:\n",
      "“\u001b[1m\u001b[22mRemoved 149 rows containing missing values or values outside the scale range\n",
      "(`geom_col()`).”\n",
      "Warning message in grid.Call.graphics(C_text, as.graphicsAnnot(x$label), x$x, x$y, :\n",
      "“conversion failure on 'log₂(Enrichment Score)' in 'mbcsToSbcs': for ₂ (U+2082)”\n"
     ]
    },
    {
     "name": "stdout",
     "output_type": "stream",
     "text": [
      "[1] \"ROSMAP_mega_Inh\"\n"
     ]
    },
    {
     "name": "stderr",
     "output_type": "stream",
     "text": [
      "Warning message in geom_col(stat = \"identity\"):\n",
      "“\u001b[1m\u001b[22mIgnoring unknown parameters: `stat`”\n",
      "Warning message in dir.create(dirname(output), recursive = T):\n",
      "“'/home/rf2872/Work/Fungen_xQTL/2025/Sep/eoo/EOO/enrichment_figures_category/trans_finemapping' already exists”\n",
      "Warning message:\n",
      "“\u001b[1m\u001b[22mRemoved 161 rows containing missing values or values outside the scale range\n",
      "(`geom_col()`).”\n",
      "Warning message in grid.Call.graphics(C_text, as.graphicsAnnot(x$label), x$x, x$y, :\n",
      "“conversion failure on 'log₂(Enrichment Score)' in 'mbcsToSbcs': for ₂ (U+2082)”\n"
     ]
    },
    {
     "name": "stdout",
     "output_type": "stream",
     "text": [
      "[1] \"BM_44_MSBB_eQTL\"\n"
     ]
    },
    {
     "name": "stderr",
     "output_type": "stream",
     "text": [
      "Warning message in geom_col(stat = \"identity\"):\n",
      "“\u001b[1m\u001b[22mIgnoring unknown parameters: `stat`”\n",
      "Warning message in dir.create(dirname(output), recursive = T):\n",
      "“'/home/rf2872/Work/Fungen_xQTL/2025/Sep/eoo/EOO/enrichment_figures_category/single_context_finemapping' already exists”\n",
      "Warning message in grid.Call.graphics(C_text, as.graphicsAnnot(x$label), x$x, x$y, :\n",
      "“conversion failure on 'log₂(Enrichment Score)' in 'mbcsToSbcs': for ₂ (U+2082)”\n"
     ]
    },
    {
     "name": "stdout",
     "output_type": "stream",
     "text": [
      "[1] \"Oli_DeJager_eQTL\"\n"
     ]
    },
    {
     "name": "stderr",
     "output_type": "stream",
     "text": [
      "Warning message in geom_col(stat = \"identity\"):\n",
      "“\u001b[1m\u001b[22mIgnoring unknown parameters: `stat`”\n",
      "Warning message in dir.create(dirname(output), recursive = T):\n",
      "“'/home/rf2872/Work/Fungen_xQTL/2025/Sep/eoo/EOO/enrichment_figures_category/single_context_finemapping' already exists”\n",
      "Warning message in grid.Call.graphics(C_text, as.graphicsAnnot(x$label), x$x, x$y, :\n",
      "“conversion failure on 'log₂(Enrichment Score)' in 'mbcsToSbcs': for ₂ (U+2082)”\n"
     ]
    },
    {
     "name": "stdout",
     "output_type": "stream",
     "text": [
      "[1] \"ROSMAP_mega_Exc\"\n"
     ]
    },
    {
     "name": "stderr",
     "output_type": "stream",
     "text": [
      "Warning message in geom_col(stat = \"identity\"):\n",
      "“\u001b[1m\u001b[22mIgnoring unknown parameters: `stat`”\n",
      "Warning message in dir.create(dirname(output), recursive = T):\n",
      "“'/home/rf2872/Work/Fungen_xQTL/2025/Sep/eoo/EOO/enrichment_figures_category/trans_finemapping' already exists”\n",
      "Warning message:\n",
      "“\u001b[1m\u001b[22mRemoved 160 rows containing missing values or values outside the scale range\n",
      "(`geom_col()`).”\n",
      "Warning message in grid.Call.graphics(C_text, as.graphicsAnnot(x$label), x$x, x$y, :\n",
      "“conversion failure on 'log₂(Enrichment Score)' in 'mbcsToSbcs': for ₂ (U+2082)”\n"
     ]
    },
    {
     "name": "stdout",
     "output_type": "stream",
     "text": [
      "[1] \"ROSMAP_DeJager_monocyte\"\n"
     ]
    },
    {
     "name": "stderr",
     "output_type": "stream",
     "text": [
      "Warning message in geom_col(stat = \"identity\"):\n",
      "“\u001b[1m\u001b[22mIgnoring unknown parameters: `stat`”\n",
      "Warning message in dir.create(dirname(output), recursive = T):\n",
      "“'/home/rf2872/Work/Fungen_xQTL/2025/Sep/eoo/EOO/enrichment_figures_category/trans_finemapping' already exists”\n",
      "Warning message:\n",
      "“\u001b[1m\u001b[22mRemoved 114 rows containing missing values or values outside the scale range\n",
      "(`geom_col()`).”\n",
      "Warning message in grid.Call.graphics(C_text, as.graphicsAnnot(x$label), x$x, x$y, :\n",
      "“conversion failure on 'log₂(Enrichment Score)' in 'mbcsToSbcs': for ₂ (U+2082)”\n"
     ]
    },
    {
     "name": "stdout",
     "output_type": "stream",
     "text": [
      "[1] \"Mic_DeJager_eQTL\"\n"
     ]
    },
    {
     "name": "stderr",
     "output_type": "stream",
     "text": [
      "Warning message in geom_col(stat = \"identity\"):\n",
      "“\u001b[1m\u001b[22mIgnoring unknown parameters: `stat`”\n",
      "Warning message in dir.create(dirname(output), recursive = T):\n",
      "“'/home/rf2872/Work/Fungen_xQTL/2025/Sep/eoo/EOO/enrichment_figures_category/single_context_finemapping' already exists”\n",
      "Warning message:\n",
      "“\u001b[1m\u001b[22mRemoved 1 row containing missing values or values outside the scale range\n",
      "(`geom_col()`).”\n",
      "Warning message in grid.Call.graphics(C_text, as.graphicsAnnot(x$label), x$x, x$y, :\n",
      "“conversion failure on 'log₂(Enrichment Score)' in 'mbcsToSbcs': for ₂ (U+2082)”\n"
     ]
    },
    {
     "name": "stdout",
     "output_type": "stream",
     "text": [
      "[1] \"Metabrain_Cerebellum\"\n"
     ]
    },
    {
     "name": "stderr",
     "output_type": "stream",
     "text": [
      "Warning message in geom_col(stat = \"identity\"):\n",
      "“\u001b[1m\u001b[22mIgnoring unknown parameters: `stat`”\n",
      "Warning message in dir.create(dirname(output), recursive = T):\n",
      "“'/home/rf2872/Work/Fungen_xQTL/2025/Sep/eoo/EOO/enrichment_figures_category/single_context_finemapping' already exists”\n",
      "Warning message in grid.Call.graphics(C_text, as.graphicsAnnot(x$label), x$x, x$y, :\n",
      "“conversion failure on 'log₂(Enrichment Score)' in 'mbcsToSbcs': for ₂ (U+2082)”\n"
     ]
    },
    {
     "name": "stdout",
     "output_type": "stream",
     "text": [
      "[1] \"ROSMAP_PCC_DeJager_eQTL\"\n"
     ]
    },
    {
     "name": "stderr",
     "output_type": "stream",
     "text": [
      "Warning message in geom_col(stat = \"identity\"):\n",
      "“\u001b[1m\u001b[22mIgnoring unknown parameters: `stat`”\n",
      "Warning message in dir.create(dirname(output), recursive = T):\n",
      "“'/home/rf2872/Work/Fungen_xQTL/2025/Sep/eoo/EOO/enrichment_figures_category/multi_gene_finemapping' already exists”\n",
      "Warning message:\n",
      "“\u001b[1m\u001b[22mRemoved 1 row containing missing values or values outside the scale range\n",
      "(`geom_col()`).”\n",
      "Warning message in grid.Call.graphics(C_text, as.graphicsAnnot(x$label), x$x, x$y, :\n",
      "“conversion failure on 'log₂(Enrichment Score)' in 'mbcsToSbcs': for ₂ (U+2082)”\n"
     ]
    },
    {
     "name": "stdout",
     "output_type": "stream",
     "text": [
      "[1] \"MiGA_eQTL_GTS\"\n"
     ]
    },
    {
     "name": "stderr",
     "output_type": "stream",
     "text": [
      "Warning message in geom_col(stat = \"identity\"):\n",
      "“\u001b[1m\u001b[22mIgnoring unknown parameters: `stat`”\n",
      "Warning message in dir.create(dirname(output), recursive = T):\n",
      "“'/home/rf2872/Work/Fungen_xQTL/2025/Sep/eoo/EOO/enrichment_figures_category/trans_finemapping' already exists”\n",
      "Warning message:\n",
      "“\u001b[1m\u001b[22mRemoved 131 rows containing missing values or values outside the scale range\n",
      "(`geom_col()`).”\n",
      "Warning message in grid.Call.graphics(C_text, as.graphicsAnnot(x$label), x$x, x$y, :\n",
      "“conversion failure on 'log₂(Enrichment Score)' in 'mbcsToSbcs': for ₂ (U+2082)”\n"
     ]
    },
    {
     "name": "stdout",
     "output_type": "stream",
     "text": [
      "[1] \"Exc_xqtl_only_colocboost\"\n"
     ]
    },
    {
     "name": "stderr",
     "output_type": "stream",
     "text": [
      "Warning message in geom_col(stat = \"identity\"):\n",
      "“\u001b[1m\u001b[22mIgnoring unknown parameters: `stat`”\n",
      "Warning message in dir.create(dirname(output), recursive = T):\n",
      "“'/home/rf2872/Work/Fungen_xQTL/2025/Sep/eoo/EOO/enrichment_figures_category/Other' already exists”\n",
      "Warning message in grid.Call.graphics(C_text, as.graphicsAnnot(x$label), x$x, x$y, :\n",
      "“conversion failure on 'log₂(Enrichment Score)' in 'mbcsToSbcs': for ₂ (U+2082)”\n"
     ]
    },
    {
     "name": "stdout",
     "output_type": "stream",
     "text": [
      "[1] \"ROSMAP_monocyte_ROSMAP_eQTL\"\n"
     ]
    },
    {
     "name": "stderr",
     "output_type": "stream",
     "text": [
      "Warning message in geom_col(stat = \"identity\"):\n",
      "“\u001b[1m\u001b[22mIgnoring unknown parameters: `stat`”\n",
      "Warning message in dir.create(dirname(output), recursive = T):\n",
      "“'/home/rf2872/Work/Fungen_xQTL/2025/Sep/eoo/EOO/enrichment_figures_category/multi_gene_finemapping' already exists”\n",
      "Warning message:\n",
      "“\u001b[1m\u001b[22mRemoved 2 rows containing missing values or values outside the scale range\n",
      "(`geom_col()`).”\n",
      "Warning message in grid.Call.graphics(C_text, as.graphicsAnnot(x$label), x$x, x$y, :\n",
      "“conversion failure on 'log₂(Enrichment Score)' in 'mbcsToSbcs': for ₂ (U+2082)”\n"
     ]
    },
    {
     "name": "stdout",
     "output_type": "stream",
     "text": [
      "[1] \"MSBB_BM_10_eQTL\"\n"
     ]
    },
    {
     "name": "stderr",
     "output_type": "stream",
     "text": [
      "Warning message in geom_col(stat = \"identity\"):\n",
      "“\u001b[1m\u001b[22mIgnoring unknown parameters: `stat`”\n",
      "Warning message in dir.create(dirname(output), recursive = T):\n",
      "“'/home/rf2872/Work/Fungen_xQTL/2025/Sep/eoo/EOO/enrichment_figures_category/multi_gene_finemapping' already exists”\n",
      "Warning message:\n",
      "“\u001b[1m\u001b[22mRemoved 9 rows containing missing values or values outside the scale range\n",
      "(`geom_col()`).”\n",
      "Warning message in grid.Call.graphics(C_text, as.graphicsAnnot(x$label), x$x, x$y, :\n",
      "“conversion failure on 'log₂(Enrichment Score)' in 'mbcsToSbcs': for ₂ (U+2082)”\n"
     ]
    },
    {
     "name": "stdout",
     "output_type": "stream",
     "text": [
      "[1] \"MSBB_eQTL_BM10\"\n"
     ]
    },
    {
     "name": "stderr",
     "output_type": "stream",
     "text": [
      "Warning message in geom_col(stat = \"identity\"):\n",
      "“\u001b[1m\u001b[22mIgnoring unknown parameters: `stat`”\n",
      "Warning message in dir.create(dirname(output), recursive = T):\n",
      "“'/home/rf2872/Work/Fungen_xQTL/2025/Sep/eoo/EOO/enrichment_figures_category/trans_finemapping' already exists”\n",
      "Warning message:\n",
      "“\u001b[1m\u001b[22mRemoved 128 rows containing missing values or values outside the scale range\n",
      "(`geom_col()`).”\n",
      "Warning message in grid.Call.graphics(C_text, as.graphicsAnnot(x$label), x$x, x$y, :\n",
      "“conversion failure on 'log₂(Enrichment Score)' in 'mbcsToSbcs': for ₂ (U+2082)”\n"
     ]
    },
    {
     "name": "stdout",
     "output_type": "stream",
     "text": [
      "[1] \"PCC_DeJager_eQTL\"\n"
     ]
    },
    {
     "name": "stderr",
     "output_type": "stream",
     "text": [
      "Warning message in geom_col(stat = \"identity\"):\n",
      "“\u001b[1m\u001b[22mIgnoring unknown parameters: `stat`”\n",
      "Warning message in dir.create(dirname(output), recursive = T):\n",
      "“'/home/rf2872/Work/Fungen_xQTL/2025/Sep/eoo/EOO/enrichment_figures_category/single_context_finemapping' already exists”\n",
      "Warning message in grid.Call.graphics(C_text, as.graphicsAnnot(x$label), x$x, x$y, :\n",
      "“conversion failure on 'log₂(Enrichment Score)' in 'mbcsToSbcs': for ₂ (U+2082)”\n"
     ]
    },
    {
     "name": "stdout",
     "output_type": "stream",
     "text": [
      "[1] \"MSBB_BM_36_eQTL\"\n"
     ]
    },
    {
     "name": "stderr",
     "output_type": "stream",
     "text": [
      "Warning message in geom_col(stat = \"identity\"):\n",
      "“\u001b[1m\u001b[22mIgnoring unknown parameters: `stat`”\n",
      "Warning message in dir.create(dirname(output), recursive = T):\n",
      "“'/home/rf2872/Work/Fungen_xQTL/2025/Sep/eoo/EOO/enrichment_figures_category/multi_gene_finemapping' already exists”\n",
      "Warning message:\n",
      "“\u001b[1m\u001b[22mRemoved 47 rows containing missing values or values outside the scale range\n",
      "(`geom_col()`).”\n",
      "Warning message in grid.Call.graphics(C_text, as.graphicsAnnot(x$label), x$x, x$y, :\n",
      "“conversion failure on 'log₂(Enrichment Score)' in 'mbcsToSbcs': for ₂ (U+2082)”\n"
     ]
    },
    {
     "name": "stdout",
     "output_type": "stream",
     "text": [
      "[1] \"ROSMAP_Kelli_Oli\"\n"
     ]
    },
    {
     "name": "stderr",
     "output_type": "stream",
     "text": [
      "Warning message in geom_col(stat = \"identity\"):\n",
      "“\u001b[1m\u001b[22mIgnoring unknown parameters: `stat`”\n",
      "Warning message in dir.create(dirname(output), recursive = T):\n",
      "“'/home/rf2872/Work/Fungen_xQTL/2025/Sep/eoo/EOO/enrichment_figures_category/trans_finemapping' already exists”\n",
      "Warning message:\n",
      "“\u001b[1m\u001b[22mRemoved 169 rows containing missing values or values outside the scale range\n",
      "(`geom_col()`).”\n",
      "Warning message in grid.Call.graphics(C_text, as.graphicsAnnot(x$label), x$x, x$y, :\n",
      "“conversion failure on 'log₂(Enrichment Score)' in 'mbcsToSbcs': for ₂ (U+2082)”\n"
     ]
    },
    {
     "name": "stdout",
     "output_type": "stream",
     "text": [
      "[1] \"ROSMAP_Inh_DeJager_eQTL\"\n"
     ]
    },
    {
     "name": "stderr",
     "output_type": "stream",
     "text": [
      "Warning message in geom_col(stat = \"identity\"):\n",
      "“\u001b[1m\u001b[22mIgnoring unknown parameters: `stat`”\n",
      "Warning message in dir.create(dirname(output), recursive = T):\n",
      "“'/home/rf2872/Work/Fungen_xQTL/2025/Sep/eoo/EOO/enrichment_figures_category/multi_gene_finemapping' already exists”\n",
      "Warning message:\n",
      "“\u001b[1m\u001b[22mRemoved 3 rows containing missing values or values outside the scale range\n",
      "(`geom_col()`).”\n",
      "Warning message in grid.Call.graphics(C_text, as.graphicsAnnot(x$label), x$x, x$y, :\n",
      "“conversion failure on 'log₂(Enrichment Score)' in 'mbcsToSbcs': for ₂ (U+2082)”\n"
     ]
    },
    {
     "name": "stdout",
     "output_type": "stream",
     "text": [
      "[1] \"ROSMAP_haQTL.top_pc_1.cs_snp\"\n"
     ]
    },
    {
     "name": "stderr",
     "output_type": "stream",
     "text": [
      "Warning message in geom_col(stat = \"identity\"):\n",
      "“\u001b[1m\u001b[22mIgnoring unknown parameters: `stat`”\n",
      "Warning message in dir.create(dirname(output), recursive = T):\n",
      "“'/home/rf2872/Work/Fungen_xQTL/2025/Sep/eoo/EOO/enrichment_figures_category/Other' already exists”\n",
      "Warning message:\n",
      "“\u001b[1m\u001b[22mRemoved 17 rows containing missing values or values outside the scale range\n",
      "(`geom_col()`).”\n",
      "Warning message in grid.Call.graphics(C_text, as.graphicsAnnot(x$label), x$x, x$y, :\n",
      "“conversion failure on 'log₂(Enrichment Score)' in 'mbcsToSbcs': for ₂ (U+2082)”\n"
     ]
    },
    {
     "name": "stdout",
     "output_type": "stream",
     "text": [
      "[1] \"ROSMAP_Kelli_Exc\"\n"
     ]
    },
    {
     "name": "stderr",
     "output_type": "stream",
     "text": [
      "Warning message in geom_col(stat = \"identity\"):\n",
      "“\u001b[1m\u001b[22mIgnoring unknown parameters: `stat`”\n",
      "Warning message in dir.create(dirname(output), recursive = T):\n",
      "“'/home/rf2872/Work/Fungen_xQTL/2025/Sep/eoo/EOO/enrichment_figures_category/trans_finemapping' already exists”\n",
      "Warning message:\n",
      "“\u001b[1m\u001b[22mRemoved 157 rows containing missing values or values outside the scale range\n",
      "(`geom_col()`).”\n",
      "Warning message in grid.Call.graphics(C_text, as.graphicsAnnot(x$label), x$x, x$y, :\n",
      "“conversion failure on 'log₂(Enrichment Score)' in 'mbcsToSbcs': for ₂ (U+2082)”\n"
     ]
    },
    {
     "name": "stdout",
     "output_type": "stream",
     "text": [
      "[1] \"ROSMAP_Ast_multicontext\"\n"
     ]
    },
    {
     "name": "stderr",
     "output_type": "stream",
     "text": [
      "Warning message in geom_col(stat = \"identity\"):\n",
      "“\u001b[1m\u001b[22mIgnoring unknown parameters: `stat`”\n",
      "Warning message in dir.create(dirname(output), recursive = T):\n",
      "“'/home/rf2872/Work/Fungen_xQTL/2025/Sep/eoo/EOO/enrichment_figures_category/Other' already exists”\n",
      "Warning message in grid.Call.graphics(C_text, as.graphicsAnnot(x$label), x$x, x$y, :\n",
      "“conversion failure on 'log₂(Enrichment Score)' in 'mbcsToSbcs': for ₂ (U+2082)”\n"
     ]
    },
    {
     "name": "stdout",
     "output_type": "stream",
     "text": [
      "[1] \"STARNET_eQTL\"\n"
     ]
    },
    {
     "name": "stderr",
     "output_type": "stream",
     "text": [
      "Warning message in geom_col(stat = \"identity\"):\n",
      "“\u001b[1m\u001b[22mIgnoring unknown parameters: `stat`”\n",
      "Warning message in dir.create(dirname(output), recursive = T):\n",
      "“'/home/rf2872/Work/Fungen_xQTL/2025/Sep/eoo/EOO/enrichment_figures_category/trans_finemapping' already exists”\n",
      "Warning message:\n",
      "“\u001b[1m\u001b[22mRemoved 134 rows containing missing values or values outside the scale range\n",
      "(`geom_col()`).”\n",
      "Warning message in grid.Call.graphics(C_text, as.graphicsAnnot(x$label), x$x, x$y, :\n",
      "“conversion failure on 'log₂(Enrichment Score)' in 'mbcsToSbcs': for ₂ (U+2082)”\n"
     ]
    },
    {
     "name": "stdout",
     "output_type": "stream",
     "text": [
      "[1] \"ROSMAP_DeJager_OPC\"\n"
     ]
    },
    {
     "name": "stderr",
     "output_type": "stream",
     "text": [
      "Warning message in geom_col(stat = \"identity\"):\n",
      "“\u001b[1m\u001b[22mIgnoring unknown parameters: `stat`”\n",
      "Warning message in dir.create(dirname(output), recursive = T):\n",
      "“'/home/rf2872/Work/Fungen_xQTL/2025/Sep/eoo/EOO/enrichment_figures_category/trans_finemapping' already exists”\n",
      "Warning message:\n",
      "“\u001b[1m\u001b[22mRemoved 165 rows containing missing values or values outside the scale range\n",
      "(`geom_col()`).”\n",
      "Warning message in grid.Call.graphics(C_text, as.graphicsAnnot(x$label), x$x, x$y, :\n",
      "“conversion failure on 'log₂(Enrichment Score)' in 'mbcsToSbcs': for ₂ (U+2082)”\n"
     ]
    },
    {
     "name": "stdout",
     "output_type": "stream",
     "text": [
      "[1] \"Mic_13_Kellis_eQTL\"\n"
     ]
    },
    {
     "name": "stderr",
     "output_type": "stream",
     "text": [
      "Warning message in geom_col(stat = \"identity\"):\n",
      "“\u001b[1m\u001b[22mIgnoring unknown parameters: `stat`”\n",
      "Warning message in dir.create(dirname(output), recursive = T):\n",
      "“'/home/rf2872/Work/Fungen_xQTL/2025/Sep/eoo/EOO/enrichment_figures_category/single_context_finemapping' already exists”\n",
      "Warning message:\n",
      "“\u001b[1m\u001b[22mRemoved 35 rows containing missing values or values outside the scale range\n",
      "(`geom_col()`).”\n",
      "Warning message in grid.Call.graphics(C_text, as.graphicsAnnot(x$label), x$x, x$y, :\n",
      "“conversion failure on 'log₂(Enrichment Score)' in 'mbcsToSbcs': for ₂ (U+2082)”\n"
     ]
    },
    {
     "name": "stdout",
     "output_type": "stream",
     "text": [
      "[1] \"ROSMAP_DLPFC_sQTL\"\n"
     ]
    },
    {
     "name": "stderr",
     "output_type": "stream",
     "text": [
      "Warning message in geom_col(stat = \"identity\"):\n",
      "“\u001b[1m\u001b[22mIgnoring unknown parameters: `stat`”\n",
      "Warning message in dir.create(dirname(output), recursive = T):\n",
      "“'/home/rf2872/Work/Fungen_xQTL/2025/Sep/eoo/EOO/enrichment_figures_category/single_context_finemapping' already exists”\n",
      "Warning message in grid.Call.graphics(C_text, as.graphicsAnnot(x$label), x$x, x$y, :\n",
      "“conversion failure on 'log₂(Enrichment Score)' in 'mbcsToSbcs': for ₂ (U+2082)”\n"
     ]
    },
    {
     "name": "stdout",
     "output_type": "stream",
     "text": [
      "[1] \"Inh_xqtl_only_colocboost\"\n"
     ]
    },
    {
     "name": "stderr",
     "output_type": "stream",
     "text": [
      "Warning message in geom_col(stat = \"identity\"):\n",
      "“\u001b[1m\u001b[22mIgnoring unknown parameters: `stat`”\n",
      "Warning message in dir.create(dirname(output), recursive = T):\n",
      "“'/home/rf2872/Work/Fungen_xQTL/2025/Sep/eoo/EOO/enrichment_figures_category/Other' already exists”\n",
      "Warning message in grid.Call.graphics(C_text, as.graphicsAnnot(x$label), x$x, x$y, :\n",
      "“conversion failure on 'log₂(Enrichment Score)' in 'mbcsToSbcs': for ₂ (U+2082)”\n"
     ]
    },
    {
     "name": "stdout",
     "output_type": "stream",
     "text": [
      "[1] \"xqtl_only_colocboost\"\n"
     ]
    },
    {
     "name": "stderr",
     "output_type": "stream",
     "text": [
      "Warning message in geom_col(stat = \"identity\"):\n",
      "“\u001b[1m\u001b[22mIgnoring unknown parameters: `stat`”\n",
      "Warning message in dir.create(dirname(output), recursive = T):\n",
      "“'/home/rf2872/Work/Fungen_xQTL/2025/Sep/eoo/EOO/enrichment_figures_category/Other' already exists”\n",
      "Warning message in grid.Call.graphics(C_text, as.graphicsAnnot(x$label), x$x, x$y, :\n",
      "“conversion failure on 'log₂(Enrichment Score)' in 'mbcsToSbcs': for ₂ (U+2082)”\n"
     ]
    }
   ],
   "source": [
    "##### seperate figures #####\n",
    "for(context in unique(enrichment_data$study)){\n",
    "  print(context)\n",
    "  dir = meta %>% filter(context_mod == context) %>% pull(Method)\n",
    "  if(length(dir) == 0) dir = 'Other'\n",
    "  dat <- enrichment_data %>%\n",
    "      filter(\n",
    "        study == context,\n",
    "        Enrichment_P_value < 0.05\n",
    "      ) %>%  # Only significant\n",
    "      group_by(Category) %>%\n",
    "      arrange(desc(Enrichment_log2)) %>%\n",
    "      slice_head(n = 10) %>%\n",
    "      ungroup() %>%\n",
    "      mutate(\n",
    "        Annotation = reorder(Annotation, Enrichment_log2),  # Fix order ONCE\n",
    "        ymin = Enrichment_log2 - Enrichment_SE_log2,\n",
    "        ymax = Enrichment_log2 + Enrichment_SE_log2\n",
    "      ) %>%\n",
    "      distinct(Annotation, .keep_all = TRUE)  # Remove duplicates so bars don't stack\n",
    "    \n",
    "    ggplot(dat, aes(x = Annotation, y = Enrichment_log2, fill = Category)) +\n",
    "      geom_col(stat = \"identity\") +\n",
    "      geom_errorbar(aes(ymin = ymin, ymax = ymax), width = 0.3) +\n",
    "      coord_flip() +\n",
    "      theme_bw() +\n",
    "      labs(\n",
    "        title = paste0(\"Enrichment across Annotations: \", context),\n",
    "        x = \"Annotation\",\n",
    "        y = \"log₂(Enrichment Score)\",\n",
    "        fill = \"Annotation Set\"\n",
    "      ) +\n",
    "      scale_fill_manual(values = all_colors)\n",
    "  output <- paste0('~/Work/Fungen_xQTL/2025/Sep/eoo/EOO/enrichment_figures_category/',dir, '/', context, '_enrichment_plot.pdf')\n",
    "  dir.create(dirname(output), recursive = T)\n",
    "  ggsave(output, height = 50, width = 20, limitsize = FALSE)\n",
    "}"
   ]
  },
  {
   "cell_type": "code",
   "execution_count": 247,
   "id": "34dfa468-6801-4729-97ca-40863555e49f",
   "metadata": {
    "kernel": "SoS"
   },
   "outputs": [
    {
     "name": "stderr",
     "output_type": "stream",
     "text": [
      "Warning message:\n",
      "“\u001b[1m\u001b[22mRemoved 1 row containing missing values or values outside the scale range\n",
      "(`geom_col()`).”\n",
      "Warning message in grid.Call.graphics(C_text, as.graphicsAnnot(x$label), x$x, x$y, :\n",
      "“conversion failure on 'log₂(Enrichment Score)' in 'mbcsToSbcs': for ₂ (U+2082)”\n",
      "Warning message in grid.Call.graphics(C_text, as.graphicsAnnot(x$label), x$x, x$y, :\n",
      "“conversion failure on 'log₂(Enrichment Score)' in 'mbcsToSbcs': for ₂ (U+2082)”\n",
      "Warning message in grid.Call.graphics(C_text, as.graphicsAnnot(x$label), x$x, x$y, :\n",
      "“conversion failure on 'log₂(Enrichment Score)' in 'mbcsToSbcs': for ₂ (U+2082)”\n",
      "Warning message:\n",
      "“\u001b[1m\u001b[22mRemoved 6 rows containing missing values or values outside the scale range\n",
      "(`geom_col()`).”\n",
      "Warning message in grid.Call.graphics(C_text, as.graphicsAnnot(x$label), x$x, x$y, :\n",
      "“conversion failure on 'log₂(Enrichment Score)' in 'mbcsToSbcs': for ₂ (U+2082)”\n",
      "Warning message:\n",
      "“\u001b[1m\u001b[22mRemoved 4 rows containing missing values or values outside the scale range\n",
      "(`geom_col()`).”\n",
      "Warning message in grid.Call.graphics(C_text, as.graphicsAnnot(x$label), x$x, x$y, :\n",
      "“conversion failure on 'log₂(Enrichment Score)' in 'mbcsToSbcs': for ₂ (U+2082)”\n",
      "Warning message:\n",
      "“\u001b[1m\u001b[22mRemoved 13 rows containing missing values or values outside the scale range\n",
      "(`geom_col()`).”\n",
      "Warning message in grid.Call.graphics(C_text, as.graphicsAnnot(x$label), x$x, x$y, :\n",
      "“conversion failure on 'log₂(Enrichment Score)' in 'mbcsToSbcs': for ₂ (U+2082)”\n",
      "Warning message in grid.Call.graphics(C_text, as.graphicsAnnot(x$label), x$x, x$y, :\n",
      "“conversion failure on 'log₂(Enrichment Score)' in 'mbcsToSbcs': for ₂ (U+2082)”\n",
      "Warning message:\n",
      "“\u001b[1m\u001b[22mRemoved 1 row containing missing values or values outside the scale range\n",
      "(`geom_col()`).”\n",
      "Warning message in grid.Call.graphics(C_text, as.graphicsAnnot(x$label), x$x, x$y, :\n",
      "“conversion failure on 'log₂(Enrichment Score)' in 'mbcsToSbcs': for ₂ (U+2082)”\n",
      "Warning message:\n",
      "“\u001b[1m\u001b[22mRemoved 25 rows containing missing values or values outside the scale range\n",
      "(`geom_col()`).”\n",
      "Warning message in grid.Call.graphics(C_text, as.graphicsAnnot(x$label), x$x, x$y, :\n",
      "“conversion failure on 'log₂(Enrichment Score)' in 'mbcsToSbcs': for ₂ (U+2082)”\n",
      "Warning message:\n",
      "“\u001b[1m\u001b[22mRemoved 2 rows containing missing values or values outside the scale range\n",
      "(`geom_col()`).”\n",
      "Warning message in grid.Call.graphics(C_text, as.graphicsAnnot(x$label), x$x, x$y, :\n",
      "“conversion failure on 'log₂(Enrichment Score)' in 'mbcsToSbcs': for ₂ (U+2082)”\n",
      "Warning message in grid.Call.graphics(C_text, as.graphicsAnnot(x$label), x$x, x$y, :\n",
      "“conversion failure on 'log₂(Enrichment Score)' in 'mbcsToSbcs': for ₂ (U+2082)”\n",
      "Warning message in grid.Call.graphics(C_text, as.graphicsAnnot(x$label), x$x, x$y, :\n",
      "“conversion failure on 'log₂(Enrichment Score)' in 'mbcsToSbcs': for ₂ (U+2082)”\n",
      "Warning message:\n",
      "“\u001b[1m\u001b[22mRemoved 14 rows containing missing values or values outside the scale range\n",
      "(`geom_col()`).”\n",
      "Warning message in grid.Call.graphics(C_text, as.graphicsAnnot(x$label), x$x, x$y, :\n",
      "“conversion failure on 'log₂(Enrichment Score)' in 'mbcsToSbcs': for ₂ (U+2082)”\n",
      "Warning message:\n",
      "“\u001b[1m\u001b[22mRemoved 8 rows containing missing values or values outside the scale range\n",
      "(`geom_col()`).”\n",
      "Warning message in grid.Call.graphics(C_text, as.graphicsAnnot(x$label), x$x, x$y, :\n",
      "“conversion failure on 'log₂(Enrichment Score)' in 'mbcsToSbcs': for ₂ (U+2082)”\n",
      "Warning message:\n",
      "“\u001b[1m\u001b[22mRemoved 34 rows containing missing values or values outside the scale range\n",
      "(`geom_col()`).”\n",
      "Warning message in grid.Call.graphics(C_text, as.graphicsAnnot(x$label), x$x, x$y, :\n",
      "“conversion failure on 'log₂(Enrichment Score)' in 'mbcsToSbcs': for ₂ (U+2082)”\n",
      "Warning message in grid.Call.graphics(C_text, as.graphicsAnnot(x$label), x$x, x$y, :\n",
      "“conversion failure on 'log₂(Enrichment Score)' in 'mbcsToSbcs': for ₂ (U+2082)”\n",
      "Warning message:\n",
      "“\u001b[1m\u001b[22mRemoved 2 rows containing missing values or values outside the scale range\n",
      "(`geom_col()`).”\n",
      "Warning message in grid.Call.graphics(C_text, as.graphicsAnnot(x$label), x$x, x$y, :\n",
      "“conversion failure on 'log₂(Enrichment Score)' in 'mbcsToSbcs': for ₂ (U+2082)”\n",
      "Warning message:\n",
      "“\u001b[1m\u001b[22mRemoved 60 rows containing missing values or values outside the scale range\n",
      "(`geom_col()`).”\n",
      "Warning message in grid.Call.graphics(C_text, as.graphicsAnnot(x$label), x$x, x$y, :\n",
      "“conversion failure on 'log₂(Enrichment Score)' in 'mbcsToSbcs': for ₂ (U+2082)”\n"
     ]
    }
   ],
   "source": [
    "##### plot top all by category #####\n",
    "top_num=2\n",
    "for(top_num in c(1:2)){\n",
    "  enrichment_data_top_category <- enrichment_data %>%\n",
    "    filter(Enrichment_P_value < 0.05, !str_detect(Annotation, 'ENCFF')) %>%  # optional: focus on significant enrichments \n",
    "    mutate(Annotation = factor(Annotation,\n",
    "                               levels = unique(Annotation[order(Category)]))) %>%\n",
    "    group_by(Category, study) %>%\n",
    "    arrange(desc(Enrichment_log2)) %>%\n",
    "    slice_head(n = top_num)   # optional: focus on significant enrichments\n",
    "  \n",
    "  \n",
    "  enrichment_data_top_category <- merge(enrichment_data_top_category, meta, by.x = 'study', by.y = 'context_mod', all.x = T) %>% \n",
    "    mutate(`Data Type` = ifelse(is.na(`Data Type`), 'Other', `Data Type`),\n",
    "           Method = ifelse(is.na(Method), 'Other', Method)) %>% \n",
    "    mutate(`Data Type` = ifelse(Method == 'single_context_finemapping' & str_detect(Modality, 'Inh|Exc|OPC|Oli|Mic|Ast'), 'snuc_eQTL', `Data Type` ),\n",
    "           `Data Type` = ifelse(Method == 'multi_gene_finemapping', 'multi_gene', `Data Type` ),\n",
    "           `Data Type` = ifelse(method == 'multicontext', 'multi_context', `Data Type` ),\n",
    "           `Data Type` = ifelse(str_detect(study, 'haQTL|mQTL') , 'Epi', `Data Type` ))\n",
    "  plot_data <- enrichment_data_top_category %>% filter(Method != 'trans_finemapping')\n",
    "  # plot_data <- enrichment_data_top_category\n",
    "  \n",
    "  \n",
    "  dir <- paste0('condense_top', top_num)\n",
    "  for (data_type in c(na.omit(unique(plot_data$`Data Type`)), 'all')) {\n",
    "    # for (data_type in c(na.omit(unique(plot_data$`Data Type`)), 'all')) {\n",
    "  # for (data_type in c('all')) {\n",
    "    \n",
    "    if (data_type == 'all') {\n",
    "      plot_data_tmp <- plot_data\n",
    "      # width <- height <- 80\n",
    "    } else {\n",
    "      plot_data_tmp <- plot_data %>% filter(`Data Type` == data_type)\n",
    "      # width <- height <- 40\n",
    "    }\n",
    "    \n",
    "    p <- plot_data_tmp %>%\n",
    "      ggplot(aes(x = Annotation,\n",
    "                 y = Enrichment_log2,\n",
    "                 fill = Category)) +\n",
    "      geom_col() +\n",
    "      geom_errorbar(aes(ymin = Enrichment_log2 - Enrichment_SE_log2,\n",
    "                        ymax = Enrichment_log2 + Enrichment_SE_log2),\n",
    "                    width = 0.3) +\n",
    "      facet_wrap(~`Data Type` + study, scales = \"free_y\") +\n",
    "      coord_flip() +\n",
    "      theme_bw() +\n",
    "      labs(title = \"Enrichment across Annotations\",\n",
    "           x = \"Annotation\",\n",
    "           y = \"log₂(Enrichment Score)\",\n",
    "           fill = \"Annotation Set\") +\n",
    "      scale_fill_manual(values = all_colors)\n",
    "    \n",
    "    output <- paste0('~/Work/Fungen_xQTL/2025/Sep/eoo/EOO/enrichment_figures_category/', dir, '/', data_type, '_top',top_num,'_enrichment_plot_combined.pdf')\n",
    "    dir.create(dirname(output), recursive = TRUE, showWarnings = FALSE)\n",
    "    \n",
    "    if (data_type == 'all') {\n",
    "      width <- 100\n",
    "      height <- 40 * top_num\n",
    "    } else {\n",
    "      # Dynamically calculate size based on the number of facets\n",
    "      num_facets <- length(unique(plot_data_tmp$`Data Type`)) * length(unique(plot_data_tmp$study))\n",
    "      if(num_facets > 3) height <- 10 + num_facets * top_num else  height <- 10 + num_facets * top_num/2 # adjust multiplier as needed for better sizing\n",
    "      if(num_facets > 5) width <- 12 + num_facets * 2.5 else if (num_facets > 3) width <- 12 + num_facets * 4 else width <- 12 + num_facets * 6  # adjust multiplier as needed for better sizing\n",
    "    }  \n",
    "    ggsave(output, plot = p, height = height, width = width, limitsize = FALSE)\n",
    "  }\n",
    "  \n",
    "}"
   ]
  },
  {
   "cell_type": "code",
   "execution_count": 248,
   "id": "2e20d0b5-91a5-44ce-aa5d-721026d62cb9",
   "metadata": {
    "kernel": "SoS"
   },
   "outputs": [
    {
     "name": "stderr",
     "output_type": "stream",
     "text": [
      "Warning message:\n",
      "“\u001b[1m\u001b[22mRemoved 219 rows containing missing values or values outside the scale range\n",
      "(`geom_col()`).”\n",
      "Warning message in grid.Call.graphics(C_text, as.graphicsAnnot(x$label), x$x, x$y, :\n",
      "“conversion failure on 'log₂(Enrichment Score)' in 'mbcsToSbcs': for ₂ (U+2082)”\n",
      "Warning message:\n",
      "“\u001b[1m\u001b[22mRemoved 760 rows containing missing values or values outside the scale range\n",
      "(`geom_col()`).”\n",
      "Warning message in grid.Call.graphics(C_text, as.graphicsAnnot(x$label), x$x, x$y, :\n",
      "“conversion failure on 'log₂(Enrichment Score)' in 'mbcsToSbcs': for ₂ (U+2082)”\n",
      "Warning message:\n",
      "“\u001b[1m\u001b[22mRemoved 49 rows containing missing values or values outside the scale range\n",
      "(`geom_col()`).”\n",
      "Warning message in grid.Call.graphics(C_text, as.graphicsAnnot(x$label), x$x, x$y, :\n",
      "“conversion failure on 'log₂(Enrichment Score)' in 'mbcsToSbcs': for ₂ (U+2082)”\n",
      "Warning message:\n",
      "“\u001b[1m\u001b[22mRemoved 149 rows containing missing values or values outside the scale range\n",
      "(`geom_col()`).”\n",
      "Warning message in grid.Call.graphics(C_text, as.graphicsAnnot(x$label), x$x, x$y, :\n",
      "“conversion failure on 'log₂(Enrichment Score)' in 'mbcsToSbcs': for ₂ (U+2082)”\n"
     ]
    }
   ],
   "source": [
    "##### plot top all by category for cell type marker #####\n",
    "top_num=2\n",
    "for(top_num in 5){\n",
    "  enrichment_data_top_category <- enrichment_data %>%\n",
    "    filter(Enrichment_P_value < 0.05, str_detect(Annotation, 'CellType')) %>%  # optional: focus on significant enrichments \n",
    "    mutate(Annotation = factor(Annotation,\n",
    "                               levels = unique(Annotation[order(Category)]))) %>%\n",
    "    group_by(Category, study) %>%\n",
    "    arrange(desc(Enrichment_log2)) %>%\n",
    "    slice_head(n = top_num)   # optional: focus on significant enrichments\n",
    "  \n",
    "  \n",
    "  enrichment_data_top_category <- merge(enrichment_data_top_category, meta, by.x = 'study', by.y = 'context_mod', all.x = T) %>% \n",
    "    mutate(`Data Type` = 'LR',\n",
    "           `Data Type` = ifelse(str_detect(study, 'AC|PCC|DLPFC|MSBB|Knight') , 'eQTL', `Data Type` ),\n",
    "           `Data Type` = ifelse(str_detect(study, 'Inh|Exc|Oli|OPC|Mic|Ast|monocyte') , 'snuc_eQTL', `Data Type` ),\n",
    "           `Data Type` = ifelse(str_detect(study, 'pQTL') , 'pQTL', `Data Type` )\n",
    "           )\n",
    "  plot_data <- enrichment_data_top_category\n",
    "  \n",
    "  \n",
    "  dir <- paste0('condense_top', top_num)\n",
    "  for (data_type in c(na.omit(unique(plot_data$`Data Type`)))) {\n",
    "\n",
    "  # for (data_type in c(na.omit(unique(plot_data$`Data Type`)), 'all')) {\n",
    "\n",
    "    plot_data_tmp <- plot_data %>% filter(`Data Type` == data_type)\n",
    "\n",
    "    \n",
    "    p <- plot_data_tmp %>%\n",
    "      ggplot(aes(x = Annotation,\n",
    "                 y = Enrichment_log2,\n",
    "                 fill = Category)) +\n",
    "      geom_col() +\n",
    "      geom_errorbar(aes(ymin = Enrichment_log2 - Enrichment_SE_log2,\n",
    "                        ymax = Enrichment_log2 + Enrichment_SE_log2),\n",
    "                    width = 0.3) +\n",
    "      facet_wrap(~`Data Type` + study, scales = \"free_y\") +\n",
    "      coord_flip() +\n",
    "      theme_bw() +\n",
    "      labs(title = \"Enrichment across Annotations\",\n",
    "           x = \"Annotation\",\n",
    "           y = \"log₂(Enrichment Score)\",\n",
    "           fill = \"Annotation Set\") +\n",
    "      scale_fill_manual(values = all_colors)\n",
    "    \n",
    "    output <- paste0('~/Work/Fungen_xQTL/2025/Sep/eoo/EOO/enrichment_figures_category/', dir, '/', data_type, '_top',top_num,'_withENCFF_enrichment_plot_combined.pdf')\n",
    "    dir.create(dirname(output), recursive = TRUE, showWarnings = FALSE)\n",
    "    \n",
    "      # Dynamically calculate size based on the number of facets\n",
    "      num_facets <- length(unique(plot_data_tmp$`Data Type`)) * length(unique(plot_data_tmp$study))\n",
    "      if(num_facets > 3) height <- 10 + num_facets * top_num/4 else  height <- 10 + num_facets * top_num/8 # adjust multiplier as needed for better sizing\n",
    "      if(num_facets > 5) width <- 12 + num_facets * 2.5 else if (num_facets > 3) width <- 12 + num_facets * 4 else width <- 12 + num_facets * 6  # adjust multiplier as needed for better sizing\n",
    "    ggsave(output, plot = p, height = height, width = width, limitsize = FALSE)\n",
    "  }\n",
    "  \n",
    "}"
   ]
  },
  {
   "cell_type": "markdown",
   "id": "9e2ea2e1-aea6-4f28-a953-2cc46d2f066d",
   "metadata": {
    "kernel": "SoS"
   },
   "source": [
    "#### volcano"
   ]
  },
  {
   "cell_type": "code",
   "execution_count": 249,
   "id": "7b7a0125-df04-4f42-bda7-58c64962f534",
   "metadata": {
    "kernel": "SoS"
   },
   "outputs": [
    {
     "name": "stdout",
     "output_type": "stream",
     "text": [
      "[1] \"eQTL\"\n",
      "[1] \"multi_context\"\n",
      "[1] \"Other\"\n",
      "[1] \"snuc_eQTL\"\n",
      "[1] \"pQTL\"\n",
      "[1] \"multi_gene\"\n",
      "[1] \"sQTL\"\n",
      "[1] \"Epi\"\n",
      "[1] \"metabolome\"\n",
      "[1] \"all\"\n",
      "[1] \"eQTL\"\n",
      "[1] \"multi_context\"\n",
      "[1] \"Other\"\n",
      "[1] \"snuc_eQTL\"\n",
      "[1] \"pQTL\"\n",
      "[1] \"multi_gene\"\n",
      "[1] \"sQTL\"\n",
      "[1] \"Epi\"\n",
      "[1] \"metabolome\"\n",
      "[1] \"all\"\n"
     ]
    }
   ],
   "source": [
    "##### valcano without Inf logP #####\n",
    "enrichment_data_meta <- merge(enrichment_data, meta, by.x = 'study', by.y = 'context_mod', all.x = T) %>% \n",
    "  mutate(`Data Type` = ifelse(is.na(`Data Type`), 'Other', `Data Type`),\n",
    "         Method = ifelse(is.na(Method), 'Other', Method)) %>% \n",
    "  mutate(`Data Type` = ifelse(Method == 'single_context_finemapping' & str_detect(Modality, 'Inh|Exc|OPC|Oli|Mic|Ast'), 'snuc_eQTL', `Data Type` ),\n",
    "         `Data Type` = ifelse(Method == 'multi_gene_finemapping', 'multi_gene', `Data Type` ),\n",
    "         `Data Type` = ifelse(method == 'multicontext', 'multi_context', `Data Type` ),\n",
    "         `Data Type` = ifelse(str_detect(study, 'haQTL|mQTL') , 'Epi', `Data Type` ))\n",
    "plot_data <- enrichment_data_meta %>% filter(Method != 'trans_finemapping')\n",
    "\n",
    "\n",
    "\n",
    "plot_data <- enrichment_data_meta \n",
    "\n",
    "\n",
    "dir <- 'volcano'\n",
    "for (data_type in c(na.omit(unique(plot_data$`Data Type`)), 'all')) {\n",
    "  print(data_type)\n",
    "  if (data_type == 'all') {\n",
    "    plot_data_tmp <- plot_data\n",
    "    # width <- height <- 80\n",
    "  } else {\n",
    "    plot_data_tmp <- plot_data %>% filter(`Data Type` == data_type)\n",
    "    # width <- height <- 40\n",
    "  }\n",
    "  p <- plot_data_tmp %>%\n",
    "    filter(!is.na(Category)) %>%\n",
    "    filter(!is.na(Enrichment_P_value)) %>%\n",
    "    mutate(logP = -log10(Enrichment_P_value)) %>%\n",
    "    # Add a column to identify points to label (top 5 by logP)\n",
    "    ggplot(aes(x = Enrichment_log2, y = logP, color = logP)) +\n",
    "    geom_point(aes(size = logP), alpha = 0.6) +\n",
    "    facet_grid(`Data Type` + study ~Category, scales = \"fixed\") +\n",
    "    scale_color_gradientn(colors = c(\"blue\", \"grey\", \"red\"),\n",
    "                          name = \"-log10(P)\") +\n",
    "    scale_size_continuous(range = c(1, 6), name = \"-log10(P)\") +\n",
    "    theme_bw(base_size = 14) +\n",
    "    theme(\n",
    "      panel.grid.minor = element_blank(),\n",
    "      panel.grid.major = element_line(color = \"grey90\"),\n",
    "      panel.background = element_rect(fill = \"white\", color = NA),\n",
    "      plot.background = element_rect(fill = \"white\", color = NA),\n",
    "      strip.background = element_rect(fill = \"grey95\", color = \"grey70\"),\n",
    "      strip.text = element_text(face = \"bold\", size = 12),\n",
    "      axis.text = element_text(color = \"black\"),\n",
    "      axis.title = element_text(face = \"bold\"),\n",
    "      legend.position = \"right\",\n",
    "      legend.background = element_rect(fill = \"white\", color = NA)\n",
    "    ) +\n",
    "    labs(\n",
    "      title = \"Volcano Plot: Enrichment Analysis\",\n",
    "      subtitle = \"log2(Enrichment) vs -log10(P-value)\",\n",
    "      x = \"log2(Enrichment)\",\n",
    "      y = \"-log10(P-value)\"\n",
    "    )\n",
    "  output <- paste0('~/Work/Fungen_xQTL/2025/Sep/eoo/EOO/enrichment_figures_category/', dir, '/', data_type,'_enrichment_volcano_plot_combined.pdf')\n",
    "  dir.create(dirname(output), recursive = TRUE, showWarnings = FALSE)\n",
    "  \n",
    "  # if (data_type == 'all') {\n",
    "  width <- 45\n",
    "  height <- 2.5 * length(unique(plot_data_tmp$study))\n",
    "  ggsave(output, plot = p, height = height, width = width, limitsize = FALSE)\n",
    "}\n",
    "\n",
    "##### valcano with Inf logP #####\n",
    "\n",
    "\n",
    "dir <- 'volcano_Inf'\n",
    "for (data_type in c(na.omit(unique(plot_data$`Data Type`)), 'all')) {\n",
    "  print(data_type)\n",
    "  if (data_type == 'all') {\n",
    "    plot_data_tmp <- plot_data\n",
    "    # width <- height <- 80\n",
    "  } else {\n",
    "    plot_data_tmp <- plot_data %>% filter(`Data Type` == data_type)\n",
    "    # width <- height <- 40\n",
    "  }\n",
    "  # Filter and compute logP\n",
    "  plot_data_tmp <- plot_data_tmp %>%\n",
    "    filter(!is.na(Category)) %>%\n",
    "    filter(!is.na(Enrichment_P_value)) %>%\n",
    "    mutate(logP = -log10(Enrichment_P_value))\n",
    "  # Calculate 98th percentile of finite logP\n",
    "  logP_top <- quantile(\n",
    "    plot_data_tmp$logP[is.finite(plot_data_tmp$logP)], \n",
    "    0.99, \n",
    "    na.rm = TRUE\n",
    "  )\n",
    "  enrich_top <- quantile(\n",
    "    plot_data_tmp$Enrichment_log2[is.finite(plot_data_tmp$Enrichment_log2)], \n",
    "    0.95, \n",
    "    na.rm = TRUE\n",
    "  )\n",
    "  # Compute the cap and jitter for Inf values\n",
    "  finite_logP <- plot_data_tmp$logP[is.finite(plot_data_tmp$logP)]\n",
    "  cap_base <- max(finite_logP, na.rm = TRUE) + 10\n",
    "  n_inf <- sum(is.infinite(plot_data_tmp$logP), na.rm = TRUE)\n",
    "  jitter_values <- runif(n_inf, 0, 5)\n",
    "  # Counter for jitter values\n",
    "  plot_data_tmp$jitter_index <- NA\n",
    "  plot_data_tmp$jitter_index[is.infinite(plot_data_tmp$logP)] <- seq_len(n_inf)\n",
    "  \n",
    "  # Apply cap and jitter\n",
    "  plot_data_tmp <- plot_data_tmp %>%\n",
    "    mutate(logP = case_when(\n",
    "      is.infinite(logP) ~ cap_base + jitter_values[jitter_index],\n",
    "      TRUE ~ logP\n",
    "    )) %>%\n",
    "    select(-jitter_index)  # Clean up temporary column\n",
    "  \n",
    "  \n",
    "  p <- plot_data_tmp %>%\n",
    "    mutate(highlight = logP >= logP_top & Enrichment_log2 > enrich_top) %>%\n",
    "    ggplot(aes(x = Enrichment_log2, y = logP, color = logP)) +\n",
    "    geom_point(aes(size = logP), alpha = 0.5) +\n",
    "    # Add red circle outlines around highlighted points\n",
    "    geom_point(data = ~filter(., highlight), \n",
    "               shape = 21, fill = NA, color = \"#CD2626\", \n",
    "               aes(size = logP), stroke = 1) +\n",
    "    facet_grid(`Data Type` + study ~ Category, scales = \"fixed\", \n",
    "               labeller = labeller(Category = label_wrap_gen(width = 15))) +\n",
    "    scale_color_gradientn(colors = c(\"blue\", \"grey\", \"#FF6A6A\"),\n",
    "                          name = \"-log10(P)\") +\n",
    "    scale_size_continuous(range = c(1, 6), name = \"-log10(P)\") +\n",
    "    coord_cartesian(ylim = c(0, max(plot_data_tmp$logP, na.rm = TRUE) * 1.1)) +\n",
    "    theme_bw(base_size = 14) +\n",
    "    theme(\n",
    "      panel.grid.minor = element_blank(),\n",
    "      panel.grid.major = element_line(color = \"grey90\"),\n",
    "      panel.background = element_rect(fill = \"white\", color = NA),\n",
    "      plot.background = element_rect(fill = \"white\", color = NA),\n",
    "      strip.background = element_rect(fill = \"grey95\", color = \"grey70\"),\n",
    "      strip.text = element_text(face = \"bold\", size = 12),\n",
    "      axis.text = element_text(color = \"black\"),\n",
    "      axis.title = element_text(face = \"bold\"),\n",
    "      legend.position = \"right\",\n",
    "      legend.background = element_rect(fill = \"white\", color = NA)\n",
    "    ) +\n",
    "    labs(\n",
    "      title = paste0(\"Volcano Plot: Enrichment Analysis (\", data_type, \")\"),\n",
    "      subtitle = \"log2(Enrichment) vs -log10(P-value)\",\n",
    "      x = \"log2(Enrichment)\",\n",
    "      y = \"-log10(P-value)\",\n",
    "      caption = \"Red circles: Top 1% -log10(P) & Top 5% log2(Enrichment) \\nP=0 capped at max finite -log10(P) + 10 with jitter\"\n",
    "    )\n",
    "  \n",
    "  output <- paste0('~/Work/Fungen_xQTL/2025/Sep/eoo/EOO/enrichment_figures_category/', dir, '/', data_type,'_enrichment_volcano_plot_combined.pdf')\n",
    "  dir.create(dirname(output), recursive = TRUE, showWarnings = FALSE)\n",
    "  \n",
    "  width <- 45\n",
    "  height <- 2.5 * length(unique(plot_data_tmp$study))\n",
    "  ggsave(output, plot = p, height = height, width = width, limitsize = FALSE)\n",
    "}\n",
    "\n",
    "saveRDS(enrichment_data_meta, '~/Work/Fungen_xQTL/2025/Sep/eoo/EOO/EOO_all_enrichment_withmeta.rds')"
   ]
  },
  {
   "cell_type": "markdown",
   "id": "092da9ba-2674-432b-9143-b9d7f8e5aa92",
   "metadata": {
    "kernel": "SoS"
   },
   "source": [
    "### test between methods ####"
   ]
  },
  {
   "cell_type": "code",
   "execution_count": 250,
   "id": "91651a30-9442-44c5-b265-c05929690ac7",
   "metadata": {
    "kernel": "SoS"
   },
   "outputs": [],
   "source": [
    "# test data \n",
    "\n",
    "# To identify annotations with significantly different enrichment values between the single-context (eQTL) and multi-gene (adj_eQTL) datasets, \n",
    "# a statistical test was performed on annotations with significant enrichment (Enrichment_P_value < 0.05) in at least one dataset. \n",
    "# The datasets were merged by matching annotations, retaining only those significant in either dataset, and rows with missing or infinite values were excluded. \n",
    "# Due to the non-normal distribution of enrichment differences (confirmed by a Shapiro-Wilk p-value of 5.623531e-60 in one context), \n",
    "# a Z-score test was applied to each paired annotation, calculating the difference (Enrichment_adj - Enrichment_pqtl) divided by the combined standard error.\n",
    "# P-values were derived from Z-scores and adjusted for multiple testing using the False Discovery Rate (FDR) method. \n",
    "# Annotations with FDR-adjusted p-values < 0.05 were considered significantly different, \n",
    "# indicating systematic differences in enrichment between the single-context and multi-gene datasets for those annotations."
   ]
  },
  {
   "cell_type": "markdown",
   "id": "6d7c8d12-97a3-4ac0-9da5-ac28579bdd20",
   "metadata": {},
   "source": [
    "#### multi gene to single context #####"
   ]
  },
  {
   "cell_type": "code",
   "execution_count": 251,
   "id": "68da297d-0159-4343-a5fc-0b38e0bcca3b",
   "metadata": {},
   "outputs": [],
   "source": [
    "bulk_eQTL <- enrichment_data_meta %>% filter(`Data Type` == 'eQTL')\n",
    "snuc_eQTL <- enrichment_data_meta %>% filter(`Data Type` == 'snuc_eQTL')\n",
    "eQTL_raw <- rbind(bulk_eQTL, snuc_eQTL)\n",
    "multi_gene_eQTL <- enrichment_data_meta %>% filter(`Data Type` == 'multi_gene')\n",
    "\n",
    "# build a modalities dict to combine single context and multi gene results \n",
    "modality_dict <- c(\n",
    "  # MSBB\n",
    "  \"BM_10_MSBB_eQTL\" = \"MSBB_BM_10_eQTL\",\n",
    "  \"BM_22_MSBB_eQTL\" = \"MSBB_BM_22_eQTL\",\n",
    "  \"BM_36_MSBB_eQTL\" = \"MSBB_BM_36_eQTL\",\n",
    "  \"BM_44_MSBB_eQTL\" = \"MSBB_BM_44_eQTL\",\n",
    "  \n",
    "  # DeJager and mega (ROSMAP)\n",
    "  \"AC_DeJager_eQTL\" = \"ROSMAP_AC_DeJager_eQTL\",\n",
    "  \"Ast_DeJager_eQTL\" = \"ROSMAP_Ast_DeJager_eQTL\",\n",
    "  \"Ast_mega_eQTL\" = \"ROSMAP_Ast_mega_eQTL\",\n",
    "  \"DLPFC_DeJager_eQTL\" = \"ROSMAP_DLPFC_DeJager_eQTL\",\n",
    "  \"Exc_DeJager_eQTL\" = \"ROSMAP_Exc_DeJager_eQTL\",\n",
    "  \"Exc_mega_eQTL\" = \"ROSMAP_Exc_mega_eQTL\",\n",
    "  \"Inh_DeJager_eQTL\" = \"ROSMAP_Inh_DeJager_eQTL\",\n",
    "  \"Inh_mega_eQTL\" = \"ROSMAP_Inh_mega_eQTL\",\n",
    "  \"Mic_DeJager_eQTL\" = \"ROSMAP_Mic_DeJager_eQTL\",\n",
    "  \"Mic_mega_eQTL\" = \"ROSMAP_Mic_mega_eQTL\",\n",
    "  \"monocyte_ROSMAP_eQTL\" = \"ROSMAP_monocyte_ROSMAP_eQTL\",\n",
    "  \"Oli_DeJager_eQTL\" = \"ROSMAP_Oli_DeJager_eQTL\",\n",
    "  \"Oli_mega_eQTL\" = \"ROSMAP_Oli_mega_eQTL\",\n",
    "  \"OPC_DeJager_eQTL\" = \"ROSMAP_OPC_DeJager_eQTL\",\n",
    "  \"OPC_mega_eQTL\" = \"ROSMAP_OPC_mega_eQTL\",\n",
    "  \"PCC_DeJager_eQTL\" = \"ROSMAP_PCC_DeJager_eQTL\"\n",
    ")\n",
    "eQTL <- eQTL_raw %>% filter(study %in% names(modality_dict)) %>% \n",
    "  mutate(study = recode(study, !!!modality_dict))"
   ]
  },
  {
   "cell_type": "code",
   "execution_count": 252,
   "id": "e49a9789-8045-48ed-b6d6-320f018f7542",
   "metadata": {
    "scrolled": true
   },
   "outputs": [
    {
     "name": "stderr",
     "output_type": "stream",
     "text": [
      "Warning message in inner_join(eQTL %>% filter(study == context, Annotation %in% :\n",
      "“\u001b[1m\u001b[22mDetected an unexpected many-to-many relationship between `x` and `y`.\n",
      "\u001b[36mℹ\u001b[39m Row 209 of `x` matches multiple rows in `y`.\n",
      "\u001b[36mℹ\u001b[39m Row 407 of `y` matches multiple rows in `x`.\n",
      "\u001b[36mℹ\u001b[39m If a many-to-many relationship is expected, set `relationship =\n",
      "  \"many-to-many\"` to silence this warning.”\n",
      "Warning message in inner_join(eQTL %>% filter(study == context, Annotation %in% :\n",
      "“\u001b[1m\u001b[22mDetected an unexpected many-to-many relationship between `x` and `y`.\n",
      "\u001b[36mℹ\u001b[39m Row 112 of `x` matches multiple rows in `y`.\n",
      "\u001b[36mℹ\u001b[39m Row 87 of `y` matches multiple rows in `x`.\n",
      "\u001b[36mℹ\u001b[39m If a many-to-many relationship is expected, set `relationship =\n",
      "  \"many-to-many\"` to silence this warning.”\n",
      "Warning message in inner_join(eQTL %>% filter(study == context, Annotation %in% :\n",
      "“\u001b[1m\u001b[22mDetected an unexpected many-to-many relationship between `x` and `y`.\n",
      "\u001b[36mℹ\u001b[39m Row 17 of `x` matches multiple rows in `y`.\n",
      "\u001b[36mℹ\u001b[39m Row 698 of `y` matches multiple rows in `x`.\n",
      "\u001b[36mℹ\u001b[39m If a many-to-many relationship is expected, set `relationship =\n",
      "  \"many-to-many\"` to silence this warning.”\n",
      "Warning message in inner_join(eQTL %>% filter(study == context, Annotation %in% :\n",
      "“\u001b[1m\u001b[22mDetected an unexpected many-to-many relationship between `x` and `y`.\n",
      "\u001b[36mℹ\u001b[39m Row 100 of `x` matches multiple rows in `y`.\n",
      "\u001b[36mℹ\u001b[39m Row 69 of `y` matches multiple rows in `x`.\n",
      "\u001b[36mℹ\u001b[39m If a many-to-many relationship is expected, set `relationship =\n",
      "  \"many-to-many\"` to silence this warning.”\n",
      "Warning message in inner_join(eQTL %>% filter(study == context, Annotation %in% :\n",
      "“\u001b[1m\u001b[22mDetected an unexpected many-to-many relationship between `x` and `y`.\n",
      "\u001b[36mℹ\u001b[39m Row 50 of `x` matches multiple rows in `y`.\n",
      "\u001b[36mℹ\u001b[39m Row 330 of `y` matches multiple rows in `x`.\n",
      "\u001b[36mℹ\u001b[39m If a many-to-many relationship is expected, set `relationship =\n",
      "  \"many-to-many\"` to silence this warning.”\n",
      "Warning message in inner_join(eQTL %>% filter(study == context, Annotation %in% :\n",
      "“\u001b[1m\u001b[22mDetected an unexpected many-to-many relationship between `x` and `y`.\n",
      "\u001b[36mℹ\u001b[39m Row 2 of `x` matches multiple rows in `y`.\n",
      "\u001b[36mℹ\u001b[39m Row 231 of `y` matches multiple rows in `x`.\n",
      "\u001b[36mℹ\u001b[39m If a many-to-many relationship is expected, set `relationship =\n",
      "  \"many-to-many\"` to silence this warning.”\n",
      "Warning message in inner_join(eQTL %>% filter(study == context, Annotation %in% :\n",
      "“\u001b[1m\u001b[22mDetected an unexpected many-to-many relationship between `x` and `y`.\n",
      "\u001b[36mℹ\u001b[39m Row 92 of `x` matches multiple rows in `y`.\n",
      "\u001b[36mℹ\u001b[39m Row 1035 of `y` matches multiple rows in `x`.\n",
      "\u001b[36mℹ\u001b[39m If a many-to-many relationship is expected, set `relationship =\n",
      "  \"many-to-many\"` to silence this warning.”\n",
      "Warning message in inner_join(eQTL %>% filter(study == context, Annotation %in% :\n",
      "“\u001b[1m\u001b[22mDetected an unexpected many-to-many relationship between `x` and `y`.\n",
      "\u001b[36mℹ\u001b[39m Row 48 of `x` matches multiple rows in `y`.\n",
      "\u001b[36mℹ\u001b[39m Row 889 of `y` matches multiple rows in `x`.\n",
      "\u001b[36mℹ\u001b[39m If a many-to-many relationship is expected, set `relationship =\n",
      "  \"many-to-many\"` to silence this warning.”\n",
      "Warning message in inner_join(eQTL %>% filter(study == context, Annotation %in% :\n",
      "“\u001b[1m\u001b[22mDetected an unexpected many-to-many relationship between `x` and `y`.\n",
      "\u001b[36mℹ\u001b[39m Row 162 of `x` matches multiple rows in `y`.\n",
      "\u001b[36mℹ\u001b[39m Row 14 of `y` matches multiple rows in `x`.\n",
      "\u001b[36mℹ\u001b[39m If a many-to-many relationship is expected, set `relationship =\n",
      "  \"many-to-many\"` to silence this warning.”\n",
      "Warning message in inner_join(eQTL %>% filter(study == context, Annotation %in% :\n",
      "“\u001b[1m\u001b[22mDetected an unexpected many-to-many relationship between `x` and `y`.\n",
      "\u001b[36mℹ\u001b[39m Row 19 of `x` matches multiple rows in `y`.\n",
      "\u001b[36mℹ\u001b[39m Row 688 of `y` matches multiple rows in `x`.\n",
      "\u001b[36mℹ\u001b[39m If a many-to-many relationship is expected, set `relationship =\n",
      "  \"many-to-many\"` to silence this warning.”\n",
      "Warning message in inner_join(eQTL %>% filter(study == context, Annotation %in% :\n",
      "“\u001b[1m\u001b[22mDetected an unexpected many-to-many relationship between `x` and `y`.\n",
      "\u001b[36mℹ\u001b[39m Row 29 of `x` matches multiple rows in `y`.\n",
      "\u001b[36mℹ\u001b[39m Row 107 of `y` matches multiple rows in `x`.\n",
      "\u001b[36mℹ\u001b[39m If a many-to-many relationship is expected, set `relationship =\n",
      "  \"many-to-many\"` to silence this warning.”\n",
      "Warning message in inner_join(eQTL %>% filter(study == context, Annotation %in% :\n",
      "“\u001b[1m\u001b[22mDetected an unexpected many-to-many relationship between `x` and `y`.\n",
      "\u001b[36mℹ\u001b[39m Row 35 of `x` matches multiple rows in `y`.\n",
      "\u001b[36mℹ\u001b[39m Row 678 of `y` matches multiple rows in `x`.\n",
      "\u001b[36mℹ\u001b[39m If a many-to-many relationship is expected, set `relationship =\n",
      "  \"many-to-many\"` to silence this warning.”\n",
      "Warning message in inner_join(eQTL %>% filter(study == context, Annotation %in% :\n",
      "“\u001b[1m\u001b[22mDetected an unexpected many-to-many relationship between `x` and `y`.\n",
      "\u001b[36mℹ\u001b[39m Row 44 of `x` matches multiple rows in `y`.\n",
      "\u001b[36mℹ\u001b[39m Row 330 of `y` matches multiple rows in `x`.\n",
      "\u001b[36mℹ\u001b[39m If a many-to-many relationship is expected, set `relationship =\n",
      "  \"many-to-many\"` to silence this warning.”\n",
      "Warning message in inner_join(eQTL %>% filter(study == context, Annotation %in% :\n",
      "“\u001b[1m\u001b[22mDetected an unexpected many-to-many relationship between `x` and `y`.\n",
      "\u001b[36mℹ\u001b[39m Row 188 of `x` matches multiple rows in `y`.\n",
      "\u001b[36mℹ\u001b[39m Row 371 of `y` matches multiple rows in `x`.\n",
      "\u001b[36mℹ\u001b[39m If a many-to-many relationship is expected, set `relationship =\n",
      "  \"many-to-many\"` to silence this warning.”\n",
      "Warning message in inner_join(eQTL %>% filter(study == context, Annotation %in% :\n",
      "“\u001b[1m\u001b[22mDetected an unexpected many-to-many relationship between `x` and `y`.\n",
      "\u001b[36mℹ\u001b[39m Row 87 of `x` matches multiple rows in `y`.\n",
      "\u001b[36mℹ\u001b[39m Row 758 of `y` matches multiple rows in `x`.\n",
      "\u001b[36mℹ\u001b[39m If a many-to-many relationship is expected, set `relationship =\n",
      "  \"many-to-many\"` to silence this warning.”\n",
      "Warning message in inner_join(eQTL %>% filter(study == context, Annotation %in% :\n",
      "“\u001b[1m\u001b[22mDetected an unexpected many-to-many relationship between `x` and `y`.\n",
      "\u001b[36mℹ\u001b[39m Row 109 of `x` matches multiple rows in `y`.\n",
      "\u001b[36mℹ\u001b[39m Row 167 of `y` matches multiple rows in `x`.\n",
      "\u001b[36mℹ\u001b[39m If a many-to-many relationship is expected, set `relationship =\n",
      "  \"many-to-many\"` to silence this warning.”\n",
      "Warning message in inner_join(eQTL %>% filter(study == context, Annotation %in% :\n",
      "“\u001b[1m\u001b[22mDetected an unexpected many-to-many relationship between `x` and `y`.\n",
      "\u001b[36mℹ\u001b[39m Row 77 of `x` matches multiple rows in `y`.\n",
      "\u001b[36mℹ\u001b[39m Row 38 of `y` matches multiple rows in `x`.\n",
      "\u001b[36mℹ\u001b[39m If a many-to-many relationship is expected, set `relationship =\n",
      "  \"many-to-many\"` to silence this warning.”\n",
      "Warning message in inner_join(eQTL %>% filter(study == context, Annotation %in% :\n",
      "“\u001b[1m\u001b[22mDetected an unexpected many-to-many relationship between `x` and `y`.\n",
      "\u001b[36mℹ\u001b[39m Row 33 of `x` matches multiple rows in `y`.\n",
      "\u001b[36mℹ\u001b[39m Row 347 of `y` matches multiple rows in `x`.\n",
      "\u001b[36mℹ\u001b[39m If a many-to-many relationship is expected, set `relationship =\n",
      "  \"many-to-many\"` to silence this warning.”\n",
      "Warning message in inner_join(eQTL %>% filter(study == context, Annotation %in% :\n",
      "“\u001b[1m\u001b[22mDetected an unexpected many-to-many relationship between `x` and `y`.\n",
      "\u001b[36mℹ\u001b[39m Row 27 of `x` matches multiple rows in `y`.\n",
      "\u001b[36mℹ\u001b[39m Row 1140 of `y` matches multiple rows in `x`.\n",
      "\u001b[36mℹ\u001b[39m If a many-to-many relationship is expected, set `relationship =\n",
      "  \"many-to-many\"` to silence this warning.”\n",
      "Warning message in inner_join(eQTL %>% filter(study == context, Annotation %in% :\n",
      "“\u001b[1m\u001b[22mDetected an unexpected many-to-many relationship between `x` and `y`.\n",
      "\u001b[36mℹ\u001b[39m Row 23 of `x` matches multiple rows in `y`.\n",
      "\u001b[36mℹ\u001b[39m Row 829 of `y` matches multiple rows in `x`.\n",
      "\u001b[36mℹ\u001b[39m If a many-to-many relationship is expected, set `relationship =\n",
      "  \"many-to-many\"` to silence this warning.”\n"
     ]
    }
   ],
   "source": [
    " \n",
    "contexts <- modality_dict %>% as.character()\n",
    "\n",
    "combined_results <- map_dfr(contexts, function(context) {\n",
    "  # Step 1: Filter significant annotations (Enrichment_P_value < 0.05 in at least one dataset)\n",
    "  significant_single <- eQTL %>% \n",
    "    filter(study == context, Enrichment_P_value < 0.05) %>% \n",
    "    select(Annotation)\n",
    "  significant_multi <- multi_gene_eQTL %>% \n",
    "    filter(study == context, Enrichment_P_value < 0.05) %>% \n",
    "    select(Annotation)\n",
    "  significant_annotations <- unique(c(significant_single$Annotation, significant_multi$Annotation))\n",
    "  \n",
    "  # Step 2: Merge datasets for significant annotations\n",
    "  merged_data <- inner_join(\n",
    "    eQTL %>% \n",
    "      filter(study == context, Annotation %in% significant_annotations) %>% \n",
    "      select(Annotation, Enrichment_single_context = Enrichment, Enrichment_SE_single_context = Enrichment_SE, Enrichment_P_value_single_context = Enrichment_P_value),\n",
    "    multi_gene_eQTL %>% \n",
    "      filter(study == context, Annotation %in% significant_annotations) %>% \n",
    "      select(Annotation, Enrichment_multi_gene = Enrichment, Enrichment_SE_multi_gene = Enrichment_SE, Enrichment_P_value_multi_gene = Enrichment_P_value),\n",
    "    by = \"Annotation\"\n",
    "  )  %>% \n",
    "    filter(if_all(starts_with(\"Enrichment\"), is.finite))%>%\n",
    "    filter(!str_detect(Annotation, '_OTHER')) %>% \n",
    "    mutate(\n",
    "      # Annotation = gsub('.bed.gz', '', Annotation), \n",
    "           Annotation = gsub('.bed', '', Annotation) %>% gsub('formatted_output_', '', .) ,\n",
    "           # , \n",
    "           # Annotation = gsub('Transcription_Factor_', 'TF_', Annotation), \n",
    "           # Annotation = gsub('Other_Functional_Annotations', 'Others', Annotation), \n",
    "           # Annotation = gsub('Chromatin_Interaction_Loops', 'CILs', Annotation), \n",
    "           # Annotation = gsub('.HuFNSC02.narrowPeak.lifted', '', Annotation), \n",
    "           # Annotation = gsub('_lifted', '', Annotation), \n",
    "           # Annotation = gsub('UCSF−UBC.', '', Annotation),  \n",
    "           # Annotation = gsub('_hg38lift.', '', Annotation), \n",
    "           # Annotation = gsub('_SuperEnhancer', '', Annotation), \n",
    "           Annotation = gsub('_OTHER_significant', '', Annotation)\n",
    "           )\n",
    "  \n",
    "  # Step 3: Check if there are valid paired observations\n",
    "  if (nrow(merged_data) == 0) {\n",
    "    message(\"No valid paired observations for context: \", context)\n",
    "    return(NULL)\n",
    "  }\n",
    "  \n",
    "  # Step 4: Perform Z-score test and calculate differences\n",
    "  results <- merged_data %>%\n",
    "    mutate(\n",
    "      Context = context,\n",
    "      Enrichment_Diff = Enrichment_multi_gene - Enrichment_single_context,\n",
    "      Enrichment_SE_combined = sqrt(Enrichment_SE_single_context^2 + Enrichment_SE_multi_gene^2),\n",
    "      z_score = Enrichment_Diff / Enrichment_SE_combined,\n",
    "      p_value = 2 * pnorm(-abs(z_score)),\n",
    "      p_adjusted = p.adjust(p_value, method = \"fdr\"),\n",
    "      Significance_Status = case_when(\n",
    "        Enrichment_P_value_single_context < 0.05 & Enrichment_P_value_multi_gene < 0.05 ~ \"Both\",\n",
    "        Enrichment_P_value_single_context < 0.05 ~ \"Single Context Only\",\n",
    "        Enrichment_P_value_multi_gene < 0.05 ~ \"Multi-Gene Only\"\n",
    "      )\n",
    "    ) %>%\n",
    "    select(Context, Annotation, Enrichment_single_context, Enrichment_multi_gene,\n",
    "           Enrichment_Diff, Enrichment_SE_single_context, Enrichment_SE_multi_gene,\n",
    "           Enrichment_P_value_single_context, Enrichment_P_value_multi_gene, Significance_Status,\n",
    "           p_value, p_adjusted)\n",
    "  \n",
    "  # Step 5: Filter significant results (FDR < 0.05)\n",
    "  significant <- results %>%\n",
    "    filter(!is.na(p_adjusted), p_adjusted < 0.05) %>%\n",
    "    mutate(Category = str_split(Annotation, \"\\\\|\", simplify = TRUE)[, 1])%>% distinct(Annotation, .keep_all = T)\n",
    "  \n",
    "  if (nrow(significant) > 0) {\n",
    "    plot_data <- significant %>%\n",
    "      arrange(desc(abs(Enrichment_Diff))) %>%\n",
    "      slice_head(n = 30) %>%\n",
    "      mutate(Annotation = factor(Annotation, levels = Annotation))\n",
    "    \n",
    "    p <- ggplot(plot_data, aes(x = Enrichment_Diff, y = Annotation, fill = Category)) +\n",
    "      geom_bar(stat = \"identity\") +\n",
    "      geom_vline(xintercept = 0, linetype = \"dashed\") +\n",
    "      labs(\n",
    "        title = paste0(\"Top Enrichment Differences for \", context),\n",
    "        x = \"Enrichment Difference (multi_gene - single_context)\", y = \"\"\n",
    "      ) +\n",
    "      theme_minimal() +\n",
    "      theme(plot.title = element_text(hjust = 0.5)) +\n",
    "      scale_fill_manual(values = all_colors)\n",
    "    \n",
    "    out_path <- file.path('~/Work/Fungen_xQTL/2025/Sep/eoo/EOO//enrichment_figures_category', 'methods_compare/multi_gene/', paste0(context, '_multigene_single_enrichment_plot_combined.pdf'))\n",
    "    dir.create(dirname(out_path), recursive = TRUE, showWarnings = FALSE)\n",
    "    ggsave(out_path, plot = p, height = 10, width = 14, limitsize = FALSE)\n",
    "  }\n",
    "  \n",
    "  results\n",
    "})"
   ]
  },
  {
   "cell_type": "code",
   "execution_count": 253,
   "id": "2f66e9bd-a298-4943-a9fa-bf29aff00bbc",
   "metadata": {
    "scrolled": true
   },
   "outputs": [
    {
     "name": "stdout",
     "output_type": "stream",
     "text": [
      "Number of significantly different annotations (FDR < 0.05): 3414 \n"
     ]
    }
   ],
   "source": [
    "significant_results <- combined_results %>%\n",
    "  filter(!is.na(p_adjusted), p_adjusted < 0.05) %>%\n",
    "  mutate(Category = str_split(Annotation, \"\\\\|\", simplify = TRUE)[, 1])\n",
    "\n",
    "cat(\"Number of significantly different annotations (FDR < 0.05):\", nrow(significant_results), \"\\n\")\n",
    "\n",
    "top_num <- 2\n",
    "plot_data <- significant_results %>%\n",
    "  group_by(Context, Category) %>%\n",
    "  arrange(desc(abs(Enrichment_Diff))) %>%\n",
    "  slice_head(n = top_num) %>%\n",
    "  ungroup() %>%\n",
    "  mutate(Annotation = factor(Annotation, levels = unique(Annotation)))\n",
    "\n",
    "p <- ggplot(plot_data, aes(x = Enrichment_Diff, y = Annotation, fill = Enrichment_Diff > 0)) +\n",
    "  geom_bar(stat = \"identity\") +\n",
    "  scale_fill_manual(values = c(\"skyblue\", \"salmon\"), guide = \"none\") +\n",
    "  geom_vline(xintercept = 0, linetype = \"dashed\") +\n",
    "  labs(\n",
    "    title = \"Top Enrichment Differences for Significant Annotations (FDR < 0.05)\",\n",
    "    x = \"Enrichment Difference (multi_gene - single_context)\", y = \"\"\n",
    "  ) +\n",
    "  facet_wrap(~Context, scales = \"free_y\") +\n",
    "  theme_minimal() +\n",
    "  theme(plot.title = element_text(hjust = 0.5), strip.text = element_text(face = \"bold\"))\n",
    "\n",
    "out_path <- file.path('~/Work/Fungen_xQTL/2025/Sep/eoo/EOO//enrichment_figures_category', 'methods_compare/multi_gene/', 'all_multigene_single_enrichment_plot_combined.pdf')\n",
    "dir.create(dirname(out_path), recursive = TRUE, showWarnings = FALSE)\n",
    "ggsave(out_path, plot = p, height = 1.5 * length(unique(plot_data$Context)), width = 60, limitsize = FALSE)"
   ]
  },
  {
   "cell_type": "markdown",
   "id": "7af074e2-e572-415e-b6ba-3a460e61c644",
   "metadata": {},
   "source": [
    "#### multi context to single context #####"
   ]
  },
  {
   "cell_type": "code",
   "execution_count": 254,
   "id": "09dd8365-b7c5-4398-b035-124e2f2eeccb",
   "metadata": {},
   "outputs": [
    {
     "data": {
      "text/html": [
       "<style>\n",
       ".list-inline {list-style: none; margin:0; padding: 0}\n",
       ".list-inline>li {display: inline-block}\n",
       ".list-inline>li:not(:last-child)::after {content: \"\\00b7\"; padding: 0 .5ex}\n",
       "</style>\n",
       "<ol class=list-inline><li>'AC_DeJager_eQTL_multicontext'</li><li>'Ast_DeJager_eQTL_multicontext'</li><li>'Ast_Kellis_eQTL_multicontext'</li><li>'Ast_mega_eQTL_multicontext'</li><li>'DLPFC_Bennett_pQTL_multicontext'</li><li>'DLPFC_DeJager_eQTL_multicontext'</li><li>'Exc_DeJager_eQTL_multicontext'</li><li>'Exc_Kellis_eQTL_multicontext'</li><li>'Exc_mega_eQTL_multicontext'</li><li>'Inh_DeJager_eQTL_multicontext'</li><li>'Inh_Kellis_eQTL_multicontext'</li><li>'Inh_mega_eQTL_multicontext'</li><li>'Mic_DeJager_eQTL_multicontext'</li><li>'Mic_Kellis_eQTL_multicontext'</li><li>'Mic_mega_eQTL_multicontext'</li><li>'monocyte_ROSMAP_eQTL_multicontext'</li><li>'Oli_DeJager_eQTL_multicontext'</li><li>'Oli_Kellis_eQTL_multicontext'</li><li>'Oli_mega_eQTL_multicontext'</li><li>'OPC_DeJager_eQTL_multicontext'</li><li>'OPC_Kellis_eQTL_multicontext'</li><li>'OPC_mega_eQTL_multicontext'</li><li>'PCC_DeJager_eQTL_multicontext'</li></ol>\n"
      ],
      "text/latex": [
       "\\begin{enumerate*}\n",
       "\\item 'AC\\_DeJager\\_eQTL\\_multicontext'\n",
       "\\item 'Ast\\_DeJager\\_eQTL\\_multicontext'\n",
       "\\item 'Ast\\_Kellis\\_eQTL\\_multicontext'\n",
       "\\item 'Ast\\_mega\\_eQTL\\_multicontext'\n",
       "\\item 'DLPFC\\_Bennett\\_pQTL\\_multicontext'\n",
       "\\item 'DLPFC\\_DeJager\\_eQTL\\_multicontext'\n",
       "\\item 'Exc\\_DeJager\\_eQTL\\_multicontext'\n",
       "\\item 'Exc\\_Kellis\\_eQTL\\_multicontext'\n",
       "\\item 'Exc\\_mega\\_eQTL\\_multicontext'\n",
       "\\item 'Inh\\_DeJager\\_eQTL\\_multicontext'\n",
       "\\item 'Inh\\_Kellis\\_eQTL\\_multicontext'\n",
       "\\item 'Inh\\_mega\\_eQTL\\_multicontext'\n",
       "\\item 'Mic\\_DeJager\\_eQTL\\_multicontext'\n",
       "\\item 'Mic\\_Kellis\\_eQTL\\_multicontext'\n",
       "\\item 'Mic\\_mega\\_eQTL\\_multicontext'\n",
       "\\item 'monocyte\\_ROSMAP\\_eQTL\\_multicontext'\n",
       "\\item 'Oli\\_DeJager\\_eQTL\\_multicontext'\n",
       "\\item 'Oli\\_Kellis\\_eQTL\\_multicontext'\n",
       "\\item 'Oli\\_mega\\_eQTL\\_multicontext'\n",
       "\\item 'OPC\\_DeJager\\_eQTL\\_multicontext'\n",
       "\\item 'OPC\\_Kellis\\_eQTL\\_multicontext'\n",
       "\\item 'OPC\\_mega\\_eQTL\\_multicontext'\n",
       "\\item 'PCC\\_DeJager\\_eQTL\\_multicontext'\n",
       "\\end{enumerate*}\n"
      ],
      "text/markdown": [
       "1. 'AC_DeJager_eQTL_multicontext'\n",
       "2. 'Ast_DeJager_eQTL_multicontext'\n",
       "3. 'Ast_Kellis_eQTL_multicontext'\n",
       "4. 'Ast_mega_eQTL_multicontext'\n",
       "5. 'DLPFC_Bennett_pQTL_multicontext'\n",
       "6. 'DLPFC_DeJager_eQTL_multicontext'\n",
       "7. 'Exc_DeJager_eQTL_multicontext'\n",
       "8. 'Exc_Kellis_eQTL_multicontext'\n",
       "9. 'Exc_mega_eQTL_multicontext'\n",
       "10. 'Inh_DeJager_eQTL_multicontext'\n",
       "11. 'Inh_Kellis_eQTL_multicontext'\n",
       "12. 'Inh_mega_eQTL_multicontext'\n",
       "13. 'Mic_DeJager_eQTL_multicontext'\n",
       "14. 'Mic_Kellis_eQTL_multicontext'\n",
       "15. 'Mic_mega_eQTL_multicontext'\n",
       "16. 'monocyte_ROSMAP_eQTL_multicontext'\n",
       "17. 'Oli_DeJager_eQTL_multicontext'\n",
       "18. 'Oli_Kellis_eQTL_multicontext'\n",
       "19. 'Oli_mega_eQTL_multicontext'\n",
       "20. 'OPC_DeJager_eQTL_multicontext'\n",
       "21. 'OPC_Kellis_eQTL_multicontext'\n",
       "22. 'OPC_mega_eQTL_multicontext'\n",
       "23. 'PCC_DeJager_eQTL_multicontext'\n",
       "\n",
       "\n"
      ],
      "text/plain": [
       " [1] \"AC_DeJager_eQTL_multicontext\"      \"Ast_DeJager_eQTL_multicontext\"    \n",
       " [3] \"Ast_Kellis_eQTL_multicontext\"      \"Ast_mega_eQTL_multicontext\"       \n",
       " [5] \"DLPFC_Bennett_pQTL_multicontext\"   \"DLPFC_DeJager_eQTL_multicontext\"  \n",
       " [7] \"Exc_DeJager_eQTL_multicontext\"     \"Exc_Kellis_eQTL_multicontext\"     \n",
       " [9] \"Exc_mega_eQTL_multicontext\"        \"Inh_DeJager_eQTL_multicontext\"    \n",
       "[11] \"Inh_Kellis_eQTL_multicontext\"      \"Inh_mega_eQTL_multicontext\"       \n",
       "[13] \"Mic_DeJager_eQTL_multicontext\"     \"Mic_Kellis_eQTL_multicontext\"     \n",
       "[15] \"Mic_mega_eQTL_multicontext\"        \"monocyte_ROSMAP_eQTL_multicontext\"\n",
       "[17] \"Oli_DeJager_eQTL_multicontext\"     \"Oli_Kellis_eQTL_multicontext\"     \n",
       "[19] \"Oli_mega_eQTL_multicontext\"        \"OPC_DeJager_eQTL_multicontext\"    \n",
       "[21] \"OPC_Kellis_eQTL_multicontext\"      \"OPC_mega_eQTL_multicontext\"       \n",
       "[23] \"PCC_DeJager_eQTL_multicontext\"    "
      ]
     },
     "metadata": {},
     "output_type": "display_data"
    }
   ],
   "source": [
    "enrichment_data_meta %>% filter(`Data Type` == 'multi_context') %>% pull(study) %>% unique "
   ]
  },
  {
   "cell_type": "code",
   "execution_count": 255,
   "id": "48404797-e5cc-4861-af3d-8eee7325fae5",
   "metadata": {},
   "outputs": [
    {
     "name": "stderr",
     "output_type": "stream",
     "text": [
      "Warning message in inner_join(eQTL %>% filter(study == context, Annotation %in% :\n",
      "“\u001b[1m\u001b[22mDetected an unexpected many-to-many relationship between `x` and `y`.\n",
      "\u001b[36mℹ\u001b[39m Row 51 of `x` matches multiple rows in `y`.\n",
      "\u001b[36mℹ\u001b[39m Row 1349 of `y` matches multiple rows in `x`.\n",
      "\u001b[36mℹ\u001b[39m If a many-to-many relationship is expected, set `relationship =\n",
      "  \"many-to-many\"` to silence this warning.”\n",
      "Warning message in inner_join(eQTL %>% filter(study == context, Annotation %in% :\n",
      "“\u001b[1m\u001b[22mDetected an unexpected many-to-many relationship between `x` and `y`.\n",
      "\u001b[36mℹ\u001b[39m Row 49 of `x` matches multiple rows in `y`.\n",
      "\u001b[36mℹ\u001b[39m Row 218 of `y` matches multiple rows in `x`.\n",
      "\u001b[36mℹ\u001b[39m If a many-to-many relationship is expected, set `relationship =\n",
      "  \"many-to-many\"` to silence this warning.”\n",
      "Warning message in inner_join(eQTL %>% filter(study == context, Annotation %in% :\n",
      "“\u001b[1m\u001b[22mDetected an unexpected many-to-many relationship between `x` and `y`.\n",
      "\u001b[36mℹ\u001b[39m Row 25 of `x` matches multiple rows in `y`.\n",
      "\u001b[36mℹ\u001b[39m Row 465 of `y` matches multiple rows in `x`.\n",
      "\u001b[36mℹ\u001b[39m If a many-to-many relationship is expected, set `relationship =\n",
      "  \"many-to-many\"` to silence this warning.”\n",
      "Warning message in inner_join(eQTL %>% filter(study == context, Annotation %in% :\n",
      "“\u001b[1m\u001b[22mDetected an unexpected many-to-many relationship between `x` and `y`.\n",
      "\u001b[36mℹ\u001b[39m Row 2 of `x` matches multiple rows in `y`.\n",
      "\u001b[36mℹ\u001b[39m Row 920 of `y` matches multiple rows in `x`.\n",
      "\u001b[36mℹ\u001b[39m If a many-to-many relationship is expected, set `relationship =\n",
      "  \"many-to-many\"` to silence this warning.”\n",
      "Warning message in inner_join(eQTL %>% filter(study == context, Annotation %in% :\n",
      "“\u001b[1m\u001b[22mDetected an unexpected many-to-many relationship between `x` and `y`.\n",
      "\u001b[36mℹ\u001b[39m Row 33 of `x` matches multiple rows in `y`.\n",
      "\u001b[36mℹ\u001b[39m Row 780 of `y` matches multiple rows in `x`.\n",
      "\u001b[36mℹ\u001b[39m If a many-to-many relationship is expected, set `relationship =\n",
      "  \"many-to-many\"` to silence this warning.”\n",
      "Warning message in inner_join(eQTL %>% filter(study == context, Annotation %in% :\n",
      "“\u001b[1m\u001b[22mDetected an unexpected many-to-many relationship between `x` and `y`.\n",
      "\u001b[36mℹ\u001b[39m Row 32 of `x` matches multiple rows in `y`.\n",
      "\u001b[36mℹ\u001b[39m Row 220 of `y` matches multiple rows in `x`.\n",
      "\u001b[36mℹ\u001b[39m If a many-to-many relationship is expected, set `relationship =\n",
      "  \"many-to-many\"` to silence this warning.”\n",
      "Warning message in inner_join(eQTL %>% filter(study == context, Annotation %in% :\n",
      "“\u001b[1m\u001b[22mDetected an unexpected many-to-many relationship between `x` and `y`.\n",
      "\u001b[36mℹ\u001b[39m Row 43 of `x` matches multiple rows in `y`.\n",
      "\u001b[36mℹ\u001b[39m Row 637 of `y` matches multiple rows in `x`.\n",
      "\u001b[36mℹ\u001b[39m If a many-to-many relationship is expected, set `relationship =\n",
      "  \"many-to-many\"` to silence this warning.”\n",
      "Warning message in inner_join(eQTL %>% filter(study == context, Annotation %in% :\n",
      "“\u001b[1m\u001b[22mDetected an unexpected many-to-many relationship between `x` and `y`.\n",
      "\u001b[36mℹ\u001b[39m Row 37 of `x` matches multiple rows in `y`.\n",
      "\u001b[36mℹ\u001b[39m Row 486 of `y` matches multiple rows in `x`.\n",
      "\u001b[36mℹ\u001b[39m If a many-to-many relationship is expected, set `relationship =\n",
      "  \"many-to-many\"` to silence this warning.”\n",
      "Warning message in inner_join(eQTL %>% filter(study == context, Annotation %in% :\n",
      "“\u001b[1m\u001b[22mDetected an unexpected many-to-many relationship between `x` and `y`.\n",
      "\u001b[36mℹ\u001b[39m Row 104 of `x` matches multiple rows in `y`.\n",
      "\u001b[36mℹ\u001b[39m Row 744 of `y` matches multiple rows in `x`.\n",
      "\u001b[36mℹ\u001b[39m If a many-to-many relationship is expected, set `relationship =\n",
      "  \"many-to-many\"` to silence this warning.”\n",
      "No valid paired observations for context: PCC_Kellis_eQTL_multicontext\n",
      "\n",
      "Warning message in inner_join(eQTL %>% filter(study == context, Annotation %in% :\n",
      "“\u001b[1m\u001b[22mDetected an unexpected many-to-many relationship between `x` and `y`.\n",
      "\u001b[36mℹ\u001b[39m Row 294 of `x` matches multiple rows in `y`.\n",
      "\u001b[36mℹ\u001b[39m Row 509 of `y` matches multiple rows in `x`.\n",
      "\u001b[36mℹ\u001b[39m If a many-to-many relationship is expected, set `relationship =\n",
      "  \"many-to-many\"` to silence this warning.”\n",
      "Warning message in inner_join(eQTL %>% filter(study == context, Annotation %in% :\n",
      "“\u001b[1m\u001b[22mDetected an unexpected many-to-many relationship between `x` and `y`.\n",
      "\u001b[36mℹ\u001b[39m Row 148 of `x` matches multiple rows in `y`.\n",
      "\u001b[36mℹ\u001b[39m Row 717 of `y` matches multiple rows in `x`.\n",
      "\u001b[36mℹ\u001b[39m If a many-to-many relationship is expected, set `relationship =\n",
      "  \"many-to-many\"` to silence this warning.”\n",
      "Warning message in inner_join(eQTL %>% filter(study == context, Annotation %in% :\n",
      "“\u001b[1m\u001b[22mDetected an unexpected many-to-many relationship between `x` and `y`.\n",
      "\u001b[36mℹ\u001b[39m Row 18 of `x` matches multiple rows in `y`.\n",
      "\u001b[36mℹ\u001b[39m Row 149 of `y` matches multiple rows in `x`.\n",
      "\u001b[36mℹ\u001b[39m If a many-to-many relationship is expected, set `relationship =\n",
      "  \"many-to-many\"` to silence this warning.”\n",
      "Warning message in inner_join(eQTL %>% filter(study == context, Annotation %in% :\n",
      "“\u001b[1m\u001b[22mDetected an unexpected many-to-many relationship between `x` and `y`.\n",
      "\u001b[36mℹ\u001b[39m Row 13 of `x` matches multiple rows in `y`.\n",
      "\u001b[36mℹ\u001b[39m Row 157 of `y` matches multiple rows in `x`.\n",
      "\u001b[36mℹ\u001b[39m If a many-to-many relationship is expected, set `relationship =\n",
      "  \"many-to-many\"` to silence this warning.”\n",
      "Warning message in inner_join(eQTL %>% filter(study == context, Annotation %in% :\n",
      "“\u001b[1m\u001b[22mDetected an unexpected many-to-many relationship between `x` and `y`.\n",
      "\u001b[36mℹ\u001b[39m Row 5 of `x` matches multiple rows in `y`.\n",
      "\u001b[36mℹ\u001b[39m Row 79 of `y` matches multiple rows in `x`.\n",
      "\u001b[36mℹ\u001b[39m If a many-to-many relationship is expected, set `relationship =\n",
      "  \"many-to-many\"` to silence this warning.”\n",
      "Warning message in inner_join(eQTL %>% filter(study == context, Annotation %in% :\n",
      "“\u001b[1m\u001b[22mDetected an unexpected many-to-many relationship between `x` and `y`.\n",
      "\u001b[36mℹ\u001b[39m Row 18 of `x` matches multiple rows in `y`.\n",
      "\u001b[36mℹ\u001b[39m Row 193 of `y` matches multiple rows in `x`.\n",
      "\u001b[36mℹ\u001b[39m If a many-to-many relationship is expected, set `relationship =\n",
      "  \"many-to-many\"` to silence this warning.”\n",
      "No valid paired observations for context: PCC_mega_eQTL_multicontext\n",
      "\n",
      "Warning message in inner_join(eQTL %>% filter(study == context, Annotation %in% :\n",
      "“\u001b[1m\u001b[22mDetected an unexpected many-to-many relationship between `x` and `y`.\n",
      "\u001b[36mℹ\u001b[39m Row 21 of `x` matches multiple rows in `y`.\n",
      "\u001b[36mℹ\u001b[39m Row 486 of `y` matches multiple rows in `x`.\n",
      "\u001b[36mℹ\u001b[39m If a many-to-many relationship is expected, set `relationship =\n",
      "  \"many-to-many\"` to silence this warning.”\n",
      "Warning message in inner_join(eQTL %>% filter(study == context, Annotation %in% :\n",
      "“\u001b[1m\u001b[22mDetected an unexpected many-to-many relationship between `x` and `y`.\n",
      "\u001b[36mℹ\u001b[39m Row 39 of `x` matches multiple rows in `y`.\n",
      "\u001b[36mℹ\u001b[39m Row 435 of `y` matches multiple rows in `x`.\n",
      "\u001b[36mℹ\u001b[39m If a many-to-many relationship is expected, set `relationship =\n",
      "  \"many-to-many\"` to silence this warning.”\n",
      "Warning message in inner_join(eQTL %>% filter(study == context, Annotation %in% :\n",
      "“\u001b[1m\u001b[22mDetected an unexpected many-to-many relationship between `x` and `y`.\n",
      "\u001b[36mℹ\u001b[39m Row 21 of `x` matches multiple rows in `y`.\n",
      "\u001b[36mℹ\u001b[39m Row 403 of `y` matches multiple rows in `x`.\n",
      "\u001b[36mℹ\u001b[39m If a many-to-many relationship is expected, set `relationship =\n",
      "  \"many-to-many\"` to silence this warning.”\n",
      "Warning message in inner_join(eQTL %>% filter(study == context, Annotation %in% :\n",
      "“\u001b[1m\u001b[22mDetected an unexpected many-to-many relationship between `x` and `y`.\n",
      "\u001b[36mℹ\u001b[39m Row 109 of `x` matches multiple rows in `y`.\n",
      "\u001b[36mℹ\u001b[39m Row 484 of `y` matches multiple rows in `x`.\n",
      "\u001b[36mℹ\u001b[39m If a many-to-many relationship is expected, set `relationship =\n",
      "  \"many-to-many\"` to silence this warning.”\n",
      "Warning message in inner_join(eQTL %>% filter(study == context, Annotation %in% :\n",
      "“\u001b[1m\u001b[22mDetected an unexpected many-to-many relationship between `x` and `y`.\n",
      "\u001b[36mℹ\u001b[39m Row 27 of `x` matches multiple rows in `y`.\n",
      "\u001b[36mℹ\u001b[39m Row 910 of `y` matches multiple rows in `x`.\n",
      "\u001b[36mℹ\u001b[39m If a many-to-many relationship is expected, set `relationship =\n",
      "  \"many-to-many\"` to silence this warning.”\n",
      "Warning message in inner_join(eQTL %>% filter(study == context, Annotation %in% :\n",
      "“\u001b[1m\u001b[22mDetected an unexpected many-to-many relationship between `x` and `y`.\n",
      "\u001b[36mℹ\u001b[39m Row 80 of `x` matches multiple rows in `y`.\n",
      "\u001b[36mℹ\u001b[39m Row 1157 of `y` matches multiple rows in `x`.\n",
      "\u001b[36mℹ\u001b[39m If a many-to-many relationship is expected, set `relationship =\n",
      "  \"many-to-many\"` to silence this warning.”\n",
      "No valid paired observations for context: DLPFC_Bennett_pQTL_multicontext\n",
      "\n",
      "Warning message in inner_join(eQTL %>% filter(study == context, Annotation %in% :\n",
      "“\u001b[1m\u001b[22mDetected an unexpected many-to-many relationship between `x` and `y`.\n",
      "\u001b[36mℹ\u001b[39m Row 20 of `x` matches multiple rows in `y`.\n",
      "\u001b[36mℹ\u001b[39m Row 844 of `y` matches multiple rows in `x`.\n",
      "\u001b[36mℹ\u001b[39m If a many-to-many relationship is expected, set `relationship =\n",
      "  \"many-to-many\"` to silence this warning.”\n"
     ]
    },
    {
     "name": "stdout",
     "output_type": "stream",
     "text": [
      "Number of significantly different annotations (FDR < 0.05): 2487 \n"
     ]
    }
   ],
   "source": [
    "# Filter eQTL data\n",
    "bulk_eQTL <- enrichment_data_meta %>% filter(`Data Type` == 'eQTL')\n",
    "snuc_eQTL <- enrichment_data_meta %>% filter(`Data Type` == 'snuc_eQTL')\n",
    "eQTL_raw <- rbind(bulk_eQTL, snuc_eQTL)\n",
    "multi_context_eQTL <- enrichment_data_meta %>% filter(`Data Type` == 'multi_context')\n",
    "\n",
    "# Build a modalities dict to combine single context and multi gene results\n",
    "modality_dict_multicontext <- c(\n",
    "  \"AC_DeJager_eQTL\" = \"AC_DeJager_eQTL_multicontext\",\n",
    "  \"DLPFC_DeJager_eQTL\" = \"DLPFC_DeJager_eQTL_multicontext\",\n",
    "  \"PCC_DeJager_eQTL\" = \"PCC_DeJager_eQTL_multicontext\",\n",
    "  \"Ast_DeJager_eQTL\" = \"Ast_DeJager_eQTL_multicontext\",\n",
    "  \"Inh_DeJager_eQTL\" = \"Inh_DeJager_eQTL_multicontext\",\n",
    "  \"Exc_DeJager_eQTL\" = \"Exc_DeJager_eQTL_multicontext\",\n",
    "  \"Mic_DeJager_eQTL\" = \"Mic_DeJager_eQTL_multicontext\",\n",
    "  \"OPC_DeJager_eQTL\" = \"OPC_DeJager_eQTL_multicontext\",\n",
    "  \"Oli_DeJager_eQTL\" = \"Oli_DeJager_eQTL_multicontext\",\n",
    "  \"PCC_Kellis_eQTL\" = \"PCC_Kellis_eQTL_multicontext\",\n",
    "  \"Ast_Kellis_eQTL\" = \"Ast_Kellis_eQTL_multicontext\",\n",
    "  \"Inh_Kellis_eQTL\" = \"Inh_Kellis_eQTL_multicontext\",\n",
    "  \"Exc_Kellis_eQTL\" = \"Exc_Kellis_eQTL_multicontext\",\n",
    "  \"Mic_Kellis_eQTL\" = \"Mic_Kellis_eQTL_multicontext\",\n",
    "  \"OPC_Kellis_eQTL\" = \"OPC_Kellis_eQTL_multicontext\",\n",
    "  \"Oli_Kellis_eQTL\" = \"Oli_Kellis_eQTL_multicontext\",\n",
    "  \"PCC_mega_eQTL\" = \"PCC_mega_eQTL_multicontext\",\n",
    "  \"Ast_mega_eQTL\" = \"Ast_mega_eQTL_multicontext\",\n",
    "  \"Inh_mega_eQTL\" = \"Inh_mega_eQTL_multicontext\",\n",
    "  \"Exc_mega_eQTL\" = \"Exc_mega_eQTL_multicontext\",\n",
    "  \"Mic_mega_eQTL\" = \"Mic_mega_eQTL_multicontext\",\n",
    "  \"OPC_mega_eQTL\" = \"OPC_mega_eQTL_multicontext\",\n",
    "  \"Oli_mega_eQTL\" = \"Oli_mega_eQTL_multicontext\",\n",
    "  \"DLPFC_Bennett_pQTL\" = \"DLPFC_Bennett_pQTL_multicontext\",\n",
    "  \"monocyte_ROSMAP_eQTL\" = \"monocyte_ROSMAP_eQTL_multicontext\"\n",
    "\n",
    ")\n",
    "\n",
    "# Harmonize study names\n",
    "eQTL <- eQTL_raw %>%\n",
    "  filter(study %in% names(modality_dict_multicontext)) %>%\n",
    "  mutate(study = recode(study, !!!modality_dict_multicontext))\n",
    "\n",
    "multi_context_eQTL <- multi_context_eQTL %>%\n",
    "  filter(study %in% as.character(modality_dict_multicontext))\n",
    "\n",
    "# Compare enrichment across modalities\n",
    "contexts <- as.character(modality_dict_multicontext)\n",
    "combined_results <- map_dfr(contexts, function(context) { \n",
    "  significant_single <- eQTL %>% \n",
    "    filter(study == context, Enrichment_P_value < 0.05) %>% \n",
    "    select(Annotation) \n",
    "  significant_multi <- multi_context_eQTL %>% \n",
    "    filter(study == context, Enrichment_P_value < 0.05) %>% \n",
    "    select(Annotation) \n",
    "  significant_annotations <- unique(c(significant_single$Annotation, significant_multi$Annotation)) \n",
    "  \n",
    "  # Step 2: Merge datasets for significant annotations \n",
    "  merged_data <- inner_join( \n",
    "    eQTL %>% \n",
    "      filter(study == context, Annotation %in% significant_annotations) %>% \n",
    "      select(Annotation, Enrichment_single_context = Enrichment, Enrichment_SE_single_context = Enrichment_SE, Enrichment_P_value_single_context = Enrichment_P_value), \n",
    "    multi_context_eQTL %>% \n",
    "      filter(study == context, Annotation %in% significant_annotations) %>% \n",
    "      select(Annotation, Enrichment_multi_gene = Enrichment, Enrichment_SE_multi_gene = Enrichment_SE, Enrichment_P_value_multi_gene = Enrichment_P_value), \n",
    "    by = \"Annotation\" \n",
    "  ) %>% \n",
    "    filter(if_all(starts_with(\"Enrichment\"), is.finite)) \n",
    "  \n",
    "  # Step 3: Check if there are valid paired observations \n",
    "  if (nrow(merged_data) == 0) { \n",
    "    message(\"No valid paired observations for context: \", context) \n",
    "    return(NULL) \n",
    "  } \n",
    "  \n",
    "  # Step 4: Perform Z-score test and calculate differences \n",
    "  results <- merged_data %>% \n",
    "    mutate( \n",
    "      Context = context, \n",
    "      Enrichment_Diff = Enrichment_multi_gene - Enrichment_single_context, \n",
    "      Enrichment_SE_combined = sqrt(Enrichment_SE_single_context^2 + Enrichment_SE_multi_gene^2), \n",
    "      z_score = Enrichment_Diff / Enrichment_SE_combined, \n",
    "      p_value = 2 * pnorm(-abs(z_score)), \n",
    "      p_adjusted = p.adjust(p_value, method = \"fdr\"), \n",
    "      Significance_Status = case_when( \n",
    "        Enrichment_P_value_single_context < 0.05 & Enrichment_P_value_multi_gene < 0.05 ~ \"Both\", \n",
    "        Enrichment_P_value_single_context < 0.05 ~ \"Single Context Only\", \n",
    "        Enrichment_P_value_multi_gene < 0.05 ~ \"Multi-Gene Only\" \n",
    "      ) \n",
    "    ) %>% \n",
    "    select(Context, Annotation, Enrichment_single_context, Enrichment_multi_gene, \n",
    "           Enrichment_Diff, Enrichment_SE_single_context, Enrichment_SE_multi_gene, \n",
    "           Enrichment_P_value_single_context, Enrichment_P_value_multi_gene, Significance_Status, \n",
    "           p_value, p_adjusted) \n",
    "  \n",
    "  # Step 5: Filter significant results (FDR < 0.05) \n",
    "  significant <- results %>% \n",
    "    filter(!is.na(p_adjusted), p_adjusted < 0.05) %>% \n",
    "    mutate(Category = ifelse(grepl(\"\\\\|\", Annotation), \n",
    "                             str_split(Annotation, \"\\\\|\", simplify = TRUE)[, 1], \n",
    "                             Annotation))  %>% distinct(Annotation, .keep_all = T)\n",
    "\n",
    "  if (nrow(significant) > 0) { \n",
    "    plot_data <- significant %>% \n",
    "      arrange(desc(abs(Enrichment_Diff))) %>% \n",
    "      slice_head(n = 30) %>% \n",
    "      mutate(Annotation = factor(Annotation, levels = Annotation)) \n",
    "    \n",
    "    p <- ggplot(plot_data, aes(x = Enrichment_Diff, y = Annotation, fill = Category)) + \n",
    "      geom_bar(stat = \"identity\") + \n",
    "      geom_vline(xintercept = 0, linetype = \"dashed\") + \n",
    "      labs( \n",
    "        title = paste0(\"Top Enrichment Differences for \", context), \n",
    "        x = \"Enrichment Difference (multi_context - single_context)\", y = \"\" \n",
    "      ) + \n",
    "      theme_minimal() + \n",
    "      theme(plot.title = element_text(hjust = 0.5)) + \n",
    "      scale_fill_manual(values = all_colors) \n",
    "    \n",
    "    out_path <- file.path('~/Work/Fungen_xQTL/2025/Sep/eoo/EOO//enrichment_figures_category', \n",
    "                          'methods_compare/multi_context/', paste0(context, '_multigene_single_enrichment_plot_combined.pdf')) \n",
    "    dir.create(dirname(out_path), recursive = TRUE, showWarnings = FALSE) \n",
    "    ggsave(out_path, plot = p, height = 10, width = 14, limitsize = FALSE) \n",
    "  } \n",
    "  \n",
    "  results \n",
    "})\n",
    "\n",
    "# Filter for significant results and plot summary\n",
    "significant_results <- combined_results %>%\n",
    "  filter(!is.na(p_adjusted), p_adjusted < 0.05) %>%\n",
    "  mutate(Category = str_extract(Annotation, \"^[^|]+\"))\n",
    "\n",
    "cat(\"Number of significantly different annotations (FDR < 0.05):\", nrow(significant_results), \"\\n\")\n",
    "\n",
    "top_num <- 2\n",
    "plot_data <- significant_results %>%\n",
    "  group_by(Context, Category) %>%\n",
    "  arrange(desc(abs(Enrichment_Diff))) %>%\n",
    "  slice_head(n = top_num) %>%\n",
    "  ungroup() %>%\n",
    "  mutate(Annotation = factor(Annotation, levels = unique(Annotation)))\n",
    "\n",
    "p <- ggplot(plot_data, aes(x = Enrichment_Diff, y = Annotation, fill = Enrichment_Diff > 0)) +\n",
    "  geom_bar(stat = \"identity\") +\n",
    "  scale_fill_manual(values = c(\"skyblue\", \"salmon\"), guide = \"none\") +\n",
    "  geom_vline(xintercept = 0, linetype = \"dashed\") +\n",
    "  labs(\n",
    "    title = \"Top Enrichment Differences for Significant Annotations (FDR < 0.05)\",\n",
    "    x = \"Enrichment Difference (multi_context - single_context)\", y = \"\"\n",
    "  ) +\n",
    "  facet_wrap(~Context, scales = \"free_y\") +\n",
    "  theme_minimal() +\n",
    "  theme(plot.title = element_text(hjust = 0.5), strip.text = element_text(face = \"bold\"))\n",
    "\n",
    "out_path <- file.path('~/Work/Fungen_xQTL/2025/Sep/eoo/EOO//enrichment_figures_category',\n",
    "                      'methods_compare/multi_context/', 'all_multigene_single_enrichment_plot_combined.pdf')\n",
    "dir.create(dirname(out_path), recursive = TRUE, showWarnings = FALSE)\n",
    "ggsave(out_path, plot = p, height = 2.3 * length(unique(plot_data$Context)), width = 18, limitsize = FALSE)"
   ]
  },
  {
   "cell_type": "code",
   "execution_count": 258,
   "id": "24f6ce97-defa-44da-b85b-58c15ea35e50",
   "metadata": {},
   "outputs": [],
   "source": [
    "ggsave(out_path, plot = p, height = 1.3 * length(unique(plot_data$Context)), width = 50, limitsize = FALSE)"
   ]
  },
  {
   "cell_type": "code",
   "execution_count": null,
   "id": "423f03fb-2c63-4b78-9269-cfb1063f580b",
   "metadata": {},
   "outputs": [],
   "source": []
  },
  {
   "cell_type": "markdown",
   "id": "b1b25695-3e2b-4126-9797-2e5527345c96",
   "metadata": {},
   "source": [
    "## Summary of Updated Multi-Context EOO Results\n",
    "\t1.\tThe updated results include more contexts than the previous version (Apr 2025).\n",
    "\t2.\tOverall patterns remain similar, especially when comparing across AC.\n",
    "    3.  Subset of annotations shows significant differences in enrichment between the multi-context and single-context models (FDR < 0.05).\n",
    "\t4.\tThe magnitude and direction of enrichment differences vary across annotations.\n",
    "\t5.\tSome annotations (e.g., PU1 promoter/enhancer in microglia) show higher enrichment in the multi-context model.\n",
    "\t6.\tOthers (e.g., LHX2 promoter in astrocytes) show higher enrichment in the single-context model.\n",
    "\t7.\tThe pattern of differences is not consistent across cell types or annotation categories.\n",
    " \n",
    "The visualization should be replicated starting from Viusalization - Plot; input data has been uploaded to s3://statfungen/ftp_fgc_xqtl/analysis_result/EOO/EOO_reshape_combined_result_withSNP_pip01_95cs_annotation_variant_level.updatedSep9th.RDS"
   ]
  }
 ],
 "metadata": {
  "kernelspec": {
   "display_name": "R",
   "language": "R",
   "name": "ir"
  },
  "language_info": {
   "codemirror_mode": "r",
   "file_extension": ".r",
   "mimetype": "text/x-r-source",
   "name": "R",
   "pygments_lexer": "r",
   "version": "4.4.3"
  },
  "sos": {
   "kernels": [
    [
     "SoS",
     "sos",
     "sos",
     "",
     ""
    ]
   ],
   "version": ""
  }
 },
 "nbformat": 4,
 "nbformat_minor": 5
}
